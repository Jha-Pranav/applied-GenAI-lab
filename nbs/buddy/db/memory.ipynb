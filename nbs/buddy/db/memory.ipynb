{
 "cells": [
  {
   "cell_type": "code",
   "execution_count": 1,
   "id": "87509228-e2a2-4050-a48b-2484bd93cbaa",
   "metadata": {},
   "outputs": [],
   "source": [
    "from agentic.tools import TokenManager\n",
    "\n",
    "class ChatClientWithMemory:\n",
    "    \"\"\"Integration of token management with chat client\"\"\"\n",
    "    \n",
    "    def __init__(self, model=\"gpt-4\", max_tokens=128000):\n",
    "        self.tool_manager = TokenManager(model, max_tokens)\n",
    "        self.conversation_history = []\n",
    "        self.model = model\n",
    "        \n",
    "    def add_message(self, role: str, content: str):\n",
    "        \"\"\"Add message and check for compression\"\"\"\n",
    "        # Add new message\n",
    "        self.conversation_history.append({\"role\": role, \"content\": content})\n",
    "        \n",
    "        # Check if compression is needed\n",
    "        compressed_history, was_compressed = self.tool_manager.check_and_compress_history(\n",
    "            self.conversation_history\n",
    "        )\n",
    "        \n",
    "        if was_compressed:\n",
    "            self.conversation_history = compressed_history\n",
    "            print(\"🧠 Memory compressed to stay within token budget\")\n",
    "            \n",
    "        return was_compressed\n",
    "    \n",
    "    def get_memory_status(self):\n",
    "        \"\"\"Get current memory status\"\"\"\n",
    "        return self.tool_manager.get_token_info(self.conversation_history)\n",
    "    \n",
    "    def force_compression(self):\n",
    "        \"\"\"Manually trigger compression\"\"\"\n",
    "        result = self.tool_manager._memory_manager(\"compress\", messages=self.conversation_history)\n",
    "        if result.get(\"success\") and result.get(\"compressed\"):\n",
    "            self.conversation_history = result[\"compressed_history\"]\n",
    "            return result\n",
    "        return {\"compressed\": False}\n"
   ]
  },
  {
   "cell_type": "code",
   "execution_count": 3,
   "id": "2f17ccfe-5b61-4117-a4b0-25e70e6b4994",
   "metadata": {},
   "outputs": [
    {
     "ename": "AttributeError",
     "evalue": "'TokenManager' object has no attribute 'check_and_compress_history'",
     "output_type": "error",
     "traceback": [
      "\u001b[31m---------------------------------------------------------------------------\u001b[39m",
      "\u001b[31mAttributeError\u001b[39m                            Traceback (most recent call last)",
      "\u001b[36mCell\u001b[39m\u001b[36m \u001b[39m\u001b[32mIn[3]\u001b[39m\u001b[32m, line 4\u001b[39m\n\u001b[32m      1\u001b[39m client = ChatClientWithMemory()\n\u001b[32m      3\u001b[39m \u001b[38;5;66;03m# Add messages normally\u001b[39;00m\n\u001b[32m----> \u001b[39m\u001b[32m4\u001b[39m \u001b[43mclient\u001b[49m\u001b[43m.\u001b[49m\u001b[43madd_message\u001b[49m\u001b[43m(\u001b[49m\u001b[33;43m\"\u001b[39;49m\u001b[33;43muser\u001b[39;49m\u001b[33;43m\"\u001b[39;49m\u001b[43m,\u001b[49m\u001b[43m \u001b[49m\u001b[33;43m\"\u001b[39;49m\u001b[33;43mHello, can you help me with my project?\u001b[39;49m\u001b[33;43m\"\u001b[39;49m\u001b[43m)\u001b[49m\n\u001b[32m      5\u001b[39m client.add_message(\u001b[33m\"\u001b[39m\u001b[33massistant\u001b[39m\u001b[33m\"\u001b[39m, \u001b[33m\"\u001b[39m\u001b[33mSure! I\u001b[39m\u001b[33m'\u001b[39m\u001b[33md be happy to help...\u001b[39m\u001b[33m\"\u001b[39m)\n\u001b[32m      7\u001b[39m \u001b[38;5;66;03m# Check memory status\u001b[39;00m\n",
      "\u001b[36mCell\u001b[39m\u001b[36m \u001b[39m\u001b[32mIn[1]\u001b[39m\u001b[32m, line 17\u001b[39m, in \u001b[36mChatClientWithMemory.add_message\u001b[39m\u001b[34m(self, role, content)\u001b[39m\n\u001b[32m     14\u001b[39m \u001b[38;5;28mself\u001b[39m.conversation_history.append({\u001b[33m\"\u001b[39m\u001b[33mrole\u001b[39m\u001b[33m\"\u001b[39m: role, \u001b[33m\"\u001b[39m\u001b[33mcontent\u001b[39m\u001b[33m\"\u001b[39m: content})\n\u001b[32m     16\u001b[39m \u001b[38;5;66;03m# Check if compression is needed\u001b[39;00m\n\u001b[32m---> \u001b[39m\u001b[32m17\u001b[39m compressed_history, was_compressed = \u001b[38;5;28;43mself\u001b[39;49m\u001b[43m.\u001b[49m\u001b[43mtool_manager\u001b[49m\u001b[43m.\u001b[49m\u001b[43mcheck_and_compress_history\u001b[49m(\n\u001b[32m     18\u001b[39m     \u001b[38;5;28mself\u001b[39m.conversation_history\n\u001b[32m     19\u001b[39m )\n\u001b[32m     21\u001b[39m \u001b[38;5;28;01mif\u001b[39;00m was_compressed:\n\u001b[32m     22\u001b[39m     \u001b[38;5;28mself\u001b[39m.conversation_history = compressed_history\n",
      "\u001b[31mAttributeError\u001b[39m: 'TokenManager' object has no attribute 'check_and_compress_history'"
     ]
    }
   ],
   "source": [
    "\n",
    "client = ChatClientWithMemory()\n",
    "\n",
    "# Add messages normally\n",
    "client.add_message(\"user\", \"Hello, can you help me with my project?\")\n",
    "client.add_message(\"assistant\", \"Sure! I'd be happy to help...\")\n",
    "\n",
    "# Check memory status\n",
    "status = client.get_memory_status()\n",
    "print(f\"Token usage: {status['usage_percent']}%\")\n",
    "\n",
    "# Automatic compression happens when reaching 80% capacity\n",
    "\n"
   ]
  },
  {
   "cell_type": "code",
   "execution_count": null,
   "id": "6fa1f347-9895-4245-8829-c86d5cae777c",
   "metadata": {},
   "outputs": [],
   "source": []
  }
 ],
 "metadata": {
  "kernelspec": {
   "display_name": "Python 3 (ipykernel)",
   "language": "python",
   "name": "python3"
  },
  "language_info": {
   "codemirror_mode": {
    "name": "ipython",
    "version": 3
   },
   "file_extension": ".py",
   "mimetype": "text/x-python",
   "name": "python",
   "nbconvert_exporter": "python",
   "pygments_lexer": "ipython3",
   "version": "3.12.9"
  }
 },
 "nbformat": 4,
 "nbformat_minor": 5
}

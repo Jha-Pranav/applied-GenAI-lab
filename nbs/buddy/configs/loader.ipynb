{
 "cells": [
  {
   "cell_type": "code",
   "execution_count": null,
   "id": "0beab8f2-69f9-4c83-9336-5493ca32a3a4",
   "metadata": {},
   "outputs": [],
   "source": [
    "# | default_exp configs.loader"
   ]
  },
  {
   "cell_type": "code",
   "execution_count": 6,
   "id": "068f9252-4852-4afa-b77b-87384fee47ae",
   "metadata": {},
   "outputs": [],
   "source": [
    "# | export\n",
    "import toml\n",
    "import os\n",
    "from pathlib import Path\n"
   ]
  },
  {
   "cell_type": "code",
   "execution_count": 7,
   "id": "bbc80cdf-210d-4733-9460-a5d800705e1a",
   "metadata": {},
   "outputs": [],
   "source": [
    "# | export\n",
    "def load_config():\n",
    "    \"\"\"Load configuration from config.toml\"\"\"\n",
    "    config_path = Path(__file__).parent / \"config.toml\"\n",
    "    \n",
    "    if not config_path.exists():\n",
    "        raise FileNotFoundError(f\"Config file not found: {config_path}\")\n",
    "    \n",
    "    with open(config_path, 'r') as f:\n",
    "        config = toml.load(f)\n",
    "    \n",
    "    return config\n",
    "\n",
    "def get_model_config():\n",
    "    \"\"\"Get model configuration\"\"\"\n",
    "    config = load_config()\n",
    "    return config.get('model', {})\n",
    "\n",
    "def get_settings_config():\n",
    "    \"\"\"Get settings configuration\"\"\"\n",
    "    config = load_config()\n",
    "    return config.get('settings', {})\n",
    "\n",
    "def get_tools_config():\n",
    "    \"\"\"Get tools configuration\"\"\"\n",
    "    config = load_config()\n",
    "    return config.get('tools', {})\n",
    "\n",
    "def get_paths_config():\n",
    "    \"\"\"Get paths configuration\"\"\"\n",
    "    config = load_config()\n",
    "    return config.get('paths', {})\n",
    "\n",
    "def get_mlflow_config():\n",
    "    \"\"\"Get MLflow configuration\"\"\"\n",
    "    config = load_config()\n",
    "    return config.get('mlflow', {})\n",
    "\n",
    "def get_reasoning_config():\n",
    "    \"\"\"Get reasoning configuration\"\"\"\n",
    "    config = load_config()\n",
    "    return config.get('reasoning', {})\n"
   ]
  },
  {
   "cell_type": "code",
   "execution_count": null,
   "id": "0b74cb2d-b3b4-4822-a9fc-f78f0b0e81df",
   "metadata": {},
   "outputs": [],
   "source": []
  }
 ],
 "metadata": {
  "kernelspec": {
   "display_name": "Python 3 (ipykernel)",
   "language": "python",
   "name": "python3"
  },
  "language_info": {
   "codemirror_mode": {
    "name": "ipython",
    "version": 3
   },
   "file_extension": ".py",
   "mimetype": "text/x-python",
   "name": "python",
   "nbconvert_exporter": "python",
   "pygments_lexer": "ipython3",
   "version": "3.12.9"
  }
 },
 "nbformat": 4,
 "nbformat_minor": 5
}

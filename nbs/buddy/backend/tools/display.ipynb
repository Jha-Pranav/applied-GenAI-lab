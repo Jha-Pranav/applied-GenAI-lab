{
 "cells": [
  {
   "cell_type": "code",
   "execution_count": 1,
   "id": "2df734d8-5396-4dd7-a7d4-5405f7a23177",
   "metadata": {},
   "outputs": [],
   "source": [
    "# | default_exp tools.display"
   ]
  },
  {
   "cell_type": "code",
   "execution_count": 1,
   "id": "813a922f-158a-4a70-8230-00d9c6693a2a",
   "metadata": {},
   "outputs": [],
   "source": [
    "# | export\n",
    "__all__ = ['ToolExecutionDisplay']\n",
    "\n",
    "# %% ../../nbs/buddy/backend/tools/display.ipynb 1\n",
    "import json\n",
    "\n",
    "class ToolExecutionDisplay:\n",
    "    \"\"\"Simple display for tool execution\"\"\"\n",
    "    \n",
    "    def show_tool_start(self, tool_name: str, trusted: bool = False, args: dict = None):\n",
    "        \"\"\"Show tool execution start with arguments\"\"\"\n",
    "        trust_text = \" (trusted)\" if trusted else \"\"\n",
    "        print(f\"🛠️ Executing {tool_name}{trust_text}\")\n",
    "        \n",
    "        if args is None:\n",
    "            print(\"args: None\")\n",
    "            return\n",
    "            \n",
    "        if tool_name == \"execute_bash\":   \n",
    "            print(f\"Command: {args.get('command')}\")\n",
    "            print(f\"Summary: {args.get('summary')}\")\n",
    "        elif tool_name == \"fs_write\":\n",
    "            print(f\"Command: {args.get('command', 'N/A')}\")\n",
    "            print(f\"Path: {args.get('path', 'N/A')}\")\n",
    "        elif tool_name == \"fs_read\":\n",
    "            print(f\"Operations: {args.get('operations', 'N/A')}\")\n",
    "        else:\n",
    "            # Show first few key-value pairs for other tools\n",
    "            if args:\n",
    "                items = list(args.items())[:3]\n",
    "                for key, value in items:\n",
    "                    print(f\"{key}: {value}\")\n",
    "    \n",
    "    def show_tool_error(self, tool_name: str, error: str):\n",
    "        \"\"\"Show tool execution error\"\"\"\n",
    "        print(f\"❌ Error in {tool_name}: {error}\")\n",
    "    \n",
    "    def show_tool_result(self, tool_name: str, result: dict):\n",
    "        \"\"\"Show tool execution result\"\"\"\n",
    "        print(f\"✅ {tool_name} result:\")\n",
    "        print(f\"   {json.dumps(result, indent=2)}\")\n",
    "\n"
   ]
  },
  {
   "cell_type": "code",
   "execution_count": null,
   "id": "f1178371-7e73-408c-b3c4-54fa8b4eecee",
   "metadata": {},
   "outputs": [],
   "source": []
  }
 ],
 "metadata": {
  "kernelspec": {
   "display_name": "Python 3 (ipykernel)",
   "language": "python",
   "name": "python3"
  },
  "language_info": {
   "codemirror_mode": {
    "name": "ipython",
    "version": 3
   },
   "file_extension": ".py",
   "mimetype": "text/x-python",
   "name": "python",
   "nbconvert_exporter": "python",
   "pygments_lexer": "ipython3",
   "version": "3.12.9"
  }
 },
 "nbformat": 4,
 "nbformat_minor": 5
}

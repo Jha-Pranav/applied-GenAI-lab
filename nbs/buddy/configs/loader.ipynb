{
 "cells": [
  {
   "cell_type": "code",
   "execution_count": 6,
   "id": "0beab8f2-69f9-4c83-9336-5493ca32a3a4",
   "metadata": {},
   "outputs": [],
   "source": [
    "# | default_exp configs.loader"
   ]
  },
  {
   "cell_type": "code",
   "execution_count": 3,
   "id": "068f9252-4852-4afa-b77b-87384fee47ae",
   "metadata": {},
   "outputs": [],
   "source": [
    "# | export\n",
    "from typing import Dict, Any"
   ]
  },
  {
   "cell_type": "code",
   "execution_count": 4,
   "id": "bc85235f-5813-4456-ab50-20e561e9b1e2",
   "metadata": {},
   "outputs": [
    {
     "ename": "ModuleNotFoundError",
     "evalue": "No module named 'agentic.backend.config'",
     "output_type": "error",
     "traceback": [
      "\u001b[31m---------------------------------------------------------------------------\u001b[39m",
      "\u001b[31mModuleNotFoundError\u001b[39m                       Traceback (most recent call last)",
      "\u001b[36mCell\u001b[39m\u001b[36m \u001b[39m\u001b[32mIn[4]\u001b[39m\u001b[32m, line 2\u001b[39m\n\u001b[32m      1\u001b[39m \u001b[38;5;66;03m# | export\u001b[39;00m\n\u001b[32m----> \u001b[39m\u001b[32m2\u001b[39m \u001b[38;5;28;01mfrom\u001b[39;00m\u001b[38;5;250m \u001b[39m\u001b[34;01magentic\u001b[39;00m\u001b[34;01m.\u001b[39;00m\u001b[34;01mbackend\u001b[39;00m\u001b[34;01m.\u001b[39;00m\u001b[34;01mconfig\u001b[39;00m\u001b[34;01m.\u001b[39;00m\u001b[34;01mmanager\u001b[39;00m\u001b[38;5;250m \u001b[39m\u001b[38;5;28;01mimport\u001b[39;00m get_config_manager\n",
      "\u001b[31mModuleNotFoundError\u001b[39m: No module named 'agentic.backend.config'"
     ]
    }
   ],
   "source": [
    "# | export\n",
    "from agentic.backend.config.manager import get_config_manager"
   ]
  },
  {
   "cell_type": "code",
   "execution_count": 5,
   "id": "bbc80cdf-210d-4733-9460-a5d800705e1a",
   "metadata": {},
   "outputs": [],
   "source": [
    "# | export\n",
    "\n",
    "def get_model_config() -> Dict[str, Any]:\n",
    "    \"\"\"Get model configuration\"\"\"\n",
    "    return get_config_manager().get_model_config()\n",
    "\n",
    "\n",
    "def get_settings_config() -> Dict[str, Any]:\n",
    "    \"\"\"Get settings configuration\"\"\"\n",
    "    return get_config_manager().get_settings_config()\n",
    "\n",
    "\n",
    "def get_tools_config() -> Dict[str, Any]:\n",
    "    \"\"\"Get tools configuration\"\"\"\n",
    "    return get_config_manager().get_tools_config()\n",
    "\n",
    "\n",
    "def get_reasoning_config() -> Dict[str, Any]:\n",
    "    \"\"\"Get reasoning configuration\"\"\"\n",
    "    return get_config_manager().get_reasoning_config()\n",
    "\n",
    "\n",
    "def get_system_prompt() -> str:\n",
    "    \"\"\"Get system prompt\"\"\"\n",
    "    return get_system_prompt_new()\n",
    "\n"
   ]
  },
  {
   "cell_type": "code",
   "execution_count": null,
   "id": "0b74cb2d-b3b4-4822-a9fc-f78f0b0e81df",
   "metadata": {},
   "outputs": [],
   "source": []
  }
 ],
 "metadata": {
  "kernelspec": {
   "display_name": "Python 3 (ipykernel)",
   "language": "python",
   "name": "python3"
  },
  "language_info": {
   "codemirror_mode": {
    "name": "ipython",
    "version": 3
   },
   "file_extension": ".py",
   "mimetype": "text/x-python",
   "name": "python",
   "nbconvert_exporter": "python",
   "pygments_lexer": "ipython3",
   "version": "3.12.9"
  }
 },
 "nbformat": 4,
 "nbformat_minor": 5
}

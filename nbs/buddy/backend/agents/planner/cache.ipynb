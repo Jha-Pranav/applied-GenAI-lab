{
 "cells": [
  {
   "cell_type": "code",
   "execution_count": 1,
   "id": "ce74076b",
   "metadata": {},
   "outputs": [],
   "source": [
    "# | default_exp agent.planner.cache"
   ]
  },
  {
   "cell_type": "code",
   "execution_count": 1,
   "id": "c6cd96c7-a4bf-40e9-8ecf-c8eef4352af5",
   "metadata": {},
   "outputs": [],
   "source": [
    "# | export\n",
    "import json\n",
    "from pathlib import Path\n",
    "from typing import Optional\n",
    "from rich.console import Console\n",
    "\n",
    "from agentic.agent.planner.models import ProjectContext, ProjectBreakdown"
   ]
  },
  {
   "cell_type": "code",
   "execution_count": 2,
   "id": "05c1e85e-723f-49f0-b75e-f9ab2c280eef",
   "metadata": {},
   "outputs": [],
   "source": [
    "# | export\n",
    "\n",
    "class CacheManager:\n",
    "    \"\"\"Handles execution state caching and restoration\"\"\"\n",
    "    \n",
    "    def __init__(self, console: Console, cache_dir: str = \"execution_cache\"):\n",
    "        self.console = console\n",
    "        self.cache_dir = Path(cache_dir)\n",
    "        self.cache_dir.mkdir(exist_ok=True)\n",
    "        self.context_cache = self.cache_dir / \"project_context.json\"\n",
    "        self.breakdown_cache = self.cache_dir / \"project_breakdown.json\"\n",
    "    \n",
    "    def save_to_cache(self, context: Optional[ProjectContext], breakdown: Optional[ProjectBreakdown]):\n",
    "        \"\"\"Save current execution state to cache\"\"\"\n",
    "        try:\n",
    "            if context:\n",
    "                with open(self.context_cache, 'w') as f:\n",
    "                    json.dump(context.model_dump(), f, indent=2, default=str)\n",
    "            \n",
    "            if breakdown:\n",
    "                with open(self.breakdown_cache, 'w') as f:\n",
    "                    json.dump(breakdown.model_dump(), f, indent=2)\n",
    "                    \n",
    "        except Exception as e:\n",
    "            self.console.print(f\"⚠️ Cache save failed: {e}\")\n",
    "    \n",
    "    def restore_from_cache(self, user_request: str) -> tuple[Optional[ProjectContext], Optional[ProjectBreakdown]]:\n",
    "        \"\"\"Restore execution state from cache\"\"\"\n",
    "        try:\n",
    "            if not (self.context_cache.exists() and self.breakdown_cache.exists()):\n",
    "                return None, None\n",
    "            \n",
    "            # Load context\n",
    "            with open(self.context_cache, 'r') as f:\n",
    "                context_data = json.load(f)\n",
    "                \n",
    "            # Check if it's the same request\n",
    "            if context_data.get('original_request') != user_request:\n",
    "                return None, None\n",
    "                \n",
    "            context = ProjectContext(**context_data)\n",
    "            \n",
    "            # Ensure current_artifacts is always a list (safety check)\n",
    "            if not isinstance(context.current_artifacts, list):\n",
    "                context.current_artifacts = []\n",
    "            \n",
    "            # Load breakdown\n",
    "            with open(self.breakdown_cache, 'r') as f:\n",
    "                breakdown_data = json.load(f)\n",
    "            breakdown = ProjectBreakdown(**breakdown_data)\n",
    "            \n",
    "            return context, breakdown\n",
    "            \n",
    "        except Exception as e:\n",
    "            self.console.print(f\"⚠️ Cache restore failed: {e}\")\n",
    "            return None, None\n",
    "    \n",
    "    def clear_cache(self):\n",
    "        \"\"\"Clear cache files\"\"\"\n",
    "        try:\n",
    "            if self.context_cache.exists():\n",
    "                self.context_cache.unlink()\n",
    "            if self.breakdown_cache.exists():\n",
    "                self.breakdown_cache.unlink()\n",
    "        except Exception as e:\n",
    "            self.console.print(f\"⚠️ Cache clear failed: {e}\")\n"
   ]
  },
  {
   "cell_type": "code",
   "execution_count": null,
   "id": "f59e1362-2463-4448-a4ed-46d80ac45f77",
   "metadata": {},
   "outputs": [],
   "source": []
  }
 ],
 "metadata": {
  "kernelspec": {
   "display_name": "Python 3 (ipykernel)",
   "language": "python",
   "name": "python3"
  },
  "language_info": {
   "codemirror_mode": {
    "name": "ipython",
    "version": 3
   },
   "file_extension": ".py",
   "mimetype": "text/x-python",
   "name": "python",
   "nbconvert_exporter": "python",
   "pygments_lexer": "ipython3",
   "version": "3.12.9"
  }
 },
 "nbformat": 4,
 "nbformat_minor": 5
}

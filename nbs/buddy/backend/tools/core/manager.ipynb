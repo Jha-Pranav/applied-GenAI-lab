{
 "cells": [
  {
   "cell_type": "code",
   "execution_count": 2,
   "id": "e937a638-9662-4f73-8dfb-d8fe32714dc4",
   "metadata": {},
   "outputs": [],
   "source": [
    "# | default_exp tools.manager"
   ]
  },
  {
   "cell_type": "code",
   "execution_count": null,
   "id": "417b1035",
   "metadata": {},
   "outputs": [],
   "source": [
    "# | export\n",
    "\n",
    "from typing import Dict, List, Any, Optional\n",
    "\n",
    "from agentic.tools.base import BaseTool\n",
    "from agentic.tools.registry import ToolRegistry\n",
    "from agentic.tools.fs_read import FsReadTool\n",
    "from agentic.tools.fs_write import FsWriteTool\n",
    "from agentic.tools.execute_bash import ExecuteBashTool\n",
    "from agentic.tools.code_interpreter import CodeInterpreterTool\n",
    "from agentic.tools.debate_agent import DebateAgentTool\n",
    "from agentic.tools.task_planner import TaskPlannerTool\n"
   ]
  },
  {
   "cell_type": "code",
   "execution_count": null,
   "id": "b31ea782-f16b-4b11-a578-46113845e925",
   "metadata": {},
   "outputs": [],
   "source": [
    "# | export\n",
    "\n",
    "class ToolManager:\n",
    "    \"\"\"Enhanced tool manager\"\"\"\n",
    "    \n",
    "    def __init__(self):\n",
    "        self.registry = ToolRegistry()\n",
    "        self._register_default_tools()\n",
    "    \n",
    "    def _register_default_tools(self):\n",
    "        \"\"\"Register all default tools\"\"\"\n",
    "        default_tools = [\n",
    "            # Filesystem tools\n",
    "            FsReadTool(),\n",
    "            FsWriteTool(),\n",
    "            \n",
    "            # System tools\n",
    "            ExecuteBashTool(),\n",
    "            \n",
    "            # Analysis tools\n",
    "            CodeInterpreterTool(),\n",
    "\n",
    "            \n",
    "            # Intelligence tools\n",
    "\n",
    "            DebateAgentTool(),\n",
    "\n",
    "            \n",
    "            # Planning tools\n",
    "            TaskPlannerTool()\n",
    "        ]\n",
    "        \n",
    "        for tool in default_tools:\n",
    "            self.registry.register_tool(tool)\n",
    "    \n",
    "    def get_tools(self, tool_names: Optional[List[str]] = None) -> List[Dict[str, Any]]:\n",
    "        \"\"\"Get OpenAI-formatted tools\"\"\"\n",
    "        return self.registry.get_openai_schemas(tool_names)\n",
    "    \n",
    "    def execute_tool(self, tool_name: str, parameters: Dict[str, Any]) -> Dict[str, Any]:\n",
    "        \"\"\"Execute a tool by name\"\"\"\n",
    "        return self.registry.execute_tool(tool_name, parameters)\n",
    "    \n",
    "    def list_tools(self) -> List[str]:\n",
    "        \"\"\"List all available tool names\"\"\"\n",
    "        return self.registry.list_tools()\n",
    "    \n",
    "    def get_tool_info(self, tool_name: str) -> Optional[Dict[str, Any]]:\n",
    "        \"\"\"Get information about a specific tool\"\"\"\n",
    "        return self.registry.get_tool_info(tool_name)\n",
    "    \n",
    "    def register_custom_tool(self, tool: BaseTool):\n",
    "        \"\"\"Register a custom tool\"\"\"\n",
    "        self.registry.register_tool(tool)\n",
    "    \n",
    "    def unregister_tool(self, tool_name: str):\n",
    "        \"\"\"Unregister a tool\"\"\"\n",
    "        self.registry.unregister_tool(tool_name)\n",
    "\n"
   ]
  }
 ],
 "metadata": {
  "kernelspec": {
   "display_name": "Python 3 (ipykernel)",
   "language": "python",
   "name": "python3"
  },
  "language_info": {
   "codemirror_mode": {
    "name": "ipython",
    "version": 3
   },
   "file_extension": ".py",
   "mimetype": "text/x-python",
   "name": "python",
   "nbconvert_exporter": "python",
   "pygments_lexer": "ipython3",
   "version": "3.12.9"
  }
 },
 "nbformat": 4,
 "nbformat_minor": 5
}

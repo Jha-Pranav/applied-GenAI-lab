{
 "cells": [
  {
   "cell_type": "code",
   "execution_count": null,
   "id": "146501a5-acd5-4edd-9356-181ae01fe13f",
   "metadata": {},
   "outputs": [],
   "source": [
    "from agents import Agent, Runner, trace, OpenAIChatCompletionsModel,AsyncOpenAI, function_tool\n",
    "from openai.types.responses import ResponseTextDeltaEvent\n",
    "from IPython.display import Markdown, display"
   ]
  },
  {
   "cell_type": "code",
   "execution_count": null,
   "id": "773f83c5-8f69-4852-8e71-c1a2c055942d",
   "metadata": {},
   "outputs": [],
   "source": [
    "model = OpenAIChatCompletionsModel(model=\"gpt-oss:20b\",\n",
    "                                  openai_client=AsyncOpenAI(base_url=\"http://localhost:11434/v1\",api_key=\"ollama\"))"
   ]
  },
  {
   "cell_type": "code",
   "execution_count": null,
   "id": "705c01b4-7618-4d8e-863a-c27809e4aae1",
   "metadata": {},
   "outputs": [],
   "source": [
    "# Create the agent\n",
    "agent = Agent(\n",
    "    name=\"Assistant\",\n",
    "    instructions=\"You are a helpful assistant\",\n",
    "    model=model\n",
    ")"
   ]
  },
  {
   "cell_type": "code",
   "execution_count": null,
   "id": "1313ec6b-e88b-4a0e-be4d-42ecb87b23a6",
   "metadata": {},
   "outputs": [
    {
     "name": "stderr",
     "output_type": "stream",
     "text": [
      "OPENAI_API_KEY is not set, skipping trace export\n"
     ]
    },
    {
     "data": {
      "text/markdown": [
       "Mahadev (Shiva) is considered a self‑existing, parentless deity – he has no father."
      ],
      "text/plain": [
       "<IPython.core.display.Markdown object>"
      ]
     },
     "metadata": {},
     "output_type": "display_data"
    },
    {
     "name": "stderr",
     "output_type": "stream",
     "text": [
      "OPENAI_API_KEY is not set, skipping trace export\n",
      "OPENAI_API_KEY is not set, skipping trace export\n",
      "OPENAI_API_KEY is not set, skipping trace export\n",
      "OPENAI_API_KEY is not set, skipping trace export\n",
      "OPENAI_API_KEY is not set, skipping trace export\n",
      "OPENAI_API_KEY is not set, skipping trace export\n",
      "OPENAI_API_KEY is not set, skipping trace export\n",
      "OPENAI_API_KEY is not set, skipping trace export\n",
      "OPENAI_API_KEY is not set, skipping trace export\n",
      "OPENAI_API_KEY is not set, skipping trace export\n",
      "OPENAI_API_KEY is not set, skipping trace export\n",
      "OPENAI_API_KEY is not set, skipping trace export\n",
      "OPENAI_API_KEY is not set, skipping trace export\n",
      "OPENAI_API_KEY is not set, skipping trace export\n",
      "OPENAI_API_KEY is not set, skipping trace export\n",
      "OPENAI_API_KEY is not set, skipping trace export\n",
      "OPENAI_API_KEY is not set, skipping trace export\n",
      "OPENAI_API_KEY is not set, skipping trace export\n",
      "OPENAI_API_KEY is not set, skipping trace export\n",
      "OPENAI_API_KEY is not set, skipping trace export\n",
      "OPENAI_API_KEY is not set, skipping trace export\n",
      "OPENAI_API_KEY is not set, skipping trace export\n",
      "OPENAI_API_KEY is not set, skipping trace export\n",
      "OPENAI_API_KEY is not set, skipping trace export\n",
      "OPENAI_API_KEY is not set, skipping trace export\n",
      "OPENAI_API_KEY is not set, skipping trace export\n",
      "OPENAI_API_KEY is not set, skipping trace export\n",
      "OPENAI_API_KEY is not set, skipping trace export\n",
      "OPENAI_API_KEY is not set, skipping trace export\n",
      "OPENAI_API_KEY is not set, skipping trace export\n",
      "OPENAI_API_KEY is not set, skipping trace export\n",
      "OPENAI_API_KEY is not set, skipping trace export\n",
      "OPENAI_API_KEY is not set, skipping trace export\n",
      "OPENAI_API_KEY is not set, skipping trace export\n",
      "OPENAI_API_KEY is not set, skipping trace export\n",
      "OPENAI_API_KEY is not set, skipping trace export\n",
      "OPENAI_API_KEY is not set, skipping trace export\n",
      "OPENAI_API_KEY is not set, skipping trace export\n",
      "OPENAI_API_KEY is not set, skipping trace export\n",
      "OPENAI_API_KEY is not set, skipping trace export\n",
      "OPENAI_API_KEY is not set, skipping trace export\n",
      "OPENAI_API_KEY is not set, skipping trace export\n",
      "OPENAI_API_KEY is not set, skipping trace export\n",
      "OPENAI_API_KEY is not set, skipping trace export\n",
      "OPENAI_API_KEY is not set, skipping trace export\n"
     ]
    }
   ],
   "source": [
    "result = await Runner.run(starting_agent=agent,input=\"Who is the father of Mahadev? Answer in short.\")\n",
    "display(Markdown(result.final_output))"
   ]
  },
  {
   "cell_type": "code",
   "execution_count": null,
   "id": "ea341a48-99bd-4e66-8350-a1fffdac6751",
   "metadata": {},
   "outputs": [
    {
     "name": "stdout",
     "output_type": "stream",
     "text": [
      "**Week‑long Indian Meal Plan (short version)**  \n",
      "\n",
      "| Day | Breakfast | Lunch | Dinner |\n",
      "|-----|-----------|-------|--------|\n",
      "| Mon | Poha with peas & peanuts | Chole (chickpea curry) + 2 phulkas | Palak Paneer + steamed rice |\n",
      "| Tue | Idli + coconut‑masala chutney | Vegetable Biryani + raita | Dal Makhani + roti |\n",
      "| Wed | Upma with carrots & beans | Rajma + jeera rice | Aloo Gobi + paratha |\n",
      "| Thu | Dalia (broken‑wheat) with milk | Tofu Masala + 2 chapatis | Fish Tikka + mixed salad |\n",
      "| Fri | Paratha + butter yogurt | Khichdi + pickle | Paneer Tikka + naan |\n",
      "| Sat | Masala Oats (spiced) | Mutton Rogan Jamun + roti | Lentil Soup + bhature |\n",
      "| Sun | Fresh fruit + boiled egg | Bhindi Masala + 2 phulkas | Chicken Saag + steamed rice |\n",
      "\n",
      "*Feel free to swap any side dish or adjust spices to taste. Enjoy the variety!*\n"
     ]
    }
   ],
   "source": [
    "result = Runner.run_streamed(agent, \"I am from India. Create a meal plan for a week. Answer in short.\")\n",
    "async for event in result.stream_events():\n",
    "    if event.type == \"raw_response_event\" and isinstance(event.data, ResponseTextDeltaEvent):\n",
    "        print(event.data.delta, end=\"\", flush=True)"
   ]
  },
  {
   "cell_type": "code",
   "execution_count": null,
   "id": "41c94ba4-8694-43b0-836e-6f183340cb57",
   "metadata": {},
   "outputs": [
    {
     "data": {
      "text/plain": [
       "<Experiment: artifact_location='mlflow-artifacts:/615119549503924654', creation_time=1756996413561, experiment_id='615119549503924654', last_update_time=1756996413561, lifecycle_stage='active', name='OpenAI Agent', tags={}>"
      ]
     },
     "execution_count": null,
     "metadata": {},
     "output_type": "execute_result"
    }
   ],
   "source": [
    "## Traces\n",
    "import mlflow\n",
    "import asyncio\n",
    "from agents import Agent, Runner\n",
    "\n",
    "mlflow.openai.autolog()\n",
    "\n",
    "# Optional: Set a tracking URI and an experiment\n",
    "mlflow.set_tracking_uri(\"http://localhost:5000\")\n",
    "mlflow.set_experiment(\"OpenAI Agent\")"
   ]
  },
  {
   "cell_type": "code",
   "execution_count": null,
   "id": "a3c7549b-d22a-40fc-8858-85c791eb53a7",
   "metadata": {},
   "outputs": [
    {
     "name": "stdout",
     "output_type": "stream",
     "text": [
      "The weather in Tokyo is sunny.\n"
     ]
    },
    {
     "data": {
      "text/html": [
       "\n",
       "<div>\n",
       "  <style scoped>\n",
       "  button {\n",
       "    border: none;\n",
       "    border-radius: 4px;\n",
       "    background-color: rgb(34, 114, 180);\n",
       "    font-family: -apple-system, \"system-ui\", \"Segoe UI\", Roboto, \"Helvetica Neue\", Arial;\n",
       "    font-size: 13px;\n",
       "    color: white;\n",
       "    margin-top: 8px;\n",
       "    margin-bottom: 8px;\n",
       "    padding: 8px 16px;\n",
       "    cursor: pointer;\n",
       "  }\n",
       "  button:hover {\n",
       "    background-color: rgb(66, 153, 224);\n",
       "  }\n",
       "  </style>\n",
       "  <button\n",
       "    onclick=\"\n",
       "        const display = this.nextElementSibling.style.display;\n",
       "        const isCollapsed = display === 'none';\n",
       "        this.nextElementSibling.style.display = isCollapsed ? null : 'none';\n",
       "\n",
       "        const verb = isCollapsed ? 'Collapse' : 'Expand';\n",
       "        this.innerText = `${verb} MLflow Trace`;\n",
       "    \"\n",
       "  >Collapse MLflow Trace</button>\n",
       "  <iframe\n",
       "    id=\"trace-renderer\"\n",
       "    style=\"width: 100%; height: 500px; border: none; resize: vertical;\"\n",
       "    src=\"http://localhost:5000/static-files/lib/notebook-trace-renderer/index.html?trace_id=tr-08f6a7426f866f388ab068a3bc31f070&amp;experiment_id=615119549503924654&amp;version=3.3.2\"\n",
       "  />\n",
       "</div>\n"
      ],
      "text/plain": [
       "Trace(trace_id=tr-08f6a7426f866f388ab068a3bc31f070)"
      ]
     },
     "metadata": {},
     "output_type": "display_data"
    }
   ],
   "source": [
    "# Enable auto tracing for OpenAI Agents SDK\n",
    "mlflow.openai.autolog()\n",
    "\n",
    "\n",
    "@function_tool\n",
    "def get_weather(city: str) -> str:\n",
    "    return f\"The weather in {city} is sunny.\"\n",
    "\n",
    "\n",
    "agent = Agent(\n",
    "    name=\"Hello world\",\n",
    "    instructions=\"You are a helpful agent.\",\n",
    "    tools=[get_weather],\n",
    "    model=model\n",
    ")\n",
    "\n",
    "result = await Runner.run(agent, input=\"What's the weather in Tokyo?\")\n",
    "print(result.final_output)"
   ]
  },
  {
   "cell_type": "code",
   "execution_count": null,
   "id": "f651997a-8b7b-4e7f-a666-a427b1984b7f",
   "metadata": {},
   "outputs": [
    {
     "name": "stdout",
     "output_type": "stream",
     "text": [
      "🗞️  Original News:\n",
      "\n",
      "OpenAI has announced that ChatGPT’s Projects feature is now available to Free users, expanding access beyond paid tiers. The update also includes larger file uploads, more customisation options, and new memory controls. According to OpenAI, Free users can now upload up to five files per project, while Plus subscribers can upload 25 and Pro, Business, and Enterprise customers up to 40.  Users will also be able to select colours and icons for projects, as well as manage memory on a project-only basis. The rollout is live on web and Android, with iOS support expected in the coming days. In a separate development, OpenAI confirmed that the team behind Alex, an AI-powered coding assistant for Xcode, has joined its Codex team. Daniel Edrisian, co-founder of Alex, said in a pos\n",
      "\n",
      "\n",
      "✨ Emoji Headline:\n"
     ]
    },
    {
     "data": {
      "text/markdown": [
       "OpenAI frees Projects: 📁 uploads ↑ (5 → 25 → 40), 🎨 icons, 💾 per‑project memory. Live on 🖥️+📱, iOS next. Xcode AI Alex joins the Codex team 🤝🧠"
      ],
      "text/plain": [
       "<IPython.core.display.Markdown object>"
      ]
     },
     "metadata": {},
     "output_type": "display_data"
    },
    {
     "data": {
      "text/html": [
       "\n",
       "<div>\n",
       "  <style scoped>\n",
       "  button {\n",
       "    border: none;\n",
       "    border-radius: 4px;\n",
       "    background-color: rgb(34, 114, 180);\n",
       "    font-family: -apple-system, \"system-ui\", \"Segoe UI\", Roboto, \"Helvetica Neue\", Arial;\n",
       "    font-size: 13px;\n",
       "    color: white;\n",
       "    margin-top: 8px;\n",
       "    margin-bottom: 8px;\n",
       "    padding: 8px 16px;\n",
       "    cursor: pointer;\n",
       "  }\n",
       "  button:hover {\n",
       "    background-color: rgb(66, 153, 224);\n",
       "  }\n",
       "  </style>\n",
       "  <button\n",
       "    onclick=\"\n",
       "        const display = this.nextElementSibling.style.display;\n",
       "        const isCollapsed = display === 'none';\n",
       "        this.nextElementSibling.style.display = isCollapsed ? null : 'none';\n",
       "\n",
       "        const verb = isCollapsed ? 'Collapse' : 'Expand';\n",
       "        this.innerText = `${verb} MLflow Trace`;\n",
       "    \"\n",
       "  >Collapse MLflow Trace</button>\n",
       "  <iframe\n",
       "    id=\"trace-renderer\"\n",
       "    style=\"width: 100%; height: 500px; border: none; resize: vertical;\"\n",
       "    src=\"http://localhost:5000/static-files/lib/notebook-trace-renderer/index.html?trace_id=tr-da212cbbfee56a04b4924933140dc01a&amp;experiment_id=615119549503924654&amp;version=3.3.2\"\n",
       "  />\n",
       "</div>\n"
      ],
      "text/plain": [
       "Trace(trace_id=tr-da212cbbfee56a04b4924933140dc01a)"
      ]
     },
     "metadata": {},
     "output_type": "display_data"
    }
   ],
   "source": [
    "# === 🧠 AGENT: Emoji Generator ===\n",
    "emoji_agent = Agent(\n",
    "    name=\"emoji_agent\",\n",
    "    instructions=(\n",
    "        \"You're an emoji artist. You turn summarized news into expressive emoji + text sequences. \"\n",
    "        \"Be creative, thematic, and intuitive — like visual headlines that combine words and emojis for clarity and impact. \"\n",
    "        \"Use emojis to replace or enhance key nouns, verbs, places, or themes. Always return a short sentence or phrase with integrated emojis.\"\n",
    "    ),\n",
    "    model=model\n",
    ")\n",
    "\n",
    "emoji_tool = emoji_agent.as_tool(\n",
    "    tool_name=\"emoji_generator\",\n",
    "    tool_description=\"Generates creative emoji + text representations from short summarized news text.\"\n",
    ")\n",
    "\n",
    "# === ✏️ AGENT: Summarizer ===\n",
    "summarizer = Agent(\n",
    "    name=\"summarizer\",\n",
    "    instructions=(\n",
    "        \"You're a news summarizer. Your job is to shorten long news into crisp sentences. \"\n",
    "        \"Avoid emojis — keep it simple, and informative.\"\n",
    "    ),\n",
    "    model=model\n",
    ")\n",
    "\n",
    "summarizer_tool = summarizer.as_tool(\n",
    "    tool_name=\"text_summarizer\",\n",
    "    tool_description=\"Summarizes long text into short, emoji-ready summaries.\"\n",
    ")\n",
    "\n",
    "# === 🎬 AGENT: Orchestrator ===\n",
    "emoji_headline_generator = Agent(\n",
    "    name=\"emoji_headlines\",\n",
    "    instructions=(\n",
    "        \"You're an assistant that turns full news stories into emoji-enhanced headlines. \"\n",
    "        \"Use the available tools: first summarize with the summarizer, then generate a headline with emojis using the emoji generator. \"\n",
    "        \"Do not generate emojis directly — always use the tools. Final output should be a compact sentence combining emojis and text where suitable.\"\n",
    "    ),\n",
    "    tools=[summarizer_tool, emoji_tool],\n",
    "    model=model\n",
    ")\n",
    "\n",
    "# === 🧪 TEST DATA ===\n",
    "news_sample = \"\"\"\n",
    "OpenAI has announced that ChatGPT’s Projects feature is now available to Free users, expanding access beyond paid tiers. The update also includes larger file uploads, more customisation options, and new memory controls. According to OpenAI, Free users can now upload up to five files per project, while Plus subscribers can upload 25 and Pro, Business, and Enterprise customers up to 40.  Users will also be able to select colours and icons for projects, as well as manage memory on a project-only basis. The rollout is live on web and Android, with iOS support expected in the coming days. In a separate development, OpenAI confirmed that the team behind Alex, an AI-powered coding assistant for Xcode, has joined its Codex team. Daniel Edrisian, co-founder of Alex, said in a pos\n",
    "\"\"\"\n",
    "\n",
    "# === 🚀 RUN WORKFLOW ===\n",
    "emoji_response = await Runner.run(emoji_headline_generator, news_sample)\n",
    "emoji_output = emoji_response.final_output\n",
    "\n",
    "# === 📤 DISPLAY ===\n",
    "print(\"🗞️  Original News:\")\n",
    "print(news_sample)\n",
    "print(\"\\n✨ Emoji Headline:\")\n",
    "display(Markdown(emoji_output))\n"
   ]
  },
  {
   "cell_type": "code",
   "execution_count": null,
   "id": "10591bc2-1f80-4b50-88e6-32aca8ae3ea7",
   "metadata": {},
   "outputs": [
    {
     "data": {
      "text/markdown": [
       "एआई एजेंटों के बड़े मॉडल (जैसे GPT‑4, Claude, Gemini आदि) के बारे में मैं मुख्यतः ये बता सकता हूँ:\n",
       "\n",
       "1. **आर्किटेक्चर और आकार**  \n",
       "   - अधिकांश बड़े एआई मॉडल ट्रांसफॉर्मर‑आधारित होते हैं।  \n",
       "   - पैरामीटर की संख्या अरबों (10‑100 B) से लेकर खरबों (1 T या उससे अधिक) तक हो सकती है।  \n",
       "   - यह बड़ा आकार उन्हें जटिल पैटर्न, सहसंबंध व संदर्भ समझने में सक्षम बनाता है।\n",
       "\n",
       "2. **प्रशिक्षण डेटा**  \n",
       "   - बड़े पैमाने पर इंटरनेट से लिए गए टेक्स्ट, PDFs, वेबसाइट्स, सोशल मीडिया, कोड रिपॉज़िटरी आदि पर प्रशिक्षित।  \n",
       "   - डेटा में 2021‑2023 की ताज़ा जानकारी, तथा उससे परे की भविष्यवाणी के लिए पूर्वानुमान आधारित मॉडलिंग का उपयोग भी होता है।\n",
       "\n",
       "3. **क्षमताएँ**  \n",
       "   - बहुभाषी संवाद और अनुवाद।  \n",
       "   - सार‑संक्षेप, रचनात्मक लेखन, कोड जनरेशन, डेटा विश्लेषण।  \n",
       "   - कुछ मॉडलों में “फ़ाइन‑ट्यूनिंग” या “री‑फाइन‑ट्यूनिंग” के द्वारा विशिष्ट टास्क, जैसे इमेज‑टू‑टेक्स्ट या टेबल पढ़ना, में दक्षता बढ़ाई जा सकती है।  \n",
       "   - प्रॉम्प्ट इंजीनियरिंग के माध्यम से कार्य को “डायलॉग बॉक्स” से परे परिष्कृत किया जा सकता है।\n",
       "\n",
       "4. **सीमाएँ**  \n",
       "   - **तथ्यात्मकता**: मॉडल को “ज्ञान” से अधिक “पैटर्न” सीखता है, अतः झूठी या काल्पनिक जानकारी देने की सम्भावना रहती है।  \n",
       "   - **पूर्वाग्रह**: प्रशिक्षण डेटा में मौजूद लैंगिक, सांस्कृतिक, वंशीय पूर्वाग्रह भी मॉडल में प्रकट हो सकते हैं।  \n",
       "   - **स्रोत अनिश्चितता**: किसी तथ्य का स्रोत (कहाँ से सीखा) मॉडल स्वयं नहीं बताता, इसलिए सत्यापन हमेशा ज़रूरी है।  \n",
       "   - **संसाधन**: बड़े मॉडल का प्रशिक्षण व inference दोनों ही भारी कम्प्यूटिंग व ऊर्जा की माँग करते हैं, जिससे पर्यावरणीय चिंता भी उठती है।  \n",
       "\n",
       "5. **उपयोग के क्षेत्र**  \n",
       "   - ग्राहक सहायता चैटबॉट, लेखन सहायक, कोड‑राइटिंग टूल, शोध सहायता, शिक्षा, हेल्थ‑केयर सलाह, सिमुलेशन‑आधारित प्रशिक्षण, रचनात्मक कला।  \n",
       "   - कंपनियाँ अक्सर इसे अपने उत्पादों में embed करती हैं, जैसे Gmail के compose सुझाव, या GitHub Copilot।  \n",
       "\n",
       "6. **सुरक्षा और नैतिकता**  \n",
       "   - OpenAI और अन्य संगठनों ने “उपयोग नीति”, “सुरक्षा ट्यूनिंग” व “प्रॉम्प्ट‑ब्लॉकिंग” जैसी तकनीकें अपनाई हैं।  \n",
       "   - मॉडल को संवेदनशील डेटा पर फाइन‑ट्यूनिंग में डेटा गोपनीयता तथा HIPAA, GDPR जैसी नियमों का पालन करना आवश्यक है।  \n",
       "\n",
       "7. **भविष्य की दिशा**  \n",
       "   - **मॉडेल फ्यूज़न**: GPT‑जैसे टेक्स्ट मॉडल से इमेज, ऑडियो, वीडियो को एकीकृत करके मल्टी‑मॉडल अनुभव।  \n",
       "   - **फ़ेडरेटेड लर्निंग**: डेटा को केंद्रीकृत न करके उपयोगकर्ता के डिवाइस पर ही मॉडल सिखाने का प्रयास।  \n",
       "   - **सुपर‑कम्पैटिबिलिटी**: बड़े एआई को कम‑पावर हार्डवेयर (जैसे मोबाइल, एज डिवाइस) पर चलाने के लिए नॉलेज डिस्टिलेशन व pruning।  \n",
       "   - **इंटेलिजेंट एजेंट**: अपने कार्य‑प्रवाह में स्वचालित निर्णय लेने के लिए योजनाकार, योजना‑निर्माता, व री‑लर्निंग लूप शामिल।  \n",
       "\n",
       "सारांश में, बड़े एआई एजेंट्स बहुक्षेत्रीय ज्ञान‑संचालकों के रूप में उभर रहे हैं, परंतु इनके उपयोग में सटीकता, पूर्वाग्रह, गोपनीयता और पर्यावरणीय पहलुओं पर सतर्कता अवश्य रखनी चाहिए।"
      ],
      "text/plain": [
       "<IPython.core.display.Markdown object>"
      ]
     },
     "metadata": {},
     "output_type": "display_data"
    },
    {
     "data": {
      "text/html": [
       "\n",
       "<div>\n",
       "  <style scoped>\n",
       "  button {\n",
       "    border: none;\n",
       "    border-radius: 4px;\n",
       "    background-color: rgb(34, 114, 180);\n",
       "    font-family: -apple-system, \"system-ui\", \"Segoe UI\", Roboto, \"Helvetica Neue\", Arial;\n",
       "    font-size: 13px;\n",
       "    color: white;\n",
       "    margin-top: 8px;\n",
       "    margin-bottom: 8px;\n",
       "    padding: 8px 16px;\n",
       "    cursor: pointer;\n",
       "  }\n",
       "  button:hover {\n",
       "    background-color: rgb(66, 153, 224);\n",
       "  }\n",
       "  </style>\n",
       "  <button\n",
       "    onclick=\"\n",
       "        const display = this.nextElementSibling.style.display;\n",
       "        const isCollapsed = display === 'none';\n",
       "        this.nextElementSibling.style.display = isCollapsed ? null : 'none';\n",
       "\n",
       "        const verb = isCollapsed ? 'Collapse' : 'Expand';\n",
       "        this.innerText = `${verb} MLflow Trace`;\n",
       "    \"\n",
       "  >Collapse MLflow Trace</button>\n",
       "  <iframe\n",
       "    id=\"trace-renderer\"\n",
       "    style=\"width: 100%; height: 500px; border: none; resize: vertical;\"\n",
       "    src=\"http://localhost:5000/static-files/lib/notebook-trace-renderer/index.html?trace_id=tr-8688f44eff649ec5b4fefd5a8b7c7c4c&amp;experiment_id=615119549503924654&amp;version=3.3.2\"\n",
       "  />\n",
       "</div>\n"
      ],
      "text/plain": [
       "Trace(trace_id=tr-8688f44eff649ec5b4fefd5a8b7c7c4c)"
      ]
     },
     "metadata": {},
     "output_type": "display_data"
    }
   ],
   "source": [
    "\n",
    "# Define a simple multi-agent workflow\n",
    "hindi_agent = Agent(\n",
    "    name=\"Hindi agent\",\n",
    "    instructions=\"You only speak Hindi.\",\n",
    "    model=model\n",
    ")\n",
    "\n",
    "english_agent = Agent(\n",
    "    name=\"English agent\",\n",
    "    instructions=\"You only speak English\",\n",
    "    model=model\n",
    ")\n",
    "\n",
    "triage_agent = Agent(\n",
    "    name=\"Triage agent\",\n",
    "    instructions=\"Handoff to the appropriate agent based on the language of the request.\",\n",
    "    handoffs=[hindi_agent, english_agent],\n",
    "    model=model\n",
    ")\n",
    "\n",
    "\n",
    "result = await Runner.run(triage_agent, input=\"एआई एजेंटों के बड़े में तुम क्या जानते हो?\")\n",
    "display(Markdown(result.final_output))\n"
   ]
  },
  {
   "cell_type": "code",
   "execution_count": null,
   "id": "8dea38b7-f4aa-4643-9482-63be8ac6055d",
   "metadata": {},
   "outputs": [
    {
     "name": "stdout",
     "output_type": "stream",
     "text": [
      "Error in input guardrail: Max turns (5) exceeded\n",
      "Error in output guardrail: Max turns (10) exceeded\n",
      "📝 User Prompt:\n",
      "Who is the prime minister of Pakistan?\n",
      "\n",
      "✅ Final Output:\n",
      "**Prime Minister of Pakistan (as of April 2025)**\n",
      "\n",
      "- **Shehbaz Sharif**  \n",
      "  • In office since 13 August 2022 after the PML‑N coalition secured the majority.  \n",
      "  • He survived the 2023 no‑confidence motion and remained in the post through the rest of the parliamentary term.\n",
      "\n",
      "> *Note:* Pakistan’s parliamentary terms are five years, and any upcoming general election (currently scheduled for early to mid‑2025) could change the holder of the office. Always check a reliable, up‑to‑date source for the most current information.\n",
      "\n",
      "🛡️ Input Guardrail Info:\n",
      "Error running agent: 'RunResult' object has no attribute 'guardrail_input_output_info'\n"
     ]
    },
    {
     "data": {
      "text/html": [
       "\n",
       "<div>\n",
       "  <style scoped>\n",
       "  button {\n",
       "    border: none;\n",
       "    border-radius: 4px;\n",
       "    background-color: rgb(34, 114, 180);\n",
       "    font-family: -apple-system, \"system-ui\", \"Segoe UI\", Roboto, \"Helvetica Neue\", Arial;\n",
       "    font-size: 13px;\n",
       "    color: white;\n",
       "    margin-top: 8px;\n",
       "    margin-bottom: 8px;\n",
       "    padding: 8px 16px;\n",
       "    cursor: pointer;\n",
       "  }\n",
       "  button:hover {\n",
       "    background-color: rgb(66, 153, 224);\n",
       "  }\n",
       "  </style>\n",
       "  <button\n",
       "    onclick=\"\n",
       "        const display = this.nextElementSibling.style.display;\n",
       "        const isCollapsed = display === 'none';\n",
       "        this.nextElementSibling.style.display = isCollapsed ? null : 'none';\n",
       "\n",
       "        const verb = isCollapsed ? 'Collapse' : 'Expand';\n",
       "        this.innerText = `${verb} MLflow Trace`;\n",
       "    \"\n",
       "  >Collapse MLflow Trace</button>\n",
       "  <iframe\n",
       "    id=\"trace-renderer\"\n",
       "    style=\"width: 100%; height: 500px; border: none; resize: vertical;\"\n",
       "    src=\"http://localhost:5000/static-files/lib/notebook-trace-renderer/index.html?trace_id=tr-bbff6626d2cbae6a5718cc961b245caf&amp;experiment_id=615119549503924654&amp;version=3.3.2\"\n",
       "  />\n",
       "</div>\n"
      ],
      "text/plain": [
       "Trace(trace_id=tr-bbff6626d2cbae6a5718cc961b245caf)"
      ]
     },
     "metadata": {},
     "output_type": "display_data"
    }
   ],
   "source": [
    "\n",
    "# === 📝 User prompt ===\n",
    "prompt = \"Who is the prime minister of Pakistan?\"\n",
    "\n",
    "# === 📦 Input Guardrail Pydantic Model ===\n",
    "class PersonalIdentifier(BaseModel):\n",
    "    is_personal_info_in_message: bool\n",
    "    name: str = \"\"  # Use str to match agent instructions\n",
    "\n",
    "# === 🛡️ Agent to detect PII in user prompt ===\n",
    "input_guardrail_agent = Agent(\n",
    "    name=\"PID Checker\",\n",
    "    instructions=(\n",
    "        \"Analyze the input message for personal identity information (PII) such as names, phone numbers, or addresses. \"\n",
    "        \"Return a JSON object with 'is_personal_info_in_message' set to true if PII is found, false otherwise. \"\n",
    "        \"If a name is detected, set 'name' to the full name (e.g., 'John Smith'); otherwise, set it to an empty string. \"\n",
    "        \"Ensure the response is valid JSON in this exact format:\\n\"\n",
    "        \"```json\\n\"\n",
    "        \"{\\n  \\\"is_personal_info_in_message\\\": true,\\n  \\\"name\\\": \\\"John Smith\\\"\\n}\\n\"\n",
    "        \"```\\n\"\n",
    "        \"or\\n\"\n",
    "        \"```json\\n\"\n",
    "        \"{\\n  \\\"is_personal_info_in_message\\\": false,\\n  \\\"name\\\": \\\"\\\"\\n}\\n\"\n",
    "        \"```\\n\"\n",
    "        \"Examples:\\n\"\n",
    "        \"- Input: 'Can you tell me about John Smith?' → Output: {\\\"is_personal_info_in_message\\\": true, \\\"name\\\": \\\"John Smith\\\"}\\n\"\n",
    "        \"- Input: 'What is the capital of France?' → Output: {\\\"is_personal_info_in_message\\\": false, \\\"name\\\": \\\"\\\"}\\n\"\n",
    "        \"Return only the JSON object, nothing else.\"\n",
    "    ),\n",
    "    output_type=PersonalIdentifier,\n",
    "    model=model\n",
    ")\n",
    "\n",
    "# === 🛡️ Input Guardrail function ===\n",
    "@input_guardrail\n",
    "async def guardrail_against_pid(ctx, agent, message):\n",
    "    try:\n",
    "        result = await Runner.run(input_guardrail_agent, message, context=ctx.context, max_turns=5)\n",
    "        found_pid = result.final_output\n",
    "        if found_pid:\n",
    "            print(f\"Input Guardrail Result: {found_pid}\")\n",
    "            print(f\"Detected Name: {found_pid.name}\")\n",
    "        else:\n",
    "            print(\"Input Guardrail Result: None (no valid output)\")\n",
    "        return GuardrailFunctionOutput(\n",
    "            output_info={\"found_name\": found_pid.name if found_pid else \"\", \"raw_output\": result.raw_output if result else None},\n",
    "            tripwire_triggered=found_pid.is_personal_info_in_message if found_pid else False\n",
    "        )\n",
    "    except Exception as e:\n",
    "        print(f\"Error in input guardrail: {e}\")\n",
    "        return GuardrailFunctionOutput(\n",
    "            output_info={\"found_name\": \"\", \"error\": str(e)},\n",
    "            tripwire_triggered=False\n",
    "        )\n",
    "\n",
    "# === 📦 Output Guardrail Pydantic Model ===\n",
    "class ToxicityOutput(BaseModel):\n",
    "    is_toxic: bool\n",
    "    toxic_words: List[str] = []\n",
    "\n",
    "# === 🧠 Agent to detect toxic output using LLM ===\n",
    "toxicity_checker_agent = Agent(\n",
    "    name=\"Toxicity Checker\",\n",
    "    instructions=(\n",
    "        \"Analyze the assistant's message for toxic, offensive, or inappropriate language. \"\n",
    "        \"Return a JSON object with 'is_toxic' set to true if toxic content is found, false otherwise. \"\n",
    "        \"List any toxic words in 'toxic_words' as an array; use an empty array if none are found. \"\n",
    "        \"Ensure the response is valid JSON in this format:\\n\"\n",
    "        \"```json\\n\"\n",
    "        \"{\\n  \\\"is_toxic\\\": true,\\n  \\\"toxic_words\\\": [\\\"word1\\\", \\\"word2\\\"]\\n}\\n\"\n",
    "        \"```\\n\"\n",
    "        \"or\\n\"\n",
    "        \"```json\\n\"\n",
    "        \"{\\n  \\\"is_toxic\\\": false,\\n  \\\"toxic_words\\\": []\\n}\\n\"\n",
    "        \"```\\n\"\n",
    "        \"Return only the JSON object.\"\n",
    "    ),\n",
    "    output_type=ToxicityOutput,\n",
    "    model=model\n",
    ")\n",
    "\n",
    "# === 🛡️ Output Guardrail function ===\n",
    "@output_guardrail\n",
    "async def guardrail_against_toxic_output(ctx, agent, response):\n",
    "    try:\n",
    "        result = await Runner.run(toxicity_checker_agent, response, context=ctx.context)\n",
    "        toxicity_info = result.final_output\n",
    "        return GuardrailFunctionOutput(\n",
    "            output_info={\"toxicity\": toxicity_info, \"raw_output\": result.raw_output if result else None},\n",
    "            tripwire_triggered=toxicity_info.is_toxic if toxicity_info else False\n",
    "        )\n",
    "    except Exception as e:\n",
    "        print(f\"Error in output guardrail: {e}\")\n",
    "        return GuardrailFunctionOutput(\n",
    "            output_info={\"toxicity\": None, \"error\": str(e)},\n",
    "            tripwire_triggered=False\n",
    "        )\n",
    "\n",
    "# === 💬 Q&A Agent ===\n",
    "qa_agent = Agent(\n",
    "    name=\"Q&A\",\n",
    "    instructions=\"You're a helpful and respectful assistant. Answer user questions accurately and professionally.\",\n",
    "    model=model,\n",
    "    input_guardrails=[guardrail_against_pid],\n",
    "    output_guardrails=[guardrail_against_toxic_output],\n",
    ")\n",
    "\n",
    "# === 🏃‍♂️ Run the agent with guardrails ===\n",
    "\n",
    "try:\n",
    "    result = await Runner.run(qa_agent, prompt)\n",
    "    # === 📤 Display ===\n",
    "    print(\"📝 User Prompt:\")\n",
    "    print(prompt)\n",
    "    print(\"\\n✅ Final Output:\")\n",
    "    print(result.final_output)\n",
    "    print(\"\\n🛡️ Input Guardrail Info:\")\n",
    "    print(result.guardrail_input_output_info)\n",
    "    print(\"\\n🛡️ Output Guardrail Info:\")\n",
    "    print(result.guardrail_output_output_info)\n",
    "except Exception as e:\n",
    "    print(f\"Error running agent: {e}\")\n"
   ]
  },
  {
   "cell_type": "code",
   "execution_count": null,
   "id": "bd23dfd8-c32d-4987-82f4-305c83b9ace4",
   "metadata": {},
   "outputs": [],
   "source": []
  }
 ],
 "metadata": {
  "kernelspec": {
   "display_name": "python3",
   "language": "python",
   "name": "python3"
  }
 },
 "nbformat": 4,
 "nbformat_minor": 5
}

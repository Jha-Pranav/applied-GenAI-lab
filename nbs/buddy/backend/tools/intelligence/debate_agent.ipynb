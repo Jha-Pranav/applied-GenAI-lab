{
 "cells": [
  {
   "cell_type": "code",
   "execution_count": 2,
   "id": "a3550c04-76b4-4ffb-b3cd-45ff14182340",
   "metadata": {},
   "outputs": [],
   "source": [
    "# | default_exp tools.debate"
   ]
  },
  {
   "cell_type": "code",
   "execution_count": 3,
   "id": "8798e9fd-4d0c-44ae-8c30-dddc6c0647c7",
   "metadata": {},
   "outputs": [],
   "source": [
    "# | export\n",
    "from typing import Dict, Any\n",
    "from agentic.tools.base import BaseTool, ToolMetadata, ToolCategory\n",
    "import asyncio\n",
    "\n",
    "class DebateTool(BaseTool):\n",
    "    \"\"\"Tool wrapper for DebateAgent\"\"\"\n",
    "    \n",
    "    def __init__(self):\n",
    "        super().__init__(ToolMetadata(\n",
    "            name=\"debate\",\n",
    "            description=\"Multi-perspective analysis for comparison questions and decision making\",\n",
    "            category=ToolCategory.INTELLIGENCE\n",
    "        ))\n",
    "    \n",
    "    def execute(self, topic: str, context: str = \"\", max_rounds: int = 2) -> Dict[str, Any]:\n",
    "        \"\"\"Execute debate analysis using DebateAgent\"\"\"\n",
    "        try:\n",
    "            from ..agent.debater import create_debate\n",
    "            \n",
    "            # Run debate asynchronously\n",
    "            loop = asyncio.new_event_loop()\n",
    "            asyncio.set_event_loop(loop)\n",
    "            \n",
    "            try:\n",
    "                result = loop.run_until_complete(\n",
    "                    create_debate(\n",
    "                        topic=topic,\n",
    "                        context=context,\n",
    "                        max_rounds=max_rounds\n",
    "                    )\n",
    "                )\n",
    "                return {\"success\": True, \"result\": result}\n",
    "            finally:\n",
    "                loop.close()\n",
    "                \n",
    "        except Exception as e:\n",
    "            return {\"success\": False, \"error\": str(e)}\n",
    "    \n",
    "    def get_parameters_schema(self) -> Dict[str, Any]:\n",
    "        return {\n",
    "            \"type\": \"object\",\n",
    "            \"properties\": {\n",
    "                \"topic\": {\n",
    "                    \"type\": \"string\",\n",
    "                    \"description\": \"The topic or question to analyze\"\n",
    "                },\n",
    "                \"context\": {\n",
    "                    \"type\": \"string\", \n",
    "                    \"description\": \"Additional context for the analysis\",\n",
    "                    \"default\": \"\"\n",
    "                },\n",
    "                \"max_rounds\": {\n",
    "                    \"type\": \"integer\",\n",
    "                    \"description\": \"Maximum number of debate rounds\",\n",
    "                    \"default\": 2\n",
    "                }\n",
    "            },\n",
    "            \"required\": [\"topic\"]\n",
    "        }\n"
   ]
  },
  {
   "cell_type": "code",
   "execution_count": null,
   "id": "9d394c9a-3543-4e1f-aff2-0497e59c38a6",
   "metadata": {},
   "outputs": [],
   "source": []
  }
 ],
 "metadata": {
  "kernelspec": {
   "display_name": "Python 3 (ipykernel)",
   "language": "python",
   "name": "python3"
  },
  "language_info": {
   "codemirror_mode": {
    "name": "ipython",
    "version": 3
   },
   "file_extension": ".py",
   "mimetype": "text/x-python",
   "name": "python",
   "nbconvert_exporter": "python",
   "pygments_lexer": "ipython3",
   "version": "3.12.9"
  }
 },
 "nbformat": 4,
 "nbformat_minor": 5
}

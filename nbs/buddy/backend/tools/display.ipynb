{
 "cells": [
  {
   "cell_type": "code",
   "execution_count": 1,
   "id": "2df734d8-5396-4dd7-a7d4-5405f7a23177",
   "metadata": {},
   "outputs": [],
   "source": [
    "# | default_exp tools.display"
   ]
  },
  {
   "cell_type": "code",
   "execution_count": 4,
   "id": "813a922f-158a-4a70-8230-00d9c6693a2a",
   "metadata": {},
   "outputs": [],
   "source": [
    "# | export\n",
    "import json\n",
    "\n",
    "class ToolExecutionDisplay:\n",
    "    \"\"\"Simple display for tool execution\"\"\"\n",
    "    \n",
    "    def show_tool_start(self, tool_name: str, trusted: bool = False, args: dict = None):\n",
    "        \"\"\"Show tool execution start with arguments\"\"\"\n",
    "        trust_text = \" (trusted)\" if trusted else \"\"\n",
    "        print(f\"🛠️ Executing {tool_name}{trust_text}\")\n",
    "        if tool_name == \"execute_bash\":   \n",
    "            if args:\n",
    "                print(f\"Command: {args.get('command')}\")\n",
    "                print(f\"Summary : {args.get('summary')}\")\n",
    "        else:\n",
    "            if args:\n",
    "                print(f\"args: {args.get('operations')}\")\n",
    "    \n",
    "    def show_tool_error(self, tool_name: str, error: str):\n",
    "        \"\"\"Show tool execution error\"\"\"\n",
    "        print(f\"❌ {tool_name}: {error}\")\n",
    "    \n",
    "    def show_tool_result(self, tool_name: str, result: dict):\n",
    "        \"\"\"Show tool execution result\"\"\"\n",
    "        print(f\"✅ {tool_name} result:\")\n",
    "        print(f\"   {json.dumps(result, indent=2)}\")\n"
   ]
  },
  {
   "cell_type": "code",
   "execution_count": null,
   "id": "f1178371-7e73-408c-b3c4-54fa8b4eecee",
   "metadata": {},
   "outputs": [],
   "source": []
  }
 ],
 "metadata": {
  "kernelspec": {
   "display_name": "Python 3 (ipykernel)",
   "language": "python",
   "name": "python3"
  },
  "language_info": {
   "codemirror_mode": {
    "name": "ipython",
    "version": 3
   },
   "file_extension": ".py",
   "mimetype": "text/x-python",
   "name": "python",
   "nbconvert_exporter": "python",
   "pygments_lexer": "ipython3",
   "version": "3.12.9"
  }
 },
 "nbformat": 4,
 "nbformat_minor": 5
}

{
 "cells": [
  {
   "cell_type": "code",
   "execution_count": 6,
   "id": "0beab8f2-69f9-4c83-9336-5493ca32a3a4",
   "metadata": {},
   "outputs": [],
   "source": [
    "# | default_exp configs.loader"
   ]
  },
  {
   "cell_type": "code",
   "execution_count": 4,
   "id": "068f9252-4852-4afa-b77b-87384fee47ae",
   "metadata": {},
   "outputs": [],
   "source": [
    "# | export\n",
    "from typing import Dict, Any"
   ]
  },
  {
   "cell_type": "code",
   "execution_count": 5,
   "id": "bc85235f-5813-4456-ab50-20e561e9b1e2",
   "metadata": {},
   "outputs": [],
   "source": [
    "# | export\n",
    "from agentic.configs.manager import get_config_manager"
   ]
  },
  {
   "cell_type": "code",
   "execution_count": 6,
   "id": "bbc80cdf-210d-4733-9460-a5d800705e1a",
   "metadata": {},
   "outputs": [],
   "source": [
    "# | export\n",
    "\n",
    "def get_model_config() -> Dict[str, Any]:\n",
    "    \"\"\"Get model configuration\"\"\"\n",
    "    return get_config_manager().get_model_config()\n",
    "\n",
    "\n",
    "def get_settings_config() -> Dict[str, Any]:\n",
    "    \"\"\"Get settings configuration\"\"\"\n",
    "    return get_config_manager().get_settings_config()\n",
    "\n",
    "\n",
    "def get_tools_config() -> Dict[str, Any]:\n",
    "    \"\"\"Get tools configuration\"\"\"\n",
    "    return get_config_manager().get_tools_config()\n",
    "\n",
    "\n",
    "def get_reasoning_config() -> Dict[str, Any]:\n",
    "    \"\"\"Get reasoning configuration\"\"\"\n",
    "    return get_config_manager().get_reasoning_config()\n",
    "\n",
    "\n",
    "def get_system_prompt() -> str:\n",
    "    \"\"\"Get system prompt\"\"\"\n",
    "    return get_system_prompt_new()\n",
    "\n"
   ]
  },
  {
   "cell_type": "code",
   "execution_count": null,
   "id": "0b74cb2d-b3b4-4822-a9fc-f78f0b0e81df",
   "metadata": {},
   "outputs": [],
   "source": []
  },
  {
   "cell_type": "code",
   "execution_count": null,
   "id": "56261f00-10df-4249-bb8a-180241315630",
   "metadata": {},
   "outputs": [],
   "source": []
  }
 ],
 "metadata": {
  "kernelspec": {
   "display_name": "Python 3 (ipykernel)",
   "language": "python",
   "name": "python3"
  },
  "language_info": {
   "codemirror_mode": {
    "name": "ipython",
    "version": 3
   },
   "file_extension": ".py",
   "mimetype": "text/x-python",
   "name": "python",
   "nbconvert_exporter": "python",
   "pygments_lexer": "ipython3",
   "version": "3.12.9"
  }
 },
 "nbformat": 4,
 "nbformat_minor": 5
}

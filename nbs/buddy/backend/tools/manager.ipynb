{
 "cells": [
  {
   "cell_type": "code",
   "execution_count": 1,
   "id": "b28a98c8-22fc-4d3d-bd54-f3df52b04d30",
   "metadata": {},
   "outputs": [],
   "source": [
    "# | default_exp backend.tools.manager"
   ]
  },
  {
   "cell_type": "code",
   "execution_count": 3,
   "id": "d350204d-3612-413b-8cfa-db313d542ae3",
   "metadata": {},
   "outputs": [
    {
     "ename": "ModuleNotFoundError",
     "evalue": "No module named 'agentic.backend.tools.task_planner'",
     "output_type": "error",
     "traceback": [
      "\u001b[31m---------------------------------------------------------------------------\u001b[39m",
      "\u001b[31mModuleNotFoundError\u001b[39m                       Traceback (most recent call last)",
      "\u001b[36mCell\u001b[39m\u001b[36m \u001b[39m\u001b[32mIn[3]\u001b[39m\u001b[32m, line 7\u001b[39m\n\u001b[32m      5\u001b[39m \u001b[38;5;28;01mfrom\u001b[39;00m\u001b[38;5;250m \u001b[39m\u001b[34;01magentic\u001b[39;00m\u001b[34;01m.\u001b[39;00m\u001b[34;01mbackend\u001b[39;00m\u001b[34;01m.\u001b[39;00m\u001b[34;01mtools\u001b[39;00m\u001b[34;01m.\u001b[39;00m\u001b[34;01mfs_write\u001b[39;00m\u001b[38;5;250m \u001b[39m\u001b[38;5;28;01mimport\u001b[39;00m FsWriteTool\n\u001b[32m      6\u001b[39m \u001b[38;5;28;01mfrom\u001b[39;00m\u001b[38;5;250m \u001b[39m\u001b[34;01magentic\u001b[39;00m\u001b[34;01m.\u001b[39;00m\u001b[34;01mbackend\u001b[39;00m\u001b[34;01m.\u001b[39;00m\u001b[34;01mtools\u001b[39;00m\u001b[34;01m.\u001b[39;00m\u001b[34;01mexecute_bash\u001b[39;00m\u001b[38;5;250m \u001b[39m\u001b[38;5;28;01mimport\u001b[39;00m ExecuteBashTool\n\u001b[32m----> \u001b[39m\u001b[32m7\u001b[39m \u001b[38;5;28;01mfrom\u001b[39;00m\u001b[38;5;250m \u001b[39m\u001b[34;01magentic\u001b[39;00m\u001b[34;01m.\u001b[39;00m\u001b[34;01mbackend\u001b[39;00m\u001b[34;01m.\u001b[39;00m\u001b[34;01mtools\u001b[39;00m\u001b[34;01m.\u001b[39;00m\u001b[34;01mtask_planner\u001b[39;00m\u001b[38;5;250m \u001b[39m\u001b[38;5;28;01mimport\u001b[39;00m TaskPlannerTool\n\u001b[32m      8\u001b[39m \u001b[38;5;28;01mfrom\u001b[39;00m\u001b[38;5;250m \u001b[39m\u001b[34;01magentic\u001b[39;00m\u001b[34;01m.\u001b[39;00m\u001b[34;01mbackend\u001b[39;00m\u001b[34;01m.\u001b[39;00m\u001b[34;01mtools\u001b[39;00m\u001b[34;01m.\u001b[39;00m\u001b[34;01mtask_monitor\u001b[39;00m\u001b[38;5;250m \u001b[39m\u001b[38;5;28;01mimport\u001b[39;00m TaskMonitorTool\n\u001b[32m      9\u001b[39m \u001b[38;5;28;01mfrom\u001b[39;00m\u001b[38;5;250m \u001b[39m\u001b[34;01magentic\u001b[39;00m\u001b[34;01m.\u001b[39;00m\u001b[34;01mbackend\u001b[39;00m\u001b[34;01m.\u001b[39;00m\u001b[34;01mtools\u001b[39;00m\u001b[34;01m.\u001b[39;00m\u001b[34;01mtask_executor\u001b[39;00m\u001b[38;5;250m \u001b[39m\u001b[38;5;28;01mimport\u001b[39;00m TaskExecutorTool\n",
      "\u001b[31mModuleNotFoundError\u001b[39m: No module named 'agentic.backend.tools.task_planner'"
     ]
    }
   ],
   "source": [
    "# | export\n",
    "from typing import List, Dict, Any\n",
    "from agentic.backend.tools.fs_read import FsReadTool\n",
    "\n",
    "from agentic.backend.tools.fs_write import FsWriteTool\n",
    "from agentic.backend.tools.execute_bash import ExecuteBashTool\n",
    "from agentic.backend.tools.task_planner import TaskPlannerTool\n",
    "from agentic.backend.tools.task_monitor import TaskMonitorTool\n",
    "from agentic.backend.tools.task_executor import TaskExecutorTool\n",
    "from agentic.backend.tools.debate_agent import DebateAgentTool\n",
    "from agentic.backend.tools.code_interpreter import CodeInterpreterTool\n",
    "from agentic.backend.tools.code_quality import CodeQualityTool\n",
    "from agentic.backend.tools.doc_generator import DocGeneratorTool\n",
    "from agentic.backend.tools.memory import MemoryManagerTool\n",
    "from agentic.backend.tools.introspect import IntrospectTool"
   ]
  },
  {
   "cell_type": "code",
   "execution_count": 4,
   "id": "172f738a-3204-4ec5-a6ec-d8cce1b5f59e",
   "metadata": {},
   "outputs": [],
   "source": [
    "# | export\n",
    "class ToolManager:\n",
    "    def __init__(self):\n",
    "        self.tools = {\n",
    "            \"task_planner\": TaskPlannerTool(),\n",
    "            \"task_monitor\": TaskMonitorTool(),\n",
    "            \"task_executor\": TaskExecutorTool(),\n",
    "            \"fs_read\": FsReadTool(),\n",
    "            \"fs_write\": FsWriteTool(),\n",
    "            \"execute_bash\": ExecuteBashTool(),\n",
    "            \"debate_agent\": DebateAgentTool(),\n",
    "            \"code_interpreter\": CodeInterpreterTool(),\n",
    "            \"code_quality\": CodeQualityTool(),\n",
    "            \"doc_generator\": DocGeneratorTool(),\n",
    "            \"memory_manager\": MemoryManagerTool(),\n",
    "            \"introspect\": IntrospectTool(),\n",
    "        }\n",
    "\n",
    "    def get_tools(self, requested_tools: List[str]) -> List[Dict]:\n",
    "        \"\"\"Convert requested tools to OpenAI function calling format.\"\"\"\n",
    "        return [self.tools[tool].get_tool_schema() for tool in requested_tools if tool in self.tools]\n",
    "\n",
    "    def execute_tool(self, tool_name: str, arguments: Dict[str, Any]) -> Dict[str, Any]:\n",
    "        \"\"\"Execute the specified tool with given arguments.\"\"\"\n",
    "        if tool_name not in self.tools:\n",
    "            return {\"error\": f\"Unknown tool: {tool_name}\"}\n",
    "        \n",
    "        try:\n",
    "            result = self.tools[tool_name].execute(**arguments)\n",
    "            return result\n",
    "        except Exception as e:\n",
    "            error_result = {\"error\": f\"Tool {tool_name} execution failed: {str(e)}\"}\n",
    "            return error_result\n"
   ]
  }
 ],
 "metadata": {
  "kernelspec": {
   "display_name": "Python 3 (ipykernel)",
   "language": "python",
   "name": "python3"
  },
  "language_info": {
   "codemirror_mode": {
    "name": "ipython",
    "version": 3
   },
   "file_extension": ".py",
   "mimetype": "text/x-python",
   "name": "python",
   "nbconvert_exporter": "python",
   "pygments_lexer": "ipython3",
   "version": "3.12.9"
  }
 },
 "nbformat": 4,
 "nbformat_minor": 5
}

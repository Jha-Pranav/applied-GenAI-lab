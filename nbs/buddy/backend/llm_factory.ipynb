{
 "cells": [
  {
   "cell_type": "code",
   "execution_count": 47,
   "id": "b39bcb31-a587-406e-b4f4-ed5a56b2bd7f",
   "metadata": {},
   "outputs": [],
   "source": [
    "# | default_exp backend.llm_factory"
   ]
  },
  {
   "cell_type": "code",
   "execution_count": 53,
   "id": "eb8363db-2b26-483e-bc08-c8bbf34d7bb1",
   "metadata": {},
   "outputs": [],
   "source": [
    "# | export\n",
    "import os\n",
    "import re\n",
    "from openai import OpenAI\n",
    "from rich.console import Console\n",
    "from rich.markdown import Markdown\n",
    "from agentic.configs.loader import get_model_config, get_settings_config, get_reasoning_config"
   ]
  },
  {
   "cell_type": "code",
   "execution_count": 49,
   "id": "059e4a18-b279-4b9c-b2b4-f4e8e23cd509",
   "metadata": {},
   "outputs": [],
   "source": [
    "# | export\n",
    "RESET = \"\\033[0m\"\n",
    "# Get reasoning config\n",
    "reasoning_config = get_reasoning_config()\n",
    "show_thinking = reasoning_config.get('show_thinking', True)\n",
    "thinking_color = reasoning_config.get('thinking_color', 'pink')\n",
    "\n",
    "# Set color based on config with enhanced colors\n",
    "color_codes = {\n",
    "            'pink': \"\\033[38;2;200;100;120m\",     # Darker pink\n",
    "            'blue': \"\\033[38;2;70;130;180m\",      # Steel blue\n",
    "            'green': \"\\033[38;2;60;179;113m\",     # Medium sea green\n",
    "            'yellow': \"\\033[38;2;204;204;0m\",     # Olive-like dark yellow\n",
    "            'purple': \"\\033[38;2;147;112;219m\",   # Medium purple\n",
    "            'cyan': \"\\033[38;2;0;139;139m\"        # Dark cyan\n",
    "        }\n",
    "\n",
    "color_code = color_codes.get(thinking_color.lower(), color_codes['green'])"
   ]
  },
  {
   "cell_type": "code",
   "execution_count": 50,
   "id": "185fd59c-278c-4327-b5ac-77478c3d6f37",
   "metadata": {},
   "outputs": [],
   "source": [
    "# | export\n",
    "def render_math_in_thinking(text: str) -> str:\n",
    "    \"\"\"Render mathematical formulas in a terminal-friendly format using Unicode.\"\"\"\n",
    "    \n",
    "    # Greek letters and math symbols\n",
    "    math_replacements = {\n",
    "        r'\\bsigma\\b': 'σ',\n",
    "        r'\\bmu\\b': 'μ',\n",
    "        r'\\bpi\\b': 'π',\n",
    "        r'\\bsum\\b': '∑',\n",
    "        r'\\bsqrt\\b': '√',\n",
    "        r'\\balpha\\b': 'α',\n",
    "        r'\\bbeta\\b': 'β',\n",
    "        r'\\bgamma\\b': 'γ',\n",
    "        r'\\bdelta\\b': 'δ',\n",
    "        r'\\btheta\\b': 'θ',\n",
    "        r'\\blambda\\b': 'λ',\n",
    "        r'\\bphi\\b': 'φ',\n",
    "        r'\\bapprox\\b': '≈',\n",
    "        r'\\bnot equal\\b': '≠',\n",
    "        r'\\bless than or equal to\\b': '≤',\n",
    "        r'\\bgreater than or equal to\\b': '≥',\n",
    "        r'\\binfty\\b': '∞',\n",
    "    }\n",
    "\n",
    "    # Apply replacements\n",
    "    for pattern, replacement in math_replacements.items():\n",
    "        text = re.sub(pattern, replacement, text, flags=re.IGNORECASE)\n",
    "\n",
    "    # Superscripts\n",
    "    superscripts = {\n",
    "        '0': '⁰', '1': '¹', '2': '²', '3': '³',\n",
    "        '4': '⁴', '5': '⁵', '6': '⁶',\n",
    "        '7': '⁷', '8': '⁸', '9': '⁹',\n",
    "        '+': '⁺', '-': '⁻', '=': '⁼', '(': '⁽', ')': '⁾',\n",
    "    }\n",
    "\n",
    "    def superscriptify(match):\n",
    "        return ''.join(superscripts.get(ch, ch) for ch in match.group(1))\n",
    "\n",
    "    text = re.sub(r'\\*\\*([0-9\\+\\-\\=\\(\\)]+)', superscriptify, text)\n",
    "\n",
    "    # Fractions (simple 1/2 style)\n",
    "    text = re.sub(r'\\b1/2\\b', '½', text)\n",
    "    text = re.sub(r'\\b1/4\\b', '¼', text)\n",
    "    text = re.sub(r'\\b3/4\\b', '¾', text)\n",
    "\n",
    "    return text\n",
    "\n",
    "    \n",
    "def show_thinking_header():\n",
    "    \"\"\"Display beautiful thinking header\"\"\"\n",
    "    if show_thinking:\n",
    "        print(f\"\\n{color_code}╭─────────────────────── 🤔 Thinking ───────────────────────╮{RESET}\")\n",
    "\n",
    "def show_thinking_footer():\n",
    "    \"\"\"Display beautiful thinking footer\"\"\"\n",
    "    if show_thinking:\n",
    "        print(f\"{color_code}╰────────────────────────────────────────────────────────────╯{RESET}\")"
   ]
  },
  {
   "cell_type": "code",
   "execution_count": 51,
   "id": "d72d6773-e20a-4d3c-87a3-d9c666e4d5b5",
   "metadata": {},
   "outputs": [],
   "source": [
    "# | export\n",
    "class LLMClient:\n",
    "    def __init__(self, model=None, base_url=None, api_key=None):\n",
    "        # Load config defaults\n",
    "        model_config = get_model_config()\n",
    "        settings_config = get_settings_config()\n",
    "        \n",
    "        # Use config values as defaults\n",
    "        if model is None:\n",
    "            model = model_config.get('name', 'qwen3:8b')\n",
    "        if base_url is None:\n",
    "            base_url = model_config.get('url') or os.getenv('OLLAMA_BASE_URL', 'http://localhost:11434/v1')\n",
    "        if api_key is None:\n",
    "            api_key = model_config.get('api_key', 'ollama')\n",
    "        \n",
    "        # Store config settings\n",
    "        self.temperature = settings_config.get('temperature', 0.7)\n",
    "        self.max_tokens = settings_config.get('max_tokens', 10000)\n",
    "        timeout = model_config.get('timeout', 300.0)\n",
    "        \n",
    "        # Support both OpenAI and Ollama\n",
    "        if base_url == \"openai\":\n",
    "            # Use OpenAI directly\n",
    "            self.client = OpenAI(api_key=api_key)\n",
    "            self.model = model if model != \"gpt-oss:20b\" else \"gpt-4\"\n",
    "        else:\n",
    "            # Use Ollama or other OpenAI-compatible endpoint\n",
    "            self.client = OpenAI(\n",
    "                base_url=base_url,\n",
    "                api_key=api_key, \n",
    "                timeout=timeout\n",
    "            )\n",
    "            self.model = model\n",
    "    \n",
    "    def create_completion(self, messages, tools=None, stream=True):\n",
    "        \"\"\"Create chat completion with OpenAI API\"\"\"\n",
    "        return self.client.chat.completions.create(\n",
    "            model=self.model,\n",
    "            messages=messages,\n",
    "            tools=tools,\n",
    "            tool_choice=\"auto\",\n",
    "            stream=stream,\n",
    "            temperature=self.temperature\n",
    "        )\n",
    "\n",
    "    \n",
    "    def process_response(self, response, console):\n",
    "        \"\"\"Process non-streaming response with tool calls\"\"\"\n",
    "        message = response.choices[0].message\n",
    "\n",
    "        # Don't save thinking in the history\n",
    "        \n",
    "        cleaned_content = \"\"\n",
    "        if hasattr(message, 'reasoning') and message.reasoning:\n",
    "            show_thinking_header()\n",
    "            console.print(Markdown(message.reasoning))\n",
    "            show_thinking_footer()\n",
    "        if hasattr(message, 'content') and message.content:\n",
    "            content = message.content\n",
    "    \n",
    "            # Extract <think>...</think> content\n",
    "            think_matches = re.findall(r\"<think>(.*?)</think>\", content, re.DOTALL)\n",
    "    \n",
    "            # Remove <think>...</think> blocks from original content\n",
    "            cleaned_content = re.sub(r\"<think>.*?</think>\", \"\", content, flags=re.DOTALL)\n",
    "\n",
    "            # Print each <think> block inside the fancy box\n",
    "            for think in think_matches:\n",
    "                think = think.strip()\n",
    "                if think:\n",
    "                    show_thinking_header()\n",
    "                    print(f\"{color_code}{think}{RESET}\")\n",
    "                    show_thinking_footer()\n",
    "    \n",
    "            # Print main message content\n",
    "            if cleaned_content.strip():\n",
    "                console.print(Markdown(cleaned_content.strip()))\n",
    " \n",
    "        if hasattr(message, 'tool_calls') and message.tool_calls:\n",
    "            tool_calls = []\n",
    "            for tool_call in message.tool_calls:\n",
    "                tool_calls.append({\n",
    "                    \"id\": tool_call.id,\n",
    "                    \"type\": tool_call.type,\n",
    "                    \"function\": {\n",
    "                        \"name\": tool_call.function.name,\n",
    "                        \"arguments\": tool_call.function.arguments\n",
    "                    }\n",
    "                })\n",
    "            \n",
    "            executed_calls = self._execute_tool_calls(tool_calls)\n",
    "            return {\"content\": cleaned_content.strip(), \"tool_calls\": executed_calls}\n",
    "        \n",
    "        return {\"content\": cleaned_content.strip(), \"tool_calls\": []}\n",
    "\n",
    "    \n",
    "    def handle_streaming_response(self, response, console: Console):\n",
    "        \"\"\"Handle streaming response with streaming Markdown and think-tag rendering.\"\"\"\n",
    "        \n",
    "        full_content = \"\"\n",
    "        tool_calls = []\n",
    "        first_token = True\n",
    "        in_think_tag = False\n",
    "        think_buffer = \"\"\n",
    "        markdown_buffer = \"\"\n",
    "        markdown_line_buffer = \"\"\n",
    "        think_started = False\n",
    "        \n",
    "        def show_thinking_content(content):\n",
    "            nonlocal think_started\n",
    "            if show_thinking:\n",
    "                if not think_started:\n",
    "                    show_thinking_header()\n",
    "                    print(f\"{color_code}│ \", end=\"\", flush=True)\n",
    "                    think_started = True\n",
    "                \n",
    "                # enhanced_content = render_math_in_thinking(content)\n",
    "                print(f\"{color_code}{content}{RESET}\", end=\"\", flush=True)\n",
    "            return think_started\n",
    "    \n",
    "        def flush_markdown_line():\n",
    "            \"\"\"Flush buffered markdown line if it ends with a newline.\"\"\"\n",
    "            nonlocal markdown_line_buffer\n",
    "            if markdown_line_buffer.endswith('\\n'):\n",
    "                try:\n",
    "                    console.print(Markdown(markdown_line_buffer.strip()))\n",
    "                except:\n",
    "                    print(markdown_line_buffer.strip())\n",
    "                markdown_line_buffer = \"\"\n",
    "    \n",
    "        for chunk in response:\n",
    "            if chunk.choices and chunk.choices[0].delta:\n",
    "                delta = chunk.choices[0].delta\n",
    "    \n",
    "                # Reasoning content (not added to final message)\n",
    "                if hasattr(delta, 'reasoning') and delta.reasoning:\n",
    "                    think_started = show_thinking_content(delta.reasoning)\n",
    "    \n",
    "                if hasattr(delta, 'content') and delta.content:\n",
    "                    content = delta.content\n",
    "    \n",
    "                    if '<think>' in content:\n",
    "                        in_think_tag = True\n",
    "                        parts = content.split('<think>')\n",
    "                        if parts[0]:\n",
    "                            markdown_line_buffer += parts[0]\n",
    "                            full_content += parts[0]\n",
    "                        flush_markdown_line()\n",
    "                        think_buffer = parts[1] if len(parts) > 1 else \"\"\n",
    "                        if think_buffer:\n",
    "                            think_started = show_thinking_content(think_buffer)\n",
    "                        continue\n",
    "    \n",
    "                    if '</think>' in content:\n",
    "                        in_think_tag = False\n",
    "                        parts = content.split('</think>')\n",
    "                        if parts[0]:\n",
    "                            think_buffer += parts[0]\n",
    "                            think_started = show_thinking_content(parts[0])\n",
    "                        if think_started:\n",
    "                            print(f\"{color_code} │{RESET}\")\n",
    "                            show_thinking_footer()\n",
    "                            think_started = False\n",
    "                        think_buffer = \"\"\n",
    "                        if len(parts) > 1:\n",
    "                            markdown_line_buffer += parts[1]\n",
    "                            full_content += parts[1]\n",
    "                            flush_markdown_line()\n",
    "                        continue\n",
    "    \n",
    "                    if in_think_tag:\n",
    "                        think_buffer += content\n",
    "                        think_started = show_thinking_content(content)\n",
    "                    else:\n",
    "                        markdown_line_buffer += content\n",
    "                        full_content += content\n",
    "                        flush_markdown_line()\n",
    "    \n",
    "                    if first_token:\n",
    "                        first_token = False\n",
    "    \n",
    "                # Tool calls\n",
    "                if hasattr(delta, 'tool_calls') and delta.tool_calls:\n",
    "                    for tool_call_delta in delta.tool_calls:\n",
    "                        if tool_call_delta.index is not None:\n",
    "                            while len(tool_calls) <= tool_call_delta.index:\n",
    "                                tool_calls.append({\n",
    "                                    \"id\": \"\",\n",
    "                                    \"type\": \"function\",\n",
    "                                    \"function\": {\"name\": \"\", \"arguments\": \"\"}\n",
    "                                })\n",
    "    \n",
    "                            current_tool_call = tool_calls[tool_call_delta.index]\n",
    "                            if tool_call_delta.id:\n",
    "                                current_tool_call[\"id\"] = tool_call_delta.id\n",
    "                            if tool_call_delta.function:\n",
    "                                if tool_call_delta.function.name:\n",
    "                                    current_tool_call[\"function\"][\"name\"] = tool_call_delta.function.name\n",
    "                                if tool_call_delta.function.arguments:\n",
    "                                    current_tool_call[\"function\"][\"arguments\"] += tool_call_delta.function.arguments\n",
    "    \n",
    "        # Flush any remaining markdown\n",
    "        if markdown_line_buffer.strip():\n",
    "            try:\n",
    "                console.print(Markdown(markdown_line_buffer.strip()))\n",
    "            except:\n",
    "                print(markdown_line_buffer.strip())\n",
    "    \n",
    "        return {\"content\": full_content, \"tool_calls\": tool_calls}\n"
   ]
  },
  {
   "cell_type": "code",
   "execution_count": 52,
   "id": "de840ec0-845f-458b-91bb-8395b3d962be",
   "metadata": {},
   "outputs": [
    {
     "name": "stdout",
     "output_type": "stream",
     "text": [
      "\n",
      "\u001b[38;2;200;100;120m╭─────────────────────── 🤔 Thinking ───────────────────────╮\u001b[0m\n",
      "\u001b[38;2;200;100;120m│ \u001b[38;2;200;100;120m\n",
      "\u001b[0m\u001b[38;2;200;100;120mOkay\u001b[0m\u001b[38;2;200;100;120m,\u001b[0m\u001b[38;2;200;100;120m I\u001b[0m\u001b[38;2;200;100;120m need\u001b[0m\u001b[38;2;200;100;120m to\u001b[0m\u001b[38;2;200;100;120m explain\u001b[0m\u001b[38;2;200;100;120m how\u001b[0m\u001b[38;2;200;100;120m a\u001b[0m\u001b[38;2;200;100;120m neural\u001b[0m\u001b[38;2;200;100;120m network\u001b[0m\u001b[38;2;200;100;120m works\u001b[0m\u001b[38;2;200;100;120m.\u001b[0m\u001b[38;2;200;100;120m Let\u001b[0m\u001b[38;2;200;100;120m me\u001b[0m\u001b[38;2;200;100;120m start\u001b[0m\u001b[38;2;200;100;120m by\u001b[0m\u001b[38;2;200;100;120m recalling\u001b[0m\u001b[38;2;200;100;120m what\u001b[0m\u001b[38;2;200;100;120m I\u001b[0m\u001b[38;2;200;100;120m know\u001b[0m\u001b[38;2;200;100;120m.\u001b[0m\u001b[38;2;200;100;120m Neural\u001b[0m\u001b[38;2;200;100;120m networks\u001b[0m\u001b[38;2;200;100;120m are\u001b[0m\u001b[38;2;200;100;120m inspired\u001b[0m\u001b[38;2;200;100;120m by\u001b[0m\u001b[38;2;200;100;120m the\u001b[0m\u001b[38;2;200;100;120m human\u001b[0m\u001b[38;2;200;100;120m brain\u001b[0m\u001b[38;2;200;100;120m.\u001b[0m\u001b[38;2;200;100;120m They\u001b[0m\u001b[38;2;200;100;120m consist\u001b[0m\u001b[38;2;200;100;120m of\u001b[0m\u001b[38;2;200;100;120m layers\u001b[0m\u001b[38;2;200;100;120m of\u001b[0m\u001b[38;2;200;100;120m interconnected\u001b[0m\u001b[38;2;200;100;120m nodes\u001b[0m\u001b[38;2;200;100;120m,\u001b[0m\u001b[38;2;200;100;120m or\u001b[0m\u001b[38;2;200;100;120m neurons\u001b[0m\u001b[38;2;200;100;120m.\u001b[0m\u001b[38;2;200;100;120m Each\u001b[0m\u001b[38;2;200;100;120m neuron\u001b[0m\u001b[38;2;200;100;120m receives\u001b[0m\u001b[38;2;200;100;120m input\u001b[0m\u001b[38;2;200;100;120m,\u001b[0m\u001b[38;2;200;100;120m processes\u001b[0m\u001b[38;2;200;100;120m it\u001b[0m\u001b[38;2;200;100;120m,\u001b[0m\u001b[38;2;200;100;120m and\u001b[0m\u001b[38;2;200;100;120m passes\u001b[0m\u001b[38;2;200;100;120m the\u001b[0m\u001b[38;2;200;100;120m output\u001b[0m\u001b[38;2;200;100;120m to\u001b[0m\u001b[38;2;200;100;120m the\u001b[0m\u001b[38;2;200;100;120m next\u001b[0m\u001b[38;2;200;100;120m layer\u001b[0m\u001b[38;2;200;100;120m.\u001b[0m\u001b[38;2;200;100;120m The\u001b[0m\u001b[38;2;200;100;120m basic\u001b[0m\u001b[38;2;200;100;120m components\u001b[0m\u001b[38;2;200;100;120m are\u001b[0m\u001b[38;2;200;100;120m input\u001b[0m\u001b[38;2;200;100;120m layer\u001b[0m\u001b[38;2;200;100;120m,\u001b[0m\u001b[38;2;200;100;120m hidden\u001b[0m\u001b[38;2;200;100;120m layers\u001b[0m\u001b[38;2;200;100;120m,\u001b[0m\u001b[38;2;200;100;120m and\u001b[0m\u001b[38;2;200;100;120m output\u001b[0m\u001b[38;2;200;100;120m layer\u001b[0m\u001b[38;2;200;100;120m.\u001b[0m\u001b[38;2;200;100;120m Each\u001b[0m\u001b[38;2;200;100;120m connection\u001b[0m\u001b[38;2;200;100;120m between\u001b[0m\u001b[38;2;200;100;120m neurons\u001b[0m\u001b[38;2;200;100;120m has\u001b[0m\u001b[38;2;200;100;120m a\u001b[0m\u001b[38;2;200;100;120m weight\u001b[0m\u001b[38;2;200;100;120m,\u001b[0m\u001b[38;2;200;100;120m which\u001b[0m\u001b[38;2;200;100;120m determines\u001b[0m\u001b[38;2;200;100;120m the\u001b[0m\u001b[38;2;200;100;120m strength\u001b[0m\u001b[38;2;200;100;120m of\u001b[0m\u001b[38;2;200;100;120m the\u001b[0m\u001b[38;2;200;100;120m signal\u001b[0m\u001b[38;2;200;100;120m.\u001b[0m\u001b[38;2;200;100;120m There\u001b[0m\u001b[38;2;200;100;120m's\u001b[0m\u001b[38;2;200;100;120m also\u001b[0m\u001b[38;2;200;100;120m a\u001b[0m\u001b[38;2;200;100;120m bias\u001b[0m\u001b[38;2;200;100;120m term\u001b[0m\u001b[38;2;200;100;120m that\u001b[0m\u001b[38;2;200;100;120m helps\u001b[0m\u001b[38;2;200;100;120m shift\u001b[0m\u001b[38;2;200;100;120m the\u001b[0m\u001b[38;2;200;100;120m activation\u001b[0m\u001b[38;2;200;100;120m function\u001b[0m\u001b[38;2;200;100;120m.\n",
      "\n",
      "\u001b[0m\u001b[38;2;200;100;120mWait\u001b[0m\u001b[38;2;200;100;120m,\u001b[0m\u001b[38;2;200;100;120m maybe\u001b[0m\u001b[38;2;200;100;120m I\u001b[0m\u001b[38;2;200;100;120m should\u001b[0m\u001b[38;2;200;100;120m structure\u001b[0m\u001b[38;2;200;100;120m the\u001b[0m\u001b[38;2;200;100;120m explanation\u001b[0m\u001b[38;2;200;100;120m step\u001b[0m\u001b[38;2;200;100;120m by\u001b[0m\u001b[38;2;200;100;120m step\u001b[0m\u001b[38;2;200;100;120m.\u001b[0m\u001b[38;2;200;100;120m First\u001b[0m\u001b[38;2;200;100;120m,\u001b[0m\u001b[38;2;200;100;120m describe\u001b[0m\u001b[38;2;200;100;120m the\u001b[0m\u001b[38;2;200;100;120m structure\u001b[0m\u001b[38;2;200;100;120m:\u001b[0m\u001b[38;2;200;100;120m input\u001b[0m\u001b[38;2;200;100;120m,\u001b[0m\u001b[38;2;200;100;120m hidden\u001b[0m\u001b[38;2;200;100;120m,\u001b[0m\u001b[38;2;200;100;120m output\u001b[0m\u001b[38;2;200;100;120m layers\u001b[0m\u001b[38;2;200;100;120m.\u001b[0m\u001b[38;2;200;100;120m Then\u001b[0m\u001b[38;2;200;100;120m explain\u001b[0m\u001b[38;2;200;100;120m neurons\u001b[0m\u001b[38;2;200;100;120m and\u001b[0m\u001b[38;2;200;100;120m how\u001b[0m\u001b[38;2;200;100;120m they\u001b[0m\u001b[38;2;200;100;120m process\u001b[0m\u001b[38;2;200;100;120m inputs\u001b[0m\u001b[38;2;200;100;120m.\u001b[0m\u001b[38;2;200;100;120m Then\u001b[0m\u001b[38;2;200;100;120m the\u001b[0m\u001b[38;2;200;100;120m role\u001b[0m\u001b[38;2;200;100;120m of\u001b[0m\u001b[38;2;200;100;120m weights\u001b[0m\u001b[38;2;200;100;120m and\u001b[0m\u001b[38;2;200;100;120m biases\u001b[0m\u001b[38;2;200;100;120m.\u001b[0m\u001b[38;2;200;100;120m Then\u001b[0m\u001b[38;2;200;100;120m activation\u001b[0m\u001b[38;2;200;100;120m functions\u001b[0m\u001b[38;2;200;100;120m,\u001b[0m\u001b[38;2;200;100;120m which\u001b[0m\u001b[38;2;200;100;120m introduce\u001b[0m\u001b[38;2;200;100;120m non\u001b[0m\u001b[38;2;200;100;120m-line\u001b[0m\u001b[38;2;200;100;120marity\u001b[0m\u001b[38;2;200;100;120m.\u001b[0m\u001b[38;2;200;100;120m Then\u001b[0m\u001b[38;2;200;100;120m the\u001b[0m\u001b[38;2;200;100;120m process\u001b[0m\u001b[38;2;200;100;120m of\u001b[0m\u001b[38;2;200;100;120m forward\u001b[0m\u001b[38;2;200;100;120m propagation\u001b[0m\u001b[38;2;200;100;120m,\u001b[0m\u001b[38;2;200;100;120m where\u001b[0m\u001b[38;2;200;100;120m data\u001b[0m\u001b[38;2;200;100;120m moves\u001b[0m\u001b[38;2;200;100;120m through\u001b[0m\u001b[38;2;200;100;120m the\u001b[0m\u001b[38;2;200;100;120m network\u001b[0m\u001b[38;2;200;100;120m.\u001b[0m\u001b[38;2;200;100;120m Then\u001b[0m\u001b[38;2;200;100;120m training\u001b[0m\u001b[38;2;200;100;120m with\u001b[0m\u001b[38;2;200;100;120m back\u001b[0m\u001b[38;2;200;100;120mprop\u001b[0m\u001b[38;2;200;100;120magation\u001b[0m\u001b[38;2;200;100;120m and\u001b[0m\u001b[38;2;200;100;120m optimization\u001b[0m\u001b[38;2;200;100;120m.\u001b[0m\u001b[38;2;200;100;120m Maybe\u001b[0m\u001b[38;2;200;100;120m mention\u001b[0m\u001b[38;2;200;100;120m loss\u001b[0m\u001b[38;2;200;100;120m functions\u001b[0m\u001b[38;2;200;100;120m and\u001b[0m\u001b[38;2;200;100;120m how\u001b[0m\u001b[38;2;200;100;120m the\u001b[0m\u001b[38;2;200;100;120m network\u001b[0m\u001b[38;2;200;100;120m learns\u001b[0m\u001b[38;2;200;100;120m by\u001b[0m\u001b[38;2;200;100;120m minimizing\u001b[0m\u001b[38;2;200;100;120m the\u001b[0m\u001b[38;2;200;100;120m loss\u001b[0m\u001b[38;2;200;100;120m.\n",
      "\n",
      "\u001b[0m\u001b[38;2;200;100;120mI\u001b[0m\u001b[38;2;200;100;120m should\u001b[0m\u001b[38;2;200;100;120m also\u001b[0m\u001b[38;2;200;100;120m mention\u001b[0m\u001b[38;2;200;100;120m common\u001b[0m\u001b[38;2;200;100;120m types\u001b[0m\u001b[38;2;200;100;120m of\u001b[0m\u001b[38;2;200;100;120m neural\u001b[0m\u001b[38;2;200;100;120m networks\u001b[0m\u001b[38;2;200;100;120m,\u001b[0m\u001b[38;2;200;100;120m like\u001b[0m\u001b[38;2;200;100;120m feed\u001b[0m\u001b[38;2;200;100;120mforward\u001b[0m\u001b[38;2;200;100;120m,\u001b[0m\u001b[38;2;200;100;120m convolution\u001b[0m\u001b[38;2;200;100;120mal\u001b[0m\u001b[38;2;200;100;120m,\u001b[0m\u001b[38;2;200;100;120m recurrent\u001b[0m\u001b[38;2;200;100;120m,\u001b[0m\u001b[38;2;200;100;120m but\u001b[0m\u001b[38;2;200;100;120m maybe\u001b[0m\u001b[38;2;200;100;120m that\u001b[0m\u001b[38;2;200;100;120m's\u001b[0m\u001b[38;2;200;100;120m beyond\u001b[0m\u001b[38;2;200;100;120m the\u001b[0m\u001b[38;2;200;100;120m scope\u001b[0m\u001b[38;2;200;100;120m of\u001b[0m\u001b[38;2;200;100;120m a\u001b[0m\u001b[38;2;200;100;120m basic\u001b[0m\u001b[38;2;200;100;120m explanation\u001b[0m\u001b[38;2;200;100;120m.\u001b[0m\u001b[38;2;200;100;120m The\u001b[0m\u001b[38;2;200;100;120m user\u001b[0m\u001b[38;2;200;100;120m asked\u001b[0m\u001b[38;2;200;100;120m how\u001b[0m\u001b[38;2;200;100;120m it\u001b[0m\u001b[38;2;200;100;120m works\u001b[0m\u001b[38;2;200;100;120m,\u001b[0m\u001b[38;2;200;100;120m so\u001b[0m\u001b[38;2;200;100;120m focusing\u001b[0m\u001b[38;2;200;100;120m on\u001b[0m\u001b[38;2;200;100;120m the\u001b[0m\u001b[38;2;200;100;120m fundamentals\u001b[0m\u001b[38;2;200;100;120m.\u001b[0m\u001b[38;2;200;100;120m Use\u001b[0m\u001b[38;2;200;100;120m examples\u001b[0m\u001b[38;2;200;100;120m like\u001b[0m\u001b[38;2;200;100;120m image\u001b[0m\u001b[38;2;200;100;120m recognition\u001b[0m\u001b[38;2;200;100;120m or\u001b[0m\u001b[38;2;200;100;120m classification\u001b[0m\u001b[38;2;200;100;120m tasks\u001b[0m\u001b[38;2;200;100;120m.\u001b[0m\u001b[38;2;200;100;120m Maybe\u001b[0m\u001b[38;2;200;100;120m include\u001b[0m\u001b[38;2;200;100;120m an\u001b[0m\u001b[38;2;200;100;120m analogy\u001b[0m\u001b[38;2;200;100;120m,\u001b[0m\u001b[38;2;200;100;120m like\u001b[0m\u001b[38;2;200;100;120m the\u001b[0m\u001b[38;2;200;100;120m brain\u001b[0m\u001b[38;2;200;100;120m's\u001b[0m\u001b[38;2;200;100;120m neurons\u001b[0m\u001b[38;2;200;100;120m firing\u001b[0m\u001b[38;2;200;100;120m based\u001b[0m\u001b[38;2;200;100;120m on\u001b[0m\u001b[38;2;200;100;120m input\u001b[0m\u001b[38;2;200;100;120m strength\u001b[0m\u001b[38;2;200;100;120m.\n",
      "\n",
      "\u001b[0m\u001b[38;2;200;100;120mCheck\u001b[0m\u001b[38;2;200;100;120m if\u001b[0m\u001b[38;2;200;100;120m I\u001b[0m\u001b[38;2;200;100;120m'm\u001b[0m\u001b[38;2;200;100;120m missing\u001b[0m\u001b[38;2;200;100;120m any\u001b[0m\u001b[38;2;200;100;120m key\u001b[0m\u001b[38;2;200;100;120m concepts\u001b[0m\u001b[38;2;200;100;120m.\u001b[0m\u001b[38;2;200;100;120m Oh\u001b[0m\u001b[38;2;200;100;120m,\u001b[0m\u001b[38;2;200;100;120m the\u001b[0m\u001b[38;2;200;100;120m activation\u001b[0m\u001b[38;2;200;100;120m function\u001b[0m\u001b[38;2;200;100;120m is\u001b[0m\u001b[38;2;200;100;120m crucial\u001b[0m\u001b[38;2;200;100;120m.\u001b[0m\u001b[38;2;200;100;120m Without\u001b[0m\u001b[38;2;200;100;120m it\u001b[0m\u001b[38;2;200;100;120m,\u001b[0m\u001b[38;2;200;100;120m the\u001b[0m\u001b[38;2;200;100;120m network\u001b[0m\u001b[38;2;200;100;120m would\u001b[0m\u001b[38;2;200;100;120m just\u001b[0m\u001b[38;2;200;100;120m be\u001b[0m\u001b[38;2;200;100;120m a\u001b[0m\u001b[38;2;200;100;120m linear\u001b[0m\u001b[38;2;200;100;120m model\u001b[0m\u001b[38;2;200;100;120m.\u001b[0m\u001b[38;2;200;100;120m Common\u001b[0m\u001b[38;2;200;100;120m activation\u001b[0m\u001b[38;2;200;100;120m functions\u001b[0m\u001b[38;2;200;100;120m are\u001b[0m\u001b[38;2;200;100;120m Re\u001b[0m\u001b[38;2;200;100;120mLU\u001b[0m\u001b[38;2;200;100;120m,\u001b[0m\u001b[38;2;200;100;120m sigmoid\u001b[0m\u001b[38;2;200;100;120m,\u001b[0m\u001b[38;2;200;100;120m tan\u001b[0m\u001b[38;2;200;100;120mh\u001b[0m\u001b[38;2;200;100;120m.\u001b[0m\u001b[38;2;200;100;120m Also\u001b[0m\u001b[38;2;200;100;120m,\u001b[0m\u001b[38;2;200;100;120m the\u001b[0m\u001b[38;2;200;100;120m process\u001b[0m\u001b[38;2;200;100;120m of\u001b[0m\u001b[38;2;200;100;120m training\u001b[0m\u001b[38;2;200;100;120m involves\u001b[0m\u001b[38;2;200;100;120m adjusting\u001b[0m\u001b[38;2;200;100;120m weights\u001b[0m\u001b[38;2;200;100;120m and\u001b[0m\u001b[38;2;200;100;120m biases\u001b[0m\u001b[38;2;200;100;120m through\u001b[0m\u001b[38;2;200;100;120m back\u001b[0m\u001b[38;2;200;100;120mprop\u001b[0m\u001b[38;2;200;100;120magation\u001b[0m\u001b[38;2;200;100;120m,\u001b[0m\u001b[38;2;200;100;120m using\u001b[0m\u001b[38;2;200;100;120m gradients\u001b[0m\u001b[38;2;200;100;120m calculated\u001b[0m\u001b[38;2;200;100;120m via\u001b[0m\u001b[38;2;200;100;120m the\u001b[0m\u001b[38;2;200;100;120m chain\u001b[0m\u001b[38;2;200;100;120m rule\u001b[0m\u001b[38;2;200;100;120m.\u001b[0m\u001b[38;2;200;100;120m Optimization\u001b[0m\u001b[38;2;200;100;120m algorithms\u001b[0m\u001b[38;2;200;100;120m like\u001b[0m\u001b[38;2;200;100;120m gradient\u001b[0m\u001b[38;2;200;100;120m descent\u001b[0m\u001b[38;2;200;100;120m or\u001b[0m\u001b[38;2;200;100;120m Adam\u001b[0m\u001b[38;2;200;100;120m are\u001b[0m\u001b[38;2;200;100;120m used\u001b[0m\u001b[38;2;200;100;120m to\u001b[0m\u001b[38;2;200;100;120m update\u001b[0m\u001b[38;2;200;100;120m parameters\u001b[0m\u001b[38;2;200;100;120m.\n",
      "\n",
      "\u001b[0m\u001b[38;2;200;100;120mMake\u001b[0m\u001b[38;2;200;100;120m sure\u001b[0m\u001b[38;2;200;100;120m to\u001b[0m\u001b[38;2;200;100;120m explain\u001b[0m\u001b[38;2;200;100;120m the\u001b[0m\u001b[38;2;200;100;120m forward\u001b[0m\u001b[38;2;200;100;120m pass\u001b[0m\u001b[38;2;200;100;120m and\u001b[0m\u001b[38;2;200;100;120m backward\u001b[0m\u001b[38;2;200;100;120m pass\u001b[0m\u001b[38;2;200;100;120m clearly\u001b[0m\u001b[38;2;200;100;120m.\u001b[0m\u001b[38;2;200;100;120m Maybe\u001b[0m\u001b[38;2;200;100;120m use\u001b[0m\u001b[38;2;200;100;120m a\u001b[0m\u001b[38;2;200;100;120m simple\u001b[0m\u001b[38;2;200;100;120m example\u001b[0m\u001b[38;2;200;100;120m with\u001b[0m\u001b[38;2;200;100;120m one\u001b[0m\u001b[38;2;200;100;120m hidden\u001b[0m\u001b[38;2;200;100;120m layer\u001b[0m\u001b[38;2;200;100;120m.\u001b[0m\u001b[38;2;200;100;120m Also\u001b[0m\u001b[38;2;200;100;120m,\u001b[0m\u001b[38;2;200;100;120m mention\u001b[0m\u001b[38;2;200;100;120m that\u001b[0m\u001b[38;2;200;100;120m the\u001b[0m\u001b[38;2;200;100;120m network\u001b[0m\u001b[38;2;200;100;120m learns\u001b[0m\u001b[38;2;200;100;120m by\u001b[0m\u001b[38;2;200;100;120m minimizing\u001b[0m\u001b[38;2;200;100;120m the\u001b[0m\u001b[38;2;200;100;120m difference\u001b[0m\u001b[38;2;200;100;120m between\u001b[0m\u001b[38;2;200;100;120m predicted\u001b[0m\u001b[38;2;200;100;120m and\u001b[0m\u001b[38;2;200;100;120m actual\u001b[0m\u001b[38;2;200;100;120m outputs\u001b[0m\u001b[38;2;200;100;120m,\u001b[0m\u001b[38;2;200;100;120m using\u001b[0m\u001b[38;2;200;100;120m a\u001b[0m\u001b[38;2;200;100;120m loss\u001b[0m\u001b[38;2;200;100;120m function\u001b[0m\u001b[38;2;200;100;120m like\u001b[0m\u001b[38;2;200;100;120m mean\u001b[0m\u001b[38;2;200;100;120m squared\u001b[0m\u001b[38;2;200;100;120m error\u001b[0m\u001b[38;2;200;100;120m or\u001b[0m\u001b[38;2;200;100;120m cross\u001b[0m\u001b[38;2;200;100;120m-\u001b[0m\u001b[38;2;200;100;120mentropy\u001b[0m\u001b[38;2;200;100;120m.\n",
      "\n",
      "\u001b[0m\u001b[38;2;200;100;120mAvoid\u001b[0m\u001b[38;2;200;100;120m j\u001b[0m\u001b[38;2;200;100;120margon\u001b[0m\u001b[38;2;200;100;120m as\u001b[0m\u001b[38;2;200;100;120m much\u001b[0m\u001b[38;2;200;100;120m as\u001b[0m\u001b[38;2;200;100;120m possible\u001b[0m\u001b[38;2;200;100;120m,\u001b[0m\u001b[38;2;200;100;120m but\u001b[0m\u001b[38;2;200;100;120m since\u001b[0m\u001b[38;2;200;100;120m the\u001b[0m\u001b[38;2;200;100;120m user\u001b[0m\u001b[38;2;200;100;120m asked\u001b[0m\u001b[38;2;200;100;120m for\u001b[0m\u001b[38;2;200;100;120m an\u001b[0m\u001b[38;2;200;100;120m explanation\u001b[0m\u001b[38;2;200;100;120m,\u001b[0m\u001b[38;2;200;100;120m some\u001b[0m\u001b[38;2;200;100;120m technical\u001b[0m\u001b[38;2;200;100;120m terms\u001b[0m\u001b[38;2;200;100;120m are\u001b[0m\u001b[38;2;200;100;120m necessary\u001b[0m\u001b[38;2;200;100;120m.\u001b[0m\u001b[38;2;200;100;120m Use\u001b[0m\u001b[38;2;200;100;120m bullet\u001b[0m\u001b[38;2;200;100;120m points\u001b[0m\u001b[38;2;200;100;120m or\u001b[0m\u001b[38;2;200;100;120m sections\u001b[0m\u001b[38;2;200;100;120m for\u001b[0m\u001b[38;2;200;100;120m clarity\u001b[0m\u001b[38;2;200;100;120m.\u001b[0m\u001b[38;2;200;100;120m Maybe\u001b[0m\u001b[38;2;200;100;120m start\u001b[0m\u001b[38;2;200;100;120m with\u001b[0m\u001b[38;2;200;100;120m an\u001b[0m\u001b[38;2;200;100;120m overview\u001b[0m\u001b[38;2;200;100;120m,\u001b[0m\u001b[38;2;200;100;120m then\u001b[0m\u001b[38;2;200;100;120m dive\u001b[0m\u001b[38;2;200;100;120m into\u001b[0m\u001b[38;2;200;100;120m components\u001b[0m\u001b[38;2;200;100;120m,\u001b[0m\u001b[38;2;200;100;120m then\u001b[0m\u001b[38;2;200;100;120m the\u001b[0m\u001b[38;2;200;100;120m process\u001b[0m\u001b[38;2;200;100;120m of\u001b[0m\u001b[38;2;200;100;120m learning\u001b[0m\u001b[38;2;200;100;120m,\u001b[0m\u001b[38;2;200;100;120m and\u001b[0m\u001b[38;2;200;100;120m finally\u001b[0m\u001b[38;2;200;100;120m common\u001b[0m\u001b[38;2;200;100;120m applications\u001b[0m\u001b[38;2;200;100;120m.\u001b[0m\u001b[38;2;200;100;120m Keep\u001b[0m\u001b[38;2;200;100;120m it\u001b[0m\u001b[38;2;200;100;120m concise\u001b[0m\u001b[38;2;200;100;120m but\u001b[0m\u001b[38;2;200;100;120m thorough\u001b[0m\u001b[38;2;200;100;120m.\n",
      "\u001b[0m\u001b[38;2;200;100;120m │\u001b[0m\n",
      "\u001b[38;2;200;100;120m╰────────────────────────────────────────────────────────────╯\u001b[0m\n"
     ]
    },
    {
     "data": {
      "text/html": [
       "<pre style=\"white-space:pre;overflow-x:auto;line-height:normal;font-family:Menlo,'DejaVu Sans Mono',consolas,'Courier New',monospace\"></pre>\n"
      ],
      "text/plain": []
     },
     "metadata": {},
     "output_type": "display_data"
    },
    {
     "data": {
      "text/html": [
       "<pre style=\"white-space:pre;overflow-x:auto;line-height:normal;font-family:Menlo,'DejaVu Sans Mono',consolas,'Courier New',monospace\">┏━━━━━━━━━━━━━━━━━━━━━━━━━━━━━━━━━━━━━━━━━━━━━━━━━━━━━━━━━━━━━━━━━━━━━━━━━━━━━━━━━━━━━━━━━━━━━━━━━━━━━━━━━━━━━━━━━┓\n",
       "┃                                           <span style=\"font-weight: bold\">How a Neural Network Works</span>                                            ┃\n",
       "┗━━━━━━━━━━━━━━━━━━━━━━━━━━━━━━━━━━━━━━━━━━━━━━━━━━━━━━━━━━━━━━━━━━━━━━━━━━━━━━━━━━━━━━━━━━━━━━━━━━━━━━━━━━━━━━━━━┛\n",
       "</pre>\n"
      ],
      "text/plain": [
       "┏━━━━━━━━━━━━━━━━━━━━━━━━━━━━━━━━━━━━━━━━━━━━━━━━━━━━━━━━━━━━━━━━━━━━━━━━━━━━━━━━━━━━━━━━━━━━━━━━━━━━━━━━━━━━━━━━━┓\n",
       "┃                                           \u001b[1mHow a Neural Network Works\u001b[0m                                            ┃\n",
       "┗━━━━━━━━━━━━━━━━━━━━━━━━━━━━━━━━━━━━━━━━━━━━━━━━━━━━━━━━━━━━━━━━━━━━━━━━━━━━━━━━━━━━━━━━━━━━━━━━━━━━━━━━━━━━━━━━━┛\n"
      ]
     },
     "metadata": {},
     "output_type": "display_data"
    },
    {
     "data": {
      "text/html": [
       "<pre style=\"white-space:pre;overflow-x:auto;line-height:normal;font-family:Menlo,'DejaVu Sans Mono',consolas,'Courier New',monospace\">Neural networks are computational models inspired by the structure and function of the human brain. They are       \n",
       "designed to recognize patterns, make predictions, and solve complex problems by learning from data. Below is a     \n",
       "step-by-step explanation of how they work:                                                                         \n",
       "</pre>\n"
      ],
      "text/plain": [
       "Neural networks are computational models inspired by the structure and function of the human brain. They are       \n",
       "designed to recognize patterns, make predictions, and solve complex problems by learning from data. Below is a     \n",
       "step-by-step explanation of how they work:                                                                         \n"
      ]
     },
     "metadata": {},
     "output_type": "display_data"
    },
    {
     "data": {
      "text/html": [
       "<pre style=\"white-space:pre;overflow-x:auto;line-height:normal;font-family:Menlo,'DejaVu Sans Mono',consolas,'Courier New',monospace\"><span style=\"color: #808000; text-decoration-color: #808000\">───────────────────────────────────────────────────────────────────────────────────────────────────────────────────</span>\n",
       "</pre>\n"
      ],
      "text/plain": [
       "\u001b[33m───────────────────────────────────────────────────────────────────────────────────────────────────────────────────\u001b[0m\n"
      ]
     },
     "metadata": {},
     "output_type": "display_data"
    },
    {
     "data": {
      "text/html": [
       "<pre style=\"white-space:pre;overflow-x:auto;line-height:normal;font-family:Menlo,'DejaVu Sans Mono',consolas,'Courier New',monospace\">\n",
       "                                         <span style=\"font-weight: bold; text-decoration: underline\">1. Structure of a Neural Network</span>                                          \n",
       "</pre>\n"
      ],
      "text/plain": [
       "\n",
       "                                         \u001b[1;4m1. \u001b[0m\u001b[1;4mStructure of a Neural Network\u001b[0m                                          \n"
      ]
     },
     "metadata": {},
     "output_type": "display_data"
    },
    {
     "data": {
      "text/html": [
       "<pre style=\"white-space:pre;overflow-x:auto;line-height:normal;font-family:Menlo,'DejaVu Sans Mono',consolas,'Courier New',monospace\">A neural network consists of three primary types of layers:                                                        \n",
       "</pre>\n"
      ],
      "text/plain": [
       "A neural network consists of three primary types of layers:                                                        \n"
      ]
     },
     "metadata": {},
     "output_type": "display_data"
    },
    {
     "data": {
      "text/html": [
       "<pre style=\"white-space:pre;overflow-x:auto;line-height:normal;font-family:Menlo,'DejaVu Sans Mono',consolas,'Courier New',monospace\">                                                    <span style=\"font-weight: bold\">Input Layer</span>                                                    \n",
       "</pre>\n"
      ],
      "text/plain": [
       "                                                    \u001b[1mInput Layer\u001b[0m                                                    \n"
      ]
     },
     "metadata": {},
     "output_type": "display_data"
    },
    {
     "data": {
      "text/html": [
       "<pre style=\"white-space:pre;overflow-x:auto;line-height:normal;font-family:Menlo,'DejaVu Sans Mono',consolas,'Courier New',monospace\">\n",
       "<span style=\"color: #808000; text-decoration-color: #808000; font-weight: bold\"> • </span><span style=\"font-weight: bold\">Purpose</span>: Receives raw data (e.g., pixel values of an image or numerical features of a dataset).                 \n",
       "</pre>\n"
      ],
      "text/plain": [
       "\n",
       "\u001b[1;33m • \u001b[0m\u001b[1mPurpose\u001b[0m: Receives raw data (e.g., pixel values of an image or numerical features of a dataset).                 \n"
      ]
     },
     "metadata": {},
     "output_type": "display_data"
    },
    {
     "data": {
      "text/html": [
       "<pre style=\"white-space:pre;overflow-x:auto;line-height:normal;font-family:Menlo,'DejaVu Sans Mono',consolas,'Courier New',monospace\">\n",
       "<span style=\"color: #808000; text-decoration-color: #808000; font-weight: bold\"> • </span><span style=\"font-weight: bold\">Neurons</span>: Each neuron corresponds to a feature in the input data.                                                \n",
       "</pre>\n"
      ],
      "text/plain": [
       "\n",
       "\u001b[1;33m • \u001b[0m\u001b[1mNeurons\u001b[0m: Each neuron corresponds to a feature in the input data.                                                \n"
      ]
     },
     "metadata": {},
     "output_type": "display_data"
    },
    {
     "data": {
      "text/html": [
       "<pre style=\"white-space:pre;overflow-x:auto;line-height:normal;font-family:Menlo,'DejaVu Sans Mono',consolas,'Courier New',monospace\">                                                   <span style=\"font-weight: bold\">Hidden Layers</span>                                                   \n",
       "</pre>\n"
      ],
      "text/plain": [
       "                                                   \u001b[1mHidden Layers\u001b[0m                                                   \n"
      ]
     },
     "metadata": {},
     "output_type": "display_data"
    },
    {
     "data": {
      "text/html": [
       "<pre style=\"white-space:pre;overflow-x:auto;line-height:normal;font-family:Menlo,'DejaVu Sans Mono',consolas,'Courier New',monospace\">\n",
       "<span style=\"color: #808000; text-decoration-color: #808000; font-weight: bold\"> • </span><span style=\"font-weight: bold\">Purpose</span>: Perform transformations on the input data to extract meaningful patterns.                              \n",
       "</pre>\n"
      ],
      "text/plain": [
       "\n",
       "\u001b[1;33m • \u001b[0m\u001b[1mPurpose\u001b[0m: Perform transformations on the input data to extract meaningful patterns.                              \n"
      ]
     },
     "metadata": {},
     "output_type": "display_data"
    },
    {
     "data": {
      "text/html": [
       "<pre style=\"white-space:pre;overflow-x:auto;line-height:normal;font-family:Menlo,'DejaVu Sans Mono',consolas,'Courier New',monospace\">\n",
       "<span style=\"color: #808000; text-decoration-color: #808000; font-weight: bold\"> • </span><span style=\"font-weight: bold\">Neurons</span>: Each neuron applies a mathematical operation to its inputs and passes the result to the next layer.    \n",
       "</pre>\n"
      ],
      "text/plain": [
       "\n",
       "\u001b[1;33m • \u001b[0m\u001b[1mNeurons\u001b[0m: Each neuron applies a mathematical operation to its inputs and passes the result to the next layer.    \n"
      ]
     },
     "metadata": {},
     "output_type": "display_data"
    },
    {
     "data": {
      "text/html": [
       "<pre style=\"white-space:pre;overflow-x:auto;line-height:normal;font-family:Menlo,'DejaVu Sans Mono',consolas,'Courier New',monospace\">\n",
       "<span style=\"color: #808000; text-decoration-color: #808000; font-weight: bold\"> • </span><span style=\"font-weight: bold\">Number of Layers</span>: Can vary (e.g., a network with one hidden layer is called a <span style=\"font-style: italic\">shallow</span> network; more layers make \n",
       "<span style=\"color: #808000; text-decoration-color: #808000; font-weight: bold\">   </span>it <span style=\"font-style: italic\">deep</span>).                                                                                                       \n",
       "</pre>\n"
      ],
      "text/plain": [
       "\n",
       "\u001b[1;33m • \u001b[0m\u001b[1mNumber of Layers\u001b[0m: Can vary (e.g., a network with one hidden layer is called a \u001b[3mshallow\u001b[0m network; more layers make \n",
       "\u001b[1;33m   \u001b[0mit \u001b[3mdeep\u001b[0m).                                                                                                       \n"
      ]
     },
     "metadata": {},
     "output_type": "display_data"
    },
    {
     "data": {
      "text/html": [
       "<pre style=\"white-space:pre;overflow-x:auto;line-height:normal;font-family:Menlo,'DejaVu Sans Mono',consolas,'Courier New',monospace\">                                                   <span style=\"font-weight: bold\">Output Layer</span>                                                    \n",
       "</pre>\n"
      ],
      "text/plain": [
       "                                                   \u001b[1mOutput Layer\u001b[0m                                                    \n"
      ]
     },
     "metadata": {},
     "output_type": "display_data"
    },
    {
     "data": {
      "text/html": [
       "<pre style=\"white-space:pre;overflow-x:auto;line-height:normal;font-family:Menlo,'DejaVu Sans Mono',consolas,'Courier New',monospace\">\n",
       "<span style=\"color: #808000; text-decoration-color: #808000; font-weight: bold\"> • </span><span style=\"font-weight: bold\">Purpose</span>: Produces the final prediction or result (e.g., class labels in classification tasks or numerical values\n",
       "<span style=\"color: #808000; text-decoration-color: #808000; font-weight: bold\">   </span>in regression tasks).                                                                                           \n",
       "</pre>\n"
      ],
      "text/plain": [
       "\n",
       "\u001b[1;33m • \u001b[0m\u001b[1mPurpose\u001b[0m: Produces the final prediction or result (e.g., class labels in classification tasks or numerical values\n",
       "\u001b[1;33m   \u001b[0min regression tasks).                                                                                           \n"
      ]
     },
     "metadata": {},
     "output_type": "display_data"
    },
    {
     "data": {
      "text/html": [
       "<pre style=\"white-space:pre;overflow-x:auto;line-height:normal;font-family:Menlo,'DejaVu Sans Mono',consolas,'Courier New',monospace\">\n",
       "<span style=\"color: #808000; text-decoration-color: #808000; font-weight: bold\"> • </span><span style=\"font-weight: bold\">Neurons</span>: Corresponds to the number of possible outcomes (e.g., 10 neurons for a digit recognition task).        \n",
       "</pre>\n"
      ],
      "text/plain": [
       "\n",
       "\u001b[1;33m • \u001b[0m\u001b[1mNeurons\u001b[0m: Corresponds to the number of possible outcomes (e.g., 10 neurons for a digit recognition task).        \n"
      ]
     },
     "metadata": {},
     "output_type": "display_data"
    },
    {
     "data": {
      "text/html": [
       "<pre style=\"white-space:pre;overflow-x:auto;line-height:normal;font-family:Menlo,'DejaVu Sans Mono',consolas,'Courier New',monospace\"><span style=\"color: #808000; text-decoration-color: #808000\">───────────────────────────────────────────────────────────────────────────────────────────────────────────────────</span>\n",
       "</pre>\n"
      ],
      "text/plain": [
       "\u001b[33m───────────────────────────────────────────────────────────────────────────────────────────────────────────────────\u001b[0m\n"
      ]
     },
     "metadata": {},
     "output_type": "display_data"
    },
    {
     "data": {
      "text/html": [
       "<pre style=\"white-space:pre;overflow-x:auto;line-height:normal;font-family:Menlo,'DejaVu Sans Mono',consolas,'Courier New',monospace\">\n",
       "                                                <span style=\"font-weight: bold; text-decoration: underline\">2. How Neurons Work</span>                                                \n",
       "</pre>\n"
      ],
      "text/plain": [
       "\n",
       "                                                \u001b[1;4m2. \u001b[0m\u001b[1;4mHow Neurons Work\u001b[0m                                                \n"
      ]
     },
     "metadata": {},
     "output_type": "display_data"
    },
    {
     "data": {
      "text/html": [
       "<pre style=\"white-space:pre;overflow-x:auto;line-height:normal;font-family:Menlo,'DejaVu Sans Mono',consolas,'Courier New',monospace\">Each neuron in a neural network performs the following steps:                                                      \n",
       "</pre>\n"
      ],
      "text/plain": [
       "Each neuron in a neural network performs the following steps:                                                      \n"
      ]
     },
     "metadata": {},
     "output_type": "display_data"
    },
    {
     "data": {
      "text/html": [
       "<pre style=\"white-space:pre;overflow-x:auto;line-height:normal;font-family:Menlo,'DejaVu Sans Mono',consolas,'Courier New',monospace\">                                                  <span style=\"font-weight: bold\">a. Weighted Sum</span>                                                  \n",
       "</pre>\n"
      ],
      "text/plain": [
       "                                                  \u001b[1ma. Weighted Sum\u001b[0m                                                  \n"
      ]
     },
     "metadata": {},
     "output_type": "display_data"
    },
    {
     "data": {
      "text/html": [
       "<pre style=\"white-space:pre;overflow-x:auto;line-height:normal;font-family:Menlo,'DejaVu Sans Mono',consolas,'Courier New',monospace\">\n",
       "<span style=\"color: #808000; text-decoration-color: #808000; font-weight: bold\"> • </span><span style=\"font-weight: bold\">Input</span>: A vector of values from the previous layer.                                                              \n",
       "</pre>\n"
      ],
      "text/plain": [
       "\n",
       "\u001b[1;33m • \u001b[0m\u001b[1mInput\u001b[0m: A vector of values from the previous layer.                                                              \n"
      ]
     },
     "metadata": {},
     "output_type": "display_data"
    },
    {
     "data": {
      "text/html": [
       "<pre style=\"white-space:pre;overflow-x:auto;line-height:normal;font-family:Menlo,'DejaVu Sans Mono',consolas,'Courier New',monospace\">\n",
       "<span style=\"color: #808000; text-decoration-color: #808000; font-weight: bold\"> • </span><span style=\"font-weight: bold\">Weights</span>: Parameters that determine the importance of each input.                                                \n",
       "</pre>\n"
      ],
      "text/plain": [
       "\n",
       "\u001b[1;33m • \u001b[0m\u001b[1mWeights\u001b[0m: Parameters that determine the importance of each input.                                                \n"
      ]
     },
     "metadata": {},
     "output_type": "display_data"
    },
    {
     "data": {
      "text/html": [
       "<pre style=\"white-space:pre;overflow-x:auto;line-height:normal;font-family:Menlo,'DejaVu Sans Mono',consolas,'Courier New',monospace\">\n",
       "<span style=\"color: #808000; text-decoration-color: #808000; font-weight: bold\"> • </span><span style=\"font-weight: bold\">Bias</span>: A scalar value that shifts the output of the neuron.                                                      \n",
       "</pre>\n"
      ],
      "text/plain": [
       "\n",
       "\u001b[1;33m • \u001b[0m\u001b[1mBias\u001b[0m: A scalar value that shifts the output of the neuron.                                                      \n"
      ]
     },
     "metadata": {},
     "output_type": "display_data"
    },
    {
     "data": {
      "text/html": [
       "<pre style=\"white-space:pre;overflow-x:auto;line-height:normal;font-family:Menlo,'DejaVu Sans Mono',consolas,'Courier New',monospace\">\n",
       "<span style=\"color: #808000; text-decoration-color: #808000; font-weight: bold\"> • </span><span style=\"font-weight: bold\">Calculation</span>:                                                                                                    \n",
       "</pre>\n"
      ],
      "text/plain": [
       "\n",
       "\u001b[1;33m • \u001b[0m\u001b[1mCalculation\u001b[0m:                                                                                                    \n"
      ]
     },
     "metadata": {},
     "output_type": "display_data"
    },
    {
     "data": {
      "text/html": [
       "<pre style=\"white-space:pre;overflow-x:auto;line-height:normal;font-family:Menlo,'DejaVu Sans Mono',consolas,'Courier New',monospace\">$$                                                                                                                 \n",
       "</pre>\n"
      ],
      "text/plain": [
       "$$                                                                                                                 \n"
      ]
     },
     "metadata": {},
     "output_type": "display_data"
    },
    {
     "data": {
      "text/html": [
       "<pre style=\"white-space:pre;overflow-x:auto;line-height:normal;font-family:Menlo,'DejaVu Sans Mono',consolas,'Courier New',monospace\">z = \\sum_{i} (w_i \\cdot x_i) + b                                                                                   \n",
       "</pre>\n"
      ],
      "text/plain": [
       "z = \\sum_{i} (w_i \\cdot x_i) + b                                                                                   \n"
      ]
     },
     "metadata": {},
     "output_type": "display_data"
    },
    {
     "data": {
      "text/html": [
       "<pre style=\"white-space:pre;overflow-x:auto;line-height:normal;font-family:Menlo,'DejaVu Sans Mono',consolas,'Courier New',monospace\">$$                                                                                                                 \n",
       "</pre>\n"
      ],
      "text/plain": [
       "$$                                                                                                                 \n"
      ]
     },
     "metadata": {},
     "output_type": "display_data"
    },
    {
     "data": {
      "text/html": [
       "<pre style=\"white-space:pre;overflow-x:auto;line-height:normal;font-family:Menlo,'DejaVu Sans Mono',consolas,'Courier New',monospace\">where $ w_i $ = weights, $ x_i $ = inputs, $ b $ = bias.                                                           \n",
       "</pre>\n"
      ],
      "text/plain": [
       "where $ w_i $ = weights, $ x_i $ = inputs, $ b $ = bias.                                                           \n"
      ]
     },
     "metadata": {},
     "output_type": "display_data"
    },
    {
     "data": {
      "text/html": [
       "<pre style=\"white-space:pre;overflow-x:auto;line-height:normal;font-family:Menlo,'DejaVu Sans Mono',consolas,'Courier New',monospace\">                                              <span style=\"font-weight: bold\">b. Activation Function</span>                                               \n",
       "</pre>\n"
      ],
      "text/plain": [
       "                                              \u001b[1mb. Activation Function\u001b[0m                                               \n"
      ]
     },
     "metadata": {},
     "output_type": "display_data"
    },
    {
     "data": {
      "text/html": [
       "<pre style=\"white-space:pre;overflow-x:auto;line-height:normal;font-family:Menlo,'DejaVu Sans Mono',consolas,'Courier New',monospace\">\n",
       "<span style=\"color: #808000; text-decoration-color: #808000; font-weight: bold\"> • </span><span style=\"font-weight: bold\">Purpose</span>: Introduces non-linearity, enabling the network to model complex relationships.                         \n",
       "</pre>\n"
      ],
      "text/plain": [
       "\n",
       "\u001b[1;33m • \u001b[0m\u001b[1mPurpose\u001b[0m: Introduces non-linearity, enabling the network to model complex relationships.                         \n"
      ]
     },
     "metadata": {},
     "output_type": "display_data"
    },
    {
     "data": {
      "text/html": [
       "<pre style=\"white-space:pre;overflow-x:auto;line-height:normal;font-family:Menlo,'DejaVu Sans Mono',consolas,'Courier New',monospace\">\n",
       "<span style=\"color: #808000; text-decoration-color: #808000; font-weight: bold\"> • </span><span style=\"font-weight: bold\">Common Functions</span>:                                                                                               \n",
       "</pre>\n"
      ],
      "text/plain": [
       "\n",
       "\u001b[1;33m • \u001b[0m\u001b[1mCommon Functions\u001b[0m:                                                                                               \n"
      ]
     },
     "metadata": {},
     "output_type": "display_data"
    },
    {
     "data": {
      "text/html": [
       "<pre style=\"white-space:pre;overflow-x:auto;line-height:normal;font-family:Menlo,'DejaVu Sans Mono',consolas,'Courier New',monospace\">\n",
       "<span style=\"color: #808000; text-decoration-color: #808000; font-weight: bold\"> • </span><span style=\"font-weight: bold\">ReLU</span>: $ f(z) = \\max(0, z) $                                                                                     \n",
       "</pre>\n"
      ],
      "text/plain": [
       "\n",
       "\u001b[1;33m • \u001b[0m\u001b[1mReLU\u001b[0m: $ f(z) = \\max(0, z) $                                                                                     \n"
      ]
     },
     "metadata": {},
     "output_type": "display_data"
    },
    {
     "data": {
      "text/html": [
       "<pre style=\"white-space:pre;overflow-x:auto;line-height:normal;font-family:Menlo,'DejaVu Sans Mono',consolas,'Courier New',monospace\">\n",
       "<span style=\"color: #808000; text-decoration-color: #808000; font-weight: bold\"> • </span><span style=\"font-weight: bold\">Sigmoid</span>: $ f(z) = \\frac{1}{1 + e^{-z}} $                                                                        \n",
       "</pre>\n"
      ],
      "text/plain": [
       "\n",
       "\u001b[1;33m • \u001b[0m\u001b[1mSigmoid\u001b[0m: $ f(z) = \\frac{1}{1 + e^{-z}} $                                                                        \n"
      ]
     },
     "metadata": {},
     "output_type": "display_data"
    },
    {
     "data": {
      "text/html": [
       "<pre style=\"white-space:pre;overflow-x:auto;line-height:normal;font-family:Menlo,'DejaVu Sans Mono',consolas,'Courier New',monospace\">\n",
       "<span style=\"color: #808000; text-decoration-color: #808000; font-weight: bold\"> • </span><span style=\"font-weight: bold\">Tanh</span>: $ f(z) = \\tanh(z) $                                                                                       \n",
       "</pre>\n"
      ],
      "text/plain": [
       "\n",
       "\u001b[1;33m • \u001b[0m\u001b[1mTanh\u001b[0m: $ f(z) = \\tanh(z) $                                                                                       \n"
      ]
     },
     "metadata": {},
     "output_type": "display_data"
    },
    {
     "data": {
      "text/html": [
       "<pre style=\"white-space:pre;overflow-x:auto;line-height:normal;font-family:Menlo,'DejaVu Sans Mono',consolas,'Courier New',monospace\"><span style=\"color: #808000; text-decoration-color: #808000\">───────────────────────────────────────────────────────────────────────────────────────────────────────────────────</span>\n",
       "</pre>\n"
      ],
      "text/plain": [
       "\u001b[33m───────────────────────────────────────────────────────────────────────────────────────────────────────────────────\u001b[0m\n"
      ]
     },
     "metadata": {},
     "output_type": "display_data"
    },
    {
     "data": {
      "text/html": [
       "<pre style=\"white-space:pre;overflow-x:auto;line-height:normal;font-family:Menlo,'DejaVu Sans Mono',consolas,'Courier New',monospace\">\n",
       "                                              <span style=\"font-weight: bold; text-decoration: underline\">3. Forward Propagation</span>                                               \n",
       "</pre>\n"
      ],
      "text/plain": [
       "\n",
       "                                              \u001b[1;4m3. \u001b[0m\u001b[1;4mForward Propagation\u001b[0m                                               \n"
      ]
     },
     "metadata": {},
     "output_type": "display_data"
    },
    {
     "data": {
      "text/html": [
       "<pre style=\"white-space:pre;overflow-x:auto;line-height:normal;font-family:Menlo,'DejaVu Sans Mono',consolas,'Courier New',monospace\">\n",
       "<span style=\"color: #808000; text-decoration-color: #808000; font-weight: bold\"> • </span><span style=\"font-weight: bold\">Process</span>: Data flows through the network from the input layer to the output layer.                               \n",
       "</pre>\n"
      ],
      "text/plain": [
       "\n",
       "\u001b[1;33m • \u001b[0m\u001b[1mProcess\u001b[0m: Data flows through the network from the input layer to the output layer.                               \n"
      ]
     },
     "metadata": {},
     "output_type": "display_data"
    },
    {
     "data": {
      "text/html": [
       "<pre style=\"white-space:pre;overflow-x:auto;line-height:normal;font-family:Menlo,'DejaVu Sans Mono',consolas,'Courier New',monospace\">\n",
       "<span style=\"color: #808000; text-decoration-color: #808000; font-weight: bold\"> • </span><span style=\"font-weight: bold\">Steps</span>:                                                                                                          \n",
       "</pre>\n"
      ],
      "text/plain": [
       "\n",
       "\u001b[1;33m • \u001b[0m\u001b[1mSteps\u001b[0m:                                                                                                          \n"
      ]
     },
     "metadata": {},
     "output_type": "display_data"
    },
    {
     "data": {
      "text/html": [
       "<pre style=\"white-space:pre;overflow-x:auto;line-height:normal;font-family:Menlo,'DejaVu Sans Mono',consolas,'Courier New',monospace\">\n",
       "<span style=\"color: #808000; text-decoration-color: #808000; font-weight: bold\"> 1 </span>Input data is passed through the first layer.                                                                   \n",
       "</pre>\n"
      ],
      "text/plain": [
       "\n",
       "\u001b[1;33m 1 \u001b[0mInput data is passed through the first layer.                                                                   \n"
      ]
     },
     "metadata": {},
     "output_type": "display_data"
    },
    {
     "data": {
      "text/html": [
       "<pre style=\"white-space:pre;overflow-x:auto;line-height:normal;font-family:Menlo,'DejaVu Sans Mono',consolas,'Courier New',monospace\">\n",
       "<span style=\"color: #808000; text-decoration-color: #808000; font-weight: bold\"> 2 </span>Each neuron computes its weighted sum and applies the activation function.                                      \n",
       "</pre>\n"
      ],
      "text/plain": [
       "\n",
       "\u001b[1;33m 2 \u001b[0mEach neuron computes its weighted sum and applies the activation function.                                      \n"
      ]
     },
     "metadata": {},
     "output_type": "display_data"
    },
    {
     "data": {
      "text/html": [
       "<pre style=\"white-space:pre;overflow-x:auto;line-height:normal;font-family:Menlo,'DejaVu Sans Mono',consolas,'Courier New',monospace\">\n",
       "<span style=\"color: #808000; text-decoration-color: #808000; font-weight: bold\"> 3 </span>The output of one layer becomes the input to the next.                                                          \n",
       "</pre>\n"
      ],
      "text/plain": [
       "\n",
       "\u001b[1;33m 3 \u001b[0mThe output of one layer becomes the input to the next.                                                          \n"
      ]
     },
     "metadata": {},
     "output_type": "display_data"
    },
    {
     "data": {
      "text/html": [
       "<pre style=\"white-space:pre;overflow-x:auto;line-height:normal;font-family:Menlo,'DejaVu Sans Mono',consolas,'Courier New',monospace\">\n",
       "<span style=\"color: #808000; text-decoration-color: #808000; font-weight: bold\"> 4 </span>This continues until the final output is produced.                                                              \n",
       "</pre>\n"
      ],
      "text/plain": [
       "\n",
       "\u001b[1;33m 4 \u001b[0mThis continues until the final output is produced.                                                              \n"
      ]
     },
     "metadata": {},
     "output_type": "display_data"
    },
    {
     "data": {
      "text/html": [
       "<pre style=\"white-space:pre;overflow-x:auto;line-height:normal;font-family:Menlo,'DejaVu Sans Mono',consolas,'Courier New',monospace\"><span style=\"color: #808000; text-decoration-color: #808000\">───────────────────────────────────────────────────────────────────────────────────────────────────────────────────</span>\n",
       "</pre>\n"
      ],
      "text/plain": [
       "\u001b[33m───────────────────────────────────────────────────────────────────────────────────────────────────────────────────\u001b[0m\n"
      ]
     },
     "metadata": {},
     "output_type": "display_data"
    },
    {
     "data": {
      "text/html": [
       "<pre style=\"white-space:pre;overflow-x:auto;line-height:normal;font-family:Menlo,'DejaVu Sans Mono',consolas,'Courier New',monospace\">\n",
       "                                           <span style=\"font-weight: bold; text-decoration: underline\">4. Training a Neural Network</span>                                            \n",
       "</pre>\n"
      ],
      "text/plain": [
       "\n",
       "                                           \u001b[1;4m4. \u001b[0m\u001b[1;4mTraining a Neural Network\u001b[0m                                            \n"
      ]
     },
     "metadata": {},
     "output_type": "display_data"
    },
    {
     "data": {
      "text/html": [
       "<pre style=\"white-space:pre;overflow-x:auto;line-height:normal;font-family:Menlo,'DejaVu Sans Mono',consolas,'Courier New',monospace\">Training involves adjusting weights and biases to minimize the difference between predicted and actual outputs.    \n",
       "This is done using <span style=\"font-weight: bold\">backpropagation</span> and <span style=\"font-weight: bold\">optimization</span>.                                                               \n",
       "</pre>\n"
      ],
      "text/plain": [
       "Training involves adjusting weights and biases to minimize the difference between predicted and actual outputs.    \n",
       "This is done using \u001b[1mbackpropagation\u001b[0m and \u001b[1moptimization\u001b[0m.                                                               \n"
      ]
     },
     "metadata": {},
     "output_type": "display_data"
    },
    {
     "data": {
      "text/html": [
       "<pre style=\"white-space:pre;overflow-x:auto;line-height:normal;font-family:Menlo,'DejaVu Sans Mono',consolas,'Courier New',monospace\">                                                 <span style=\"font-weight: bold\">a. Loss Function</span>                                                  \n",
       "</pre>\n"
      ],
      "text/plain": [
       "                                                 \u001b[1ma. Loss Function\u001b[0m                                                  \n"
      ]
     },
     "metadata": {},
     "output_type": "display_data"
    },
    {
     "data": {
      "text/html": [
       "<pre style=\"white-space:pre;overflow-x:auto;line-height:normal;font-family:Menlo,'DejaVu Sans Mono',consolas,'Courier New',monospace\">\n",
       "<span style=\"color: #808000; text-decoration-color: #808000; font-weight: bold\"> • </span><span style=\"font-weight: bold\">Purpose</span>: Measures how well the network's predictions match the true values.                                     \n",
       "</pre>\n"
      ],
      "text/plain": [
       "\n",
       "\u001b[1;33m • \u001b[0m\u001b[1mPurpose\u001b[0m: Measures how well the network's predictions match the true values.                                     \n"
      ]
     },
     "metadata": {},
     "output_type": "display_data"
    },
    {
     "data": {
      "text/html": [
       "<pre style=\"white-space:pre;overflow-x:auto;line-height:normal;font-family:Menlo,'DejaVu Sans Mono',consolas,'Courier New',monospace\">\n",
       "<span style=\"color: #808000; text-decoration-color: #808000; font-weight: bold\"> • </span><span style=\"font-weight: bold\">Examples</span>:                                                                                                       \n",
       "</pre>\n"
      ],
      "text/plain": [
       "\n",
       "\u001b[1;33m • \u001b[0m\u001b[1mExamples\u001b[0m:                                                                                                       \n"
      ]
     },
     "metadata": {},
     "output_type": "display_data"
    },
    {
     "data": {
      "text/html": [
       "<pre style=\"white-space:pre;overflow-x:auto;line-height:normal;font-family:Menlo,'DejaVu Sans Mono',consolas,'Courier New',monospace\">\n",
       "<span style=\"color: #808000; text-decoration-color: #808000; font-weight: bold\"> • </span><span style=\"font-weight: bold\">Mean Squared Error (MSE)</span>: $ \\frac{1}{n} \\sum (y_{\\text{true}} - y_{\\text{predicted}})^2 $ (used in regression). \n",
       "</pre>\n"
      ],
      "text/plain": [
       "\n",
       "\u001b[1;33m • \u001b[0m\u001b[1mMean Squared Error (MSE)\u001b[0m: $ \\frac{1}{n} \\sum (y_{\\text{true}} - y_{\\text{predicted}})^2 $ (used in regression). \n"
      ]
     },
     "metadata": {},
     "output_type": "display_data"
    },
    {
     "data": {
      "text/html": [
       "<pre style=\"white-space:pre;overflow-x:auto;line-height:normal;font-family:Menlo,'DejaVu Sans Mono',consolas,'Courier New',monospace\">\n",
       "<span style=\"color: #808000; text-decoration-color: #808000; font-weight: bold\"> • </span><span style=\"font-weight: bold\">Cross-Entropy</span>: $ -\\sum y_{\\text{true}} \\log(y_{\\text{predicted}}) $ (used in classification).                   \n",
       "</pre>\n"
      ],
      "text/plain": [
       "\n",
       "\u001b[1;33m • \u001b[0m\u001b[1mCross-Entropy\u001b[0m: $ -\\sum y_{\\text{true}} \\log(y_{\\text{predicted}}) $ (used in classification).                   \n"
      ]
     },
     "metadata": {},
     "output_type": "display_data"
    },
    {
     "data": {
      "text/html": [
       "<pre style=\"white-space:pre;overflow-x:auto;line-height:normal;font-family:Menlo,'DejaVu Sans Mono',consolas,'Courier New',monospace\">                                                <span style=\"font-weight: bold\">b. Backpropagation</span>                                                 \n",
       "</pre>\n"
      ],
      "text/plain": [
       "                                                \u001b[1mb. Backpropagation\u001b[0m                                                 \n"
      ]
     },
     "metadata": {},
     "output_type": "display_data"
    },
    {
     "data": {
      "text/html": [
       "<pre style=\"white-space:pre;overflow-x:auto;line-height:normal;font-family:Menlo,'DejaVu Sans Mono',consolas,'Courier New',monospace\">\n",
       "<span style=\"color: #808000; text-decoration-color: #808000; font-weight: bold\"> • </span><span style=\"font-weight: bold\">Purpose</span>: Compute gradients of the loss function with respect to each weight and bias.                           \n",
       "</pre>\n"
      ],
      "text/plain": [
       "\n",
       "\u001b[1;33m • \u001b[0m\u001b[1mPurpose\u001b[0m: Compute gradients of the loss function with respect to each weight and bias.                           \n"
      ]
     },
     "metadata": {},
     "output_type": "display_data"
    },
    {
     "data": {
      "text/html": [
       "<pre style=\"white-space:pre;overflow-x:auto;line-height:normal;font-family:Menlo,'DejaVu Sans Mono',consolas,'Courier New',monospace\">\n",
       "<span style=\"color: #808000; text-decoration-color: #808000; font-weight: bold\"> • </span><span style=\"font-weight: bold\">Process</span>:                                                                                                        \n",
       "</pre>\n"
      ],
      "text/plain": [
       "\n",
       "\u001b[1;33m • \u001b[0m\u001b[1mProcess\u001b[0m:                                                                                                        \n"
      ]
     },
     "metadata": {},
     "output_type": "display_data"
    },
    {
     "data": {
      "text/html": [
       "<pre style=\"white-space:pre;overflow-x:auto;line-height:normal;font-family:Menlo,'DejaVu Sans Mono',consolas,'Courier New',monospace\">\n",
       "<span style=\"color: #808000; text-decoration-color: #808000; font-weight: bold\"> 1 </span>Calculate the error at the output layer.                                                                        \n",
       "</pre>\n"
      ],
      "text/plain": [
       "\n",
       "\u001b[1;33m 1 \u001b[0mCalculate the error at the output layer.                                                                        \n"
      ]
     },
     "metadata": {},
     "output_type": "display_data"
    },
    {
     "data": {
      "text/html": [
       "<pre style=\"white-space:pre;overflow-x:auto;line-height:normal;font-family:Menlo,'DejaVu Sans Mono',consolas,'Courier New',monospace\">\n",
       "<span style=\"color: #808000; text-decoration-color: #808000; font-weight: bold\"> 2 </span>Use the <span style=\"font-weight: bold\">chain rule</span> of calculus to propagate the error backward through the network.                             \n",
       "</pre>\n"
      ],
      "text/plain": [
       "\n",
       "\u001b[1;33m 2 \u001b[0mUse the \u001b[1mchain rule\u001b[0m of calculus to propagate the error backward through the network.                             \n"
      ]
     },
     "metadata": {},
     "output_type": "display_data"
    },
    {
     "data": {
      "text/html": [
       "<pre style=\"white-space:pre;overflow-x:auto;line-height:normal;font-family:Menlo,'DejaVu Sans Mono',consolas,'Courier New',monospace\">\n",
       "<span style=\"color: #808000; text-decoration-color: #808000; font-weight: bold\"> 3 </span>Update weights and biases using the gradients.                                                                  \n",
       "</pre>\n"
      ],
      "text/plain": [
       "\n",
       "\u001b[1;33m 3 \u001b[0mUpdate weights and biases using the gradients.                                                                  \n"
      ]
     },
     "metadata": {},
     "output_type": "display_data"
    },
    {
     "data": {
      "text/html": [
       "<pre style=\"white-space:pre;overflow-x:auto;line-height:normal;font-family:Menlo,'DejaVu Sans Mono',consolas,'Courier New',monospace\">                                                  <span style=\"font-weight: bold\">c. Optimization</span>                                                  \n",
       "</pre>\n"
      ],
      "text/plain": [
       "                                                  \u001b[1mc. Optimization\u001b[0m                                                  \n"
      ]
     },
     "metadata": {},
     "output_type": "display_data"
    },
    {
     "data": {
      "text/html": [
       "<pre style=\"white-space:pre;overflow-x:auto;line-height:normal;font-family:Menlo,'DejaVu Sans Mono',consolas,'Courier New',monospace\">\n",
       "<span style=\"color: #808000; text-decoration-color: #808000; font-weight: bold\"> • </span><span style=\"font-weight: bold\">Gradient Descent</span>: Adjusts parameters in the direction that reduces the loss.                                    \n",
       "</pre>\n"
      ],
      "text/plain": [
       "\n",
       "\u001b[1;33m • \u001b[0m\u001b[1mGradient Descent\u001b[0m: Adjusts parameters in the direction that reduces the loss.                                    \n"
      ]
     },
     "metadata": {},
     "output_type": "display_data"
    },
    {
     "data": {
      "text/html": [
       "<pre style=\"white-space:pre;overflow-x:auto;line-height:normal;font-family:Menlo,'DejaVu Sans Mono',consolas,'Courier New',monospace\">\n",
       "<span style=\"color: #808000; text-decoration-color: #808000; font-weight: bold\"> • </span><span style=\"font-weight: bold\">Algorithms</span>:                                                                                                     \n",
       "</pre>\n"
      ],
      "text/plain": [
       "\n",
       "\u001b[1;33m • \u001b[0m\u001b[1mAlgorithms\u001b[0m:                                                                                                     \n"
      ]
     },
     "metadata": {},
     "output_type": "display_data"
    },
    {
     "data": {
      "text/html": [
       "<pre style=\"white-space:pre;overflow-x:auto;line-height:normal;font-family:Menlo,'DejaVu Sans Mono',consolas,'Courier New',monospace\">\n",
       "<span style=\"color: #808000; text-decoration-color: #808000; font-weight: bold\"> • </span><span style=\"font-weight: bold\">Stochastic Gradient Descent (SGD)</span>                                                                               \n",
       "</pre>\n"
      ],
      "text/plain": [
       "\n",
       "\u001b[1;33m • \u001b[0m\u001b[1mStochastic Gradient Descent (SGD)\u001b[0m                                                                               \n"
      ]
     },
     "metadata": {},
     "output_type": "display_data"
    },
    {
     "data": {
      "text/html": [
       "<pre style=\"white-space:pre;overflow-x:auto;line-height:normal;font-family:Menlo,'DejaVu Sans Mono',consolas,'Courier New',monospace\">\n",
       "<span style=\"color: #808000; text-decoration-color: #808000; font-weight: bold\"> • </span><span style=\"font-weight: bold\">Adam</span>: A more advanced optimizer that adapts learning rates.                                                     \n",
       "</pre>\n"
      ],
      "text/plain": [
       "\n",
       "\u001b[1;33m • \u001b[0m\u001b[1mAdam\u001b[0m: A more advanced optimizer that adapts learning rates.                                                     \n"
      ]
     },
     "metadata": {},
     "output_type": "display_data"
    },
    {
     "data": {
      "text/html": [
       "<pre style=\"white-space:pre;overflow-x:auto;line-height:normal;font-family:Menlo,'DejaVu Sans Mono',consolas,'Courier New',monospace\"><span style=\"color: #808000; text-decoration-color: #808000\">───────────────────────────────────────────────────────────────────────────────────────────────────────────────────</span>\n",
       "</pre>\n"
      ],
      "text/plain": [
       "\u001b[33m───────────────────────────────────────────────────────────────────────────────────────────────────────────────────\u001b[0m\n"
      ]
     },
     "metadata": {},
     "output_type": "display_data"
    },
    {
     "data": {
      "text/html": [
       "<pre style=\"white-space:pre;overflow-x:auto;line-height:normal;font-family:Menlo,'DejaVu Sans Mono',consolas,'Courier New',monospace\">\n",
       "                                                  <span style=\"font-weight: bold; text-decoration: underline\">5. Key Concepts</span>                                                  \n",
       "</pre>\n"
      ],
      "text/plain": [
       "\n",
       "                                                  \u001b[1;4m5. \u001b[0m\u001b[1;4mKey Concepts\u001b[0m                                                  \n"
      ]
     },
     "metadata": {},
     "output_type": "display_data"
    },
    {
     "data": {
      "text/html": [
       "<pre style=\"white-space:pre;overflow-x:auto;line-height:normal;font-family:Menlo,'DejaVu Sans Mono',consolas,'Courier New',monospace\">| Concept         | Description                                                                 |                  \n",
       "</pre>\n"
      ],
      "text/plain": [
       "| Concept         | Description                                                                 |                  \n"
      ]
     },
     "metadata": {},
     "output_type": "display_data"
    },
    {
     "data": {
      "text/html": [
       "<pre style=\"white-space:pre;overflow-x:auto;line-height:normal;font-family:Menlo,'DejaVu Sans Mono',consolas,'Courier New',monospace\">|----------------|-----------------------------------------------------------------------------|                   \n",
       "</pre>\n"
      ],
      "text/plain": [
       "|----------------|-----------------------------------------------------------------------------|                   \n"
      ]
     },
     "metadata": {},
     "output_type": "display_data"
    },
    {
     "data": {
      "text/html": [
       "<pre style=\"white-space:pre;overflow-x:auto;line-height:normal;font-family:Menlo,'DejaVu Sans Mono',consolas,'Courier New',monospace\">| <span style=\"font-weight: bold\">Weights</span>    | Parameters that scale the importance of each input.                         |                       \n",
       "</pre>\n"
      ],
      "text/plain": [
       "| \u001b[1mWeights\u001b[0m    | Parameters that scale the importance of each input.                         |                       \n"
      ]
     },
     "metadata": {},
     "output_type": "display_data"
    },
    {
     "data": {
      "text/html": [
       "<pre style=\"white-space:pre;overflow-x:auto;line-height:normal;font-family:Menlo,'DejaVu Sans Mono',consolas,'Courier New',monospace\">| <span style=\"font-weight: bold\">Bias</span>       | A constant added to the weighted sum to shift the output.                  |                        \n",
       "</pre>\n"
      ],
      "text/plain": [
       "| \u001b[1mBias\u001b[0m       | A constant added to the weighted sum to shift the output.                  |                        \n"
      ]
     },
     "metadata": {},
     "output_type": "display_data"
    },
    {
     "data": {
      "text/html": [
       "<pre style=\"white-space:pre;overflow-x:auto;line-height:normal;font-family:Menlo,'DejaVu Sans Mono',consolas,'Courier New',monospace\">| <span style=\"font-weight: bold\">Layers</span>     | Groups of neurons that process data in stages.                              |                       \n",
       "</pre>\n"
      ],
      "text/plain": [
       "| \u001b[1mLayers\u001b[0m     | Groups of neurons that process data in stages.                              |                       \n"
      ]
     },
     "metadata": {},
     "output_type": "display_data"
    },
    {
     "data": {
      "text/html": [
       "<pre style=\"white-space:pre;overflow-x:auto;line-height:normal;font-family:Menlo,'DejaVu Sans Mono',consolas,'Courier New',monospace\">| <span style=\"font-weight: bold\">Epoch</span>      | One complete pass of the training data through the network.                 |                       \n",
       "</pre>\n"
      ],
      "text/plain": [
       "| \u001b[1mEpoch\u001b[0m      | One complete pass of the training data through the network.                 |                       \n"
      ]
     },
     "metadata": {},
     "output_type": "display_data"
    },
    {
     "data": {
      "text/html": [
       "<pre style=\"white-space:pre;overflow-x:auto;line-height:normal;font-family:Menlo,'DejaVu Sans Mono',consolas,'Courier New',monospace\">| <span style=\"font-weight: bold\">Overfitting</span>| When the network performs well on training data but poorly on new data.     |                       \n",
       "</pre>\n"
      ],
      "text/plain": [
       "| \u001b[1mOverfitting\u001b[0m| When the network performs well on training data but poorly on new data.     |                       \n"
      ]
     },
     "metadata": {},
     "output_type": "display_data"
    },
    {
     "data": {
      "text/html": [
       "<pre style=\"white-space:pre;overflow-x:auto;line-height:normal;font-family:Menlo,'DejaVu Sans Mono',consolas,'Courier New',monospace\"><span style=\"color: #808000; text-decoration-color: #808000\">───────────────────────────────────────────────────────────────────────────────────────────────────────────────────</span>\n",
       "</pre>\n"
      ],
      "text/plain": [
       "\u001b[33m───────────────────────────────────────────────────────────────────────────────────────────────────────────────────\u001b[0m\n"
      ]
     },
     "metadata": {},
     "output_type": "display_data"
    },
    {
     "data": {
      "text/html": [
       "<pre style=\"white-space:pre;overflow-x:auto;line-height:normal;font-family:Menlo,'DejaVu Sans Mono',consolas,'Courier New',monospace\">\n",
       "                                                <span style=\"font-weight: bold; text-decoration: underline\">6. Example Use Case</span>                                                \n",
       "</pre>\n"
      ],
      "text/plain": [
       "\n",
       "                                                \u001b[1;4m6. \u001b[0m\u001b[1;4mExample Use Case\u001b[0m                                                \n"
      ]
     },
     "metadata": {},
     "output_type": "display_data"
    },
    {
     "data": {
      "text/html": [
       "<pre style=\"white-space:pre;overflow-x:auto;line-height:normal;font-family:Menlo,'DejaVu Sans Mono',consolas,'Courier New',monospace\">                                      <span style=\"font-weight: bold\">Task: Classify images of cats and dogs.</span>                                      \n",
       "</pre>\n"
      ],
      "text/plain": [
       "                                      \u001b[1mTask\u001b[0m\u001b[1m: Classify images of cats and dogs.\u001b[0m                                      \n"
      ]
     },
     "metadata": {},
     "output_type": "display_data"
    },
    {
     "data": {
      "text/html": [
       "<pre style=\"white-space:pre;overflow-x:auto;line-height:normal;font-family:Menlo,'DejaVu Sans Mono',consolas,'Courier New',monospace\">\n",
       "<span style=\"color: #808000; text-decoration-color: #808000; font-weight: bold\"> • </span><span style=\"font-weight: bold\">Input Layer</span>: 784 neurons (for 28x28 pixel images).                                                              \n",
       "</pre>\n"
      ],
      "text/plain": [
       "\n",
       "\u001b[1;33m • \u001b[0m\u001b[1mInput Layer\u001b[0m: 784 neurons (for 28x28 pixel images).                                                              \n"
      ]
     },
     "metadata": {},
     "output_type": "display_data"
    },
    {
     "data": {
      "text/html": [
       "<pre style=\"white-space:pre;overflow-x:auto;line-height:normal;font-family:Menlo,'DejaVu Sans Mono',consolas,'Courier New',monospace\">\n",
       "<span style=\"color: #808000; text-decoration-color: #808000; font-weight: bold\"> • </span><span style=\"font-weight: bold\">Hidden Layers</span>: Two layers with ReLU activation.                                                                 \n",
       "</pre>\n"
      ],
      "text/plain": [
       "\n",
       "\u001b[1;33m • \u001b[0m\u001b[1mHidden Layers\u001b[0m: Two layers with ReLU activation.                                                                 \n"
      ]
     },
     "metadata": {},
     "output_type": "display_data"
    },
    {
     "data": {
      "text/html": [
       "<pre style=\"white-space:pre;overflow-x:auto;line-height:normal;font-family:Menlo,'DejaVu Sans Mono',consolas,'Courier New',monospace\">\n",
       "<span style=\"color: #808000; text-decoration-color: #808000; font-weight: bold\"> • </span><span style=\"font-weight: bold\">Output Layer</span>: 2 neurons (one for \"cat\", one for \"dog\").                                                         \n",
       "</pre>\n"
      ],
      "text/plain": [
       "\n",
       "\u001b[1;33m • \u001b[0m\u001b[1mOutput Layer\u001b[0m: 2 neurons (one for \"cat\", one for \"dog\").                                                         \n"
      ]
     },
     "metadata": {},
     "output_type": "display_data"
    },
    {
     "data": {
      "text/html": [
       "<pre style=\"white-space:pre;overflow-x:auto;line-height:normal;font-family:Menlo,'DejaVu Sans Mono',consolas,'Courier New',monospace\">\n",
       "<span style=\"color: #808000; text-decoration-color: #808000; font-weight: bold\"> • </span><span style=\"font-weight: bold\">Training</span>: The network learns to adjust weights so that the output neuron with the highest activation corresponds\n",
       "<span style=\"color: #808000; text-decoration-color: #808000; font-weight: bold\">   </span>to the correct class.                                                                                           \n",
       "</pre>\n"
      ],
      "text/plain": [
       "\n",
       "\u001b[1;33m • \u001b[0m\u001b[1mTraining\u001b[0m: The network learns to adjust weights so that the output neuron with the highest activation corresponds\n",
       "\u001b[1;33m   \u001b[0mto the correct class.                                                                                           \n"
      ]
     },
     "metadata": {},
     "output_type": "display_data"
    },
    {
     "data": {
      "text/html": [
       "<pre style=\"white-space:pre;overflow-x:auto;line-height:normal;font-family:Menlo,'DejaVu Sans Mono',consolas,'Courier New',monospace\"><span style=\"color: #808000; text-decoration-color: #808000\">───────────────────────────────────────────────────────────────────────────────────────────────────────────────────</span>\n",
       "</pre>\n"
      ],
      "text/plain": [
       "\u001b[33m───────────────────────────────────────────────────────────────────────────────────────────────────────────────────\u001b[0m\n"
      ]
     },
     "metadata": {},
     "output_type": "display_data"
    },
    {
     "data": {
      "text/html": [
       "<pre style=\"white-space:pre;overflow-x:auto;line-height:normal;font-family:Menlo,'DejaVu Sans Mono',consolas,'Courier New',monospace\">\n",
       "                                        <span style=\"font-weight: bold; text-decoration: underline\">7. Common Types of Neural Networks</span>                                         \n",
       "</pre>\n"
      ],
      "text/plain": [
       "\n",
       "                                        \u001b[1;4m7. \u001b[0m\u001b[1;4mCommon Types of Neural Networks\u001b[0m                                         \n"
      ]
     },
     "metadata": {},
     "output_type": "display_data"
    },
    {
     "data": {
      "text/html": [
       "<pre style=\"white-space:pre;overflow-x:auto;line-height:normal;font-family:Menlo,'DejaVu Sans Mono',consolas,'Courier New',monospace\">| Type              | Use Case                             |                                                       \n",
       "</pre>\n"
      ],
      "text/plain": [
       "| Type              | Use Case                             |                                                       \n"
      ]
     },
     "metadata": {},
     "output_type": "display_data"
    },
    {
     "data": {
      "text/html": [
       "<pre style=\"white-space:pre;overflow-x:auto;line-height:normal;font-family:Menlo,'DejaVu Sans Mono',consolas,'Courier New',monospace\">|------------------|--------------------------------------|                                                        \n",
       "</pre>\n"
      ],
      "text/plain": [
       "|------------------|--------------------------------------|                                                        \n"
      ]
     },
     "metadata": {},
     "output_type": "display_data"
    },
    {
     "data": {
      "text/html": [
       "<pre style=\"white-space:pre;overflow-x:auto;line-height:normal;font-family:Menlo,'DejaVu Sans Mono',consolas,'Courier New',monospace\">| <span style=\"font-weight: bold\">Feedforward</span>  | Basic structure for regression/classification. |                                                  \n",
       "</pre>\n"
      ],
      "text/plain": [
       "| \u001b[1mFeedforward\u001b[0m  | Basic structure for regression/classification. |                                                  \n"
      ]
     },
     "metadata": {},
     "output_type": "display_data"
    },
    {
     "data": {
      "text/html": [
       "<pre style=\"white-space:pre;overflow-x:auto;line-height:normal;font-family:Menlo,'DejaVu Sans Mono',consolas,'Courier New',monospace\">| <span style=\"font-weight: bold\">Convolutional</span>| Image recognition (e.g., CNNs).      |                                                            \n",
       "</pre>\n"
      ],
      "text/plain": [
       "| \u001b[1mConvolutional\u001b[0m| Image recognition (e.g., CNNs).      |                                                            \n"
      ]
     },
     "metadata": {},
     "output_type": "display_data"
    },
    {
     "data": {
      "text/html": [
       "<pre style=\"white-space:pre;overflow-x:auto;line-height:normal;font-family:Menlo,'DejaVu Sans Mono',consolas,'Courier New',monospace\">| <span style=\"font-weight: bold\">Recurrent</span>    | Sequence data (e.g., RNNs, LSTMs).   |                                                            \n",
       "</pre>\n"
      ],
      "text/plain": [
       "| \u001b[1mRecurrent\u001b[0m    | Sequence data (e.g., RNNs, LSTMs).   |                                                            \n"
      ]
     },
     "metadata": {},
     "output_type": "display_data"
    },
    {
     "data": {
      "text/html": [
       "<pre style=\"white-space:pre;overflow-x:auto;line-height:normal;font-family:Menlo,'DejaVu Sans Mono',consolas,'Courier New',monospace\">| <span style=\"font-weight: bold\">Transformers</span> | Natural language processing (e.g., NLP). |                                                        \n",
       "</pre>\n"
      ],
      "text/plain": [
       "| \u001b[1mTransformers\u001b[0m | Natural language processing (e.g., NLP). |                                                        \n"
      ]
     },
     "metadata": {},
     "output_type": "display_data"
    },
    {
     "data": {
      "text/html": [
       "<pre style=\"white-space:pre;overflow-x:auto;line-height:normal;font-family:Menlo,'DejaVu Sans Mono',consolas,'Courier New',monospace\"><span style=\"color: #808000; text-decoration-color: #808000\">───────────────────────────────────────────────────────────────────────────────────────────────────────────────────</span>\n",
       "</pre>\n"
      ],
      "text/plain": [
       "\u001b[33m───────────────────────────────────────────────────────────────────────────────────────────────────────────────────\u001b[0m\n"
      ]
     },
     "metadata": {},
     "output_type": "display_data"
    },
    {
     "data": {
      "text/html": [
       "<pre style=\"white-space:pre;overflow-x:auto;line-height:normal;font-family:Menlo,'DejaVu Sans Mono',consolas,'Courier New',monospace\">\n",
       "                                                      <span style=\"font-weight: bold; text-decoration: underline\">Summary</span>                                                      \n",
       "</pre>\n"
      ],
      "text/plain": [
       "\n",
       "                                                      \u001b[1;4mSummary\u001b[0m                                                      \n"
      ]
     },
     "metadata": {},
     "output_type": "display_data"
    },
    {
     "data": {
      "text/html": [
       "<pre style=\"white-space:pre;overflow-x:auto;line-height:normal;font-family:Menlo,'DejaVu Sans Mono',consolas,'Courier New',monospace\">Neural networks learn by:                                                                                          \n",
       "</pre>\n"
      ],
      "text/plain": [
       "Neural networks learn by:                                                                                          \n"
      ]
     },
     "metadata": {},
     "output_type": "display_data"
    },
    {
     "data": {
      "text/html": [
       "<pre style=\"white-space:pre;overflow-x:auto;line-height:normal;font-family:Menlo,'DejaVu Sans Mono',consolas,'Courier New',monospace\">\n",
       "<span style=\"color: #808000; text-decoration-color: #808000; font-weight: bold\"> 1 </span>Applying transformations to input data through layers of neurons.                                               \n",
       "</pre>\n"
      ],
      "text/plain": [
       "\n",
       "\u001b[1;33m 1 \u001b[0mApplying transformations to input data through layers of neurons.                                               \n"
      ]
     },
     "metadata": {},
     "output_type": "display_data"
    },
    {
     "data": {
      "text/html": [
       "<pre style=\"white-space:pre;overflow-x:auto;line-height:normal;font-family:Menlo,'DejaVu Sans Mono',consolas,'Courier New',monospace\">\n",
       "<span style=\"color: #808000; text-decoration-color: #808000; font-weight: bold\"> 2 </span>Using activation functions to introduce non-linearity.                                                          \n",
       "</pre>\n"
      ],
      "text/plain": [
       "\n",
       "\u001b[1;33m 2 \u001b[0mUsing activation functions to introduce non-linearity.                                                          \n"
      ]
     },
     "metadata": {},
     "output_type": "display_data"
    },
    {
     "data": {
      "text/html": [
       "<pre style=\"white-space:pre;overflow-x:auto;line-height:normal;font-family:Menlo,'DejaVu Sans Mono',consolas,'Courier New',monospace\">\n",
       "<span style=\"color: #808000; text-decoration-color: #808000; font-weight: bold\"> 3 </span>Minimizing a loss function through backpropagation and optimization.                                            \n",
       "</pre>\n"
      ],
      "text/plain": [
       "\n",
       "\u001b[1;33m 3 \u001b[0mMinimizing a loss function through backpropagation and optimization.                                            \n"
      ]
     },
     "metadata": {},
     "output_type": "display_data"
    },
    {
     "data": {
      "text/html": [
       "<pre style=\"white-space:pre;overflow-x:auto;line-height:normal;font-family:Menlo,'DejaVu Sans Mono',consolas,'Courier New',monospace\">They are powerful tools for tasks like image recognition, natural language processing, and predictive analytics.   \n",
       "</pre>\n"
      ],
      "text/plain": [
       "They are powerful tools for tasks like image recognition, natural language processing, and predictive analytics.   \n"
      ]
     },
     "metadata": {},
     "output_type": "display_data"
    }
   ],
   "source": [
    "# Example usage \n",
    "\n",
    "system_prompt = {\n",
    "    \"role\": \"system\",\n",
    "    \"content\": (\n",
    "        \"You are a helpful assistant. \"\n",
    "        \"Return all your responses using valid **Markdown syntax**, including:\\n\"\n",
    "        \"- Headers (`#`, `##`)\\n\"\n",
    "        \"- Bullet points\\n\"\n",
    "        \"- Code blocks (triple backticks)\\n\"\n",
    "        \"- Bold / italic text\\n\"\n",
    "        \"- Quotes and tables if needed\\n\\n\"\n",
    "        \"Also, try to use formatting that works well with color rendering in terminals using `rich`.\"\n",
    "    )\n",
    "}\n",
    "\n",
    "\n",
    "\n",
    "from rich.console import Console\n",
    "client = LLMClient()\n",
    "response = client.create_completion(\n",
    "    messages=[\n",
    "    system_prompt,\n",
    "    {\"role\": \"user\", \"content\": \"Explain how a neural network works.\"}\n",
    "    ],\n",
    "    tools=[],\n",
    "    stream=True\n",
    ")\n",
    "result = client.handle_streaming_response(response,Console() )\n",
    "# result = client.process_response(response,Console())"
   ]
  },
  {
   "cell_type": "code",
   "execution_count": null,
   "id": "ff886885-9a25-430f-9dd6-1a80eea21cd4",
   "metadata": {},
   "outputs": [],
   "source": []
  }
 ],
 "metadata": {
  "kernelspec": {
   "display_name": "Python 3 (ipykernel)",
   "language": "python",
   "name": "python3"
  },
  "language_info": {
   "codemirror_mode": {
    "name": "ipython",
    "version": 3
   },
   "file_extension": ".py",
   "mimetype": "text/x-python",
   "name": "python",
   "nbconvert_exporter": "python",
   "pygments_lexer": "ipython3",
   "version": "3.12.9"
  }
 },
 "nbformat": 4,
 "nbformat_minor": 5
}

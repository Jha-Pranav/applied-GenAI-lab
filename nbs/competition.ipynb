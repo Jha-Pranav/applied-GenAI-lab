{
 "cells": [
  {
   "cell_type": "code",
   "execution_count": 25,
   "id": "23f3a593-5bfb-4d87-84b6-b8ae051d92ab",
   "metadata": {},
   "outputs": [],
   "source": [
    "from openai import OpenAI\n",
    "from IPython.display import Markdown, display"
   ]
  },
  {
   "cell_type": "code",
   "execution_count": 26,
   "id": "12352be6-4f6a-499f-a8cc-5cface5dccd0",
   "metadata": {},
   "outputs": [],
   "source": [
    "ollama = OpenAI(base_url='http://localhost:11434/v1', api_key='ollama')\n",
    "model_name = \"gemma3:12b\"\n",
    "\n",
    "messages = [\n",
    "  {\n",
    "    \"role\": \"user\",\n",
    "    \"content\": \"Please come up with a challenging, nuanced question that I can ask a number of LLMs to evaluate their intelligence. Answer only with the question, no explanation.\"\n",
    "  }\n",
    "]\n"
   ]
  },
  {
   "cell_type": "code",
   "execution_count": 27,
   "id": "0284e4cd-8ed9-42a4-911a-943a10773fbf",
   "metadata": {},
   "outputs": [
    {
     "data": {
      "text/markdown": [
       "If a society prioritizes maximizing collective well-being, but individual actions within that society frequently and unintentionally undermine that goal due to inherent cognitive biases and limitations, what ethical frameworks and systemic interventions best reconcile the pursuit of collective flourishing with the realistic constraints of human nature, and how would you justify your chosen approach against potential accusations of paternalism or infringement on individual autonomy?"
      ],
      "text/plain": [
       "<IPython.core.display.Markdown object>"
      ]
     },
     "metadata": {},
     "output_type": "display_data"
    }
   ],
   "source": [
    "response = ollama.chat.completions.create(model=model_name, messages=messages)\n",
    "question = response.choices[0].message.content\n",
    "display(Markdown(question))"
   ]
  },
  {
   "cell_type": "code",
   "execution_count": 28,
   "id": "35749d20-9aa4-4096-bd44-ede4b48e7867",
   "metadata": {},
   "outputs": [
    {
     "name": "stdout",
     "output_type": "stream",
     "text": [
      "NAME                       ID              SIZE      MODIFIED     \n",
      "gemma3:4b                  a2af6cc3eb7f    3.3 GB    6 weeks ago     \n",
      "nomic-embed-text:latest    0a109f422b47    274 MB    5 months ago    \n",
      "gemma3:12b                 6fd036cefda5    8.1 GB    5 months ago    \n",
      "deepseek-llm:latest        9aab369a853b    4.0 GB    5 months ago    \n",
      "deepseek-coder-v2:16b      63fb193b3a9b    8.9 GB    5 months ago    \n",
      "deepseek-r1:8b             28f8fd6cdc67    4.9 GB    6 months ago    \n",
      "llama3.1:latest            42182419e950    4.7 GB    9 months ago    \n",
      "llama3:8b                  365c0bd3c000    4.7 GB    9 months ago    \n",
      "llama3.2:1b                baf6a787fdff    1.3 GB    9 months ago    \n"
     ]
    }
   ],
   "source": [
    "!ollama ls"
   ]
  },
  {
   "cell_type": "code",
   "execution_count": 29,
   "id": "7b2aa0a2-7af6-4928-8fce-96666a0f84bf",
   "metadata": {},
   "outputs": [],
   "source": [
    "messages = [{\n",
    "  \"role\": \"system\",\n",
    "  \"content\": \"Respond carefully and thoughtfully to the following question. Aim for clarity, depth, and intellectual balance, but keep your answer concise. Explore multiple perspectives where relevant and consider both philosophical and practical implications. Avoid overly technical jargon; favor accessible and succinct reasoning.\\n\\nQuestion:\\nIf the universe is fundamentally deterministic, and every event is a necessary consequence of prior states, what would constitute a meaningful \\\"choice\\\" for a conscious entity within that universe, and how would its subjective experience of that choice differ from a purely mechanistic understanding of it?\"\n",
    "}\n",
    ",\n",
    "{\"role\": \"user\", \"content\": question}]\n"
   ]
  },
  {
   "cell_type": "code",
   "execution_count": 30,
   "id": "e73e3433-f8cd-470b-b6e7-882e76fc6780",
   "metadata": {},
   "outputs": [
    {
     "data": {
      "application/vnd.jupyter.widget-view+json": {
       "model_id": "e412e8236f744559908f7ff21a36f848",
       "version_major": 2,
       "version_minor": 0
      },
      "text/plain": [
       "  0%|          | 0/6 [00:00<?, ?it/s]"
      ]
     },
     "metadata": {},
     "output_type": "display_data"
    }
   ],
   "source": [
    "from tqdm.auto import tqdm\n",
    "responses = {}\n",
    "model_list = [\"gemma3:4b\",\"gemma3:12b\",\"deepseek-llm:latest\",\"llama3.1:latest\",\"llama3:8b\",\"llama3.2:1b\"]\n",
    "for model_name in tqdm(model_list):\n",
    "    response = ollama.chat.completions.create(model=model_name, messages=messages)\n",
    "    answer = response.choices[0].message.content\n",
    "    responses[model_name] = answer"
   ]
  },
  {
   "cell_type": "code",
   "execution_count": 31,
   "id": "1a0c501f-c2d3-4018-b24d-01b4db380124",
   "metadata": {},
   "outputs": [],
   "source": [
    "\n",
    "import re\n",
    "import json\n",
    "\n",
    "def extract_score(response_text):\n",
    "    try:\n",
    "        # Try to find JSON object in the response\n",
    "        match = re.search(r'\\{.*?\"score\"\\s*:\\s*[\\d.]+\\s*\\}', response_text)\n",
    "        if match:\n",
    "            return json.loads(match.group(0))[\"score\"]\n",
    "    except Exception as e:\n",
    "        print(\"Failed to extract score:\", e)\n",
    "    return None  # or return -1 for failure\n"
   ]
  },
  {
   "cell_type": "code",
   "execution_count": 32,
   "id": "3050a011-a8e6-4ee6-915e-7d9ccc71dad5",
   "metadata": {},
   "outputs": [
    {
     "data": {
      "application/vnd.jupyter.widget-view+json": {
       "model_id": "d4b6a1a3802c423394d2a995c25f1efc",
       "version_major": 2,
       "version_minor": 0
      },
      "text/plain": [
       "  0%|          | 0/6 [00:00<?, ?it/s]"
      ]
     },
     "metadata": {},
     "output_type": "display_data"
    }
   ],
   "source": [
    "scores = {}\n",
    "for model_name, answer in tqdm(responses.items()):\n",
    "    messages = [\n",
    "        {\n",
    "            \"role\": \"system\",\n",
    "            \"content\": (\n",
    "                \"You are an automatic evaluator of philosophical answers. Your job is to rate a given answer from 0 to 10 based on clarity, depth, conciseness, and relevance to the question.\\n\\n\"\n",
    "                \"Respond with only a single line of JSON in this format:\\n\"\n",
    "                \"{\\\"score\\\": float}\\n\\n\"\n",
    "                \"Do NOT include any reasoning, explanation, thoughts, comments, or extra text of any kind. Do NOT wrap your response in <think> or markdown. Just output the raw JSON. If you do anything else, it will be considered a failure.\"\n",
    "            )\n",
    "        },\n",
    "        {\n",
    "            \"role\": \"user\",\n",
    "            \"content\": f\"Question: {question}\\n\\nAnswer: {answer}\"\n",
    "        }\n",
    "    ]\n",
    "\n",
    "    response = ollama.chat.completions.create(model=\"deepseek-r1:8b\", messages=messages)\n",
    "    raw_output = response.choices[0].message.content\n",
    "    score = extract_score(raw_output)\n",
    "    scores[model_name] = score"
   ]
  },
  {
   "cell_type": "code",
   "execution_count": 33,
   "id": "ee954779-60ec-497e-92cc-aaee87175c80",
   "metadata": {},
   "outputs": [
    {
     "data": {
      "image/png": "[encoded data removed]",
      "text/plain": [
       "<Figure size 800x400 with 1 Axes>"
      ]
     },
     "metadata": {},
     "output_type": "display_data"
    }
   ],
   "source": [
    "import seaborn as sns\n",
    "import matplotlib.pyplot as plt\n",
    "plt.figure(figsize=(8, 4))\n",
    "ax = sns.barplot(scores, orient='h', fill=False)\n",
    "\n",
    "# Annotate each bar with the score\n",
    "for i, (name, score) in enumerate(scores.items()):\n",
    "    ax.text(score + 0.1, i, f\"{score:.1f}\", va='center')"
   ]
  },
  {
   "cell_type": "code",
   "execution_count": null,
   "id": "c561ad40-6be4-454d-8c30-6753a69a3b48",
   "metadata": {},
   "outputs": [],
   "source": []
  }
 ],
 "metadata": {
  "kernelspec": {
   "display_name": "Python 3 (ipykernel)",
   "language": "python",
   "name": "python3"
  },
  "language_info": {
   "codemirror_mode": {
    "name": "ipython",
    "version": 3
   },
   "file_extension": ".py",
   "mimetype": "text/x-python",
   "name": "python",
   "nbconvert_exporter": "python",
   "pygments_lexer": "ipython3",
   "version": "3.11.11"
  }
 },
 "nbformat": 4,
 "nbformat_minor": 5
}

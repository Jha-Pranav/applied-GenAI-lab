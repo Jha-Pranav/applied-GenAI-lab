{
 "cells": [
  {
   "cell_type": "code",
   "execution_count": 1,
   "id": "abbab50c-ff26-4af5-b9be-b23012e7e71e",
   "metadata": {},
   "outputs": [],
   "source": [
    "# | default_exp tools.planner"
   ]
  },
  {
   "cell_type": "code",
   "execution_count": 3,
   "id": "4aa1b192-b306-4a08-bf94-a5da5742adbb",
   "metadata": {},
   "outputs": [],
   "source": [
    "# | export\n",
    "from typing import Dict, Any\n",
    "from agentic.tools.base import BaseTool, ToolMetadata, ToolCategory\n",
    "\n",
    "class PlannerTool(BaseTool):\n",
    "    \"\"\"Tool wrapper for DynamicTaskExecutor\"\"\"\n",
    "    \n",
    "    def __init__(self):\n",
    "        super().__init__(ToolMetadata(\n",
    "            name=\"planner\",\n",
    "            description=\"Intelligent task planning and execution for complex projects\",\n",
    "            category=ToolCategory.INTELLIGENCE\n",
    "        ))\n",
    "    \n",
    "    def execute(self, request: str) -> Dict[str, Any]:\n",
    "        \"\"\"Execute planning and task execution using DynamicTaskExecutor\"\"\"\n",
    "        try:\n",
    "            import asyncio\n",
    "            from ..agent.planner.executor import DynamicTaskExecutor\n",
    "            from ..core.agent import Agent, AgentConfig\n",
    "            from rich.console import Console\n",
    "            \n",
    "            # Create agent for executor\n",
    "            agent_config = AgentConfig(\n",
    "                name=\"PlannerAgent\",\n",
    "                instructions=\"You are a planning agent that breaks down complex tasks.\"\n",
    "            )\n",
    "            agent = Agent(config=agent_config)\n",
    "            console = Console()\n",
    "            \n",
    "            # Execute planning\n",
    "            executor = DynamicTaskExecutor(agent, console)\n",
    "            result = asyncio.run(executor.execute_project(request))\n",
    "            \n",
    "            return {\"success\": True, \"result\": result}\n",
    "            \n",
    "        except Exception as e:\n",
    "            return {\"success\": False, \"error\": str(e)}\n",
    "    \n",
    "    def get_parameters_schema(self) -> Dict[str, Any]:\n",
    "        return {\n",
    "            \"type\": \"object\",\n",
    "            \"properties\": {\n",
    "                \"request\": {\n",
    "                    \"type\": \"string\",\n",
    "                    \"description\": \"The complex project or task to plan and execute\"\n",
    "                }\n",
    "            },\n",
    "            \"required\": [\"request\"]\n",
    "        }\n"
   ]
  },
  {
   "cell_type": "code",
   "execution_count": null,
   "id": "4cc82673-9be5-4cf3-bb90-7a90403ff3de",
   "metadata": {},
   "outputs": [],
   "source": []
  }
 ],
 "metadata": {
  "kernelspec": {
   "display_name": "Python 3 (ipykernel)",
   "language": "python",
   "name": "python3"
  },
  "language_info": {
   "codemirror_mode": {
    "name": "ipython",
    "version": 3
   },
   "file_extension": ".py",
   "mimetype": "text/x-python",
   "name": "python",
   "nbconvert_exporter": "python",
   "pygments_lexer": "ipython3",
   "version": "3.12.9"
  }
 },
 "nbformat": 4,
 "nbformat_minor": 5
}

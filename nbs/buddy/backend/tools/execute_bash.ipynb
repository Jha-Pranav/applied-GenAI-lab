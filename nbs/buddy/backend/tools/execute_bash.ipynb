{
 "cells": [
  {
   "cell_type": "code",
   "execution_count": null,
   "id": "36b5e7c7-88df-4856-aa3e-e4b1f2952308",
   "metadata": {},
   "outputs": [],
   "source": [
    "# | default_exp tools.execute_bash"
   ]
  },
  {
   "cell_type": "code",
   "execution_count": null,
   "id": "b547aaa4-11be-4ffa-bd4b-ccfd399f23fa",
   "metadata": {},
   "outputs": [],
   "source": [
    "# | export\n",
    "from agentic.tools.base import Tool\n",
    "from agentic.schemas import ExecuteBashParams\n",
    "import subprocess\n",
    "from typing import Dict, Any\n",
    "\n",
    "class ExecuteBashTool(Tool):\n",
    "    def get_tool_schema(self) -> Dict[str, Any]:\n",
    "        \"\"\"Return the OpenAI-compatible schema for execute_bash.\"\"\"\n",
    "        return {\n",
    "                \"type\": \"function\",\n",
    "                \"function\": {\n",
    "                    \"name\": \"execute_bash\",\n",
    "                    \"description\": \"bash execution with working directory control, environment variables, timeout management, and detailed output formatting.\",\n",
    "                    \"parameters\": {\n",
    "                        \"type\": \"object\",\n",
    "                        \"properties\": {\n",
    "                            \"command\": {\"type\": \"string\", \"description\": \"Bash command to execute\"},\n",
    "                            \"working_dir\": {\"type\": \"string\", \"description\": \"Working directory for command execution\"},\n",
    "                            \"timeout\": {\"type\": \"integer\", \"description\": \"Timeout in seconds (default: 30)\"},\n",
    "                            \"env_vars\": {\"type\": \"object\", \"description\": \"Additional environment variables\"},\n",
    "                            \"capture_output\": {\"type\": \"boolean\", \"description\": \"Capture stdout/stderr (default: true)\"},\n",
    "                            \"shell\": {\"type\": \"string\", \"description\": \"Shell to use (default: /bin/bash)\"},\n",
    "                            \"summary\": {\"type\": \"string\", \"description\": \"Brief description of what the command does\"}\n",
    "                        },\n",
    "                        \"required\": [\"command\"]\n",
    "                    }\n",
    "                }\n",
    "            }\n",
    "\n",
    "    def execute(self, **kwargs) -> Dict[str, Any]:\n",
    "        \"\"\"Execute a bash command with specified parameters.\"\"\"\n",
    "        try:\n",
    "            params = ExecuteBashParams(**kwargs)\n",
    "            shell = params.shell or \"/bin/bash\"\n",
    "            \n",
    "            try:\n",
    "                result = subprocess.run(\n",
    "                    params.command,\n",
    "                    shell=True,\n",
    "                    capture_output=params.capture_output,\n",
    "                    text=True,\n",
    "                    timeout=params.timeout,\n",
    "                    cwd=params.working_dir,\n",
    "                    env=params.env_vars\n",
    "                )\n",
    "                \n",
    "                return {\n",
    "                    \"success\": True,\n",
    "                    \"stdout\": result.stdout,\n",
    "                    \"stderr\": result.stderr,\n",
    "                    \"exit_status\": result.returncode,\n",
    "                    \"summary\": params.summary or f\"Executed command: {params.command}\"\n",
    "                }\n",
    "                \n",
    "            except subprocess.TimeoutExpired:\n",
    "                return {\"error\": f\"Command timed out after {params.timeout} seconds\"}\n",
    "            except subprocess.SubprocessError as e:\n",
    "                return {\"error\": f\"Command execution failed: {str(e)}\"}\n",
    "                \n",
    "        except Exception as e:\n",
    "            return {\"error\": f\"Invalid parameters: {str(e)}\"}"
   ]
  }
 ],
 "metadata": {
  "kernelspec": {
   "display_name": "Python 3 (ipykernel)",
   "language": "python",
   "name": "python3"
  },
  "language_info": {
   "codemirror_mode": {
    "name": "ipython",
    "version": 3
   },
   "file_extension": ".py",
   "mimetype": "text/x-python",
   "name": "python",
   "nbconvert_exporter": "python",
   "pygments_lexer": "ipython3",
   "version": "3.12.9"
  }
 },
 "nbformat": 4,
 "nbformat_minor": 5
}

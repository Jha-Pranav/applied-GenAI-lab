{
 "cells": [
  {
   "cell_type": "code",
   "execution_count": 8,
   "id": "a670e1d7-d00c-4140-a3aa-18c2282e8c48",
   "metadata": {},
   "outputs": [],
   "source": [
    "# | default_exp tools.base"
   ]
  },
  {
   "cell_type": "code",
   "execution_count": 9,
   "id": "854f64eb-02a0-4071-b617-34dfa403ca73",
   "metadata": {},
   "outputs": [],
   "source": [
    "# | export\n",
    "from abc import ABC, abstractmethod\n",
    "from typing import Dict, Any, List"
   ]
  },
  {
   "cell_type": "code",
   "execution_count": 10,
   "id": "b96c514f-5c72-4277-a1db-6c00c0cdbe40",
   "metadata": {},
   "outputs": [],
   "source": [
    "# | export\n",
    "class Tool(ABC):\n",
    "    \"\"\"Abstract base class for all tools.\"\"\"\n",
    "    \n",
    "    @abstractmethod\n",
    "    def get_tool_schema(self) -> Dict[str, Any]:\n",
    "        \"\"\"Return the OpenAI-compatible tool schema.\"\"\"\n",
    "        pass\n",
    "    \n",
    "    @abstractmethod\n",
    "    def execute(self, **kwargs) -> Dict[str, Any]:\n",
    "        \"\"\"Execute the tool with the provided arguments.\"\"\"\n",
    "        pass\n",
    "\n",
    "    @property\n",
    "    def name(self) -> str:\n",
    "        \"\"\"Return the name of the tool.\"\"\"\n",
    "        return self.__class__.__name__.lower().replace(\"tool\", \"\")"
   ]
  },
  {
   "cell_type": "code",
   "execution_count": null,
   "id": "fa33c4d1-5552-4a44-9f7f-0db94a371185",
   "metadata": {},
   "outputs": [],
   "source": []
  }
 ],
 "metadata": {
  "kernelspec": {
   "display_name": "Python 3 (ipykernel)",
   "language": "python",
   "name": "python3"
  },
  "language_info": {
   "codemirror_mode": {
    "name": "ipython",
    "version": 3
   },
   "file_extension": ".py",
   "mimetype": "text/x-python",
   "name": "python",
   "nbconvert_exporter": "python",
   "pygments_lexer": "ipython3",
   "version": "3.12.9"
  }
 },
 "nbformat": 4,
 "nbformat_minor": 5
}

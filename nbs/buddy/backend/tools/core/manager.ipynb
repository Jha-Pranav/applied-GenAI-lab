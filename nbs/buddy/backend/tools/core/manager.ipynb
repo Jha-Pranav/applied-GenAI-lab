{
 "cells": [
  {
   "cell_type": "code",
   "execution_count": 2,
   "id": "e937a638-9662-4f73-8dfb-d8fe32714dc4",
   "metadata": {},
   "outputs": [],
   "source": [
    "# | default_exp tools.manager"
   ]
  },
  {
   "cell_type": "code",
   "execution_count": 1,
   "id": "70714da8-d1e6-4965-877e-49e0e8772843",
   "metadata": {},
   "outputs": [
    {
     "name": "stdout",
     "output_type": "stream",
     "text": [
      "Warning: Failed to load config from /home/pranav-pc/projects/applied-GenAI-lab/agentic/configs/config.toml: SettingsConfig.__init__() got an unexpected keyword argument 'temperature'\n"
     ]
    }
   ],
   "source": [
    "# | export\n",
    "from typing import Dict, List, Any, Optional\n",
    "import importlib\n",
    "import inspect\n",
    "\n",
    "from agentic.tools.base import BaseTool\n",
    "from agentic.tools.registry import ToolRegistry\n",
    "from agentic.tools.fs_read import FsReadTool\n",
    "from agentic.tools.fs_write import FsWriteTool\n",
    "from agentic.tools.execute_bash import ExecuteBashTool\n",
    "from agentic.tools.code_interpreter import CodeInterpreterTool\n",
    "from agentic.tools.code_quality import CodeQualityTool\n",
    "from agentic.tools.introspect import IntrospectTool\n",
    "from agentic.tools.debate_agent import DebateAgentTool\n",
    "from agentic.tools.memory import MemoryManagerTool\n",
    "from agentic.tools.task_planner import TaskPlannerTool\n",
    "from agentic.tools.task_executor import TaskExecutorTool\n",
    "from agentic.tools.task_monitor import TaskMonitorTool\n",
    "from agentic.tools.doc_generator import DocGeneratorTool"
   ]
  },
  {
   "cell_type": "code",
   "execution_count": 2,
   "id": "5572afc2-95b0-436d-b22e-67d9583dd0bd",
   "metadata": {},
   "outputs": [],
   "source": [
    "# | export\n",
    "class ToolManager:\n",
    "    \"\"\"Enhanced tool manager\"\"\"\n",
    "    \n",
    "    def __init__(self):\n",
    "        self.registry = ToolRegistry()\n",
    "        self._register_default_tools()\n",
    "    \n",
    "    def _register_default_tools(self):\n",
    "        \"\"\"Register all default tools\"\"\"\n",
    "        default_tools = [\n",
    "            # Filesystem tools\n",
    "            FsReadTool(),\n",
    "            FsWriteTool(),\n",
    "            \n",
    "            # System tools\n",
    "            ExecuteBashTool(),\n",
    "            \n",
    "            # # Analysis tools\n",
    "            CodeInterpreterTool(),\n",
    "            # CodeQualityTool(),\n",
    "            \n",
    "            # # Intelligence tools\n",
    "            # IntrospectTool(),\n",
    "            # DebateAgentTool(),\n",
    "            # MemoryManagerTool(),\n",
    "            \n",
    "            # # Planning tools\n",
    "            # TaskPlannerTool(),\n",
    "            # TaskExecutorTool(),\n",
    "            # TaskMonitorTool(),\n",
    "\n",
    "            \n",
    "            # # Utility tools\n",
    "            # DocGeneratorTool(),\n",
    "        ]\n",
    "        \n",
    "        for tool in default_tools:\n",
    "            self.registry.register_tool(tool)\n",
    "    \n",
    "    def get_tools(self, tool_names: Optional[List[str]] = None) -> List[Dict[str, Any]]:\n",
    "        \"\"\"Get OpenAI-formatted tools\"\"\"\n",
    "        return self.registry.get_openai_schemas(tool_names)\n",
    "    \n",
    "    def execute_tool(self, tool_name: str, parameters: Dict[str, Any]) -> Dict[str, Any]:\n",
    "        \"\"\"Execute a tool by name\"\"\"\n",
    "        return self.registry.execute_tool(tool_name, parameters)\n",
    "    \n",
    "    def list_tools(self) -> List[str]:\n",
    "        \"\"\"List all available tool names\"\"\"\n",
    "        return self.registry.list_tools()\n",
    "    \n",
    "    def get_tool_info(self, tool_name: str) -> Optional[Dict[str, Any]]:\n",
    "        \"\"\"Get information about a specific tool\"\"\"\n",
    "        return self.registry.get_tool_info(tool_name)\n",
    "    \n",
    "    def register_custom_tool(self, tool: BaseTool):\n",
    "        \"\"\"Register a custom tool\"\"\"\n",
    "        self.registry.register_tool(tool)\n",
    "    \n",
    "    def unregister_tool(self, tool_name: str):\n",
    "        \"\"\"Unregister a tool\"\"\"\n",
    "        self.registry.unregister_tool(tool_name)\n"
   ]
  },
  {
   "cell_type": "code",
   "execution_count": 9,
   "id": "41d00505-5375-4afb-906f-71952c7a7b1c",
   "metadata": {},
   "outputs": [
    {
     "data": {
      "text/plain": [
       "[{'type': 'function',\n",
       "  'function': {'name': 'execute_bash',\n",
       "   'description': 'Execute bash commands with safety controls',\n",
       "   'parameters': {'type': 'object',\n",
       "    'properties': {'command': {'type': 'string',\n",
       "      'description': 'Bash command to execute'},\n",
       "     'working_dir': {'type': 'string',\n",
       "      'description': 'Working directory for command execution'},\n",
       "     'timeout': {'type': 'integer',\n",
       "      'description': 'Timeout in seconds (default: 30)'},\n",
       "     'env_vars': {'type': 'object',\n",
       "      'description': 'Additional environment variables'},\n",
       "     'capture_output': {'type': 'boolean',\n",
       "      'description': 'Capture stdout/stderr (default: true)'},\n",
       "     'shell': {'type': 'string',\n",
       "      'description': 'Shell to use (default: /bin/bash)'},\n",
       "     'summary': {'type': 'string',\n",
       "      'description': 'Brief description of what the command does'}},\n",
       "    'required': ['command']}}}]"
      ]
     },
     "execution_count": 9,
     "metadata": {},
     "output_type": "execute_result"
    }
   ],
   "source": [
    "# Example usage \n",
    "tool_manager = ToolManager()\n",
    "tool_manager.get_tools([\"execute_bash\"])"
   ]
  },
  {
   "cell_type": "code",
   "execution_count": null,
   "id": "b31ea782-f16b-4b11-a578-46113845e925",
   "metadata": {},
   "outputs": [],
   "source": []
  }
 ],
 "metadata": {
  "kernelspec": {
   "display_name": "Python 3 (ipykernel)",
   "language": "python",
   "name": "python3"
  },
  "language_info": {
   "codemirror_mode": {
    "name": "ipython",
    "version": 3
   },
   "file_extension": ".py",
   "mimetype": "text/x-python",
   "name": "python",
   "nbconvert_exporter": "python",
   "pygments_lexer": "ipython3",
   "version": "3.12.9"
  }
 },
 "nbformat": 4,
 "nbformat_minor": 5
}

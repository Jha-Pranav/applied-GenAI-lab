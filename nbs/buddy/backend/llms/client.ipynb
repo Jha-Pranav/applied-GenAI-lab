{
 "cells": [
  {
   "cell_type": "code",
   "execution_count": 1,
   "id": "c8ec34ab-ef7b-4f99-9d09-00934f31feec",
   "metadata": {},
   "outputs": [],
   "source": [
    "# | default_exp llms.client"
   ]
  },
  {
   "cell_type": "code",
   "execution_count": 2,
   "id": "d47375d7-1f2c-4efe-b2c6-9b55db3f61d4",
   "metadata": {},
   "outputs": [],
   "source": [
    "# | export\n",
    "import os\n",
    "from typing import Dict, Any, List, Optional, Iterator\n",
    "from openai import OpenAI\n",
    "from rich.console import Console\n",
    "from rich.markdown import Markdown"
   ]
  },
  {
   "cell_type": "code",
   "execution_count": 3,
   "id": "63494c70-07c9-47c6-8874-ce027082137f",
   "metadata": {},
   "outputs": [],
   "source": [
    "# | export\n",
    "from agentic.configs.loader import get_model_config, get_settings_config\n",
    "from agentic.llms.response_processor import ResponseProcessor\n",
    "from agentic.llms.streaming_handler import StreamingHandler"
   ]
  },
  {
   "cell_type": "code",
   "execution_count": 4,
   "id": "caac836d-f04d-428e-8f4f-f47be660f66a",
   "metadata": {},
   "outputs": [],
   "source": [
    "# | export\n",
    "class LLMClient:\n",
    "    \"\"\"Enhanced LLM client\"\"\"\n",
    "    \n",
    "    def __init__(self, model: Optional[str] = None, base_url: Optional[str] = None, \n",
    "                 api_key: Optional[str] = None):\n",
    "        # Load config defaults\n",
    "        model_config = get_model_config()\n",
    "        settings_config = get_settings_config()\n",
    "        \n",
    "        # Set parameters with fallbacks\n",
    "        self.model = model or model_config.get('name', 'qwen3:8b')\n",
    "        self.base_url = base_url or model_config.get('url', 'http://localhost:11434/v1')\n",
    "        self.api_key = api_key or model_config.get('api_key', 'ollama')\n",
    "\n",
    "        \n",
    "        # Initialize OpenAI client\n",
    "        self.client = OpenAI(base_url=self.base_url, \n",
    "                             api_key=self.api_key)\n",
    "        \n",
    "        # Initialize processors\n",
    "        self.response_processor = ResponseProcessor()\n",
    "        self.streaming_handler = StreamingHandler()\n",
    "        \n",
    "        # Validate connection\n",
    "        self._validate_connection()\n",
    "    \n",
    "    def _validate_connection(self):\n",
    "        \"\"\"Validate LLM connection\"\"\"\n",
    "        try:\n",
    "            # Test with a simple request\n",
    "            response = self.client.chat.completions.create(\n",
    "                model=self.model,\n",
    "                messages=[{\"role\": \"user\", \"content\": \"test\"}],\n",
    "                max_tokens=1,\n",
    "                timeout=5\n",
    "            )\n",
    "            return True\n",
    "        except Exception as e:\n",
    "            print(f\"⚠️ LLM connection warning: {e}\")\n",
    "            return False\n",
    "    \n",
    "    def create_completion(self, messages: List[Dict[str, Any]], \n",
    "                         tools: Optional[List[Dict]] = None,\n",
    "                         stream: bool = True, **kwargs) -> Any:\n",
    "        \"\"\"Create chat completion with optional tools\"\"\"\n",
    "        completion_params = {\n",
    "            \"model\": self.model,\n",
    "            \"messages\": messages,\n",
    "            \"stream\": stream,\n",
    "            **kwargs\n",
    "        }\n",
    "        \n",
    "        if tools:\n",
    "            completion_params[\"tools\"] = tools\n",
    "            completion_params[\"tool_choice\"] = \"auto\"\n",
    "        \n",
    "        try:\n",
    "            \n",
    "            import mlflow\n",
    "            \n",
    "            # Enable auto-tracing for OpenAI\n",
    "            mlflow.openai.autolog()\n",
    "            \n",
    "            # Optional: Set a tracking URI and an experiment\n",
    "            mlflow.set_tracking_uri(\"http://localhost:5000\")\n",
    "            mlflow.set_experiment(\"tool_test\")\n",
    "\n",
    "            return self.client.chat.completions.create(**completion_params)\n",
    "        except Exception as e:\n",
    "            raise RuntimeError(f\"LLM completion failed: {e}\")\n",
    "    \n",
    "    def process_response(self, response: Any, console: Optional[Console] = None) -> Dict[str, Any]:\n",
    "        \"\"\"Process non-streaming response\"\"\"\n",
    "        return self.response_processor.process_response(response, console)\n",
    "    \n",
    "    def handle_streaming_response(self, response: Iterator, console: Optional[Console] = None) -> Dict[str, Any]:\n",
    "        \"\"\"Handle streaming response\"\"\"\n",
    "        return self.streaming_handler.handle_streaming_response(response, console)\n",
    "    \n",
    "    def get_model_info(self) -> Dict[str, Any]:\n",
    "        \"\"\"Get information about the current model\"\"\"\n",
    "        return {\n",
    "            \"model\": self.model,\n",
    "            \"base_url\": self.base_url,\n",
    "            \"api_key_set\": bool(self.api_key),\n",
    "            \"connection_valid\": self._validate_connection()\n",
    "        }\n"
   ]
  },
  {
   "cell_type": "code",
   "execution_count": 5,
   "id": "b7112dc4-a77b-4f5c-9516-e3328eb5f165",
   "metadata": {},
   "outputs": [
    {
     "name": "stdout",
     "output_type": "stream",
     "text": [
      "\n",
      "\u001b[38;2;200;100;120m╭─────────────────────── 🤔 Thinking ───────────────────────╮\u001b[0m\n",
      "\u001b[38;2;200;100;120m│ \u001b[38;2;200;100;120mWe\u001b[0m\u001b[38;2;200;100;120m need\u001b[0m\u001b[38;2;200;100;120m to\u001b[0m\u001b[38;2;200;100;120m explain\u001b[0m\u001b[38;2;200;100;120m how\u001b[0m\u001b[38;2;200;100;120m a\u001b[0m\u001b[38;2;200;100;120m neural\u001b[0m\u001b[38;2;200;100;120m network\u001b[0m\u001b[38;2;200;100;120m works\u001b[0m\u001b[38;2;200;100;120m,\u001b[0m\u001b[38;2;200;100;120m using\u001b[0m\u001b[38;2;200;100;120m Markdown\u001b[0m\u001b[38;2;200;100;120m.\u001b[0m\u001b[38;2;200;100;120m Should\u001b[0m\u001b[38;2;200;100;120m be\u001b[0m\u001b[38;2;200;100;120m comprehensive\u001b[0m\u001b[38;2;200;100;120m,\u001b[0m\u001b[38;2;200;100;120m but\u001b[0m\u001b[38;2;200;100;120m no\u001b[0m\u001b[38;2;200;100;120m fluff\u001b[0m\u001b[38;2;200;100;120m.\u001b[0m\u001b[38;2;200;100;120m Provide\u001b[0m\u001b[38;2;200;100;120m headers\u001b[0m\u001b[38;2;200;100;120m,\u001b[0m\u001b[38;2;200;100;120m bullet\u001b[0m\u001b[38;2;200;100;120m points\u001b[0m\u001b[38;2;200;100;120m,\u001b[0m\u001b[38;2;200;100;120m code\u001b[0m\u001b[38;2;200;100;120m blocks\u001b[0m\u001b[38;2;200;100;120m,\u001b[0m\u001b[38;2;200;100;120m tables\u001b[0m\u001b[38;2;200;100;120m,\u001b[0m\u001b[38;2;200;100;120m maybe\u001b[0m\u001b[38;2;200;100;120m diagrams\u001b[0m\u001b[38;2;200;100;120m.\u001b[0m\u001b[38;2;200;100;120m Use\u001b[0m\u001b[38;2;200;100;120m rich\u001b[0m\u001b[38;2;200;100;120m formatting\u001b[0m\u001b[38;2;200;100;120m.\u001b[0m\u001b[38;2;200;100;120m Ensure\u001b[0m\u001b[38;2;200;100;120m clarity\u001b[0m\u001b[38;2;200;100;120m.\u001b[0m\u001b[38;2;200;100;120m Use\u001b[0m\u001b[38;2;200;100;120m appropriate\u001b[0m\u001b[38;2;200;100;120m sections\u001b[0m\u001b[38;2;200;100;120m:\u001b[0m\u001b[38;2;200;100;120m architecture\u001b[0m\u001b[38;2;200;100;120m,\u001b[0m\u001b[38;2;200;100;120m forward\u001b[0m\u001b[38;2;200;100;120m pass\u001b[0m\u001b[38;2;200;100;120m,\u001b[0m\u001b[38;2;200;100;120m back\u001b[0m\u001b[38;2;200;100;120mprop\u001b[0m\u001b[38;2;200;100;120m,\u001b[0m\u001b[38;2;200;100;120m activation\u001b[0m\u001b[38;2;200;100;120m,\u001b[0m\u001b[38;2;200;100;120m loss\u001b[0m\u001b[38;2;200;100;120m,\u001b[0m\u001b[38;2;200;100;120m training\u001b[0m\u001b[38;2;200;100;120m,\u001b[0m\u001b[38;2;200;100;120m hyper\u001b[0m\u001b[38;2;200;100;120mparameters\u001b[0m\u001b[38;2;200;100;120m.\u001b[0m\u001b[38;2;200;100;120m Provide\u001b[0m\u001b[38;2;200;100;120m example\u001b[0m\u001b[38;2;200;100;120m code\u001b[0m\u001b[38;2;200;100;120m.\n",
      "\n",
      "\u001b[0m\u001b[38;2;200;100;120mMake\u001b[0m\u001b[38;2;200;100;120m sure\u001b[0m\u001b[38;2;200;100;120m to\u001b[0m\u001b[38;2;200;100;120m note\u001b[0m\u001b[38;2;200;100;120m use\u001b[0m\u001b[38;2;200;100;120m of\u001b[0m\u001b[38;2;200;100;120m tensors\u001b[0m\u001b[38;2;200;100;120m,\u001b[0m\u001b[38;2;200;100;120m weights\u001b[0m\u001b[38;2;200;100;120m,\u001b[0m\u001b[38;2;200;100;120m biases\u001b[0m\u001b[38;2;200;100;120m.\u001b[0m\u001b[38;2;200;100;120m Use\u001b[0m\u001b[38;2;200;100;120m bullet\u001b[0m\u001b[38;2;200;100;120m list\u001b[0m\u001b[38;2;200;100;120m for\u001b[0m\u001b[38;2;200;100;120m steps\u001b[0m\u001b[38;2;200;100;120m.\u001b[0m\u001b[38;2;200;100;120m Provide\u001b[0m\u001b[38;2;200;100;120m code\u001b[0m\u001b[38;2;200;100;120m snippet\u001b[0m\u001b[38;2;200;100;120m in\u001b[0m\u001b[38;2;200;100;120m Python\u001b[0m\u001b[38;2;200;100;120m.\u001b[0m\u001b[38;2;200;100;120m Also\u001b[0m\u001b[38;2;200;100;120m a\u001b[0m\u001b[38;2;200;100;120m simple\u001b[0m\u001b[38;2;200;100;120m network\u001b[0m\u001b[38;2;200;100;120m architecture\u001b[0m\u001b[38;2;200;100;120m diagram\u001b[0m\u001b[38;2;200;100;120m maybe\u001b[0m\u001b[38;2;200;100;120m using\u001b[0m\u001b[38;2;200;100;120m ASCII\u001b[0m\u001b[38;2;200;100;120m or\u001b[0m\u001b[38;2;200;100;120m Mermaid\u001b[0m\u001b[38;2;200;100;120m?\u001b[0m\u001b[38;2;200;100;120m Mermaid\u001b[0m\u001b[38;2;200;100;120m is\u001b[0m\u001b[38;2;200;100;120m optional\u001b[0m\u001b[38;2;200;100;120m.\u001b[0m\u001b[38;2;200;100;120m Use\u001b[0m\u001b[38;2;200;100;120m Markdown\u001b[0m\u001b[38;2;200;100;120m.\n",
      "\n",
      "\u001b[0m\u001b[38;2;200;100;120mLet's\u001b[0m\u001b[38;2;200;100;120m write\u001b[0m\u001b[38;2;200;100;120m.\u001b[0m"
     ]
    },
    {
     "data": {
      "text/html": [
       "<pre style=\"white-space:pre;overflow-x:auto;line-height:normal;font-family:Menlo,'DejaVu Sans Mono',consolas,'Courier New',monospace\">┏━━━━━━━━━━━━━━━━━━━━━━━━━━━━━━━━━━━━━━━━━━━━━━━━━━━━━━━━━━━━━━━━━━━━━━━━━━━━━━━━━━━━━━━━━━━━━━━━━━━━━━━━━━━━━━━━━┓\n",
       "┃                                           <span style=\"font-weight: bold\">How a Neural Network Works</span>                                            ┃\n",
       "┗━━━━━━━━━━━━━━━━━━━━━━━━━━━━━━━━━━━━━━━━━━━━━━━━━━━━━━━━━━━━━━━━━━━━━━━━━━━━━━━━━━━━━━━━━━━━━━━━━━━━━━━━━━━━━━━━━┛\n",
       "</pre>\n"
      ],
      "text/plain": [
       "┏━━━━━━━━━━━━━━━━━━━━━━━━━━━━━━━━━━━━━━━━━━━━━━━━━━━━━━━━━━━━━━━━━━━━━━━━━━━━━━━━━━━━━━━━━━━━━━━━━━━━━━━━━━━━━━━━━┓\n",
       "┃                                           \u001b[1mHow a Neural Network Works\u001b[0m                                            ┃\n",
       "┗━━━━━━━━━━━━━━━━━━━━━━━━━━━━━━━━━━━━━━━━━━━━━━━━━━━━━━━━━━━━━━━━━━━━━━━━━━━━━━━━━━━━━━━━━━━━━━━━━━━━━━━━━━━━━━━━━┛\n"
      ]
     },
     "metadata": {},
     "output_type": "display_data"
    },
    {
     "data": {
      "text/html": [
       "<pre style=\"white-space:pre;overflow-x:auto;line-height:normal;font-family:Menlo,'DejaVu Sans Mono',consolas,'Courier New',monospace\"><span style=\"font-style: italic\">A quick, structured guide written for readability in any Markdown‑rich terminal.</span>                                   \n",
       "</pre>\n"
      ],
      "text/plain": [
       "\u001b[3mA quick, structured guide written for readability in any Markdown‑rich terminal.\u001b[0m                                   \n"
      ]
     },
     "metadata": {},
     "output_type": "display_data"
    },
    {
     "data": {
      "text/html": [
       "<pre style=\"white-space:pre;overflow-x:auto;line-height:normal;font-family:Menlo,'DejaVu Sans Mono',consolas,'Courier New',monospace\"><span style=\"color: #808000; text-decoration-color: #808000\">───────────────────────────────────────────────────────────────────────────────────────────────────────────────────</span>\n",
       "</pre>\n"
      ],
      "text/plain": [
       "\u001b[33m───────────────────────────────────────────────────────────────────────────────────────────────────────────────────\u001b[0m\n"
      ]
     },
     "metadata": {},
     "output_type": "display_data"
    },
    {
     "data": {
      "text/html": [
       "<pre style=\"white-space:pre;overflow-x:auto;line-height:normal;font-family:Menlo,'DejaVu Sans Mono',consolas,'Courier New',monospace\">\n",
       "                                    <span style=\"font-weight: bold; text-decoration: underline\">1. Anatomy of a Plain Feed‑Forward Network</span>                                     \n",
       "</pre>\n"
      ],
      "text/plain": [
       "\n",
       "                                    \u001b[1;4m1. Anatomy of a Plain Feed‑Forward Network\u001b[0m                                     \n"
      ]
     },
     "metadata": {},
     "output_type": "display_data"
    },
    {
     "data": {
      "text/html": [
       "<pre style=\"white-space:pre;overflow-x:auto;line-height:normal;font-family:Menlo,'DejaVu Sans Mono',consolas,'Courier New',monospace\">| Layer type | Parameters | Role |                                                                                 \n",
       "</pre>\n"
      ],
      "text/plain": [
       "| Layer type | Parameters | Role |                                                                                 \n"
      ]
     },
     "metadata": {},
     "output_type": "display_data"
    },
    {
     "data": {
      "text/html": [
       "<pre style=\"white-space:pre;overflow-x:auto;line-height:normal;font-family:Menlo,'DejaVu Sans Mono',consolas,'Courier New',monospace\">|------------|------------|------|                                                                                 \n",
       "</pre>\n"
      ],
      "text/plain": [
       "|------------|------------|------|                                                                                 \n"
      ]
     },
     "metadata": {},
     "output_type": "display_data"
    },
    {
     "data": {
      "text/html": [
       "<pre style=\"white-space:pre;overflow-x:auto;line-height:normal;font-family:Menlo,'DejaVu Sans Mono',consolas,'Courier New',monospace\">| <span style=\"font-weight: bold\">Input layer</span> | None | Receives raw features. |                                                                    \n",
       "</pre>\n"
      ],
      "text/plain": [
       "| \u001b[1mInput layer\u001b[0m | None | Receives raw features. |                                                                    \n"
      ]
     },
     "metadata": {},
     "output_type": "display_data"
    },
    {
     "data": {
      "text/html": [
       "<pre style=\"white-space:pre;overflow-x:auto;line-height:normal;font-family:Menlo,'DejaVu Sans Mono',consolas,'Courier New',monospace\">| <span style=\"font-weight: bold\">Hidden layers</span> | <span style=\"font-weight: bold\">Weights</span> <span style=\"color: #008080; text-decoration-color: #008080; background-color: #000000; font-weight: bold\">W</span> &amp; <span style=\"font-weight: bold\">biases</span> <span style=\"color: #008080; text-decoration-color: #008080; background-color: #000000; font-weight: bold\">b</span> | Create non‑linear representations. |                                      \n",
       "</pre>\n"
      ],
      "text/plain": [
       "| \u001b[1mHidden layers\u001b[0m | \u001b[1mWeights\u001b[0m \u001b[1;36;40mW\u001b[0m & \u001b[1mbiases\u001b[0m \u001b[1;36;40mb\u001b[0m | Create non‑linear representations. |                                      \n"
      ]
     },
     "metadata": {},
     "output_type": "display_data"
    },
    {
     "data": {
      "text/html": [
       "<pre style=\"white-space:pre;overflow-x:auto;line-height:normal;font-family:Menlo,'DejaVu Sans Mono',consolas,'Courier New',monospace\">| <span style=\"font-weight: bold\">Output layer</span> | <span style=\"color: #008080; text-decoration-color: #008080; background-color: #000000; font-weight: bold\">W</span>, <span style=\"color: #008080; text-decoration-color: #008080; background-color: #000000; font-weight: bold\">b</span> | Produce final predictions. |                                                               \n",
       "</pre>\n"
      ],
      "text/plain": [
       "| \u001b[1mOutput layer\u001b[0m | \u001b[1;36;40mW\u001b[0m, \u001b[1;36;40mb\u001b[0m | Produce final predictions. |                                                               \n"
      ]
     },
     "metadata": {},
     "output_type": "display_data"
    },
    {
     "data": {
      "text/html": [
       "<pre style=\"white-space:pre;overflow-x:auto;line-height:normal;font-family:Menlo,'DejaVu Sans Mono',consolas,'Courier New',monospace\">                                                  <span style=\"font-weight: bold\">Visual (ASCII)</span>                                                   \n",
       "</pre>\n"
      ],
      "text/plain": [
       "                                                  \u001b[1mVisual (ASCII)\u001b[0m                                                   \n"
      ]
     },
     "metadata": {},
     "output_type": "display_data"
    },
    {
     "data": {
      "text/html": [
       "<pre style=\"white-space:pre;overflow-x:auto;line-height:normal;font-family:Menlo,'DejaVu Sans Mono',consolas,'Courier New',monospace\"><span style=\"background-color: #272822\">                                                                                                                   </span>\n",
       "<span style=\"background-color: #272822\">                                                                                                                   </span>\n",
       "<span style=\"background-color: #272822\">                                                                                                                   </span>\n",
       "</pre>\n"
      ],
      "text/plain": [
       "\u001b[48;2;39;40;34m                                                                                                                   \u001b[0m\n",
       "\u001b[48;2;39;40;34m \u001b[0m\u001b[48;2;39;40;34m                                                                                                                 \u001b[0m\u001b[48;2;39;40;34m \u001b[0m\n",
       "\u001b[48;2;39;40;34m                                                                                                                   \u001b[0m\n"
      ]
     },
     "metadata": {},
     "output_type": "display_data"
    },
    {
     "data": {
      "text/html": [
       "<pre style=\"white-space:pre;overflow-x:auto;line-height:normal;font-family:Menlo,'DejaVu Sans Mono',consolas,'Courier New',monospace\">Input ──[W1, b1]──► f ──[W2, b2]──► f … ──[Wn, bn]──► Output                                                       \n",
       "</pre>\n"
      ],
      "text/plain": [
       "Input ──[W1, b1]──► f ──[W2, b2]──► f … ──[Wn, bn]──► Output                                                       \n"
      ]
     },
     "metadata": {},
     "output_type": "display_data"
    },
    {
     "data": {
      "text/html": [
       "<pre style=\"white-space:pre;overflow-x:auto;line-height:normal;font-family:Menlo,'DejaVu Sans Mono',consolas,'Courier New',monospace\"><span style=\"background-color: #272822\">                                                                                                                   </span>\n",
       "<span style=\"background-color: #272822\">                                                                                                                   </span>\n",
       "<span style=\"background-color: #272822\">                                                                                                                   </span>\n",
       "</pre>\n"
      ],
      "text/plain": [
       "\u001b[48;2;39;40;34m                                                                                                                   \u001b[0m\n",
       "\u001b[48;2;39;40;34m \u001b[0m\u001b[48;2;39;40;34m                                                                                                                 \u001b[0m\u001b[48;2;39;40;34m \u001b[0m\n",
       "\u001b[48;2;39;40;34m                                                                                                                   \u001b[0m\n"
      ]
     },
     "metadata": {},
     "output_type": "display_data"
    },
    {
     "data": {
      "text/html": [
       "<pre style=\"white-space:pre;overflow-x:auto;line-height:normal;font-family:Menlo,'DejaVu Sans Mono',consolas,'Courier New',monospace\"><span style=\"color: #008080; text-decoration-color: #008080; background-color: #000000; font-weight: bold; font-style: italic\">f</span> – activation function (e.g., ReLU, Sigmoid).                                                                     \n",
       "</pre>\n"
      ],
      "text/plain": [
       "\u001b[1;3;36;40mf\u001b[0m – activation function (e.g., ReLU, Sigmoid).                                                                     \n"
      ]
     },
     "metadata": {},
     "output_type": "display_data"
    },
    {
     "data": {
      "text/html": [
       "<pre style=\"white-space:pre;overflow-x:auto;line-height:normal;font-family:Menlo,'DejaVu Sans Mono',consolas,'Courier New',monospace\"><span style=\"color: #808000; text-decoration-color: #808000\">───────────────────────────────────────────────────────────────────────────────────────────────────────────────────</span>\n",
       "</pre>\n"
      ],
      "text/plain": [
       "\u001b[33m───────────────────────────────────────────────────────────────────────────────────────────────────────────────────\u001b[0m\n"
      ]
     },
     "metadata": {},
     "output_type": "display_data"
    },
    {
     "data": {
      "text/html": [
       "<pre style=\"white-space:pre;overflow-x:auto;line-height:normal;font-family:Menlo,'DejaVu Sans Mono',consolas,'Courier New',monospace\">\n",
       "                                              <span style=\"font-weight: bold; text-decoration: underline\">2. Forward Propagation</span>                                               \n",
       "</pre>\n"
      ],
      "text/plain": [
       "\n",
       "                                              \u001b[1;4m2. Forward Propagation\u001b[0m                                               \n"
      ]
     },
     "metadata": {},
     "output_type": "display_data"
    },
    {
     "data": {
      "text/html": [
       "<pre style=\"white-space:pre;overflow-x:auto;line-height:normal;font-family:Menlo,'DejaVu Sans Mono',consolas,'Courier New',monospace\">For each layer <span style=\"color: #008080; text-decoration-color: #008080; background-color: #000000; font-weight: bold\">ℓ</span>:                                                                                                  \n",
       "</pre>\n"
      ],
      "text/plain": [
       "For each layer \u001b[1;36;40mℓ\u001b[0m:                                                                                                  \n"
      ]
     },
     "metadata": {},
     "output_type": "display_data"
    },
    {
     "data": {
      "text/html": [
       "<pre style=\"white-space:pre;overflow-x:auto;line-height:normal;font-family:Menlo,'DejaVu Sans Mono',consolas,'Courier New',monospace\">\n",
       "<span style=\"color: #808000; text-decoration-color: #808000; font-weight: bold\"> 1 </span><span style=\"font-weight: bold\">Linear transform</span>                                                                                                \n",
       "</pre>\n"
      ],
      "text/plain": [
       "\n",
       "\u001b[1;33m 1 \u001b[0m\u001b[1mLinear transform\u001b[0m                                                                                                \n"
      ]
     },
     "metadata": {},
     "output_type": "display_data"
    },
    {
     "data": {
      "text/html": [
       "<pre style=\"white-space:pre;overflow-x:auto;line-height:normal;font-family:Menlo,'DejaVu Sans Mono',consolas,'Courier New',monospace\"><span style=\"color: #008080; text-decoration-color: #008080; background-color: #000000; font-weight: bold\">zℓ = Wℓ · aℓ-1 + bℓ</span>                                                                                                \n",
       "</pre>\n"
      ],
      "text/plain": [
       "\u001b[1;36;40mzℓ = Wℓ · aℓ-1 + bℓ\u001b[0m                                                                                                \n"
      ]
     },
     "metadata": {},
     "output_type": "display_data"
    },
    {
     "data": {
      "text/html": [
       "<pre style=\"white-space:pre;overflow-x:auto;line-height:normal;font-family:Menlo,'DejaVu Sans Mono',consolas,'Courier New',monospace\">(where <span style=\"color: #008080; text-decoration-color: #008080; background-color: #000000; font-weight: bold\">aℓ-1</span> is the activation from the previous layer).                                                            \n",
       "</pre>\n"
      ],
      "text/plain": [
       "(where \u001b[1;36;40maℓ-1\u001b[0m is the activation from the previous layer).                                                            \n"
      ]
     },
     "metadata": {},
     "output_type": "display_data"
    },
    {
     "data": {
      "text/html": [
       "<pre style=\"white-space:pre;overflow-x:auto;line-height:normal;font-family:Menlo,'DejaVu Sans Mono',consolas,'Courier New',monospace\">\n",
       "<span style=\"color: #808000; text-decoration-color: #808000; font-weight: bold\"> 2 </span><span style=\"font-weight: bold\">Non‑linearity</span>                                                                                                   \n",
       "</pre>\n"
      ],
      "text/plain": [
       "\n",
       "\u001b[1;33m 2 \u001b[0m\u001b[1mNon‑linearity\u001b[0m                                                                                                   \n"
      ]
     },
     "metadata": {},
     "output_type": "display_data"
    },
    {
     "data": {
      "text/html": [
       "<pre style=\"white-space:pre;overflow-x:auto;line-height:normal;font-family:Menlo,'DejaVu Sans Mono',consolas,'Courier New',monospace\"><span style=\"color: #008080; text-decoration-color: #008080; background-color: #000000; font-weight: bold\">aℓ = f(zℓ)</span>                                                                                                         \n",
       "</pre>\n"
      ],
      "text/plain": [
       "\u001b[1;36;40maℓ = f(zℓ)\u001b[0m                                                                                                         \n"
      ]
     },
     "metadata": {},
     "output_type": "display_data"
    },
    {
     "data": {
      "text/html": [
       "<pre style=\"white-space:pre;overflow-x:auto;line-height:normal;font-family:Menlo,'DejaVu Sans Mono',consolas,'Courier New',monospace\"><span style=\"color: #008080; text-decoration-color: #008080; background-color: #000000; font-weight: bold\">f</span> applied element‑wise.                                                                                            \n",
       "</pre>\n"
      ],
      "text/plain": [
       "\u001b[1;36;40mf\u001b[0m applied element‑wise.                                                                                            \n"
      ]
     },
     "metadata": {},
     "output_type": "display_data"
    },
    {
     "data": {
      "text/html": [
       "<pre style=\"white-space:pre;overflow-x:auto;line-height:normal;font-family:Menlo,'DejaVu Sans Mono',consolas,'Courier New',monospace\">The final output <span style=\"color: #008080; text-decoration-color: #008080; background-color: #000000; font-weight: bold\">aL</span> (where <span style=\"color: #008080; text-decoration-color: #008080; background-color: #000000; font-weight: bold\">L</span> is the last layer) is compared to the target using a <span style=\"font-weight: bold\">loss function</span> <span style=\"color: #008080; text-decoration-color: #008080; background-color: #000000; font-weight: bold\">ℒ(aL, y)</span>.          \n",
       "</pre>\n"
      ],
      "text/plain": [
       "The final output \u001b[1;36;40maL\u001b[0m (where \u001b[1;36;40mL\u001b[0m is the last layer) is compared to the target using a \u001b[1mloss function\u001b[0m \u001b[1;36;40mℒ(aL, y)\u001b[0m.          \n"
      ]
     },
     "metadata": {},
     "output_type": "display_data"
    },
    {
     "data": {
      "text/html": [
       "<pre style=\"white-space:pre;overflow-x:auto;line-height:normal;font-family:Menlo,'DejaVu Sans Mono',consolas,'Courier New',monospace\"><span style=\"color: #808000; text-decoration-color: #808000\">───────────────────────────────────────────────────────────────────────────────────────────────────────────────────</span>\n",
       "</pre>\n"
      ],
      "text/plain": [
       "\u001b[33m───────────────────────────────────────────────────────────────────────────────────────────────────────────────────\u001b[0m\n"
      ]
     },
     "metadata": {},
     "output_type": "display_data"
    },
    {
     "data": {
      "text/html": [
       "<pre style=\"white-space:pre;overflow-x:auto;line-height:normal;font-family:Menlo,'DejaVu Sans Mono',consolas,'Courier New',monospace\">\n",
       "                                               <span style=\"font-weight: bold; text-decoration: underline\">3. Loss &amp; Evaluation</span>                                                \n",
       "</pre>\n"
      ],
      "text/plain": [
       "\n",
       "                                               \u001b[1;4m3. Loss & Evaluation\u001b[0m                                                \n"
      ]
     },
     "metadata": {},
     "output_type": "display_data"
    },
    {
     "data": {
      "text/html": [
       "<pre style=\"white-space:pre;overflow-x:auto;line-height:normal;font-family:Menlo,'DejaVu Sans Mono',consolas,'Courier New',monospace\">| Loss | Use Case |                                                                                                \n",
       "</pre>\n"
      ],
      "text/plain": [
       "| Loss | Use Case |                                                                                                \n"
      ]
     },
     "metadata": {},
     "output_type": "display_data"
    },
    {
     "data": {
      "text/html": [
       "<pre style=\"white-space:pre;overflow-x:auto;line-height:normal;font-family:Menlo,'DejaVu Sans Mono',consolas,'Courier New',monospace\">|------|----------|                                                                                                \n",
       "</pre>\n"
      ],
      "text/plain": [
       "|------|----------|                                                                                                \n"
      ]
     },
     "metadata": {},
     "output_type": "display_data"
    },
    {
     "data": {
      "text/html": [
       "<pre style=\"white-space:pre;overflow-x:auto;line-height:normal;font-family:Menlo,'DejaVu Sans Mono',consolas,'Courier New',monospace\">| <span style=\"font-weight: bold\">Mean Squared Error (MSE)</span> | Regression |                                                                          \n",
       "</pre>\n"
      ],
      "text/plain": [
       "| \u001b[1mMean Squared Error (MSE)\u001b[0m | Regression |                                                                          \n"
      ]
     },
     "metadata": {},
     "output_type": "display_data"
    },
    {
     "data": {
      "text/html": [
       "<pre style=\"white-space:pre;overflow-x:auto;line-height:normal;font-family:Menlo,'DejaVu Sans Mono',consolas,'Courier New',monospace\">| <span style=\"font-weight: bold\">Cross‑Entropy</span> | Classification |                                                                                 \n",
       "</pre>\n"
      ],
      "text/plain": [
       "| \u001b[1mCross‑Entropy\u001b[0m | Classification |                                                                                 \n"
      ]
     },
     "metadata": {},
     "output_type": "display_data"
    },
    {
     "data": {
      "text/html": [
       "<pre style=\"white-space:pre;overflow-x:auto;line-height:normal;font-family:Menlo,'DejaVu Sans Mono',consolas,'Courier New',monospace\">| <span style=\"font-weight: bold\">Huber</span> | Robust regression |                                                                                      \n",
       "</pre>\n"
      ],
      "text/plain": [
       "| \u001b[1mHuber\u001b[0m | Robust regression |                                                                                      \n"
      ]
     },
     "metadata": {},
     "output_type": "display_data"
    },
    {
     "data": {
      "text/html": [
       "<pre style=\"white-space:pre;overflow-x:auto;line-height:normal;font-family:Menlo,'DejaVu Sans Mono',consolas,'Courier New',monospace\">The loss tells us how far the prediction is from the truth; the goal of training is to <span style=\"font-weight: bold\">minimize</span> it.                \n",
       "</pre>\n"
      ],
      "text/plain": [
       "The loss tells us how far the prediction is from the truth; the goal of training is to \u001b[1mminimize\u001b[0m it.                \n"
      ]
     },
     "metadata": {},
     "output_type": "display_data"
    },
    {
     "data": {
      "text/html": [
       "<pre style=\"white-space:pre;overflow-x:auto;line-height:normal;font-family:Menlo,'DejaVu Sans Mono',consolas,'Courier New',monospace\"><span style=\"color: #808000; text-decoration-color: #808000\">───────────────────────────────────────────────────────────────────────────────────────────────────────────────────</span>\n",
       "</pre>\n"
      ],
      "text/plain": [
       "\u001b[33m───────────────────────────────────────────────────────────────────────────────────────────────────────────────────\u001b[0m\n"
      ]
     },
     "metadata": {},
     "output_type": "display_data"
    },
    {
     "data": {
      "text/html": [
       "<pre style=\"white-space:pre;overflow-x:auto;line-height:normal;font-family:Menlo,'DejaVu Sans Mono',consolas,'Courier New',monospace\">\n",
       "                                     <span style=\"font-weight: bold; text-decoration: underline\">4. Backpropagation – Gradient Computation</span>                                     \n",
       "</pre>\n"
      ],
      "text/plain": [
       "\n",
       "                                     \u001b[1;4m4. Backpropagation – Gradient Computation\u001b[0m                                     \n"
      ]
     },
     "metadata": {},
     "output_type": "display_data"
    },
    {
     "data": {
      "text/html": [
       "<pre style=\"white-space:pre;overflow-x:auto;line-height:normal;font-family:Menlo,'DejaVu Sans Mono',consolas,'Courier New',monospace\">Backprop travels from the output backward, applying the chain rule:                                                \n",
       "</pre>\n"
      ],
      "text/plain": [
       "Backprop travels from the output backward, applying the chain rule:                                                \n"
      ]
     },
     "metadata": {},
     "output_type": "display_data"
    },
    {
     "data": {
      "text/html": [
       "<pre style=\"white-space:pre;overflow-x:auto;line-height:normal;font-family:Menlo,'DejaVu Sans Mono',consolas,'Courier New',monospace\"><span style=\"background-color: #272822\">                                                                                                                   </span>\n",
       "<span style=\"background-color: #272822\">                                                                                                                   </span>\n",
       "<span style=\"background-color: #272822\">                                                                                                                   </span>\n",
       "</pre>\n"
      ],
      "text/plain": [
       "\u001b[48;2;39;40;34m                                                                                                                   \u001b[0m\n",
       "\u001b[48;2;39;40;34m \u001b[0m\u001b[48;2;39;40;34m                                                                                                                 \u001b[0m\u001b[48;2;39;40;34m \u001b[0m\n",
       "\u001b[48;2;39;40;34m                                                                                                                   \u001b[0m\n"
      ]
     },
     "metadata": {},
     "output_type": "display_data"
    },
    {
     "data": {
      "text/html": [
       "<pre style=\"white-space:pre;overflow-x:auto;line-height:normal;font-family:Menlo,'DejaVu Sans Mono',consolas,'Courier New',monospace\">∂ℒ/∂Wℓ  = (∂ℒ/∂aℓ) • (∂aℓ/∂zℓ) • (∂zℓ/∂Wℓ)                                                                         \n",
       "</pre>\n"
      ],
      "text/plain": [
       "∂ℒ/∂Wℓ  = (∂ℒ/∂aℓ) • (∂aℓ/∂zℓ) • (∂zℓ/∂Wℓ)                                                                         \n"
      ]
     },
     "metadata": {},
     "output_type": "display_data"
    },
    {
     "data": {
      "text/html": [
       "<pre style=\"white-space:pre;overflow-x:auto;line-height:normal;font-family:Menlo,'DejaVu Sans Mono',consolas,'Courier New',monospace\">∂ℒ/∂bℓ  = (∂ℒ/∂aℓ) • (∂aℓ/∂zℓ) • (∂zℓ/∂bℓ)                                                                         \n",
       "</pre>\n"
      ],
      "text/plain": [
       "∂ℒ/∂bℓ  = (∂ℒ/∂aℓ) • (∂aℓ/∂zℓ) • (∂zℓ/∂bℓ)                                                                         \n"
      ]
     },
     "metadata": {},
     "output_type": "display_data"
    },
    {
     "data": {
      "text/html": [
       "<pre style=\"white-space:pre;overflow-x:auto;line-height:normal;font-family:Menlo,'DejaVu Sans Mono',consolas,'Courier New',monospace\"><span style=\"background-color: #272822\">                                                                                                                   </span>\n",
       "<span style=\"background-color: #272822\">                                                                                                                   </span>\n",
       "<span style=\"background-color: #272822\">                                                                                                                   </span>\n",
       "</pre>\n"
      ],
      "text/plain": [
       "\u001b[48;2;39;40;34m                                                                                                                   \u001b[0m\n",
       "\u001b[48;2;39;40;34m \u001b[0m\u001b[48;2;39;40;34m                                                                                                                 \u001b[0m\u001b[48;2;39;40;34m \u001b[0m\n",
       "\u001b[48;2;39;40;34m                                                                                                                   \u001b[0m\n"
      ]
     },
     "metadata": {},
     "output_type": "display_data"
    },
    {
     "data": {
      "text/html": [
       "<pre style=\"white-space:pre;overflow-x:auto;line-height:normal;font-family:Menlo,'DejaVu Sans Mono',consolas,'Courier New',monospace\">\n",
       "<span style=\"color: #808000; text-decoration-color: #808000; font-weight: bold\"> • </span><span style=\"color: #008080; text-decoration-color: #008080; background-color: #000000; font-weight: bold\">∂ℒ/∂aℓ</span> flows backward from the loss.                                                                            \n",
       "</pre>\n"
      ],
      "text/plain": [
       "\n",
       "\u001b[1;33m • \u001b[0m\u001b[1;36;40m∂ℒ/∂aℓ\u001b[0m flows backward from the loss.                                                                            \n"
      ]
     },
     "metadata": {},
     "output_type": "display_data"
    },
    {
     "data": {
      "text/html": [
       "<pre style=\"white-space:pre;overflow-x:auto;line-height:normal;font-family:Menlo,'DejaVu Sans Mono',consolas,'Courier New',monospace\">\n",
       "<span style=\"color: #808000; text-decoration-color: #808000; font-weight: bold\"> • </span><span style=\"color: #008080; text-decoration-color: #008080; background-color: #000000; font-weight: bold\">∂aℓ/∂zℓ</span> is the derivative of the activation (e.g., for ReLU, <span style=\"color: #008080; text-decoration-color: #008080; background-color: #000000; font-weight: bold\">f'(z) = 1 if z &gt; 0 else 0</span>).                        \n",
       "</pre>\n"
      ],
      "text/plain": [
       "\n",
       "\u001b[1;33m • \u001b[0m\u001b[1;36;40m∂aℓ/∂zℓ\u001b[0m is the derivative of the activation (e.g., for ReLU, \u001b[1;36;40mf'(z) = 1 if z > 0 else 0\u001b[0m).                        \n"
      ]
     },
     "metadata": {},
     "output_type": "display_data"
    },
    {
     "data": {
      "text/html": [
       "<pre style=\"white-space:pre;overflow-x:auto;line-height:normal;font-family:Menlo,'DejaVu Sans Mono',consolas,'Courier New',monospace\">\n",
       "<span style=\"color: #808000; text-decoration-color: #808000; font-weight: bold\"> • </span><span style=\"color: #008080; text-decoration-color: #008080; background-color: #000000; font-weight: bold\">∂zℓ/∂Wℓ</span> and <span style=\"color: #008080; text-decoration-color: #008080; background-color: #000000; font-weight: bold\">∂zℓ/∂bℓ</span> are straightforward: <span style=\"color: #008080; text-decoration-color: #008080; background-color: #000000; font-weight: bold\">aℓ-1</span> and <span style=\"color: #008080; text-decoration-color: #008080; background-color: #000000; font-weight: bold\">1</span>, respectively.                                              \n",
       "</pre>\n"
      ],
      "text/plain": [
       "\n",
       "\u001b[1;33m • \u001b[0m\u001b[1;36;40m∂zℓ/∂Wℓ\u001b[0m and \u001b[1;36;40m∂zℓ/∂bℓ\u001b[0m are straightforward: \u001b[1;36;40maℓ-1\u001b[0m and \u001b[1;36;40m1\u001b[0m, respectively.                                              \n"
      ]
     },
     "metadata": {},
     "output_type": "display_data"
    },
    {
     "data": {
      "text/html": [
       "<pre style=\"white-space:pre;overflow-x:auto;line-height:normal;font-family:Menlo,'DejaVu Sans Mono',consolas,'Courier New',monospace\">This yields the <span style=\"font-weight: bold\">gradients</span> for all weights and biases.                                                              \n",
       "</pre>\n"
      ],
      "text/plain": [
       "This yields the \u001b[1mgradients\u001b[0m for all weights and biases.                                                              \n"
      ]
     },
     "metadata": {},
     "output_type": "display_data"
    },
    {
     "data": {
      "text/html": [
       "<pre style=\"white-space:pre;overflow-x:auto;line-height:normal;font-family:Menlo,'DejaVu Sans Mono',consolas,'Courier New',monospace\"><span style=\"color: #808000; text-decoration-color: #808000\">───────────────────────────────────────────────────────────────────────────────────────────────────────────────────</span>\n",
       "</pre>\n"
      ],
      "text/plain": [
       "\u001b[33m───────────────────────────────────────────────────────────────────────────────────────────────────────────────────\u001b[0m\n"
      ]
     },
     "metadata": {},
     "output_type": "display_data"
    },
    {
     "data": {
      "text/html": [
       "<pre style=\"white-space:pre;overflow-x:auto;line-height:normal;font-family:Menlo,'DejaVu Sans Mono',consolas,'Courier New',monospace\">\n",
       "                                         <span style=\"font-weight: bold; text-decoration: underline\">5. Parameter Update – Optimizers</span>                                          \n",
       "</pre>\n"
      ],
      "text/plain": [
       "\n",
       "                                         \u001b[1;4m5. Parameter Update – Optimizers\u001b[0m                                          \n"
      ]
     },
     "metadata": {},
     "output_type": "display_data"
    },
    {
     "data": {
      "text/html": [
       "<pre style=\"white-space:pre;overflow-x:auto;line-height:normal;font-family:Menlo,'DejaVu Sans Mono',consolas,'Courier New',monospace\">After obtaining gradients, we adjust parameters, usually with <span style=\"font-weight: bold\">gradient descent</span> or its variants.                    \n",
       "</pre>\n"
      ],
      "text/plain": [
       "After obtaining gradients, we adjust parameters, usually with \u001b[1mgradient descent\u001b[0m or its variants.                    \n"
      ]
     },
     "metadata": {},
     "output_type": "display_data"
    },
    {
     "data": {
      "text/html": [
       "<pre style=\"white-space:pre;overflow-x:auto;line-height:normal;font-family:Menlo,'DejaVu Sans Mono',consolas,'Courier New',monospace\">                                             <span style=\"font-weight: bold\">Vanilla Gradient Descent</span>                                              \n",
       "</pre>\n"
      ],
      "text/plain": [
       "                                             \u001b[1mVanilla Gradient Descent\u001b[0m                                              \n"
      ]
     },
     "metadata": {},
     "output_type": "display_data"
    },
    {
     "data": {
      "text/html": [
       "<pre style=\"white-space:pre;overflow-x:auto;line-height:normal;font-family:Menlo,'DejaVu Sans Mono',consolas,'Courier New',monospace\"><span style=\"background-color: #272822\">                                                                                                                   </span>\n",
       "<span style=\"background-color: #272822\">                                                                                                                   </span>\n",
       "<span style=\"background-color: #272822\">                                                                                                                   </span>\n",
       "</pre>\n"
      ],
      "text/plain": [
       "\u001b[48;2;39;40;34m                                                                                                                   \u001b[0m\n",
       "\u001b[48;2;39;40;34m \u001b[0m\u001b[48;2;39;40;34m                                                                                                                 \u001b[0m\u001b[48;2;39;40;34m \u001b[0m\n",
       "\u001b[48;2;39;40;34m                                                                                                                   \u001b[0m\n"
      ]
     },
     "metadata": {},
     "output_type": "display_data"
    },
    {
     "data": {
      "text/html": [
       "<pre style=\"white-space:pre;overflow-x:auto;line-height:normal;font-family:Menlo,'DejaVu Sans Mono',consolas,'Courier New',monospace\">θ ← θ - η * ∂ℒ/∂θ                                                                                                  \n",
       "</pre>\n"
      ],
      "text/plain": [
       "θ ← θ - η * ∂ℒ/∂θ                                                                                                  \n"
      ]
     },
     "metadata": {},
     "output_type": "display_data"
    },
    {
     "data": {
      "text/html": [
       "<pre style=\"white-space:pre;overflow-x:auto;line-height:normal;font-family:Menlo,'DejaVu Sans Mono',consolas,'Courier New',monospace\"><span style=\"background-color: #272822\">                                                                                                                   </span>\n",
       "<span style=\"background-color: #272822\">                                                                                                                   </span>\n",
       "<span style=\"background-color: #272822\">                                                                                                                   </span>\n",
       "</pre>\n"
      ],
      "text/plain": [
       "\u001b[48;2;39;40;34m                                                                                                                   \u001b[0m\n",
       "\u001b[48;2;39;40;34m \u001b[0m\u001b[48;2;39;40;34m                                                                                                                 \u001b[0m\u001b[48;2;39;40;34m \u001b[0m\n",
       "\u001b[48;2;39;40;34m                                                                                                                   \u001b[0m\n"
      ]
     },
     "metadata": {},
     "output_type": "display_data"
    },
    {
     "data": {
      "text/html": [
       "<pre style=\"white-space:pre;overflow-x:auto;line-height:normal;font-family:Menlo,'DejaVu Sans Mono',consolas,'Courier New',monospace\">\n",
       "<span style=\"color: #808000; text-decoration-color: #808000; font-weight: bold\"> • </span><span style=\"color: #008080; text-decoration-color: #008080; background-color: #000000; font-weight: bold\">θ</span> → parameters (<span style=\"color: #008080; text-decoration-color: #008080; background-color: #000000; font-weight: bold\">W</span> or <span style=\"color: #008080; text-decoration-color: #008080; background-color: #000000; font-weight: bold\">b</span>)                                                                                         \n",
       "</pre>\n"
      ],
      "text/plain": [
       "\n",
       "\u001b[1;33m • \u001b[0m\u001b[1;36;40mθ\u001b[0m → parameters (\u001b[1;36;40mW\u001b[0m or \u001b[1;36;40mb\u001b[0m)                                                                                         \n"
      ]
     },
     "metadata": {},
     "output_type": "display_data"
    },
    {
     "data": {
      "text/html": [
       "<pre style=\"white-space:pre;overflow-x:auto;line-height:normal;font-family:Menlo,'DejaVu Sans Mono',consolas,'Courier New',monospace\">\n",
       "<span style=\"color: #808000; text-decoration-color: #808000; font-weight: bold\"> • </span><span style=\"color: #008080; text-decoration-color: #008080; background-color: #000000; font-weight: bold\">η</span> → learning rate (e.g., <span style=\"color: #008080; text-decoration-color: #008080; background-color: #000000; font-weight: bold\">0.01</span>)                                                                                  \n",
       "</pre>\n"
      ],
      "text/plain": [
       "\n",
       "\u001b[1;33m • \u001b[0m\u001b[1;36;40mη\u001b[0m → learning rate (e.g., \u001b[1;36;40m0.01\u001b[0m)                                                                                  \n"
      ]
     },
     "metadata": {},
     "output_type": "display_data"
    },
    {
     "data": {
      "text/html": [
       "<pre style=\"white-space:pre;overflow-x:auto;line-height:normal;font-family:Menlo,'DejaVu Sans Mono',consolas,'Courier New',monospace\">                                                  <span style=\"font-weight: bold\">Modern Variants</span>                                                  \n",
       "</pre>\n"
      ],
      "text/plain": [
       "                                                  \u001b[1mModern Variants\u001b[0m                                                  \n"
      ]
     },
     "metadata": {},
     "output_type": "display_data"
    },
    {
     "data": {
      "text/html": [
       "<pre style=\"white-space:pre;overflow-x:auto;line-height:normal;font-family:Menlo,'DejaVu Sans Mono',consolas,'Courier New',monospace\">| Optimizer | Key Idea |                                                                                           \n",
       "</pre>\n"
      ],
      "text/plain": [
       "| Optimizer | Key Idea |                                                                                           \n"
      ]
     },
     "metadata": {},
     "output_type": "display_data"
    },
    {
     "data": {
      "text/html": [
       "<pre style=\"white-space:pre;overflow-x:auto;line-height:normal;font-family:Menlo,'DejaVu Sans Mono',consolas,'Courier New',monospace\">|-----------|----------|                                                                                           \n",
       "</pre>\n"
      ],
      "text/plain": [
       "|-----------|----------|                                                                                           \n"
      ]
     },
     "metadata": {},
     "output_type": "display_data"
    },
    {
     "data": {
      "text/html": [
       "<pre style=\"white-space:pre;overflow-x:auto;line-height:normal;font-family:Menlo,'DejaVu Sans Mono',consolas,'Courier New',monospace\">| <span style=\"font-weight: bold\">Momentum</span> | Adds a velocity term <span style=\"color: #008080; text-decoration-color: #008080; background-color: #000000; font-weight: bold\">v ← βv + (1‑β)∂ℒ/∂θ</span> |                                                            \n",
       "</pre>\n"
      ],
      "text/plain": [
       "| \u001b[1mMomentum\u001b[0m | Adds a velocity term \u001b[1;36;40mv ← βv + (1‑β)∂ℒ/∂θ\u001b[0m |                                                            \n"
      ]
     },
     "metadata": {},
     "output_type": "display_data"
    },
    {
     "data": {
      "text/html": [
       "<pre style=\"white-space:pre;overflow-x:auto;line-height:normal;font-family:Menlo,'DejaVu Sans Mono',consolas,'Courier New',monospace\">| <span style=\"font-weight: bold\">Adam</span> | Adaptive per‑parameter learning rates using running mean/variance |                                       \n",
       "</pre>\n"
      ],
      "text/plain": [
       "| \u001b[1mAdam\u001b[0m | Adaptive per‑parameter learning rates using running mean/variance |                                       \n"
      ]
     },
     "metadata": {},
     "output_type": "display_data"
    },
    {
     "data": {
      "text/html": [
       "<pre style=\"white-space:pre;overflow-x:auto;line-height:normal;font-family:Menlo,'DejaVu Sans Mono',consolas,'Courier New',monospace\">| <span style=\"font-weight: bold\">RMSProp</span> | Uses mean‑squared gradients to scale learning rate |                                                   \n",
       "</pre>\n"
      ],
      "text/plain": [
       "| \u001b[1mRMSProp\u001b[0m | Uses mean‑squared gradients to scale learning rate |                                                   \n"
      ]
     },
     "metadata": {},
     "output_type": "display_data"
    },
    {
     "data": {
      "text/html": [
       "<pre style=\"white-space:pre;overflow-x:auto;line-height:normal;font-family:Menlo,'DejaVu Sans Mono',consolas,'Courier New',monospace\"><span style=\"color: #808000; text-decoration-color: #808000\">───────────────────────────────────────────────────────────────────────────────────────────────────────────────────</span>\n",
       "</pre>\n"
      ],
      "text/plain": [
       "\u001b[33m───────────────────────────────────────────────────────────────────────────────────────────────────────────────────\u001b[0m\n"
      ]
     },
     "metadata": {},
     "output_type": "display_data"
    },
    {
     "data": {
      "text/html": [
       "<pre style=\"white-space:pre;overflow-x:auto;line-height:normal;font-family:Menlo,'DejaVu Sans Mono',consolas,'Courier New',monospace\">\n",
       "                                         <span style=\"font-weight: bold; text-decoration: underline\">6. Training Loop (Pseudo‑Python)</span>                                          \n",
       "</pre>\n"
      ],
      "text/plain": [
       "\n",
       "                                         \u001b[1;4m6. Training Loop (Pseudo‑Python)\u001b[0m                                          \n"
      ]
     },
     "metadata": {},
     "output_type": "display_data"
    },
    {
     "data": {
      "text/html": [
       "<pre style=\"white-space:pre;overflow-x:auto;line-height:normal;font-family:Menlo,'DejaVu Sans Mono',consolas,'Courier New',monospace\"><span style=\"background-color: #272822\">                                                                                                                   </span>\n",
       "<span style=\"background-color: #272822\">                                                                                                                   </span>\n",
       "<span style=\"background-color: #272822\">                                                                                                                   </span>\n",
       "</pre>\n"
      ],
      "text/plain": [
       "\u001b[48;2;39;40;34m                                                                                                                   \u001b[0m\n",
       "\u001b[48;2;39;40;34m \u001b[0m\u001b[48;2;39;40;34m                                                                                                                 \u001b[0m\u001b[48;2;39;40;34m \u001b[0m\n",
       "\u001b[48;2;39;40;34m                                                                                                                   \u001b[0m\n"
      ]
     },
     "metadata": {},
     "output_type": "display_data"
    },
    {
     "data": {
      "text/html": [
       "<pre style=\"white-space:pre;overflow-x:auto;line-height:normal;font-family:Menlo,'DejaVu Sans Mono',consolas,'Courier New',monospace\">for epoch in range(num_epochs):                                                                                    \n",
       "</pre>\n"
      ],
      "text/plain": [
       "for epoch in range(num_epochs):                                                                                    \n"
      ]
     },
     "metadata": {},
     "output_type": "display_data"
    },
    {
     "data": {
      "text/html": [
       "<pre style=\"white-space:pre;overflow-x:auto;line-height:normal;font-family:Menlo,'DejaVu Sans Mono',consolas,'Courier New',monospace\">for X_batch, y_batch in data_loader:                                                                               \n",
       "</pre>\n"
      ],
      "text/plain": [
       "for X_batch, y_batch in data_loader:                                                                               \n"
      ]
     },
     "metadata": {},
     "output_type": "display_data"
    },
    {
     "data": {
      "text/html": [
       "<pre style=\"white-space:pre;overflow-x:auto;line-height:normal;font-family:Menlo,'DejaVu Sans Mono',consolas,'Courier New',monospace\">┏━━━━━━━━━━━━━━━━━━━━━━━━━━━━━━━━━━━━━━━━━━━━━━━━━━━━━━━━━━━━━━━━━━━━━━━━━━━━━━━━━━━━━━━━━━━━━━━━━━━━━━━━━━━━━━━━━┓\n",
       "┃                                                     <span style=\"font-weight: bold\">Forward</span>                                                     ┃\n",
       "┗━━━━━━━━━━━━━━━━━━━━━━━━━━━━━━━━━━━━━━━━━━━━━━━━━━━━━━━━━━━━━━━━━━━━━━━━━━━━━━━━━━━━━━━━━━━━━━━━━━━━━━━━━━━━━━━━━┛\n",
       "</pre>\n"
      ],
      "text/plain": [
       "┏━━━━━━━━━━━━━━━━━━━━━━━━━━━━━━━━━━━━━━━━━━━━━━━━━━━━━━━━━━━━━━━━━━━━━━━━━━━━━━━━━━━━━━━━━━━━━━━━━━━━━━━━━━━━━━━━━┓\n",
       "┃                                                     \u001b[1mForward\u001b[0m                                                     ┃\n",
       "┗━━━━━━━━━━━━━━━━━━━━━━━━━━━━━━━━━━━━━━━━━━━━━━━━━━━━━━━━━━━━━━━━━━━━━━━━━━━━━━━━━━━━━━━━━━━━━━━━━━━━━━━━━━━━━━━━━┛\n"
      ]
     },
     "metadata": {},
     "output_type": "display_data"
    },
    {
     "data": {
      "text/html": [
       "<pre style=\"white-space:pre;overflow-x:auto;line-height:normal;font-family:Menlo,'DejaVu Sans Mono',consolas,'Courier New',monospace\">preds = model(X_batch)                                                                                             \n",
       "</pre>\n"
      ],
      "text/plain": [
       "preds = model(X_batch)                                                                                             \n"
      ]
     },
     "metadata": {},
     "output_type": "display_data"
    },
    {
     "data": {
      "text/html": [
       "<pre style=\"white-space:pre;overflow-x:auto;line-height:normal;font-family:Menlo,'DejaVu Sans Mono',consolas,'Courier New',monospace\">loss = criterion(preds, y_batch)                                                                                   \n",
       "</pre>\n"
      ],
      "text/plain": [
       "loss = criterion(preds, y_batch)                                                                                   \n"
      ]
     },
     "metadata": {},
     "output_type": "display_data"
    },
    {
     "data": {
      "text/html": [
       "<pre style=\"white-space:pre;overflow-x:auto;line-height:normal;font-family:Menlo,'DejaVu Sans Mono',consolas,'Courier New',monospace\">┏━━━━━━━━━━━━━━━━━━━━━━━━━━━━━━━━━━━━━━━━━━━━━━━━━━━━━━━━━━━━━━━━━━━━━━━━━━━━━━━━━━━━━━━━━━━━━━━━━━━━━━━━━━━━━━━━━┓\n",
       "┃                                                    <span style=\"font-weight: bold\">Backward</span>                                                     ┃\n",
       "┗━━━━━━━━━━━━━━━━━━━━━━━━━━━━━━━━━━━━━━━━━━━━━━━━━━━━━━━━━━━━━━━━━━━━━━━━━━━━━━━━━━━━━━━━━━━━━━━━━━━━━━━━━━━━━━━━━┛\n",
       "</pre>\n"
      ],
      "text/plain": [
       "┏━━━━━━━━━━━━━━━━━━━━━━━━━━━━━━━━━━━━━━━━━━━━━━━━━━━━━━━━━━━━━━━━━━━━━━━━━━━━━━━━━━━━━━━━━━━━━━━━━━━━━━━━━━━━━━━━━┓\n",
       "┃                                                    \u001b[1mBackward\u001b[0m                                                     ┃\n",
       "┗━━━━━━━━━━━━━━━━━━━━━━━━━━━━━━━━━━━━━━━━━━━━━━━━━━━━━━━━━━━━━━━━━━━━━━━━━━━━━━━━━━━━━━━━━━━━━━━━━━━━━━━━━━━━━━━━━┛\n"
      ]
     },
     "metadata": {},
     "output_type": "display_data"
    },
    {
     "data": {
      "text/html": [
       "<pre style=\"white-space:pre;overflow-x:auto;line-height:normal;font-family:Menlo,'DejaVu Sans Mono',consolas,'Courier New',monospace\">optimizer.zero_grad()                                                                                              \n",
       "</pre>\n"
      ],
      "text/plain": [
       "optimizer.zero_grad()                                                                                              \n"
      ]
     },
     "metadata": {},
     "output_type": "display_data"
    },
    {
     "data": {
      "text/html": [
       "<pre style=\"white-space:pre;overflow-x:auto;line-height:normal;font-family:Menlo,'DejaVu Sans Mono',consolas,'Courier New',monospace\">loss.backward()                                                                                                    \n",
       "</pre>\n"
      ],
      "text/plain": [
       "loss.backward()                                                                                                    \n"
      ]
     },
     "metadata": {},
     "output_type": "display_data"
    },
    {
     "data": {
      "text/html": [
       "<pre style=\"white-space:pre;overflow-x:auto;line-height:normal;font-family:Menlo,'DejaVu Sans Mono',consolas,'Courier New',monospace\">┏━━━━━━━━━━━━━━━━━━━━━━━━━━━━━━━━━━━━━━━━━━━━━━━━━━━━━━━━━━━━━━━━━━━━━━━━━━━━━━━━━━━━━━━━━━━━━━━━━━━━━━━━━━━━━━━━━┓\n",
       "┃                                                     <span style=\"font-weight: bold\">Update</span>                                                      ┃\n",
       "┗━━━━━━━━━━━━━━━━━━━━━━━━━━━━━━━━━━━━━━━━━━━━━━━━━━━━━━━━━━━━━━━━━━━━━━━━━━━━━━━━━━━━━━━━━━━━━━━━━━━━━━━━━━━━━━━━━┛\n",
       "</pre>\n"
      ],
      "text/plain": [
       "┏━━━━━━━━━━━━━━━━━━━━━━━━━━━━━━━━━━━━━━━━━━━━━━━━━━━━━━━━━━━━━━━━━━━━━━━━━━━━━━━━━━━━━━━━━━━━━━━━━━━━━━━━━━━━━━━━━┓\n",
       "┃                                                     \u001b[1mUpdate\u001b[0m                                                      ┃\n",
       "┗━━━━━━━━━━━━━━━━━━━━━━━━━━━━━━━━━━━━━━━━━━━━━━━━━━━━━━━━━━━━━━━━━━━━━━━━━━━━━━━━━━━━━━━━━━━━━━━━━━━━━━━━━━━━━━━━━┛\n"
      ]
     },
     "metadata": {},
     "output_type": "display_data"
    },
    {
     "data": {
      "text/html": [
       "<pre style=\"white-space:pre;overflow-x:auto;line-height:normal;font-family:Menlo,'DejaVu Sans Mono',consolas,'Courier New',monospace\">optimizer.step()                                                                                                   \n",
       "</pre>\n"
      ],
      "text/plain": [
       "optimizer.step()                                                                                                   \n"
      ]
     },
     "metadata": {},
     "output_type": "display_data"
    },
    {
     "data": {
      "text/html": [
       "<pre style=\"white-space:pre;overflow-x:auto;line-height:normal;font-family:Menlo,'DejaVu Sans Mono',consolas,'Courier New',monospace\">print(f\"Epoch {epoch+1}, Loss: {loss.item():.4f}\")                                                                 \n",
       "</pre>\n"
      ],
      "text/plain": [
       "print(f\"Epoch {epoch+1}, Loss: {loss.item():.4f}\")                                                                 \n"
      ]
     },
     "metadata": {},
     "output_type": "display_data"
    },
    {
     "data": {
      "text/html": [
       "<pre style=\"white-space:pre;overflow-x:auto;line-height:normal;font-family:Menlo,'DejaVu Sans Mono',consolas,'Courier New',monospace\"><span style=\"background-color: #272822\">                                                                                                                   </span>\n",
       "<span style=\"background-color: #272822\">                                                                                                                   </span>\n",
       "<span style=\"background-color: #272822\">                                                                                                                   </span>\n",
       "</pre>\n"
      ],
      "text/plain": [
       "\u001b[48;2;39;40;34m                                                                                                                   \u001b[0m\n",
       "\u001b[48;2;39;40;34m \u001b[0m\u001b[48;2;39;40;34m                                                                                                                 \u001b[0m\u001b[48;2;39;40;34m \u001b[0m\n",
       "\u001b[48;2;39;40;34m                                                                                                                   \u001b[0m\n"
      ]
     },
     "metadata": {},
     "output_type": "display_data"
    },
    {
     "data": {
      "text/html": [
       "<pre style=\"white-space:pre;overflow-x:auto;line-height:normal;font-family:Menlo,'DejaVu Sans Mono',consolas,'Courier New',monospace\">\n",
       "<span style=\"color: #808000; text-decoration-color: #808000; font-weight: bold\"> • </span><span style=\"color: #008080; text-decoration-color: #008080; background-color: #000000; font-weight: bold\">model</span> → instance of <span style=\"color: #008080; text-decoration-color: #008080; background-color: #000000; font-weight: bold\">nn.Module</span>.                                                                                  \n",
       "</pre>\n"
      ],
      "text/plain": [
       "\n",
       "\u001b[1;33m • \u001b[0m\u001b[1;36;40mmodel\u001b[0m → instance of \u001b[1;36;40mnn.Module\u001b[0m.                                                                                  \n"
      ]
     },
     "metadata": {},
     "output_type": "display_data"
    },
    {
     "data": {
      "text/html": [
       "<pre style=\"white-space:pre;overflow-x:auto;line-height:normal;font-family:Menlo,'DejaVu Sans Mono',consolas,'Courier New',monospace\">\n",
       "<span style=\"color: #808000; text-decoration-color: #808000; font-weight: bold\"> • </span><span style=\"color: #008080; text-decoration-color: #008080; background-color: #000000; font-weight: bold\">criterion</span> → loss function (e.g., <span style=\"color: #008080; text-decoration-color: #008080; background-color: #000000; font-weight: bold\">nn.CrossEntropyLoss()</span>).                                                        \n",
       "</pre>\n"
      ],
      "text/plain": [
       "\n",
       "\u001b[1;33m • \u001b[0m\u001b[1;36;40mcriterion\u001b[0m → loss function (e.g., \u001b[1;36;40mnn.CrossEntropyLoss()\u001b[0m).                                                        \n"
      ]
     },
     "metadata": {},
     "output_type": "display_data"
    },
    {
     "data": {
      "text/html": [
       "<pre style=\"white-space:pre;overflow-x:auto;line-height:normal;font-family:Menlo,'DejaVu Sans Mono',consolas,'Courier New',monospace\">\n",
       "<span style=\"color: #808000; text-decoration-color: #808000; font-weight: bold\"> • </span><span style=\"color: #008080; text-decoration-color: #008080; background-color: #000000; font-weight: bold\">optimizer</span> → e.g., <span style=\"color: #008080; text-decoration-color: #008080; background-color: #000000; font-weight: bold\">optim.Adam(model.parameters(), lr=1e-3)</span>.                                                      \n",
       "</pre>\n"
      ],
      "text/plain": [
       "\n",
       "\u001b[1;33m • \u001b[0m\u001b[1;36;40moptimizer\u001b[0m → e.g., \u001b[1;36;40moptim.Adam(model.parameters(), lr=1e-3)\u001b[0m.                                                      \n"
      ]
     },
     "metadata": {},
     "output_type": "display_data"
    },
    {
     "data": {
      "text/html": [
       "<pre style=\"white-space:pre;overflow-x:auto;line-height:normal;font-family:Menlo,'DejaVu Sans Mono',consolas,'Courier New',monospace\"><span style=\"color: #808000; text-decoration-color: #808000\">───────────────────────────────────────────────────────────────────────────────────────────────────────────────────</span>\n",
       "</pre>\n"
      ],
      "text/plain": [
       "\u001b[33m───────────────────────────────────────────────────────────────────────────────────────────────────────────────────\u001b[0m\n"
      ]
     },
     "metadata": {},
     "output_type": "display_data"
    },
    {
     "data": {
      "text/html": [
       "<pre style=\"white-space:pre;overflow-x:auto;line-height:normal;font-family:Menlo,'DejaVu Sans Mono',consolas,'Courier New',monospace\">\n",
       "                                           <span style=\"font-weight: bold; text-decoration: underline\">7. Key Concepts &amp; Terminology</span>                                           \n",
       "</pre>\n"
      ],
      "text/plain": [
       "\n",
       "                                           \u001b[1;4m7. Key Concepts & Terminology\u001b[0m                                           \n"
      ]
     },
     "metadata": {},
     "output_type": "display_data"
    },
    {
     "data": {
      "text/html": [
       "<pre style=\"white-space:pre;overflow-x:auto;line-height:normal;font-family:Menlo,'DejaVu Sans Mono',consolas,'Courier New',monospace\">| Term | Meaning |                                                                                                 \n",
       "</pre>\n"
      ],
      "text/plain": [
       "| Term | Meaning |                                                                                                 \n"
      ]
     },
     "metadata": {},
     "output_type": "display_data"
    },
    {
     "data": {
      "text/html": [
       "<pre style=\"white-space:pre;overflow-x:auto;line-height:normal;font-family:Menlo,'DejaVu Sans Mono',consolas,'Courier New',monospace\">|------|---------|                                                                                                 \n",
       "</pre>\n"
      ],
      "text/plain": [
       "|------|---------|                                                                                                 \n"
      ]
     },
     "metadata": {},
     "output_type": "display_data"
    },
    {
     "data": {
      "text/html": [
       "<pre style=\"white-space:pre;overflow-x:auto;line-height:normal;font-family:Menlo,'DejaVu Sans Mono',consolas,'Courier New',monospace\">| <span style=\"font-weight: bold\">Neuron / Unit</span> | A computation node. |                                                                            \n",
       "</pre>\n"
      ],
      "text/plain": [
       "| \u001b[1mNeuron / Unit\u001b[0m | A computation node. |                                                                            \n"
      ]
     },
     "metadata": {},
     "output_type": "display_data"
    },
    {
     "data": {
      "text/html": [
       "<pre style=\"white-space:pre;overflow-x:auto;line-height:normal;font-family:Menlo,'DejaVu Sans Mono',consolas,'Courier New',monospace\">| <span style=\"font-weight: bold\">Weights (</span><span style=\"color: #008080; text-decoration-color: #008080; background-color: #000000; font-weight: bold\">W</span><span style=\"font-weight: bold\">)</span> | Learned multipliers. |                                                                             \n",
       "</pre>\n"
      ],
      "text/plain": [
       "| \u001b[1mWeights (\u001b[0m\u001b[1;36;40mW\u001b[0m\u001b[1m)\u001b[0m | Learned multipliers. |                                                                             \n"
      ]
     },
     "metadata": {},
     "output_type": "display_data"
    },
    {
     "data": {
      "text/html": [
       "<pre style=\"white-space:pre;overflow-x:auto;line-height:normal;font-family:Menlo,'DejaVu Sans Mono',consolas,'Courier New',monospace\">| <span style=\"font-weight: bold\">Bias (</span><span style=\"color: #008080; text-decoration-color: #008080; background-color: #000000; font-weight: bold\">b</span><span style=\"font-weight: bold\">)</span> | Learned offset. |                                                                                     \n",
       "</pre>\n"
      ],
      "text/plain": [
       "| \u001b[1mBias (\u001b[0m\u001b[1;36;40mb\u001b[0m\u001b[1m)\u001b[0m | Learned offset. |                                                                                     \n"
      ]
     },
     "metadata": {},
     "output_type": "display_data"
    },
    {
     "data": {
      "text/html": [
       "<pre style=\"white-space:pre;overflow-x:auto;line-height:normal;font-family:Menlo,'DejaVu Sans Mono',consolas,'Courier New',monospace\">| <span style=\"font-weight: bold\">Activation (</span><span style=\"color: #008080; text-decoration-color: #008080; background-color: #000000; font-weight: bold\">f</span><span style=\"font-weight: bold\">)</span> | Imparts non‑linearity. |                                                                        \n",
       "</pre>\n"
      ],
      "text/plain": [
       "| \u001b[1mActivation (\u001b[0m\u001b[1;36;40mf\u001b[0m\u001b[1m)\u001b[0m | Imparts non‑linearity. |                                                                        \n"
      ]
     },
     "metadata": {},
     "output_type": "display_data"
    },
    {
     "data": {
      "text/html": [
       "<pre style=\"white-space:pre;overflow-x:auto;line-height:normal;font-family:Menlo,'DejaVu Sans Mono',consolas,'Courier New',monospace\">| <span style=\"font-weight: bold\">Epoch</span> | One full pass over the dataset. |                                                                        \n",
       "</pre>\n"
      ],
      "text/plain": [
       "| \u001b[1mEpoch\u001b[0m | One full pass over the dataset. |                                                                        \n"
      ]
     },
     "metadata": {},
     "output_type": "display_data"
    },
    {
     "data": {
      "text/html": [
       "<pre style=\"white-space:pre;overflow-x:auto;line-height:normal;font-family:Menlo,'DejaVu Sans Mono',consolas,'Courier New',monospace\">| <span style=\"font-weight: bold\">Batch</span> | Subset of the dataset processed together. |                                                              \n",
       "</pre>\n"
      ],
      "text/plain": [
       "| \u001b[1mBatch\u001b[0m | Subset of the dataset processed together. |                                                              \n"
      ]
     },
     "metadata": {},
     "output_type": "display_data"
    },
    {
     "data": {
      "text/html": [
       "<pre style=\"white-space:pre;overflow-x:auto;line-height:normal;font-family:Menlo,'DejaVu Sans Mono',consolas,'Courier New',monospace\">| <span style=\"font-weight: bold\">Regularization</span> | Techniques (L1/L2, dropout) to prevent over‑fitting. |                                          \n",
       "</pre>\n"
      ],
      "text/plain": [
       "| \u001b[1mRegularization\u001b[0m | Techniques (L1/L2, dropout) to prevent over‑fitting. |                                          \n"
      ]
     },
     "metadata": {},
     "output_type": "display_data"
    },
    {
     "data": {
      "text/html": [
       "<pre style=\"white-space:pre;overflow-x:auto;line-height:normal;font-family:Menlo,'DejaVu Sans Mono',consolas,'Courier New',monospace\">| <span style=\"font-weight: bold\">Learning Rate Scheduler</span> | Dynamically adjusts <span style=\"color: #008080; text-decoration-color: #008080; background-color: #000000; font-weight: bold\">η</span>. |                                                               \n",
       "</pre>\n"
      ],
      "text/plain": [
       "| \u001b[1mLearning Rate Scheduler\u001b[0m | Dynamically adjusts \u001b[1;36;40mη\u001b[0m. |                                                               \n"
      ]
     },
     "metadata": {},
     "output_type": "display_data"
    },
    {
     "data": {
      "text/html": [
       "<pre style=\"white-space:pre;overflow-x:auto;line-height:normal;font-family:Menlo,'DejaVu Sans Mono',consolas,'Courier New',monospace\"><span style=\"color: #808000; text-decoration-color: #808000\">───────────────────────────────────────────────────────────────────────────────────────────────────────────────────</span>\n",
       "</pre>\n"
      ],
      "text/plain": [
       "\u001b[33m───────────────────────────────────────────────────────────────────────────────────────────────────────────────────\u001b[0m\n"
      ]
     },
     "metadata": {},
     "output_type": "display_data"
    },
    {
     "data": {
      "text/html": [
       "<pre style=\"white-space:pre;overflow-x:auto;line-height:normal;font-family:Menlo,'DejaVu Sans Mono',consolas,'Courier New',monospace\">\n",
       "                                                <span style=\"font-weight: bold; text-decoration: underline\">8. Common Pitfalls</span>                                                 \n",
       "</pre>\n"
      ],
      "text/plain": [
       "\n",
       "                                                \u001b[1;4m8. Common Pitfalls\u001b[0m                                                 \n"
      ]
     },
     "metadata": {},
     "output_type": "display_data"
    },
    {
     "data": {
      "text/html": [
       "<pre style=\"white-space:pre;overflow-x:auto;line-height:normal;font-family:Menlo,'DejaVu Sans Mono',consolas,'Courier New',monospace\">\n",
       "<span style=\"color: #808000; text-decoration-color: #808000; font-weight: bold\"> • </span><span style=\"font-weight: bold\">Vanishing/Exploding gradients</span> → Use ReLU, batch norm, or proper initialization.                                 \n",
       "</pre>\n"
      ],
      "text/plain": [
       "\n",
       "\u001b[1;33m • \u001b[0m\u001b[1mVanishing/Exploding gradients\u001b[0m → Use ReLU, batch norm, or proper initialization.                                 \n"
      ]
     },
     "metadata": {},
     "output_type": "display_data"
    },
    {
     "data": {
      "text/html": [
       "<pre style=\"white-space:pre;overflow-x:auto;line-height:normal;font-family:Menlo,'DejaVu Sans Mono',consolas,'Courier New',monospace\">\n",
       "<span style=\"color: #808000; text-decoration-color: #808000; font-weight: bold\"> • </span><span style=\"font-weight: bold\">Overfitting</span> → Add dropout, early stopping, or data augmentation.                                                \n",
       "</pre>\n"
      ],
      "text/plain": [
       "\n",
       "\u001b[1;33m • \u001b[0m\u001b[1mOverfitting\u001b[0m → Add dropout, early stopping, or data augmentation.                                                \n"
      ]
     },
     "metadata": {},
     "output_type": "display_data"
    },
    {
     "data": {
      "text/html": [
       "<pre style=\"white-space:pre;overflow-x:auto;line-height:normal;font-family:Menlo,'DejaVu Sans Mono',consolas,'Courier New',monospace\">\n",
       "<span style=\"color: #808000; text-decoration-color: #808000; font-weight: bold\"> • </span><span style=\"font-weight: bold\">Learning rate too high</span> → Diverging loss; try annealing or Adam.                                                 \n",
       "</pre>\n"
      ],
      "text/plain": [
       "\n",
       "\u001b[1;33m • \u001b[0m\u001b[1mLearning rate too high\u001b[0m → Diverging loss; try annealing or Adam.                                                 \n"
      ]
     },
     "metadata": {},
     "output_type": "display_data"
    },
    {
     "data": {
      "text/html": [
       "<pre style=\"white-space:pre;overflow-x:auto;line-height:normal;font-family:Menlo,'DejaVu Sans Mono',consolas,'Courier New',monospace\">\n",
       "<span style=\"color: #808000; text-decoration-color: #808000; font-weight: bold\"> • </span><span style=\"font-weight: bold\">Insufficient data</span> → Pre‑training or transfer learning helps.                                                    \n",
       "</pre>\n"
      ],
      "text/plain": [
       "\n",
       "\u001b[1;33m • \u001b[0m\u001b[1mInsufficient data\u001b[0m → Pre‑training or transfer learning helps.                                                    \n"
      ]
     },
     "metadata": {},
     "output_type": "display_data"
    },
    {
     "data": {
      "text/html": [
       "<pre style=\"white-space:pre;overflow-x:auto;line-height:normal;font-family:Menlo,'DejaVu Sans Mono',consolas,'Courier New',monospace\"><span style=\"color: #808000; text-decoration-color: #808000\">───────────────────────────────────────────────────────────────────────────────────────────────────────────────────</span>\n",
       "</pre>\n"
      ],
      "text/plain": [
       "\u001b[33m───────────────────────────────────────────────────────────────────────────────────────────────────────────────────\u001b[0m\n"
      ]
     },
     "metadata": {},
     "output_type": "display_data"
    },
    {
     "data": {
      "text/html": [
       "<pre style=\"white-space:pre;overflow-x:auto;line-height:normal;font-family:Menlo,'DejaVu Sans Mono',consolas,'Courier New',monospace\">\n",
       "                                                     <span style=\"font-weight: bold; text-decoration: underline\">9. TL;DR</span>                                                      \n",
       "</pre>\n"
      ],
      "text/plain": [
       "\n",
       "                                                     \u001b[1;4m9. TL;DR\u001b[0m                                                      \n"
      ]
     },
     "metadata": {},
     "output_type": "display_data"
    },
    {
     "data": {
      "text/html": [
       "<pre style=\"white-space:pre;overflow-x:auto;line-height:normal;font-family:Menlo,'DejaVu Sans Mono',consolas,'Courier New',monospace\">\n",
       "<span style=\"color: #808000; text-decoration-color: #808000; font-weight: bold\"> 1 </span><span style=\"font-weight: bold\">Feed data</span> through layers (<span style=\"color: #008080; text-decoration-color: #008080; background-color: #000000; font-weight: bold\">z → a</span>).                                                                               \n",
       "</pre>\n"
      ],
      "text/plain": [
       "\n",
       "\u001b[1;33m 1 \u001b[0m\u001b[1mFeed data\u001b[0m through layers (\u001b[1;36;40mz → a\u001b[0m).                                                                               \n"
      ]
     },
     "metadata": {},
     "output_type": "display_data"
    },
    {
     "data": {
      "text/html": [
       "<pre style=\"white-space:pre;overflow-x:auto;line-height:normal;font-family:Menlo,'DejaVu Sans Mono',consolas,'Courier New',monospace\">\n",
       "<span style=\"color: #808000; text-decoration-color: #808000; font-weight: bold\"> 2 </span><span style=\"font-weight: bold\">Compute loss</span> between prediction and target.                                                                     \n",
       "</pre>\n"
      ],
      "text/plain": [
       "\n",
       "\u001b[1;33m 2 \u001b[0m\u001b[1mCompute loss\u001b[0m between prediction and target.                                                                     \n"
      ]
     },
     "metadata": {},
     "output_type": "display_data"
    },
    {
     "data": {
      "text/html": [
       "<pre style=\"white-space:pre;overflow-x:auto;line-height:normal;font-family:Menlo,'DejaVu Sans Mono',consolas,'Courier New',monospace\">\n",
       "<span style=\"color: #808000; text-decoration-color: #808000; font-weight: bold\"> 3 </span><span style=\"font-weight: bold\">Backprop</span> to get gradients (<span style=\"color: #008080; text-decoration-color: #008080; background-color: #000000; font-weight: bold\">∂ℒ/∂θ</span>).                                                                              \n",
       "</pre>\n"
      ],
      "text/plain": [
       "\n",
       "\u001b[1;33m 3 \u001b[0m\u001b[1mBackprop\u001b[0m to get gradients (\u001b[1;36;40m∂ℒ/∂θ\u001b[0m).                                                                              \n"
      ]
     },
     "metadata": {},
     "output_type": "display_data"
    },
    {
     "data": {
      "text/html": [
       "<pre style=\"white-space:pre;overflow-x:auto;line-height:normal;font-family:Menlo,'DejaVu Sans Mono',consolas,'Courier New',monospace\">\n",
       "<span style=\"color: #808000; text-decoration-color: #808000; font-weight: bold\"> 4 </span><span style=\"font-weight: bold\">Update</span> weights with an optimizer.                                                                               \n",
       "</pre>\n"
      ],
      "text/plain": [
       "\n",
       "\u001b[1;33m 4 \u001b[0m\u001b[1mUpdate\u001b[0m weights with an optimizer.                                                                               \n"
      ]
     },
     "metadata": {},
     "output_type": "display_data"
    },
    {
     "data": {
      "text/html": [
       "<pre style=\"white-space:pre;overflow-x:auto;line-height:normal;font-family:Menlo,'DejaVu Sans Mono',consolas,'Courier New',monospace\">\n",
       "<span style=\"color: #808000; text-decoration-color: #808000; font-weight: bold\"> 5 </span><span style=\"font-weight: bold\">Repeat</span> until convergence.                                                                                       \n",
       "</pre>\n"
      ],
      "text/plain": [
       "\n",
       "\u001b[1;33m 5 \u001b[0m\u001b[1mRepeat\u001b[0m until convergence.                                                                                       \n"
      ]
     },
     "metadata": {},
     "output_type": "display_data"
    },
    {
     "data": {
      "text/html": [
       "<pre style=\"white-space:pre;overflow-x:auto;line-height:normal;font-family:Menlo,'DejaVu Sans Mono',consolas,'Courier New',monospace\">And that’s a neural network in a nutshell! 🎉                                                                      \n",
       "</pre>\n"
      ],
      "text/plain": [
       "And that’s a neural network in a nutshell! 🎉                                                                      \n"
      ]
     },
     "metadata": {},
     "output_type": "display_data"
    },
    {
     "data": {
      "text/html": [
       "\n",
       "<div>\n",
       "  <style scoped>\n",
       "  button {\n",
       "    border: none;\n",
       "    border-radius: 4px;\n",
       "    background-color: rgb(34, 114, 180);\n",
       "    font-family: -apple-system, \"system-ui\", \"Segoe UI\", Roboto, \"Helvetica Neue\", Arial;\n",
       "    font-size: 13px;\n",
       "    color: white;\n",
       "    margin-top: 8px;\n",
       "    margin-bottom: 8px;\n",
       "    padding: 8px 16px;\n",
       "    cursor: pointer;\n",
       "  }\n",
       "  button:hover {\n",
       "    background-color: rgb(66, 153, 224);\n",
       "  }\n",
       "  </style>\n",
       "  <button\n",
       "    onclick=\"\n",
       "        const display = this.nextElementSibling.style.display;\n",
       "        const isCollapsed = display === 'none';\n",
       "        this.nextElementSibling.style.display = isCollapsed ? null : 'none';\n",
       "\n",
       "        const verb = isCollapsed ? 'Collapse' : 'Expand';\n",
       "        this.innerText = `${verb} MLflow Trace`;\n",
       "    \"\n",
       "  >Collapse MLflow Trace</button>\n",
       "  <iframe\n",
       "    id=\"trace-renderer\"\n",
       "    style=\"width: 100%; height: 500px; border: none; resize: vertical;\"\n",
       "    src=\"http://localhost:5000/static-files/lib/notebook-trace-renderer/index.html?trace_id=tr-03d85659fef1587b1e3f337e6006ebef&amp;experiment_id=731106915386651880&amp;version=3.4.0\"\n",
       "  />\n",
       "</div>\n"
      ],
      "text/plain": [
       "Trace(trace_id=tr-03d85659fef1587b1e3f337e6006ebef)"
      ]
     },
     "metadata": {},
     "output_type": "display_data"
    }
   ],
   "source": [
    "# | hide\n",
    "# Example usage \n",
    "\n",
    "system_prompt = {\n",
    "    \"role\": \"system\",\n",
    "    \"content\": (\n",
    "        \"You are a helpful assistant. \"\n",
    "        \"Return all your responses using valid **Markdown syntax**, including:\\n\"\n",
    "        \"- Headers (`#`, `##`)\\n\"\n",
    "        \"- Bullet points\\n\"\n",
    "        \"- Code blocks (triple backticks)\\n\"\n",
    "        \"- Bold / italic text\\n\"\n",
    "        \"- Quotes and tables if needed\\n\\n\"\n",
    "        \"Also, try to use formatting that works well with color rendering in terminals using `rich`.\"\n",
    "    )\n",
    "}\n",
    "\n",
    "\n",
    "from rich.console import Console\n",
    "client = LLMClient()\n",
    "response = client.create_completion(\n",
    "    messages=[\n",
    "    system_prompt,\n",
    "    {\"role\": \"user\", \"content\": \"Explain how a neural network works.\"}\n",
    "    ],\n",
    "    tools=[],\n",
    "    stream=True\n",
    ")\n",
    "result = client.handle_streaming_response(response,Console() )\n",
    "# result = client.process_response(response,Console())"
   ]
  },
  {
   "cell_type": "code",
   "execution_count": 7,
   "id": "e48bc44e-e8d9-4c2b-92f0-ee23043e480b",
   "metadata": {},
   "outputs": [
    {
     "data": {
      "text/plain": [
       "{'content': 'The user asks: \"Explain how a neural network works.\" They want an explanation. We need to output in Markdown format; presumably use some formatting. Should explain basic concept, layers, neurons, weights, activation, learning, backpropagation, gradient descent. Use bullet points and maybe tables. Use rich-friendly formatting: no special colors but use bold etc. Provide some code examples maybe. Keep it accessible. Let\\'s produce a thorough but concise explanation. Use headings. Use lists. Use code blocks for sample network. Use tables for layers.\\n\\nLet\\'s craft final answer.# How a Neural Network Works\\n\\nA neural network is a computational model inspired by the way biological brains process information.  \\nIt learns to map inputs to outputs by adjusting numerical parameters (weights) so that its predictions match observed data.\\n\\nBelow is a step‑by‑step outline, from architecture to learning, with examples and key terminology.\\n\\n---\\n\\n## 1. The Basic Building Blocks\\n\\n| Symbol | Real‑world analogy | Role in a neural network |\\n|--------|--------------------|--------------------------|\\n| ⟨𝑤⟩ | Synaptic strength | Weight connecting two neurons |\\n| ⟨𝑥⟩ | Presynaptic signal | Input value to a neuron |\\n| ⟨b⟩ | Bias | Constant offset added before activation |\\n| ⟨f⟩ | Non‑linear function | Activation function (ReLU, sigmoid, tanh, etc.) |\\n| **Neuron** | A neuron | Receives weighted sum, applies bias & activation, outputs a signal |\\n\\n### Neuron Computation\\n\\nFor a neuron with inputs \\\\(x_1, x_2, ..., x_n\\\\):\\n\\n\\\\[\\n\\\\boxed{h = f\\\\!\\\\left(\\\\sum_{i=1}^{n}(w_i x_i) + b \\\\right)}\\n\\\\]\\n\\n- **Weights** \\\\(w_i\\\\) scale inputs.  \\n- **Bias** \\\\(b\\\\) shifts the activation.  \\n- **Activation** \\\\(f\\\\) injects non‑linearity, enabling the network to model complex patterns.\\n\\n---\\n\\n## 2. Network Architecture\\n\\n### Feed‑Forward Layers\\n\\nA typical multilayer perceptron (MLP) has:\\n\\n```\\nInput Layer → Hidden Layer 1 → Hidden Layer 2 → … → Output Layer\\n```\\n\\n- **Input layer**: Receives raw data (e.g., pixel values).  \\n- **Hidden layers**: Learn hierarchical representations.  \\n- **Output layer**: Produces final predictions (class scores, regression value, etc.).\\n\\n### Example Architecture\\n\\n| Layer | Units | Activation |\\n|-------|-------|------------|\\n| Input | 784 (28×28 image) | — |\\n| Hidden 1 | 128 | ReLU |\\n| Hidden 2 | 64 | ReLU |\\n| Output | 10 (digits 0‑9) | Softmax |\\n\\n```python\\nimport torch.nn as nn\\n\\nmodel = nn.Sequential(\\n    nn.Linear(784, 128), nn.ReLU(),\\n    nn.Linear(128, 64),  nn.ReLU(),\\n    nn.Linear(64, 10),   nn.Softmax(dim=1)\\n)\\n```\\n\\n---\\n\\n## 3. Forward Pass\\n\\nDuring inference:\\n\\n1. **Weighted Sum:** Each neuron computes \\\\(z = w \\\\cdot x + b\\\\).\\n2. **Non‑linearity:** Apply \\\\(f(z)\\\\) to introduce complex behavior.\\n3. **Propagation:** The output of one layer becomes the input to the next.\\n\\nThe forward pass yields predictions \\\\( \\\\hat{y} = f_{\\\\theta}(x) \\\\), where \\\\( \\\\theta \\\\) denotes all weights and biases.\\n\\n---\\n\\n## 4. Loss Function\\n\\nMeasures how far predictions are from ground truth \\\\(y\\\\).\\n\\n| Task | Loss | Formula |\\n|------|------|---------|\\n| Classification | Cross‑Entropy | \\\\( \\\\mathcal{L} = -\\\\sum y \\\\log(\\\\hat{y}) \\\\) |\\n| Regression | Mean Squared Error | \\\\( \\\\mathcal{L} = \\\\frac{1}{N}\\\\sum (y-\\\\hat{y})^2 \\\\) |\\n\\nThe loss informs how to adjust parameters.\\n\\n---\\n\\n## 5. Backward Pass (Backpropagation)\\n\\n**Goal:** Compute gradients \\\\( \\\\frac{\\\\partial \\\\mathcal{L}}{\\\\partial \\\\theta} \\\\) efficiently.\\n\\n1. **Chain Rule:** Start at output layer, propagate error \\\\( \\\\frac{\\\\partial \\\\mathcal{L}}{\\\\partial \\\\hat{y}} \\\\).\\n2. **Local Gradients:** For each neuron, compute derivative of activation \\\\( f\\' \\\\) and multiply with gradients from next layer.\\n3. **Weight Update:** \\n   \\\\[\\n   w_{new} = w_{old} - \\\\eta \\\\frac{\\\\partial \\\\mathcal{L}}{\\\\partial w}\\n   \\\\]\\n   where \\\\( \\\\eta \\\\) is the learning rate.\\n\\nMost deep learning libraries (PyTorch, TensorFlow) automate this via automatic differentiation.\\n\\n---\\n\\n## 6. Optimization (Training Loop)\\n\\n```text\\nFor epoch in 1..N_epochs:\\n    For minibatch (x, y) in DataLoader:\\n        y_pred = model(x)            # forward pass\\n        loss = criterion(y_pred, y) # compute loss\\n        optimizer.zero_grad()       # clear previous grads\\n        loss.backward()             # backward pass\\n        optimizer.step()            # update weights\\n```\\n\\n- **Gradient Descent / SGD**: Updates weights proportionally to negative gradient.\\n- **Variants**: Adam, RMSProp, AdaGrad, etc., adapt learning rates per parameter.\\n\\n---\\n\\n## 7. Why It Works\\n\\n- **Universal Approximation**: With enough hidden units and suitable activation, a neural network can approximate any continuous function on a compact domain.\\n- **Feature Learning**: Hidden layers automatically discover relevant features instead of relying on hand‑crafted ones.\\n- **Non‑linearity**: Activations break linearity and allow modeling of complex decision boundaries.\\n\\n---\\n\\n## 8. Common Enhancements\\n\\n| Technique | What it does |\\n|-----------|--------------|\\n| **Dropout** | Randomly zeroes neurons during training to prevent overfitting. |\\n| **Batch Normalization** | Normalizes layer inputs to stabilize learning. |\\n| **Weight Regularization (\\\\(L_1/L_2\\\\))** | Penalizes large weights to encourage simple models. |\\n| **Residual Connections** | Adds skip connections (e.g., ResNet) to ease training of very deep nets. |\\n\\n---\\n\\n## 9. A Mini‑Hands‑On Example (PyTorch)\\n\\n```python\\nimport torch\\nimport torch.nn as nn\\nimport torch.optim as optim\\n\\n# 1. Define model\\nclass SimpleMLP(nn.Module):\\n    def __init__(self):\\n        super().__init__()\\n        self.net = nn.Sequential(\\n            nn.Flatten(),\\n            nn.Linear(28*28, 128), nn.ReLU(),\\n            nn.Linear(128, 64),    nn.ReLU(),\\n            nn.Linear(64, 10),     nn.LogSoftmax(dim=1)\\n        )\\n    def forward(self, x):\\n        return self.net(x)\\n\\nmodel = SimpleMLP()\\n\\n# 2. Setup loss & optimizer\\ncriterion = nn.NLLLoss()\\noptimizer = optim.Adam(model.parameters(), lr=1e-3)\\n\\n# 3. Training loop (pseudo‑code)\\nfor epoch in range(5):\\n    for data, target in train_loader:  # assume DataLoader defined elsewhere\\n        optimizer.zero_grad()\\n        output = model(data)\\n        loss = criterion(output, target)\\n        loss.backward()\\n        optimizer.step()\\n```\\n\\n---\\n\\n## 10. Take‑Away Summary\\n\\n1. **Neurons** compute weighted sums → apply biases → pass through non‑linear activations.  \\n2. **Layers** stack to form a mapping from inputs to outputs.  \\n3. **Loss** quantifies prediction error.  \\n4. **Backpropagation** efficiently computes gradients.  \\n5. **Gradient descent** updates weights to reduce loss.  \\n\\nThrough millions of such adjustments, a neural network learns to solve tasks like image classification, language modeling, and beyond.',\n",
       " 'tool_calls': [],\n",
       " 'usage': CompletionUsage(completion_tokens=1700, prompt_tokens=152, total_tokens=1852, completion_tokens_details=None, prompt_tokens_details=None),\n",
       " 'model': 'gpt-oss:20b'}"
      ]
     },
     "execution_count": 7,
     "metadata": {},
     "output_type": "execute_result"
    }
   ],
   "source": [
    "result"
   ]
  }
 ],
 "metadata": {
  "kernelspec": {
   "display_name": "Python 3 (ipykernel)",
   "language": "python",
   "name": "python3"
  },
  "language_info": {
   "codemirror_mode": {
    "name": "ipython",
    "version": 3
   },
   "file_extension": ".py",
   "mimetype": "text/x-python",
   "name": "python",
   "nbconvert_exporter": "python",
   "pygments_lexer": "ipython3",
   "version": "3.12.9"
  }
 },
 "nbformat": 4,
 "nbformat_minor": 5
}

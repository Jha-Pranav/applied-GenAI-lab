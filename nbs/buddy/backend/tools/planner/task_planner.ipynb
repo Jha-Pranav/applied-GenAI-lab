{
 "cells": [
  {
   "cell_type": "code",
   "execution_count": 2,
   "id": "abbab50c-ff26-4af5-b9be-b23012e7e71e",
   "metadata": {},
   "outputs": [],
   "source": [
    "# | default_exp tools.task_planner"
   ]
  },
  {
   "cell_type": "code",
   "execution_count": 3,
   "id": "4aa1b192-b306-4a08-bf94-a5da5742adbb",
   "metadata": {},
   "outputs": [],
   "source": [
    "# | export\n",
    "from typing import Dict, Any\n",
    "import asyncio\n",
    "from agentic.tools.base import BaseTool, ToolMetadata, ToolCategory\n",
    "\n",
    "class TaskPlannerTool(BaseTool):\n",
    "    \"\"\"Intelligent task analysis and execution planning tool\"\"\"\n",
    "    \n",
    "    def __init__(self):\n",
    "        super().__init__(\n",
    "            metadata=ToolMetadata(\n",
    "                name=\"task_planner\",\n",
    "                description=\"Intelligent task analysis and execution planning for complex requests\",\n",
    "                category=ToolCategory.INTELLIGENCE\n",
    "            )\n",
    "        )\n",
    "    \n",
    "    def get_parameters_schema(self) -> Dict[str, Any]:\n",
    "        return {\n",
    "            \"type\": \"object\",\n",
    "            \"properties\": {\n",
    "                \"request\": {\n",
    "                    \"type\": \"string\",\n",
    "                    \"description\": \"Complete user request to analyze and plan\"\n",
    "                },\n",
    "                \"complexity\": {\n",
    "                    \"type\": \"string\",\n",
    "                    \"description\": \"Estimated complexity level (optional)\"\n",
    "                }\n",
    "            },\n",
    "            \"required\": [\"request\"]\n",
    "        }\n",
    "    \n",
    "    def execute(self, **kwargs) -> Dict[str, Any]:\n",
    "        \"\"\"Execute task planning\"\"\"\n",
    "        try:\n",
    "            request = kwargs.get(\"request\", \"\")\n",
    "            \n",
    "            if not request:\n",
    "                return {\"error\": \"Request is required\"}\n",
    "            \n",
    "            # Import and run planner\n",
    "            from ..agent.planner.main import main as planner_main\n",
    "            result = asyncio.run(planner_main(request))\n",
    "            \n",
    "            return {\"success\": True, \"result\": result}\n",
    "            \n",
    "        except Exception as e:\n",
    "            return {\"error\": f\"Planning execution failed: {str(e)}\"}\n"
   ]
  },
  {
   "cell_type": "code",
   "execution_count": null,
   "id": "4cc82673-9be5-4cf3-bb90-7a90403ff3de",
   "metadata": {},
   "outputs": [],
   "source": []
  }
 ],
 "metadata": {
  "kernelspec": {
   "display_name": "Python 3 (ipykernel)",
   "language": "python",
   "name": "python3"
  },
  "language_info": {
   "codemirror_mode": {
    "name": "ipython",
    "version": 3
   },
   "file_extension": ".py",
   "mimetype": "text/x-python",
   "name": "python",
   "nbconvert_exporter": "python",
   "pygments_lexer": "ipython3",
   "version": "3.12.9"
  }
 },
 "nbformat": 4,
 "nbformat_minor": 5
}

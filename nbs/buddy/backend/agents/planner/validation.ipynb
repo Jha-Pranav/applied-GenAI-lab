{
 "cells": [
  {
   "cell_type": "code",
   "execution_count": 1,
   "id": "991e13d3-9bfa-40d6-8c2f-542a2ed9ddf0",
   "metadata": {},
   "outputs": [],
   "source": [
    "# | default_exp agent.planner.validation"
   ]
  },
  {
   "cell_type": "code",
   "execution_count": 2,
   "id": "aca54c1d-3f35-4939-8c02-ef008ef3cb9a",
   "metadata": {},
   "outputs": [],
   "source": [
    "# | export\n",
    "import re\n",
    "from typing import List\n",
    "from rich.console import Console\n",
    "\n",
    "from agentic.tools.introspect import IntrospectTool\n",
    "from agentic.tools.base import ToolMetadata, ToolCategory\n",
    "\n",
    "from agentic.agent.planner.models import Task, IntrospectionResult, ProjectBreakdown, ProjectContext\n"
   ]
  },
  {
   "cell_type": "code",
   "execution_count": 3,
   "id": "75772852-1d77-4870-9828-8803b5c3ddc1",
   "metadata": {},
   "outputs": [],
   "source": [
    "# | export \n",
    "class TaskValidator:\n",
    "    \"\"\"Handles task validation and consistency checks\"\"\"\n",
    "    \n",
    "    def __init__(self, console: Console):\n",
    "        self.console = console\n",
    "    \n",
    "    def validate_task_consistency(self, task: Task) -> IntrospectionResult:\n",
    "        \"\"\"Validate internal consistency of task fields\"\"\"\n",
    "        issues = []\n",
    "        \n",
    "        # Only check if task description matches action purposes\n",
    "        if not any(keyword in task.description.lower() for keyword in ['create', 'generate', 'build', 'implement', 'setup']):\n",
    "            if any('write' in action.purpose.lower() or 'create' in action.purpose.lower() for action in task.actions):\n",
    "                issues.append(\"Task uses creation actions but description doesn't indicate creation/setup\")\n",
    "        \n",
    "        success = len(issues) == 0\n",
    "        feedback = f\"Task consistency issues: {'; '.join(issues)}\" if issues else \"Task fields are consistent\"\n",
    "        \n",
    "        return IntrospectionResult(\n",
    "            success=success,\n",
    "            score=10.0 if success else 5.0,\n",
    "            feedback=feedback,\n",
    "            next_action=\"regenerate\" if not success else \"proceed\",\n",
    "            recommendations=[\"Ensure file names match across all task fields\", \"Include specific files in expected_outputs if mentioned in success_criteria\"] if issues else []\n",
    "        )\n",
    "    \n",
    "    def introspect_task_planning(self, task: Task, breakdown: ProjectBreakdown, context: ProjectContext) -> IntrospectionResult:\n",
    "        \"\"\"Pre-execution validation of task planning\"\"\"\n",
    "        \n",
    "        consistency_result = self.validate_task_consistency(task)\n",
    "        if not consistency_result.success:\n",
    "            return consistency_result\n",
    "        \n",
    "        # Simple validation without LLM introspection\n",
    "        if len(task.description) < 10:\n",
    "            return IntrospectionResult(\n",
    "                success=False,\n",
    "                score=3.0,\n",
    "                feedback=\"Task description too short - needs more detail\",\n",
    "                next_action=\"regenerate\",\n",
    "                recommendations=[\"Add more detailed task description\"]\n",
    "            )\n",
    "        \n",
    "        if not task.expected_outputs:\n",
    "            return IntrospectionResult(\n",
    "                success=False,\n",
    "                score=4.0,\n",
    "                feedback=\"No expected outputs defined\",\n",
    "                next_action=\"regenerate\", \n",
    "                recommendations=[\"Define expected outputs for the task\"]\n",
    "            )\n",
    "        \n",
    "        # Task passes basic validation\n",
    "        return IntrospectionResult(\n",
    "            success=True,\n",
    "            score=8.0,\n",
    "            feedback=\"Task validation passed\",\n",
    "            next_action=\"proceed\",\n",
    "            recommendations=[]\n",
    "        )\n",
    "\n"
   ]
  }
 ],
 "metadata": {
  "kernelspec": {
   "display_name": "Python 3 (ipykernel)",
   "language": "python",
   "name": "python3"
  },
  "language_info": {
   "codemirror_mode": {
    "name": "ipython",
    "version": 3
   },
   "file_extension": ".py",
   "mimetype": "text/x-python",
   "name": "python",
   "nbconvert_exporter": "python",
   "pygments_lexer": "ipython3",
   "version": "3.12.9"
  }
 },
 "nbformat": 4,
 "nbformat_minor": 5
}

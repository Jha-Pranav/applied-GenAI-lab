{
 "cells": [
  {
   "cell_type": "code",
   "execution_count": null,
   "id": "db94f631-66e0-4c6b-a8e5-0fae71138601",
   "metadata": {},
   "outputs": [
    {
     "name": "stdout",
     "output_type": "stream",
     "text": [
      "32243989418.0000\n"
     ]
    }
   ],
   "source": [
    "from sympy import sympify\n",
    "\n",
    "expr = sympify(\"56783 * 567846 - 10000\")\n",
    "result = expr.evalf()\n",
    "print(result)"
   ]
  },
  {
   "cell_type": "code",
   "execution_count": null,
   "id": "6fb3cded-b96e-4c4b-b8a4-5b0a050c16f4",
   "metadata": {},
   "outputs": [],
   "source": []
  }
 ],
 "metadata": {
  "kernelspec": {
   "display_name": "Python 3 (ipykernel)",
   "language": "python",
   "name": "python3"
  },
  "language_info": {
   "codemirror_mode": {
    "name": "ipython",
    "version": 3
   },
   "file_extension": ".py",
   "mimetype": "text/x-python",
   "name": "python",
   "nbconvert_exporter": "python",
   "pygments_lexer": "ipython3",
   "version": "3.12.9"
  }
 },
 "nbformat": 4,
 "nbformat_minor": 5
}

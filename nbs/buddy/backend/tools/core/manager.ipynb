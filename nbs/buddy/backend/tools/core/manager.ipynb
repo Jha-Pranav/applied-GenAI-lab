{
 "cells": [
  {
   "cell_type": "code",
   "execution_count": 2,
   "id": "e937a638-9662-4f73-8dfb-d8fe32714dc4",
   "metadata": {},
   "outputs": [],
   "source": [
    "# | default_exp tools.manager"
   ]
  },
  {
   "cell_type": "code",
   "execution_count": 4,
   "id": "06ad9116-1983-40e7-a622-3790c79dad61",
   "metadata": {},
   "outputs": [
    {
     "ename": "ModuleNotFoundError",
     "evalue": "No module named 'agentic.tools.debate'",
     "output_type": "error",
     "traceback": [
      "\u001b[31m---------------------------------------------------------------------------\u001b[39m",
      "\u001b[31mModuleNotFoundError\u001b[39m                       Traceback (most recent call last)",
      "\u001b[36mCell\u001b[39m\u001b[36m \u001b[39m\u001b[32mIn[4]\u001b[39m\u001b[32m, line 11\u001b[39m\n\u001b[32m      9\u001b[39m \u001b[38;5;28;01mfrom\u001b[39;00m\u001b[38;5;250m \u001b[39m\u001b[34;01magentic\u001b[39;00m\u001b[34;01m.\u001b[39;00m\u001b[34;01mtools\u001b[39;00m\u001b[34;01m.\u001b[39;00m\u001b[34;01mexecute_bash\u001b[39;00m\u001b[38;5;250m \u001b[39m\u001b[38;5;28;01mimport\u001b[39;00m ExecuteBashTool\n\u001b[32m     10\u001b[39m \u001b[38;5;28;01mfrom\u001b[39;00m\u001b[38;5;250m \u001b[39m\u001b[34;01magentic\u001b[39;00m\u001b[34;01m.\u001b[39;00m\u001b[34;01mtools\u001b[39;00m\u001b[34;01m.\u001b[39;00m\u001b[34;01mcode_interpreter\u001b[39;00m\u001b[38;5;250m \u001b[39m\u001b[38;5;28;01mimport\u001b[39;00m CodeInterpreterTool\n\u001b[32m---> \u001b[39m\u001b[32m11\u001b[39m \u001b[38;5;28;01mfrom\u001b[39;00m\u001b[38;5;250m \u001b[39m\u001b[34;01magentic\u001b[39;00m\u001b[34;01m.\u001b[39;00m\u001b[34;01mtools\u001b[39;00m\u001b[34;01m.\u001b[39;00m\u001b[34;01mdebate\u001b[39;00m\u001b[38;5;250m \u001b[39m\u001b[38;5;28;01mimport\u001b[39;00m DebateTool\n\u001b[32m     12\u001b[39m \u001b[38;5;28;01mfrom\u001b[39;00m\u001b[38;5;250m \u001b[39m\u001b[34;01magentic\u001b[39;00m\u001b[34;01m.\u001b[39;00m\u001b[34;01mtools\u001b[39;00m\u001b[34;01m.\u001b[39;00m\u001b[34;01mplanner\u001b[39;00m\u001b[38;5;250m \u001b[39m\u001b[38;5;28;01mimport\u001b[39;00m PlannerTool\n\u001b[32m     15\u001b[39m \u001b[38;5;66;03m# %% ../../nbs/buddy/backend/tools/core/manager.ipynb 2\u001b[39;00m\n",
      "\u001b[31mModuleNotFoundError\u001b[39m: No module named 'agentic.tools.debate'"
     ]
    }
   ],
   "source": [
    "# | export\n",
    "\n",
    "from typing import Dict, List, Any, Optional\n",
    "\n",
    "from agentic.tools.base import BaseTool\n",
    "from agentic.tools.registry import ToolRegistry\n",
    "from agentic.tools.fs_read import FsReadTool\n",
    "from agentic.tools.fs_write import FsWriteTool\n",
    "from agentic.tools.execute_bash import ExecuteBashTool\n",
    "from agentic.tools.code_interpreter import CodeInterpreterTool\n",
    "from agentic.tools.debate import DebateTool\n",
    "from agentic.tools.planner import PlannerTool\n",
    "\n",
    "\n",
    "# %% ../../nbs/buddy/backend/tools/core/manager.ipynb 2\n",
    "class ToolManager:\n",
    "    \"\"\"Enhanced tool manager\"\"\"\n",
    "    \n",
    "    def __init__(self):\n",
    "        self.registry = ToolRegistry()\n",
    "        self._register_default_tools()\n",
    "    \n",
    "    def _register_default_tools(self):\n",
    "        \"\"\"Register all default tools\"\"\"\n",
    "        default_tools = [\n",
    "            # Filesystem tools\n",
    "            FsReadTool(),\n",
    "            FsWriteTool(),\n",
    "            \n",
    "            # System tools\n",
    "            ExecuteBashTool(),\n",
    "            \n",
    "            # Analysis tools\n",
    "            CodeInterpreterTool(),\n",
    "            \n",
    "            # Intelligence tools\n",
    "            DebateTool(),\n",
    "            \n",
    "            # Planning tools\n",
    "            PlannerTool()\n",
    "        ]\n",
    "        \n",
    "        for tool in default_tools:\n",
    "            self.registry.register_tool(tool)\n",
    "    \n",
    "    def get_tools(self, tool_names: Optional[List[str]] = None) -> List[Dict[str, Any]]:\n",
    "        \"\"\"Get OpenAI-formatted tools\"\"\"\n",
    "        return self.registry.get_openai_schemas(tool_names)\n",
    "    \n",
    "    def execute_tool(self, tool_name: str, parameters: Dict[str, Any]) -> Dict[str, Any]:\n",
    "        \"\"\"Execute a tool by name\"\"\"\n",
    "        return self.registry.execute_tool(tool_name, parameters)\n",
    "    \n",
    "    def list_tools(self) -> List[str]:\n",
    "        \"\"\"List all available tool names\"\"\"\n",
    "        return self.registry.list_tools()\n",
    "    \n",
    "    def get_tool_info(self, tool_name: str) -> Optional[Dict[str, Any]]:\n",
    "        \"\"\"Get information about a specific tool\"\"\"\n",
    "        return self.registry.get_tool_info(tool_name)\n",
    "    \n",
    "    def register_custom_tool(self, tool: BaseTool):\n",
    "        \"\"\"Register a custom tool\"\"\"\n",
    "        self.registry.register_tool(tool)\n",
    "    \n",
    "    def unregister_tool(self, tool_name: str):\n",
    "        \"\"\"Unregister a tool\"\"\"\n",
    "        self.registry.unregister_tool(tool_name)\n",
    "\n",
    "\n"
   ]
  },
  {
   "cell_type": "code",
   "execution_count": null,
   "id": "67f12111-eaa6-40f6-b05c-6f545380244a",
   "metadata": {},
   "outputs": [],
   "source": []
  }
 ],
 "metadata": {
  "kernelspec": {
   "display_name": "Python 3 (ipykernel)",
   "language": "python",
   "name": "python3"
  },
  "language_info": {
   "codemirror_mode": {
    "name": "ipython",
    "version": 3
   },
   "file_extension": ".py",
   "mimetype": "text/x-python",
   "name": "python",
   "nbconvert_exporter": "python",
   "pygments_lexer": "ipython3",
   "version": "3.12.9"
  }
 },
 "nbformat": 4,
 "nbformat_minor": 5
}

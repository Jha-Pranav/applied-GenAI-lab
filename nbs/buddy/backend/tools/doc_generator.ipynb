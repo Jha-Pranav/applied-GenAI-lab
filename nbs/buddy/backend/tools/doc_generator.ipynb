{
 "cells": [
  {
   "cell_type": "code",
   "execution_count": 2,
   "id": "295e9c84-6698-46bc-af88-65c9e2d4b1be",
   "metadata": {},
   "outputs": [],
   "source": [
    "# | default_exp tools.doc_generator"
   ]
  },
  {
   "cell_type": "code",
   "execution_count": 3,
   "id": "e743c4a4-d04f-42fe-9427-638be39b7c58",
   "metadata": {},
   "outputs": [],
   "source": [
    "# | export\n",
    "from agentic.tools.base import Tool\n",
    "from agentic.schemas import DocumentationGeneratorParams\n",
    "from pathlib import Path\n",
    "from typing import Dict, Any\n",
    "\n",
    "class DocGeneratorTool(Tool):\n",
    "    def get_tool_schema(self) -> Dict[str, Any]:\n",
    "        \"\"\"Return the OpenAI-compatible schema for doc_generator.\"\"\"\n",
    "        return {\n",
    "                \"type\": \"function\",\n",
    "                \"function\": {\n",
    "                    \"name\": \"doc_generator\",\n",
    "                    \"description\": \"Intelligent documentation generator that analyzes entire repositories and creates comprehensive usage documentation.\",\n",
    "                    \"parameters\": {\n",
    "                        \"type\": \"object\",\n",
    "                        \"properties\": {\n",
    "                            \"repo_path\": {\"type\": \"string\", \"description\": \"Repository root path\"},\n",
    "                            \"doc_type\": {\n",
    "                                \"type\": \"string\",\n",
    "                                \"enum\": [\"api\", \"usage\", \"architecture\", \"setup\", \"comprehensive\"],\n",
    "                                \"description\": \"Type of documentation to generate\"\n",
    "                            },\n",
    "                            \"output_format\": {\"type\": \"string\", \"enum\": [\"markdown\", \"html\", \"rst\"], \"description\": \"Output format\"},\n",
    "                            \"include_examples\": {\"type\": \"boolean\", \"description\": \"Include code examples\"},\n",
    "                            \"include_diagrams\": {\"type\": \"boolean\", \"description\": \"Generate architecture diagrams\"},\n",
    "                            \"target_audience\": {\"type\": \"string\", \"enum\": [\"developers\", \"users\", \"contributors\"], \"description\": \"Target audience\"},\n",
    "                            \"output_path\": {\"type\": \"string\", \"description\": \"Output directory for documentation\"}\n",
    "                        },\n",
    "                        \"required\": [\"repo_path\", \"doc_type\"]\n",
    "                    }\n",
    "                }\n",
    "            }\n",
    "\n",
    "    def execute(self, **kwargs) -> Dict[str, Any]:\n",
    "        \"\"\"Generate documentation for a repository.\"\"\"\n",
    "        try:\n",
    "            params = DocumentationGeneratorParams(**kwargs)\n",
    "            repo_path = Path(params.repo_path)\n",
    "            \n",
    "            if not repo_path.exists() or not repo_path.is_dir():\n",
    "                return {\"error\": f\"Invalid repository path: {params.repo_path}\"}\n",
    "            \n",
    "            output_path = Path(params.output_path)\n",
    "            output_path.mkdir(parents=True, exist_ok=True)\n",
    "            \n",
    "            # Simplified documentation generation (replace with actual doc generation logic)\n",
    "            doc_content = f\"# {params.doc_type.capitalize()} Documentation\\n\\nGenerated for {params.repo_path}\\n\"\n",
    "            if params.include_examples:\n",
    "                doc_content += \"## Examples\\nPlaceholder example content\\n\"\n",
    "            if params.include_diagrams:\n",
    "                doc_content += \"## Diagrams\\nPlaceholder diagram content\\n\"\n",
    "            \n",
    "            output_file = output_path / f\"docs.{params.output_format}\"\n",
    "            with open(output_file, 'w', encoding='utf-8') as f:\n",
    "                f.write(doc_content)\n",
    "            \n",
    "            return {\n",
    "                \"success\": True,\n",
    "                \"output_path\": str(output_file),\n",
    "                \"doc_type\": params.doc_type,\n",
    "                \"format\": params.output_format,\n",
    "                \"message\": f\"Generated {params.doc_type} documentation in {params.output_format}\"\n",
    "            }\n",
    "            \n",
    "        except Exception as e:\n",
    "            return {\"error\": f\"Documentation generation failed: {str(e)}\"}"
   ]
  },
  {
   "cell_type": "code",
   "execution_count": null,
   "id": "62b6dd65-e84d-4d9f-be4b-5467b49d7f4f",
   "metadata": {},
   "outputs": [],
   "source": []
  }
 ],
 "metadata": {
  "kernelspec": {
   "display_name": "Python 3 (ipykernel)",
   "language": "python",
   "name": "python3"
  },
  "language_info": {
   "codemirror_mode": {
    "name": "ipython",
    "version": 3
   },
   "file_extension": ".py",
   "mimetype": "text/x-python",
   "name": "python",
   "nbconvert_exporter": "python",
   "pygments_lexer": "ipython3",
   "version": "3.12.9"
  }
 },
 "nbformat": 4,
 "nbformat_minor": 5
}

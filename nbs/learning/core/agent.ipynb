{
 "cells": [
  {
   "cell_type": "code",
   "execution_count": 1,
   "id": "d5149ea1-10a8-4ddb-804d-4b4a57667094",
   "metadata": {},
   "outputs": [],
   "source": [
    "from openai import OpenAI\n",
    "from dataclasses import dataclass\n",
    "from typing import Optional\n"
   ]
  },
  {
   "cell_type": "code",
   "execution_count": 2,
   "id": "c11b9773-8f37-4456-8b7c-18938804ed45",
   "metadata": {},
   "outputs": [],
   "source": [
    "\n",
    "# Setup OpenAI client to use Ollama\n",
    "client = OpenAI(\n",
    "    base_url=\"http://localhost:11434/v1\",\n",
    "    api_key=\"ollama\"\n",
    ")\n"
   ]
  },
  {
   "cell_type": "code",
   "execution_count": 4,
   "id": "7db05e9c-69ee-4938-be4d-3c85811cec54",
   "metadata": {},
   "outputs": [],
   "source": [
    "@dataclass\n",
    "class Agent:\n",
    "    \"\"\"Agent class similar to agents.Agent\"\"\"\n",
    "    name: str\n",
    "    instructions: str\n",
    "    model: str = \"qwen3:8b\"\n"
   ]
  },
  {
   "cell_type": "code",
   "execution_count": 6,
   "id": "d7095eef-1039-4fe6-ac2e-b699e6ca7ff9",
   "metadata": {},
   "outputs": [],
   "source": [
    "class Runner:\n",
    "    \"\"\"Runner class similar to agents.Runner\"\"\"\n",
    "    \n",
    "    @classmethod\n",
    "    def run_sync(cls, agent: Agent, input: str) -> str:\n",
    "        \"\"\"Run agent synchronously, similar to agents.Runner.run_sync\"\"\"\n",
    "        response = client.chat.completions.create(\n",
    "            model=agent.model,\n",
    "            messages=[\n",
    "                {\"role\": \"system\", \"content\": agent.instructions},\n",
    "                {\"role\": \"user\", \"content\": input}\n",
    "            ]\n",
    "        )\n",
    "        return response.choices[0].message.content"
   ]
  },
  {
   "cell_type": "code",
   "execution_count": 8,
   "id": "5adcc7dc-e825-4393-8542-74f5b4b99825",
   "metadata": {},
   "outputs": [
    {
     "name": "stdout",
     "output_type": "stream",
     "text": [
      "<think>\n",
      "Okay, the user is asking about today's weather. I need to provide a concise answer. As a weather specialist, I should check the current data for the user's location. Wait, the user didn't specify where they are. Without knowing the location, I can't give accurate details. I should ask them to provide their location so I can fetch the correct weather information. Also, I need to make sure to mention that I can only discuss weather-related topics, as per the guidelines. Let me phrase that clearly and politely.\n",
      "</think>\n",
      "\n",
      "To provide accurate weather details, please share your current location. I can only discuss weather-related topics.\n"
     ]
    }
   ],
   "source": [
    "weather_agent = Agent(name=\"weather agent\",instructions=\"You are a weather specialist. Only discuss weather-related topics. Be concise.\")\n",
    "print(Runner.run_sync(weather_agent,\"What's the weather like today?\"))"
   ]
  },
  {
   "cell_type": "code",
   "execution_count": null,
   "id": "911fd4b4-a845-48a7-b7d4-a02b66cb4aaa",
   "metadata": {},
   "outputs": [],
   "source": []
  }
 ],
 "metadata": {
  "kernelspec": {
   "display_name": "Python 3 (ipykernel)",
   "language": "python",
   "name": "python3"
  },
  "language_info": {
   "codemirror_mode": {
    "name": "ipython",
    "version": 3
   },
   "file_extension": ".py",
   "mimetype": "text/x-python",
   "name": "python",
   "nbconvert_exporter": "python",
   "pygments_lexer": "ipython3",
   "version": "3.12.9"
  }
 },
 "nbformat": 4,
 "nbformat_minor": 5
}

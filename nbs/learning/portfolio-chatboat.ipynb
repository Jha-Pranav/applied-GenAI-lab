{
 "cells": [
  {
   "cell_type": "code",
   "execution_count": null,
   "id": "040527e5-e537-4604-80ea-bae384493c20",
   "metadata": {},
   "outputs": [],
   "source": [
    "from pypdf import PdfReader\n",
    "import gradio as gr\n",
    "\n",
    "from openai import OpenAI\n"
   ]
  },
  {
   "cell_type": "code",
   "execution_count": null,
   "id": "927a61fd-d996-4ed5-ac3e-6baa914743f1",
   "metadata": {},
   "outputs": [],
   "source": [
    "ollama = OpenAI(base_url='http://localhost:11434/v1', api_key='ollama')"
   ]
  },
  {
   "cell_type": "code",
   "execution_count": null,
   "id": "0064f26b-c312-4566-9c11-60c636c59d01",
   "metadata": {},
   "outputs": [],
   "source": [
    "reader = PdfReader(\"PranavJha_resume.pdf\")\n",
    "resume = \"\"\n",
    "for page in reader.pages:\n",
    "    text = page.extract_text()\n",
    "    if text:\n",
    "        resume += text"
   ]
  },
  {
   "cell_type": "code",
   "execution_count": null,
   "id": "18af6fd8-f482-4a2a-a0f9-073ed11c14e1",
   "metadata": {},
   "outputs": [],
   "source": [
    "import requests\n",
    "from bs4 import BeautifulSoup\n",
    "\n",
    "# Step 1: Fetch the HTML\n",
    "url = 'https://jha-pranav.github.io/My-portfolio-website/'\n",
    "response = requests.get(url)\n",
    "\n",
    "# Step 2: Parse HTML with BeautifulSoup\n",
    "soup = BeautifulSoup(response.text, 'html.parser')\n",
    "\n",
    "# Step 3: Remove script and style elements\n",
    "for tag in soup(['script', 'style']):\n",
    "    tag.decompose()\n",
    "\n",
    "# Step 4: Optionally remove boilerplate (e.g., header, footer, nav)\n",
    "for tag in soup(['header', 'footer', 'nav']):\n",
    "    tag.decompose()\n",
    "\n",
    "# Step 5: Extract meaningful text\n",
    "text = soup.get_text(separator='\\n', strip=True)\n",
    "\n",
    "# Step 6: Clean up excess whitespace\n",
    "lines = [line.strip() for line in text.splitlines() if line.strip()]\n",
    "summary = '\\n'.join(lines)\n"
   ]
  },
  {
   "cell_type": "code",
   "execution_count": null,
   "id": "6fc040de-a339-4cd8-9efc-386003a3d70d",
   "metadata": {},
   "outputs": [],
   "source": [
    "name = \"Pranav Jha\"\n",
    "system_prompt = f\"\"\"You're acting as {name}, the unapologetically brilliant mind behind this website. \n",
    "You're here to answer questions about {name}'s career, background, skills, and experience — basically, the stuff that makes {name} awesome (and employable). \n",
    "\n",
    "You're not a boring resume reader — you're witty, sharp, and maybe a bit sarcastic when the moment calls for it. \n",
    "You're talking to curious humans — potential clients, future employers, or just people who took a wrong turn on the internet — so make it fun, engaging, and a little bold.\n",
    "\n",
    "You've got access to a summary of {name}'s background and their LinkedIn profile to help craft your answers. \n",
    "Your job is to represent {name} as faithfully (and fabulously) as possible — showcasing skills, experience, and personality without sounding like a robot on corporate autopilot.\n",
    "\n",
    "Stay in character. Be clever, playful, and professional — like a genius who doesn’t take themselves too seriously. \n",
    "And if you don’t know the answer to something? Be honest. Guessing is for game shows.\n",
    "\n",
    "## Summary:\n",
    "{summary}\n",
    "\n",
    "## LinkedIn Profile:\n",
    "{resume}\n",
    "\n",
    "Now go forth and charm the socks off whoever’s asking questions — all while being unmistakably {name}.\n",
    "\"\"\"\n"
   ]
  },
  {
   "cell_type": "code",
   "execution_count": null,
   "id": "f52b11af-5363-4383-b03d-e381fc68b4ed",
   "metadata": {},
   "outputs": [
    {
     "name": "stdout",
     "output_type": "stream",
     "text": [
      "* Running on local URL:  http://127.0.0.1:7871\n",
      "* To create a public link, set `share=True` in `launch()`.\n"
     ]
    },
    {
     "data": {
      "text/html": [
       "<div><iframe src=\"http://127.0.0.1:7871/\" width=\"100%\" height=\"500\" allow=\"autoplay; camera; microphone; clipboard-read; clipboard-write;\" frameborder=\"0\" allowfullscreen></iframe></div>"
      ],
      "text/plain": [
       "<IPython.core.display.HTML object>"
      ]
     },
     "metadata": {},
     "output_type": "display_data"
    },
    {
     "data": {
      "text/plain": []
     },
     "execution_count": null,
     "metadata": {},
     "output_type": "execute_result"
    }
   ],
   "source": [
    "def chat(message, history,stream=True):\n",
    "    messages = [{\"role\": \"system\", \"content\": system_prompt}] + history + [{\"role\": \"user\", \"content\": message}]\n",
    "    \n",
    "    response = ollama.chat.completions.create(model=\"gemma3:4b\", messages=messages,stream=stream)\n",
    "    if stream:\n",
    "        partial = \"\"\n",
    "        for chunk in response:\n",
    "            delta = chunk.choices[0].delta\n",
    "            if delta and delta.content:\n",
    "                partial += delta.content\n",
    "                yield partial\n",
    "    else:\n",
    "        return response.choices[0].message.content\n",
    "    \n",
    "\n",
    "gr.ChatInterface(chat, type=\"messages\",flagging_mode=\"never\",\n",
    "    theme=gr.Theme.from_hub(\"gstaff/sketch\"),\n",
    "    fill_width=True,).launch()"
   ]
  },
  {
   "cell_type": "code",
   "execution_count": null,
   "id": "76def0d4-ed6a-4e07-a3d4-15162759864d",
   "metadata": {},
   "outputs": [],
   "source": []
  }
 ],
 "metadata": {
  "kernelspec": {
   "display_name": "python3",
   "language": "python",
   "name": "python3"
  }
 },
 "nbformat": 4,
 "nbformat_minor": 5
}

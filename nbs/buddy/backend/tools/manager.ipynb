{
 "cells": [
  {
   "cell_type": "code",
   "execution_count": 1,
   "id": "b28a98c8-22fc-4d3d-bd54-f3df52b04d30",
   "metadata": {},
   "outputs": [],
   "source": [
    "# | default_exp backend.tools.manager"
   ]
  },
  {
   "cell_type": "code",
   "execution_count": 4,
   "id": "d350204d-3612-413b-8cfa-db313d542ae3",
   "metadata": {},
   "outputs": [],
   "source": [
    "# | export\n",
    "from typing import List, Dict, Any\n",
    "from agentic.backend.tools.fs_read import FsReadTool\n",
    "\n",
    "from agentic.backend.tools.fs_write import FsWriteTool\n",
    "from agentic.backend.tools.execute_bash import ExecuteBashTool\n",
    "from agentic.backend.tools.todo import TodoTool\n",
    "from agentic.backend.tools.debate_agent import DebateAgentTool\n",
    "from agentic.backend.tools.code_interpreter import CodeInterpreterTool\n",
    "from agentic.backend.tools.code_quality import CodeQualityTool\n",
    "from agentic.backend.tools.doc_generator import DocGeneratorTool\n",
    "from agentic.backend.tools.memory import MemoryManagerTool"
   ]
  },
  {
   "cell_type": "code",
   "execution_count": 6,
   "id": "172f738a-3204-4ec5-a6ec-d8cce1b5f59e",
   "metadata": {},
   "outputs": [],
   "source": [
    "# | export\n",
    "class ToolManager:\n",
    "    def __init__(self):\n",
    "        self.tools = {\n",
    "            \"fs_read\": FsReadTool(),\n",
    "            \"fs_write\": FsWriteTool(),\n",
    "            \"execute_bash\": ExecuteBashTool(),\n",
    "            \"todo\": TodoTool(),\n",
    "            \"debate_agent\": DebateAgentTool(),\n",
    "            \"code_interpreter\": CodeInterpreterTool(),\n",
    "            \"code_quality\": CodeQualityTool(),\n",
    "            \"doc_generator\": DocGeneratorTool(),\n",
    "            \"memory_manager\": MemoryManagerTool(),\n",
    "        }\n",
    "\n",
    "    def get_tools(self, requested_tools: List[str]) -> List[Dict]:\n",
    "        \"\"\"Convert requested tools to OpenAI function calling format.\"\"\"\n",
    "        return [self.tools[tool].get_tool_schema() for tool in requested_tools if tool in self.tools]\n",
    "\n",
    "    def execute_tool(self, tool_name: str, **kwargs) -> Dict[str, Any]:\n",
    "        \"\"\"Execute the specified tool with given arguments.\"\"\"\n",
    "        if tool_name not in self.tools:\n",
    "            return {\"error\": f\"Unknown tool: {tool_name}\"}\n",
    "        try:\n",
    "            return self.tools[tool_name].execute(**kwargs)\n",
    "        except Exception as e:\n",
    "            return {\"error\": f\"Tool {tool_name} execution failed: {str(e)}\"}"
   ]
  },
  {
   "cell_type": "code",
   "execution_count": null,
   "id": "a18985fb-2aa3-495c-8578-1ca1915c2908",
   "metadata": {},
   "outputs": [],
   "source": []
  }
 ],
 "metadata": {
  "kernelspec": {
   "display_name": "Python 3 (ipykernel)",
   "language": "python",
   "name": "python3"
  },
  "language_info": {
   "codemirror_mode": {
    "name": "ipython",
    "version": 3
   },
   "file_extension": ".py",
   "mimetype": "text/x-python",
   "name": "python",
   "nbconvert_exporter": "python",
   "pygments_lexer": "ipython3",
   "version": "3.12.9"
  }
 },
 "nbformat": 4,
 "nbformat_minor": 5
}

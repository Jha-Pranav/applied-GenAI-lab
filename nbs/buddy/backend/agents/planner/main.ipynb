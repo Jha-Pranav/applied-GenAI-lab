{
 "cells": [
  {
   "cell_type": "code",
   "execution_count": null,
   "id": "5c3e9606",
   "metadata": {},
   "outputs": [],
   "source": [
    "# | default_exp agent.planner.main"
   ]
  },
  {
   "cell_type": "code",
   "execution_count": 5,
   "id": "32ecb0fb-3d02-48eb-ae23-6bdf31b608ee",
   "metadata": {},
   "outputs": [
    {
     "ename": "ModuleNotFoundError",
     "evalue": "No module named 'agentic.agent.planner.executor'",
     "output_type": "error",
     "traceback": [
      "\u001b[31m---------------------------------------------------------------------------\u001b[39m",
      "\u001b[31mModuleNotFoundError\u001b[39m                       Traceback (most recent call last)",
      "\u001b[36mCell\u001b[39m\u001b[36m \u001b[39m\u001b[32mIn[5]\u001b[39m\u001b[32m, line 3\u001b[39m\n\u001b[32m      1\u001b[39m \u001b[38;5;66;03m# | export\u001b[39;00m\n\u001b[32m      2\u001b[39m \u001b[38;5;28;01mimport\u001b[39;00m\u001b[38;5;250m \u001b[39m\u001b[34;01masyncio\u001b[39;00m\n\u001b[32m----> \u001b[39m\u001b[32m3\u001b[39m \u001b[38;5;28;01mfrom\u001b[39;00m\u001b[38;5;250m \u001b[39m\u001b[34;01magentic\u001b[39;00m\u001b[34;01m.\u001b[39;00m\u001b[34;01magent\u001b[39;00m\u001b[34;01m.\u001b[39;00m\u001b[34;01mplanner\u001b[39;00m\u001b[34;01m.\u001b[39;00m\u001b[34;01mexecutor\u001b[39;00m\u001b[38;5;250m \u001b[39m\u001b[38;5;28;01mimport\u001b[39;00m DynamicTaskExecutor\n\u001b[32m      5\u001b[39m \u001b[38;5;28;01masync\u001b[39;00m \u001b[38;5;28;01mdef\u001b[39;00m\u001b[38;5;250m \u001b[39m\u001b[34mmain\u001b[39m():\n\u001b[32m      6\u001b[39m \u001b[38;5;250m    \u001b[39m\u001b[33;03m\"\"\"Production demo with proper error handling\"\"\"\u001b[39;00m\n",
      "\u001b[31mModuleNotFoundError\u001b[39m: No module named 'agentic.agent.planner.executor'"
     ]
    }
   ],
   "source": [
    "# | export\n",
    "import asyncio\n",
    "from agentic.agent.planner.executor import DynamicTaskExecutor\n",
    "\n",
    "async def main():\n",
    "    \"\"\"Production demo with proper error handling\"\"\"\n",
    "    try:\n",
    "        # Use model from config.toml\n",
    "        executor = DynamicTaskExecutor()\n",
    "        \n",
    "        user_request = \"Build a web scraping framework with rate limiting and data storage\"\n",
    "        \n",
    "        # Execute project\n",
    "        result = await executor.execute_project(user_request)\n",
    "        \n",
    "    except KeyboardInterrupt:\n",
    "        print(\"\\n⚠️ Execution interrupted by user.\")\n",
    "    except Exception as e:\n",
    "        print(f\"❌ Execution failed: {e}\")\n"
   ]
  },
  {
   "cell_type": "code",
   "execution_count": null,
   "id": "8508ea8a-746b-471a-bef4-c90fbb46ae1d",
   "metadata": {},
   "outputs": [],
   "source": []
  }
 ],
 "metadata": {
  "kernelspec": {
   "display_name": "Python 3 (ipykernel)",
   "language": "python",
   "name": "python3"
  },
  "language_info": {
   "codemirror_mode": {
    "name": "ipython",
    "version": 3
   },
   "file_extension": ".py",
   "mimetype": "text/x-python",
   "name": "python",
   "nbconvert_exporter": "python",
   "pygments_lexer": "ipython3",
   "version": "3.12.9"
  }
 },
 "nbformat": 4,
 "nbformat_minor": 5
}

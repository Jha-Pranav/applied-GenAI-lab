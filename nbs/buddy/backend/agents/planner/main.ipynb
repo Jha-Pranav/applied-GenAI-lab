{
 "cells": [
  {
   "cell_type": "code",
   "execution_count": null,
   "id": "5c3e9606",
   "metadata": {},
   "outputs": [],
   "source": [
    "# | default_exp agent.planner.main"
   ]
  },
  {
   "cell_type": "code",
   "execution_count": 1,
   "id": "32ecb0fb-3d02-48eb-ae23-6bdf31b608ee",
   "metadata": {},
   "outputs": [],
   "source": [
    "# | export\n",
    "import asyncio\n",
    "from agentic.agent.planner.executor import DynamicTaskExecutor\n",
    "\n",
    "async def main():\n",
    "    \"\"\"Production demo with proper error handling\"\"\"\n",
    "    try:\n",
    "        # Use model from config.toml\n",
    "        executor = DynamicTaskExecutor()\n",
    "        \n",
    "        user_request = \"Build a web scraping framework with rate limiting and data storage\"\n",
    "        \n",
    "        # Execute project\n",
    "        result = await executor.execute_project(user_request)\n",
    "        \n",
    "    except KeyboardInterrupt:\n",
    "        print(\"\\n⚠️ Execution interrupted by user.\")\n",
    "    except Exception as e:\n",
    "        print(f\"❌ Execution failed: {e}\")\n"
   ]
  },
  {
   "cell_type": "code",
   "execution_count": null,
   "id": "8508ea8a-746b-471a-bef4-c90fbb46ae1d",
   "metadata": {},
   "outputs": [],
   "source": []
  }
 ],
 "metadata": {
  "kernelspec": {
   "display_name": "Python 3 (ipykernel)",
   "language": "python",
   "name": "python3"
  },
  "language_info": {
   "codemirror_mode": {
    "name": "ipython",
    "version": 3
   },
   "file_extension": ".py",
   "mimetype": "text/x-python",
   "name": "python",
   "nbconvert_exporter": "python",
   "pygments_lexer": "ipython3",
   "version": "3.12.9"
  }
 },
 "nbformat": 4,
 "nbformat_minor": 5
}

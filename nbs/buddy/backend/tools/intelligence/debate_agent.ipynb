{
 "cells": [
  {
   "cell_type": "code",
   "execution_count": 3,
   "id": "a3550c04-76b4-4ffb-b3cd-45ff14182340",
   "metadata": {},
   "outputs": [],
   "source": [
    "# | default_exp tools.debate_agent"
   ]
  },
  {
   "cell_type": "code",
   "execution_count": 2,
   "id": "8798e9fd-4d0c-44ae-8c30-dddc6c0647c7",
   "metadata": {},
   "outputs": [],
   "source": [
    "# | export\n",
    "from agentic.tools.base import BaseTool\n",
    "from agentic.schemas import DebateAgentParams\n",
    "from typing import Dict, Any, List\n",
    "\n",
    "class DebateAgentTool(BaseTool):\n",
    "    def get_parameters_schema(self) -> Dict[str, Any]:\n",
    "        \"\"\"Return the OpenAI-compatible schema for debate_agent.\"\"\"\n",
    "        return {\n",
    "                \"type\": \"function\",\n",
    "                \"function\": {\n",
    "                    \"name\": \"debate_agent\",\n",
    "                    \"description\": \"Multi-perspective debate agent for design decisions. Presents alternative viewpoints and challenges assumptions.\",\n",
    "                    \"parameters\": {\n",
    "                        \"type\": \"object\",\n",
    "                        \"properties\": {\n",
    "                            \"decision\": {\"type\": \"string\", \"description\": \"The design decision or approach being considered\"},\n",
    "                            \"context\": {\"type\": \"string\", \"description\": \"Background context and requirements\"},\n",
    "                            \"perspectives\": {\n",
    "                                \"type\": \"array\",\n",
    "                                \"items\": {\"type\": \"string\"},\n",
    "                                \"description\": \"Perspectives to consider: security,license, performance, maintainability, scalability, cost, user_experience\"\n",
    "                            },\n",
    "                            \"debate_style\": {\n",
    "                                \"type\": \"string\",\n",
    "                                \"enum\": [\"pros_cons\", \"alternatives\", \"devil_advocate\", \"stakeholder_views\"],\n",
    "                                \"description\": \"Style of debate analysis\"\n",
    "                            }\n",
    "                        },\n",
    "                        \"required\": [\"decision\", \"context\"]\n",
    "                    }\n",
    "                }\n",
    "            }\n",
    "\n",
    "    def execute(self, **kwargs) -> Dict[str, Any]:\n",
    "        \"\"\"Execute debate_agent to analyze a decision from multiple perspectives.\"\"\"\n",
    "        try:\n",
    "            params = DebateAgentParams(**kwargs)\n",
    "            perspectives = params.perspectives or [\"Pros\", \"Cons\"]\n",
    "            style = params.debate_style or \"pros_cons\"\n",
    "            \n",
    "            # Simplified debate logic (replace with LLM-based analysis if needed)\n",
    "            analysis = []\n",
    "            for perspective in perspectives:\n",
    "                analysis.append({\n",
    "                    \"perspective\": perspective,\n",
    "                    \"arguments\": [f\"{perspective} argument for {params.decision}\"]\n",
    "                })\n",
    "            \n",
    "            return {\n",
    "                \"success\": True,\n",
    "                \"decision\": params.decision,\n",
    "                \"context\": params.context,\n",
    "                \"style\": style,\n",
    "                \"analysis\": analysis,\n",
    "                \"summary\": f\"Analyzed {params.decision} from {len(perspectives)} perspectives\"\n",
    "            }\n",
    "            \n",
    "        except Exception as e:\n",
    "            return {\"error\": f\"Debate analysis failed: {str(e)}\"}"
   ]
  },
  {
   "cell_type": "code",
   "execution_count": null,
   "id": "9d394c9a-3543-4e1f-aff2-0497e59c38a6",
   "metadata": {},
   "outputs": [],
   "source": []
  }
 ],
 "metadata": {
  "kernelspec": {
   "display_name": "Python 3 (ipykernel)",
   "language": "python",
   "name": "python3"
  },
  "language_info": {
   "codemirror_mode": {
    "name": "ipython",
    "version": 3
   },
   "file_extension": ".py",
   "mimetype": "text/x-python",
   "name": "python",
   "nbconvert_exporter": "python",
   "pygments_lexer": "ipython3",
   "version": "3.12.9"
  }
 },
 "nbformat": 4,
 "nbformat_minor": 5
}

{
 "cells": [
  {
   "cell_type": "code",
   "execution_count": 1,
   "id": "7e401bd5-8bb3-420f-8d93-47969df7d642",
   "metadata": {},
   "outputs": [],
   "source": [
    "import mlflow\n",
    "\n",
    "mlflow.openai.autolog()"
   ]
  },
  {
   "cell_type": "code",
   "execution_count": 3,
   "id": "73f07930-3923-4f12-b86b-56b169150f40",
   "metadata": {},
   "outputs": [
    {
     "name": "stderr",
     "output_type": "stream",
     "text": [
      "2025/09/15 09:15:12 INFO mlflow.tracking.fluent: Experiment with name 'Ollama' does not exist. Creating a new experiment.\n"
     ]
    },
    {
     "data": {
      "text/plain": [
       "<Experiment: artifact_location='mlflow-artifacts:/501817621012458429', creation_time=1757907912241, experiment_id='501817621012458429', last_update_time=1757907912241, lifecycle_stage='active', name='Ollama', tags={}>"
      ]
     },
     "execution_count": 3,
     "metadata": {},
     "output_type": "execute_result"
    }
   ],
   "source": [
    "import mlflow\n",
    "\n",
    "# Enable auto-tracing for OpenAI\n",
    "mlflow.openai.autolog()\n",
    "\n",
    "# Optional: Set a tracking URI and an experiment\n",
    "mlflow.set_tracking_uri(\"http://localhost:5000\")\n",
    "mlflow.set_experiment(\"Ollama\")"
   ]
  },
  {
   "cell_type": "code",
   "execution_count": 7,
   "id": "29b2493d-ca6c-4644-b68a-30634a08b0be",
   "metadata": {},
   "outputs": [
    {
     "name": "stdout",
     "output_type": "stream",
     "text": [
      "== Total token usage: ==\n",
      "  Input tokens: 37\n",
      "  Output tokens: 266\n",
      "  Total tokens: 303\n"
     ]
    },
    {
     "data": {
      "text/html": [
       "\n",
       "<div>\n",
       "  <style scoped>\n",
       "  button {\n",
       "    border: none;\n",
       "    border-radius: 4px;\n",
       "    background-color: rgb(34, 114, 180);\n",
       "    font-family: -apple-system, \"system-ui\", \"Segoe UI\", Roboto, \"Helvetica Neue\", Arial;\n",
       "    font-size: 13px;\n",
       "    color: white;\n",
       "    margin-top: 8px;\n",
       "    margin-bottom: 8px;\n",
       "    padding: 8px 16px;\n",
       "    cursor: pointer;\n",
       "  }\n",
       "  button:hover {\n",
       "    background-color: rgb(66, 153, 224);\n",
       "  }\n",
       "  </style>\n",
       "  <button\n",
       "    onclick=\"\n",
       "        const display = this.nextElementSibling.style.display;\n",
       "        const isCollapsed = display === 'none';\n",
       "        this.nextElementSibling.style.display = isCollapsed ? null : 'none';\n",
       "\n",
       "        const verb = isCollapsed ? 'Collapse' : 'Expand';\n",
       "        this.innerText = `${verb} MLflow Trace`;\n",
       "    \"\n",
       "  >Collapse MLflow Trace</button>\n",
       "  <iframe\n",
       "    id=\"trace-renderer\"\n",
       "    style=\"width: 100%; height: 500px; border: none; resize: vertical;\"\n",
       "    src=\"http://localhost:5000/static-files/lib/notebook-trace-renderer/index.html?trace_id=tr-391d64a950e076f3bd4a9f17f045c01c&amp;experiment_id=501817621012458429&amp;version=3.3.2\"\n",
       "  />\n",
       "</div>\n"
      ],
      "text/plain": [
       "Trace(trace_id=tr-391d64a950e076f3bd4a9f17f045c01c)"
      ]
     },
     "metadata": {},
     "output_type": "display_data"
    }
   ],
   "source": [
    "from openai import OpenAI\n",
    "\n",
    "client = OpenAI(\n",
    "    base_url=\"http://localhost:11434/v1\",  # The local Ollama REST endpoint\n",
    "    api_key=\"ollama\",  # Required to instantiate OpenAI client, it can be a random string\n",
    ")\n",
    "\n",
    "response = client.chat.completions.create(\n",
    "    model=\"llama3.2:1b\",\n",
    "    messages=[\n",
    "        {\"role\": \"system\", \"content\": \"You are a science teacher.\"},\n",
    "        {\"role\": \"user\", \"content\": \"Why is the sky blue?\"},\n",
    "    ],\n",
    ")\n",
    "\n",
    "# Get the trace object just created\n",
    "last_trace_id = mlflow.get_last_active_trace_id()\n",
    "trace = mlflow.get_trace(trace_id=last_trace_id)\n",
    "\n",
    "# Print the token usage\n",
    "total_usage = trace.info.token_usage\n",
    "print(\"== Total token usage: ==\")\n",
    "print(f\"  Input tokens: {total_usage['input_tokens']}\")\n",
    "print(f\"  Output tokens: {total_usage['output_tokens']}\")\n",
    "print(f\"  Total tokens: {total_usage['total_tokens']}\")\n"
   ]
  },
  {
   "cell_type": "code",
   "execution_count": null,
   "id": "3c8a6981-a1b0-446d-ad46-0b4270f71342",
   "metadata": {},
   "outputs": [],
   "source": []
  }
 ],
 "metadata": {
  "kernelspec": {
   "display_name": "Python 3 (ipykernel)",
   "language": "python",
   "name": "python3"
  },
  "language_info": {
   "codemirror_mode": {
    "name": "ipython",
    "version": 3
   },
   "file_extension": ".py",
   "mimetype": "text/x-python",
   "name": "python",
   "nbconvert_exporter": "python",
   "pygments_lexer": "ipython3",
   "version": "3.12.9"
  }
 },
 "nbformat": 4,
 "nbformat_minor": 5
}

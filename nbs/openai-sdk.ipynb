{
 "cells": [
  {
   "cell_type": "code",
   "execution_count": 1,
   "id": "146501a5-acd5-4edd-9356-181ae01fe13f",
   "metadata": {},
   "outputs": [],
   "source": [
    "from agents import Agent, Runner, trace, OpenAIChatCompletionsModel,AsyncOpenAI, function_tool\n",
    "from openai.types.responses import ResponseTextDeltaEvent\n",
    "from IPython.display import Markdown, display"
   ]
  },
  {
   "cell_type": "code",
   "execution_count": 2,
   "id": "773f83c5-8f69-4852-8e71-c1a2c055942d",
   "metadata": {},
   "outputs": [],
   "source": [
    "model = OpenAIChatCompletionsModel(model=\"gpt-oss:20b\",\n",
    "                                  openai_client=AsyncOpenAI(base_url=\"http://localhost:11434/v1\",api_key=\"ollama\"))"
   ]
  },
  {
   "cell_type": "code",
   "execution_count": 3,
   "id": "705c01b4-7618-4d8e-863a-c27809e4aae1",
   "metadata": {},
   "outputs": [],
   "source": [
    "# Create the agent\n",
    "agent = Agent(\n",
    "    name=\"Assistant\",\n",
    "    instructions=\"You are a helpful assistant\",\n",
    "    model=model\n",
    ")"
   ]
  },
  {
   "cell_type": "code",
   "execution_count": 4,
   "id": "1313ec6b-e88b-4a0e-be4d-42ecb87b23a6",
   "metadata": {},
   "outputs": [
    {
     "name": "stderr",
     "output_type": "stream",
     "text": [
      "OPENAI_API_KEY is not set, skipping trace export\n"
     ]
    },
    {
     "data": {
      "text/markdown": [
       "**Father of Mahadev** – Sage **Kashyapa**."
      ],
      "text/plain": [
       "<IPython.core.display.Markdown object>"
      ]
     },
     "metadata": {},
     "output_type": "display_data"
    },
    {
     "name": "stderr",
     "output_type": "stream",
     "text": [
      "OPENAI_API_KEY is not set, skipping trace export\n",
      "OPENAI_API_KEY is not set, skipping trace export\n",
      "OPENAI_API_KEY is not set, skipping trace export\n",
      "OPENAI_API_KEY is not set, skipping trace export\n",
      "OPENAI_API_KEY is not set, skipping trace export\n",
      "OPENAI_API_KEY is not set, skipping trace export\n",
      "OPENAI_API_KEY is not set, skipping trace export\n",
      "OPENAI_API_KEY is not set, skipping trace export\n",
      "OPENAI_API_KEY is not set, skipping trace export\n",
      "OPENAI_API_KEY is not set, skipping trace export\n",
      "OPENAI_API_KEY is not set, skipping trace export\n",
      "OPENAI_API_KEY is not set, skipping trace export\n",
      "OPENAI_API_KEY is not set, skipping trace export\n",
      "OPENAI_API_KEY is not set, skipping trace export\n",
      "OPENAI_API_KEY is not set, skipping trace export\n",
      "OPENAI_API_KEY is not set, skipping trace export\n",
      "OPENAI_API_KEY is not set, skipping trace export\n",
      "OPENAI_API_KEY is not set, skipping trace export\n",
      "OPENAI_API_KEY is not set, skipping trace export\n",
      "OPENAI_API_KEY is not set, skipping trace export\n",
      "OPENAI_API_KEY is not set, skipping trace export\n",
      "OPENAI_API_KEY is not set, skipping trace export\n",
      "OPENAI_API_KEY is not set, skipping trace export\n",
      "OPENAI_API_KEY is not set, skipping trace export\n",
      "OPENAI_API_KEY is not set, skipping trace export\n",
      "OPENAI_API_KEY is not set, skipping trace export\n",
      "OPENAI_API_KEY is not set, skipping trace export\n",
      "OPENAI_API_KEY is not set, skipping trace export\n",
      "OPENAI_API_KEY is not set, skipping trace export\n",
      "OPENAI_API_KEY is not set, skipping trace export\n",
      "OPENAI_API_KEY is not set, skipping trace export\n",
      "OPENAI_API_KEY is not set, skipping trace export\n",
      "OPENAI_API_KEY is not set, skipping trace export\n",
      "OPENAI_API_KEY is not set, skipping trace export\n",
      "OPENAI_API_KEY is not set, skipping trace export\n",
      "OPENAI_API_KEY is not set, skipping trace export\n",
      "OPENAI_API_KEY is not set, skipping trace export\n",
      "OPENAI_API_KEY is not set, skipping trace export\n",
      "OPENAI_API_KEY is not set, skipping trace export\n",
      "OPENAI_API_KEY is not set, skipping trace export\n",
      "OPENAI_API_KEY is not set, skipping trace export\n",
      "OPENAI_API_KEY is not set, skipping trace export\n"
     ]
    }
   ],
   "source": [
    "result = await Runner.run(starting_agent=agent,input=\"Who is the father of Mahadev? Answer in short.\")\n",
    "display(Markdown(result.final_output))"
   ]
  },
  {
   "cell_type": "code",
   "execution_count": 5,
   "id": "ea341a48-99bd-4e66-8350-a1fffdac6751",
   "metadata": {},
   "outputs": [
    {
     "name": "stdout",
     "output_type": "stream",
     "text": [
      "**One‑week Indian meal plan (short, balanced)**  \n",
      "\n",
      "| Day | Breakfast | Lunch | Snack | Dinner |\n",
      "|-----|-----------|-------|-------|--------|\n",
      "| **Mon** | Poha + fresh coconut chutney | Chole + 2 chapatis | Makhana (Fox‑nuts) | Khichdi + cucumber raita |\n",
      "| **Tue** | Upma + mint tea | Mutton curry + steamed rice | Fruit (papaya slices) | Paneer makhani + jeera rice |\n",
      "| **Wed** | Idli + sambar + coconut chutney | Dal tadka + 2 phulkas | Roasted chickpeas | Fish (grilled/murg) + mixed veg stir‑fry |\n",
      "| **Thu** | Aloo paratha + curd | Rajma + 2 bajra roti | Boiled sweet corn | Mixed vegetable curry + paratha |\n",
      "| **Fri** | Banana‑choco pancakes (oats) | Chicken tikka masala + naan | Yogurt smoothie | Tofu tikka + quinoa |\n",
      "| **Sat** | Dhokla + green chutney | Palak chicken + 2 madhura rotis | Sprouts salad | Biryani (vegetable or lamb) |\n",
      "| **Sun** | Parle‑Biscuit + chai | Khichdi + mango pickle | Guava slices | Butter chicken + 2 chapatis |\n",
      "\n",
      "*Adjust portion sizes, add a glass of water or buttermilk, and enjoy a daily dose of fruits/vegetables for balanced nutrition.*"
     ]
    }
   ],
   "source": [
    "result = Runner.run_streamed(agent, \"I am from India. Create a meal plan for a week. Answer in short.\")\n",
    "async for event in result.stream_events():\n",
    "    if event.type == \"raw_response_event\" and isinstance(event.data, ResponseTextDeltaEvent):\n",
    "        print(event.data.delta, end=\"\", flush=True)"
   ]
  },
  {
   "cell_type": "code",
   "execution_count": 30,
   "id": "41c94ba4-8694-43b0-836e-6f183340cb57",
   "metadata": {},
   "outputs": [
    {
     "data": {
      "text/plain": [
       "<Experiment: artifact_location='mlflow-artifacts:/615119549503924654', creation_time=1756996413561, experiment_id='615119549503924654', last_update_time=1756996413561, lifecycle_stage='active', name='OpenAI Agent', tags={}>"
      ]
     },
     "execution_count": 30,
     "metadata": {},
     "output_type": "execute_result"
    }
   ],
   "source": [
    "## Traces\n",
    "import mlflow\n",
    "import asyncio\n",
    "from agents import Agent, Runner\n",
    "\n",
    "mlflow.openai.autolog()\n",
    "\n",
    "# Optional: Set a tracking URI and an experiment\n",
    "mlflow.set_tracking_uri(\"http://localhost:5000\")\n",
    "mlflow.set_experiment(\"OpenAI Agent\")"
   ]
  },
  {
   "cell_type": "code",
   "execution_count": null,
   "id": "f651997a-8b7b-4e7f-a666-a427b1984b7f",
   "metadata": {},
   "outputs": [],
   "source": [
    "\n",
    "# === 🧠 AGENT: Emoji Generator ===\n",
    "emoji_agent = Agent(\n",
    "    name=\"emoji_agent\",\n",
    "    instructions=(\n",
    "        \"You're an emoji artist. You turn summarized news into expressive emoji sequences. \"\n",
    "        \"Be creative, thematic, and intuitive — like visual headlines people can understand without words.\"\n",
    "    ),\n",
    "    model=model\n",
    ")\n",
    "\n",
    "emoji_tool = emoji_agent.as_tool(\n",
    "    tool_name=\"emoji_generator\",\n",
    "    tool_description=\"Generates creative emoji representations from short summarized news text.\"\n",
    ")\n",
    "\n",
    "# === ✏️ AGENT: Summarizer ===\n",
    "summarizer = Agent(\n",
    "    name=\"summarizer\",\n",
    "    instructions=(\n",
    "        \"You're a news summarizer. Your job is to shorten long news into 1-2 crisp sentences. \"\n",
    "        \"Avoid emojis — keep it short, simple, and informative.\"\n",
    "    ),\n",
    "    model=model\n",
    ")\n",
    "\n",
    "summarizer_tool = summarizer.as_tool(\n",
    "    tool_name=\"text_summarizer\",\n",
    "    tool_description=\"Summarizes long text into short, emoji-ready summaries.\"\n",
    ")\n",
    "\n",
    "# === 🎬 AGENT: Orchestrator ===\n",
    "emoji_headline_generator = Agent(\n",
    "    name=\"emoji_headlines\",\n",
    "    instructions=(\n",
    "        \"You're an assistant that turns full news stories into emoji-based headlines. \"\n",
    "        \"Use the available tools: first summarize, then convert to emojis. Never create emojis yourself.\"\n",
    "    ),\n",
    "    tools=[summarizer_tool, emoji_tool],\n",
    "    model=model\n",
    ")\n",
    "\n",
    "# === 🧪 TEST DATA ===\n",
    "news_sample = \"\"\"\n",
    "NASA has announced its Artemis III mission will land the first woman and the next man on the Moon by 2026. \n",
    "This marks a major milestone in the agency’s goal to establish a long-term human presence on the lunar surface, \n",
    "and eventually launch crewed missions to Mars.\n",
    "\"\"\"\n",
    "\n",
    "# === 🚀 RUN WORKFLOW ===\n",
    "emoji_response = await Runner.run(emoji_headline_generator, news_sample)\n",
    "emoji_output = emoji_response.final_output\n",
    "\n",
    "# === 📤 DISPLAY ===\n",
    "print(\"🗞️  Original News:\")\n",
    "print(news_sample)\n",
    "print(\"\\n✨ Emoji Headline:\")\n",
    "display(Markdown(emoji_output))\n"
   ]
  },
  {
   "cell_type": "code",
   "execution_count": null,
   "id": "10591bc2-1f80-4b50-88e6-32aca8ae3ea7",
   "metadata": {},
   "outputs": [],
   "source": [
    "\n",
    "# Define a simple multi-agent workflow\n",
    "hindi_agent = Agent(\n",
    "    name=\"Hindi agent\",\n",
    "    instructions=\"You only speak Hindi.\",\n",
    "    model=model\n",
    ")\n",
    "\n",
    "english_agent = Agent(\n",
    "    name=\"English agent\",\n",
    "    instructions=\"You only speak English\",\n",
    "    model=model\n",
    ")\n",
    "\n",
    "triage_agent = Agent(\n",
    "    name=\"Triage agent\",\n",
    "    instructions=\"Handoff to the appropriate agent based on the language of the request.\",\n",
    "    handoffs=[hindi_agent, english_agent],\n",
    "    model=model\n",
    ")\n",
    "\n",
    "print('Runner started.')\n",
    "result = await Runner.run(triage_agent, input=\"एआई एजेंटों के बड़े में तुम क्या जानते हो?\")\n",
    "print(result.final_output)\n"
   ]
  },
  {
   "cell_type": "code",
   "execution_count": 11,
   "id": "9dee5489-1233-4eb9-8532-18fa51463dfb",
   "metadata": {},
   "outputs": [
    {
     "name": "stdout",
     "output_type": "stream",
     "text": [
      "The weather in Tokyo is sunny.\n"
     ]
    },
    {
     "data": {
      "text/html": [
       "\n",
       "<div>\n",
       "  <style scoped>\n",
       "  button {\n",
       "    border: none;\n",
       "    border-radius: 4px;\n",
       "    background-color: rgb(34, 114, 180);\n",
       "    font-family: -apple-system, \"system-ui\", \"Segoe UI\", Roboto, \"Helvetica Neue\", Arial;\n",
       "    font-size: 13px;\n",
       "    color: white;\n",
       "    margin-top: 8px;\n",
       "    margin-bottom: 8px;\n",
       "    padding: 8px 16px;\n",
       "    cursor: pointer;\n",
       "  }\n",
       "  button:hover {\n",
       "    background-color: rgb(66, 153, 224);\n",
       "  }\n",
       "  </style>\n",
       "  <button\n",
       "    onclick=\"\n",
       "        const display = this.nextElementSibling.style.display;\n",
       "        const isCollapsed = display === 'none';\n",
       "        this.nextElementSibling.style.display = isCollapsed ? null : 'none';\n",
       "\n",
       "        const verb = isCollapsed ? 'Collapse' : 'Expand';\n",
       "        this.innerText = `${verb} MLflow Trace`;\n",
       "    \"\n",
       "  >Collapse MLflow Trace</button>\n",
       "  <iframe\n",
       "    id=\"trace-renderer\"\n",
       "    style=\"width: 100%; height: 500px; border: none; resize: vertical;\"\n",
       "    src=\"http://localhost:5000/static-files/lib/notebook-trace-renderer/index.html?trace_id=tr-3d9df1cc6f20caa2b4a7d88c964274f3&amp;experiment_id=615119549503924654&amp;version=3.3.2\"\n",
       "  />\n",
       "</div>\n"
      ],
      "text/plain": [
       "Trace(trace_id=tr-3d9df1cc6f20caa2b4a7d88c964274f3)"
      ]
     },
     "metadata": {},
     "output_type": "display_data"
    }
   ],
   "source": [
    "import asyncio\n",
    "\n",
    "from agents import Agent, Runner, function_tool\n",
    "\n",
    "# Enable auto tracing for OpenAI Agents SDK\n",
    "mlflow.openai.autolog()\n",
    "\n",
    "\n",
    "@function_tool\n",
    "def get_weather(city: str) -> str:\n",
    "    return f\"The weather in {city} is sunny.\"\n",
    "\n",
    "\n",
    "agent = Agent(\n",
    "    name=\"Hello world\",\n",
    "    instructions=\"You are a helpful agent.\",\n",
    "    tools=[get_weather],\n",
    "    model=model\n",
    ")\n",
    "\n",
    "\n",
    "\n",
    "result = await Runner.run(agent, input=\"What's the weather in Tokyo?\")\n",
    "print(result.final_output)"
   ]
  },
  {
   "cell_type": "code",
   "execution_count": 12,
   "id": "8dea38b7-f4aa-4643-9482-63be8ac6055d",
   "metadata": {},
   "outputs": [
    {
     "ename": "MaxTurnsExceeded",
     "evalue": "Max turns (10) exceeded",
     "output_type": "error",
     "traceback": [
      "\u001b[31m---------------------------------------------------------------------------\u001b[39m",
      "\u001b[31mMaxTurnsExceeded\u001b[39m                          Traceback (most recent call last)",
      "\u001b[36mCell\u001b[39m\u001b[36m \u001b[39m\u001b[32mIn[12]\u001b[39m\u001b[32m, line 51\u001b[39m\n\u001b[32m     41\u001b[39m agent = Agent(\n\u001b[32m     42\u001b[39m     name=\u001b[33m\"\u001b[39m\u001b[33mCustomer support agent\u001b[39m\u001b[33m\"\u001b[39m,\n\u001b[32m     43\u001b[39m     instructions=\u001b[33m\"\u001b[39m\u001b[33mYou are a customer support agent. You help customers with their questions.\u001b[39m\u001b[33m\"\u001b[39m,\n\u001b[32m     44\u001b[39m     input_guardrails=[math_guardrail],\n\u001b[32m     45\u001b[39m     model= model\n\u001b[32m     46\u001b[39m )\n\u001b[32m     50\u001b[39m \u001b[38;5;28;01mtry\u001b[39;00m:\n\u001b[32m---> \u001b[39m\u001b[32m51\u001b[39m     \u001b[38;5;28;01mawait\u001b[39;00m Runner.run(agent, \u001b[33m\"\u001b[39m\u001b[33mHello, can you help me solve for x: 2x + 3 = 11?\u001b[39m\u001b[33m\"\u001b[39m)\n\u001b[32m     52\u001b[39m     \u001b[38;5;28mprint\u001b[39m(\u001b[33m\"\u001b[39m\u001b[33mGuardrail didn\u001b[39m\u001b[33m'\u001b[39m\u001b[33mt trip - this is unexpected\u001b[39m\u001b[33m\"\u001b[39m)\n\u001b[32m     54\u001b[39m \u001b[38;5;28;01mexcept\u001b[39;00m InputGuardrailTripwireTriggered:\n",
      "\u001b[36mFile \u001b[39m\u001b[32m~/projects/applied-GenAI-lab/.venv/lib/python3.11/site-packages/agents/run.py:267\u001b[39m, in \u001b[36mRunner.run\u001b[39m\u001b[34m(cls, starting_agent, input, context, max_turns, hooks, run_config, previous_response_id, conversation_id, session)\u001b[39m\n\u001b[32m    233\u001b[39m \u001b[38;5;250m\u001b[39m\u001b[33;03m\"\"\"Run a workflow starting at the given agent. The agent will run in a loop until a final\u001b[39;00m\n\u001b[32m    234\u001b[39m \u001b[33;03moutput is generated. The loop runs like so:\u001b[39;00m\n\u001b[32m    235\u001b[39m \u001b[33;03m1. The agent is invoked with the given input.\u001b[39;00m\n\u001b[32m   (...)\u001b[39m\u001b[32m    264\u001b[39m \u001b[33;03m    agent. Agents may perform handoffs, so we don't know the specific type of the output.\u001b[39;00m\n\u001b[32m    265\u001b[39m \u001b[33;03m\"\"\"\u001b[39;00m\n\u001b[32m    266\u001b[39m runner = DEFAULT_AGENT_RUNNER\n\u001b[32m--> \u001b[39m\u001b[32m267\u001b[39m \u001b[38;5;28;01mreturn\u001b[39;00m \u001b[38;5;28;01mawait\u001b[39;00m runner.run(\n\u001b[32m    268\u001b[39m     starting_agent,\n\u001b[32m    269\u001b[39m     \u001b[38;5;28minput\u001b[39m,\n\u001b[32m    270\u001b[39m     context=context,\n\u001b[32m    271\u001b[39m     max_turns=max_turns,\n\u001b[32m    272\u001b[39m     hooks=hooks,\n\u001b[32m    273\u001b[39m     run_config=run_config,\n\u001b[32m    274\u001b[39m     previous_response_id=previous_response_id,\n\u001b[32m    275\u001b[39m     conversation_id=conversation_id,\n\u001b[32m    276\u001b[39m     session=session,\n\u001b[32m    277\u001b[39m )\n",
      "\u001b[36mFile \u001b[39m\u001b[32m~/projects/applied-GenAI-lab/.venv/lib/python3.11/site-packages/mlflow/utils/autologging_utils/safety.py:633\u001b[39m, in \u001b[36msafe_patch.<locals>.async_safe_patch_function\u001b[39m\u001b[34m(*args, **kwargs)\u001b[39m\n\u001b[32m    629\u001b[39m call_original = update_wrapper_extended(call_original, original)\n\u001b[32m    631\u001b[39m event_logger.log_patch_function_start(args, kwargs)\n\u001b[32m--> \u001b[39m\u001b[32m633\u001b[39m \u001b[38;5;28;01mawait\u001b[39;00m patch_function(call_original, *args, **kwargs)\n\u001b[32m    635\u001b[39m session.state = \u001b[33m\"\u001b[39m\u001b[33msucceeded\u001b[39m\u001b[33m\"\u001b[39m\n\u001b[32m    636\u001b[39m event_logger.log_patch_function_success(args, kwargs)\n",
      "\u001b[36mFile \u001b[39m\u001b[32m~/projects/applied-GenAI-lab/.venv/lib/python3.11/site-packages/mlflow/openai/_agent_tracer.py:286\u001b[39m, in \u001b[36m_patched_agent_run\u001b[39m\u001b[34m(original, self, *args, **kwargs)\u001b[39m\n\u001b[32m    280\u001b[39m \u001b[38;5;28;01mwith\u001b[39;00m start_span(\n\u001b[32m    281\u001b[39m     name=_AGENT_RUN_SPAN_NAME,\n\u001b[32m    282\u001b[39m     span_type=SpanType.AGENT,\n\u001b[32m    283\u001b[39m     attributes=attributes,\n\u001b[32m    284\u001b[39m ) \u001b[38;5;28;01mas\u001b[39;00m span:\n\u001b[32m    285\u001b[39m     span.set_inputs(inputs.get(\u001b[33m\"\u001b[39m\u001b[33minput\u001b[39m\u001b[33m\"\u001b[39m))\n\u001b[32m--> \u001b[39m\u001b[32m286\u001b[39m     result = \u001b[38;5;28;01mawait\u001b[39;00m original(\u001b[38;5;28mself\u001b[39m, *args, **kwargs)\n\u001b[32m    287\u001b[39m     span.set_outputs(result.final_output)\n\u001b[32m    289\u001b[39m \u001b[38;5;28;01mreturn\u001b[39;00m result\n",
      "\u001b[36mFile \u001b[39m\u001b[32m~/projects/applied-GenAI-lab/.venv/lib/python3.11/site-packages/mlflow/utils/autologging_utils/safety.py:622\u001b[39m, in \u001b[36msafe_patch.<locals>.async_safe_patch_function.<locals>.call_original\u001b[39m\u001b[34m(*og_args, **og_kwargs)\u001b[39m\n\u001b[32m    619\u001b[39m         original_result = \u001b[38;5;28;01mawait\u001b[39;00m original(*_og_args, **_og_kwargs)\n\u001b[32m    620\u001b[39m         \u001b[38;5;28;01mreturn\u001b[39;00m original_result\n\u001b[32m--> \u001b[39m\u001b[32m622\u001b[39m \u001b[38;5;28;01mreturn\u001b[39;00m \u001b[38;5;28;01mawait\u001b[39;00m call_original_fn_with_event_logging(\n\u001b[32m    623\u001b[39m     _original_fn, og_args, og_kwargs\n\u001b[32m    624\u001b[39m )\n",
      "\u001b[36mFile \u001b[39m\u001b[32m~/projects/applied-GenAI-lab/.venv/lib/python3.11/site-packages/mlflow/utils/autologging_utils/safety.py:589\u001b[39m, in \u001b[36msafe_patch.<locals>.async_safe_patch_function.<locals>.call_original_fn_with_event_logging\u001b[39m\u001b[34m(original_fn, og_args, og_kwargs)\u001b[39m\n\u001b[32m    587\u001b[39m \u001b[38;5;28;01mtry\u001b[39;00m:\n\u001b[32m    588\u001b[39m     event_logger.log_original_function_start(og_args, og_kwargs)\n\u001b[32m--> \u001b[39m\u001b[32m589\u001b[39m     original_fn_result = \u001b[38;5;28;01mawait\u001b[39;00m original_fn(*og_args, **og_kwargs)\n\u001b[32m    590\u001b[39m     event_logger.log_original_function_success(og_args, og_kwargs)\n\u001b[32m    591\u001b[39m     \u001b[38;5;28;01mreturn\u001b[39;00m original_fn_result\n",
      "\u001b[36mFile \u001b[39m\u001b[32m~/projects/applied-GenAI-lab/.venv/lib/python3.11/site-packages/mlflow/utils/autologging_utils/safety.py:619\u001b[39m, in \u001b[36msafe_patch.<locals>.async_safe_patch_function.<locals>.call_original.<locals>._original_fn\u001b[39m\u001b[34m(*_og_args, **_og_kwargs)\u001b[39m\n\u001b[32m    617\u001b[39m \u001b[38;5;28;01mnonlocal\u001b[39;00m original_result\n\u001b[32m    618\u001b[39m \u001b[38;5;28;01masync\u001b[39;00m \u001b[38;5;28;01mwith\u001b[39;00m NonMlflowWarningsBehaviorForCurrentThread(\u001b[38;5;28;01mFalse\u001b[39;00m, \u001b[38;5;28;01mFalse\u001b[39;00m):\n\u001b[32m--> \u001b[39m\u001b[32m619\u001b[39m     original_result = \u001b[38;5;28;01mawait\u001b[39;00m original(*_og_args, **_og_kwargs)\n\u001b[32m    620\u001b[39m     \u001b[38;5;28;01mreturn\u001b[39;00m original_result\n",
      "\u001b[36mFile \u001b[39m\u001b[32m~/projects/applied-GenAI-lab/.venv/lib/python3.11/site-packages/agents/run.py:481\u001b[39m, in \u001b[36mAgentRunner.run\u001b[39m\u001b[34m(self, starting_agent, input, **kwargs)\u001b[39m\n\u001b[32m    476\u001b[39m logger.debug(\n\u001b[32m    477\u001b[39m     \u001b[33mf\u001b[39m\u001b[33m\"\u001b[39m\u001b[33mRunning agent \u001b[39m\u001b[38;5;132;01m{\u001b[39;00mcurrent_agent.name\u001b[38;5;132;01m}\u001b[39;00m\u001b[33m (turn \u001b[39m\u001b[38;5;132;01m{\u001b[39;00mcurrent_turn\u001b[38;5;132;01m}\u001b[39;00m\u001b[33m)\u001b[39m\u001b[33m\"\u001b[39m,\n\u001b[32m    478\u001b[39m )\n\u001b[32m    480\u001b[39m \u001b[38;5;28;01mif\u001b[39;00m current_turn == \u001b[32m1\u001b[39m:\n\u001b[32m--> \u001b[39m\u001b[32m481\u001b[39m     input_guardrail_results, turn_result = \u001b[38;5;28;01mawait\u001b[39;00m asyncio.gather(\n\u001b[32m    482\u001b[39m         \u001b[38;5;28mself\u001b[39m._run_input_guardrails(\n\u001b[32m    483\u001b[39m             starting_agent,\n\u001b[32m    484\u001b[39m             starting_agent.input_guardrails\n\u001b[32m    485\u001b[39m             + (run_config.input_guardrails \u001b[38;5;129;01mor\u001b[39;00m []),\n\u001b[32m    486\u001b[39m             _copy_str_or_list(prepared_input),\n\u001b[32m    487\u001b[39m             context_wrapper,\n\u001b[32m    488\u001b[39m         ),\n\u001b[32m    489\u001b[39m         \u001b[38;5;28mself\u001b[39m._run_single_turn(\n\u001b[32m    490\u001b[39m             agent=current_agent,\n\u001b[32m    491\u001b[39m             all_tools=all_tools,\n\u001b[32m    492\u001b[39m             original_input=original_input,\n\u001b[32m    493\u001b[39m             generated_items=generated_items,\n\u001b[32m    494\u001b[39m             hooks=hooks,\n\u001b[32m    495\u001b[39m             context_wrapper=context_wrapper,\n\u001b[32m    496\u001b[39m             run_config=run_config,\n\u001b[32m    497\u001b[39m             should_run_agent_start_hooks=should_run_agent_start_hooks,\n\u001b[32m    498\u001b[39m             tool_use_tracker=tool_use_tracker,\n\u001b[32m    499\u001b[39m             previous_response_id=previous_response_id,\n\u001b[32m    500\u001b[39m             conversation_id=conversation_id,\n\u001b[32m    501\u001b[39m         ),\n\u001b[32m    502\u001b[39m     )\n\u001b[32m    503\u001b[39m \u001b[38;5;28;01melse\u001b[39;00m:\n\u001b[32m    504\u001b[39m     turn_result = \u001b[38;5;28;01mawait\u001b[39;00m \u001b[38;5;28mself\u001b[39m._run_single_turn(\n\u001b[32m    505\u001b[39m         agent=current_agent,\n\u001b[32m    506\u001b[39m         all_tools=all_tools,\n\u001b[32m   (...)\u001b[39m\u001b[32m    515\u001b[39m         conversation_id=conversation_id,\n\u001b[32m    516\u001b[39m     )\n",
      "\u001b[36mFile \u001b[39m\u001b[32m~/projects/applied-GenAI-lab/.venv/lib/python3.11/site-packages/agents/run.py:1298\u001b[39m, in \u001b[36mAgentRunner._run_input_guardrails\u001b[39m\u001b[34m(cls, agent, guardrails, input, context)\u001b[39m\n\u001b[32m   1295\u001b[39m guardrail_results = []\n\u001b[32m   1297\u001b[39m \u001b[38;5;28;01mfor\u001b[39;00m done \u001b[38;5;129;01min\u001b[39;00m asyncio.as_completed(guardrail_tasks):\n\u001b[32m-> \u001b[39m\u001b[32m1298\u001b[39m     result = \u001b[38;5;28;01mawait\u001b[39;00m done\n\u001b[32m   1299\u001b[39m     \u001b[38;5;28;01mif\u001b[39;00m result.output.tripwire_triggered:\n\u001b[32m   1300\u001b[39m         \u001b[38;5;66;03m# Cancel all guardrail tasks if a tripwire is triggered.\u001b[39;00m\n\u001b[32m   1301\u001b[39m         \u001b[38;5;28;01mfor\u001b[39;00m t \u001b[38;5;129;01min\u001b[39;00m guardrail_tasks:\n",
      "\u001b[36mFile \u001b[39m\u001b[32m~/.pyenv/versions/3.11.11/lib/python3.11/asyncio/tasks.py:615\u001b[39m, in \u001b[36mas_completed.<locals>._wait_for_one\u001b[39m\u001b[34m()\u001b[39m\n\u001b[32m    612\u001b[39m \u001b[38;5;28;01mif\u001b[39;00m f \u001b[38;5;129;01mis\u001b[39;00m \u001b[38;5;28;01mNone\u001b[39;00m:\n\u001b[32m    613\u001b[39m     \u001b[38;5;66;03m# Dummy value from _on_timeout().\u001b[39;00m\n\u001b[32m    614\u001b[39m     \u001b[38;5;28;01mraise\u001b[39;00m exceptions.TimeoutError\n\u001b[32m--> \u001b[39m\u001b[32m615\u001b[39m \u001b[38;5;28;01mreturn\u001b[39;00m \u001b[43mf\u001b[49m\u001b[43m.\u001b[49m\u001b[43mresult\u001b[49m\u001b[43m(\u001b[49m\u001b[43m)\u001b[49m\n",
      "\u001b[36mFile \u001b[39m\u001b[32m~/projects/applied-GenAI-lab/.venv/lib/python3.11/site-packages/agents/_run_impl.py:915\u001b[39m, in \u001b[36mRunImpl.run_single_input_guardrail\u001b[39m\u001b[34m(cls, agent, guardrail, input, context)\u001b[39m\n\u001b[32m    906\u001b[39m \u001b[38;5;129m@classmethod\u001b[39m\n\u001b[32m    907\u001b[39m \u001b[38;5;28;01masync\u001b[39;00m \u001b[38;5;28;01mdef\u001b[39;00m\u001b[38;5;250m \u001b[39m\u001b[34mrun_single_input_guardrail\u001b[39m(\n\u001b[32m    908\u001b[39m     \u001b[38;5;28mcls\u001b[39m,\n\u001b[32m   (...)\u001b[39m\u001b[32m    912\u001b[39m     context: RunContextWrapper[TContext],\n\u001b[32m    913\u001b[39m ) -> InputGuardrailResult:\n\u001b[32m    914\u001b[39m     \u001b[38;5;28;01mwith\u001b[39;00m guardrail_span(guardrail.get_name()) \u001b[38;5;28;01mas\u001b[39;00m span_guardrail:\n\u001b[32m--> \u001b[39m\u001b[32m915\u001b[39m         result = \u001b[38;5;28;01mawait\u001b[39;00m guardrail.run(agent, \u001b[38;5;28minput\u001b[39m, context)\n\u001b[32m    916\u001b[39m         span_guardrail.span_data.triggered = result.output.tripwire_triggered\n\u001b[32m    917\u001b[39m         \u001b[38;5;28;01mreturn\u001b[39;00m result\n",
      "\u001b[36mFile \u001b[39m\u001b[32m~/projects/applied-GenAI-lab/.venv/lib/python3.11/site-packages/agents/guardrail.py:119\u001b[39m, in \u001b[36mInputGuardrail.run\u001b[39m\u001b[34m(self, agent, input, context)\u001b[39m\n\u001b[32m    115\u001b[39m output = \u001b[38;5;28mself\u001b[39m.guardrail_function(context, agent, \u001b[38;5;28minput\u001b[39m)\n\u001b[32m    116\u001b[39m \u001b[38;5;28;01mif\u001b[39;00m inspect.isawaitable(output):\n\u001b[32m    117\u001b[39m     \u001b[38;5;28;01mreturn\u001b[39;00m InputGuardrailResult(\n\u001b[32m    118\u001b[39m         guardrail=\u001b[38;5;28mself\u001b[39m,\n\u001b[32m--> \u001b[39m\u001b[32m119\u001b[39m         output=\u001b[38;5;28;01mawait\u001b[39;00m output,\n\u001b[32m    120\u001b[39m     )\n\u001b[32m    122\u001b[39m \u001b[38;5;28;01mreturn\u001b[39;00m InputGuardrailResult(\n\u001b[32m    123\u001b[39m     guardrail=\u001b[38;5;28mself\u001b[39m,\n\u001b[32m    124\u001b[39m     output=output,\n\u001b[32m    125\u001b[39m )\n",
      "\u001b[36mCell\u001b[39m\u001b[36m \u001b[39m\u001b[32mIn[12]\u001b[39m\u001b[32m, line 33\u001b[39m, in \u001b[36mmath_guardrail\u001b[39m\u001b[34m(ctx, agent, input)\u001b[39m\n\u001b[32m     29\u001b[39m \u001b[38;5;129m@input_guardrail\u001b[39m\n\u001b[32m     30\u001b[39m \u001b[38;5;28;01masync\u001b[39;00m \u001b[38;5;28;01mdef\u001b[39;00m\u001b[38;5;250m \u001b[39m\u001b[34mmath_guardrail\u001b[39m(\n\u001b[32m     31\u001b[39m     ctx: RunContextWrapper[\u001b[38;5;28;01mNone\u001b[39;00m], agent: Agent, \u001b[38;5;28minput\u001b[39m\n\u001b[32m     32\u001b[39m ) -> GuardrailFunctionOutput:\n\u001b[32m---> \u001b[39m\u001b[32m33\u001b[39m     result = \u001b[38;5;28;01mawait\u001b[39;00m Runner.run(guardrail_agent, \u001b[38;5;28minput\u001b[39m, context=ctx.context)\n\u001b[32m     35\u001b[39m     \u001b[38;5;28;01mreturn\u001b[39;00m GuardrailFunctionOutput(\n\u001b[32m     36\u001b[39m         output_info=result.final_output,\n\u001b[32m     37\u001b[39m         tripwire_triggered=result.final_output.is_math_homework,\n\u001b[32m     38\u001b[39m     )\n",
      "\u001b[36mFile \u001b[39m\u001b[32m~/projects/applied-GenAI-lab/.venv/lib/python3.11/site-packages/agents/run.py:267\u001b[39m, in \u001b[36mRunner.run\u001b[39m\u001b[34m(cls, starting_agent, input, context, max_turns, hooks, run_config, previous_response_id, conversation_id, session)\u001b[39m\n\u001b[32m    233\u001b[39m \u001b[38;5;250m\u001b[39m\u001b[33;03m\"\"\"Run a workflow starting at the given agent. The agent will run in a loop until a final\u001b[39;00m\n\u001b[32m    234\u001b[39m \u001b[33;03moutput is generated. The loop runs like so:\u001b[39;00m\n\u001b[32m    235\u001b[39m \u001b[33;03m1. The agent is invoked with the given input.\u001b[39;00m\n\u001b[32m   (...)\u001b[39m\u001b[32m    264\u001b[39m \u001b[33;03m    agent. Agents may perform handoffs, so we don't know the specific type of the output.\u001b[39;00m\n\u001b[32m    265\u001b[39m \u001b[33;03m\"\"\"\u001b[39;00m\n\u001b[32m    266\u001b[39m runner = DEFAULT_AGENT_RUNNER\n\u001b[32m--> \u001b[39m\u001b[32m267\u001b[39m \u001b[38;5;28;01mreturn\u001b[39;00m \u001b[38;5;28;01mawait\u001b[39;00m runner.run(\n\u001b[32m    268\u001b[39m     starting_agent,\n\u001b[32m    269\u001b[39m     \u001b[38;5;28minput\u001b[39m,\n\u001b[32m    270\u001b[39m     context=context,\n\u001b[32m    271\u001b[39m     max_turns=max_turns,\n\u001b[32m    272\u001b[39m     hooks=hooks,\n\u001b[32m    273\u001b[39m     run_config=run_config,\n\u001b[32m    274\u001b[39m     previous_response_id=previous_response_id,\n\u001b[32m    275\u001b[39m     conversation_id=conversation_id,\n\u001b[32m    276\u001b[39m     session=session,\n\u001b[32m    277\u001b[39m )\n",
      "\u001b[36mFile \u001b[39m\u001b[32m~/projects/applied-GenAI-lab/.venv/lib/python3.11/site-packages/mlflow/utils/autologging_utils/safety.py:633\u001b[39m, in \u001b[36msafe_patch.<locals>.async_safe_patch_function\u001b[39m\u001b[34m(*args, **kwargs)\u001b[39m\n\u001b[32m    629\u001b[39m call_original = update_wrapper_extended(call_original, original)\n\u001b[32m    631\u001b[39m event_logger.log_patch_function_start(args, kwargs)\n\u001b[32m--> \u001b[39m\u001b[32m633\u001b[39m \u001b[38;5;28;01mawait\u001b[39;00m patch_function(call_original, *args, **kwargs)\n\u001b[32m    635\u001b[39m session.state = \u001b[33m\"\u001b[39m\u001b[33msucceeded\u001b[39m\u001b[33m\"\u001b[39m\n\u001b[32m    636\u001b[39m event_logger.log_patch_function_success(args, kwargs)\n",
      "\u001b[36mFile \u001b[39m\u001b[32m~/projects/applied-GenAI-lab/.venv/lib/python3.11/site-packages/mlflow/openai/_agent_tracer.py:286\u001b[39m, in \u001b[36m_patched_agent_run\u001b[39m\u001b[34m(original, self, *args, **kwargs)\u001b[39m\n\u001b[32m    280\u001b[39m \u001b[38;5;28;01mwith\u001b[39;00m start_span(\n\u001b[32m    281\u001b[39m     name=_AGENT_RUN_SPAN_NAME,\n\u001b[32m    282\u001b[39m     span_type=SpanType.AGENT,\n\u001b[32m    283\u001b[39m     attributes=attributes,\n\u001b[32m    284\u001b[39m ) \u001b[38;5;28;01mas\u001b[39;00m span:\n\u001b[32m    285\u001b[39m     span.set_inputs(inputs.get(\u001b[33m\"\u001b[39m\u001b[33minput\u001b[39m\u001b[33m\"\u001b[39m))\n\u001b[32m--> \u001b[39m\u001b[32m286\u001b[39m     result = \u001b[38;5;28;01mawait\u001b[39;00m original(\u001b[38;5;28mself\u001b[39m, *args, **kwargs)\n\u001b[32m    287\u001b[39m     span.set_outputs(result.final_output)\n\u001b[32m    289\u001b[39m \u001b[38;5;28;01mreturn\u001b[39;00m result\n",
      "\u001b[36mFile \u001b[39m\u001b[32m~/projects/applied-GenAI-lab/.venv/lib/python3.11/site-packages/mlflow/utils/autologging_utils/safety.py:622\u001b[39m, in \u001b[36msafe_patch.<locals>.async_safe_patch_function.<locals>.call_original\u001b[39m\u001b[34m(*og_args, **og_kwargs)\u001b[39m\n\u001b[32m    619\u001b[39m         original_result = \u001b[38;5;28;01mawait\u001b[39;00m original(*_og_args, **_og_kwargs)\n\u001b[32m    620\u001b[39m         \u001b[38;5;28;01mreturn\u001b[39;00m original_result\n\u001b[32m--> \u001b[39m\u001b[32m622\u001b[39m \u001b[38;5;28;01mreturn\u001b[39;00m \u001b[38;5;28;01mawait\u001b[39;00m call_original_fn_with_event_logging(\n\u001b[32m    623\u001b[39m     _original_fn, og_args, og_kwargs\n\u001b[32m    624\u001b[39m )\n",
      "\u001b[36mFile \u001b[39m\u001b[32m~/projects/applied-GenAI-lab/.venv/lib/python3.11/site-packages/mlflow/utils/autologging_utils/safety.py:589\u001b[39m, in \u001b[36msafe_patch.<locals>.async_safe_patch_function.<locals>.call_original_fn_with_event_logging\u001b[39m\u001b[34m(original_fn, og_args, og_kwargs)\u001b[39m\n\u001b[32m    587\u001b[39m \u001b[38;5;28;01mtry\u001b[39;00m:\n\u001b[32m    588\u001b[39m     event_logger.log_original_function_start(og_args, og_kwargs)\n\u001b[32m--> \u001b[39m\u001b[32m589\u001b[39m     original_fn_result = \u001b[38;5;28;01mawait\u001b[39;00m original_fn(*og_args, **og_kwargs)\n\u001b[32m    590\u001b[39m     event_logger.log_original_function_success(og_args, og_kwargs)\n\u001b[32m    591\u001b[39m     \u001b[38;5;28;01mreturn\u001b[39;00m original_fn_result\n",
      "\u001b[36mFile \u001b[39m\u001b[32m~/projects/applied-GenAI-lab/.venv/lib/python3.11/site-packages/mlflow/utils/autologging_utils/safety.py:619\u001b[39m, in \u001b[36msafe_patch.<locals>.async_safe_patch_function.<locals>.call_original.<locals>._original_fn\u001b[39m\u001b[34m(*_og_args, **_og_kwargs)\u001b[39m\n\u001b[32m    617\u001b[39m \u001b[38;5;28;01mnonlocal\u001b[39;00m original_result\n\u001b[32m    618\u001b[39m \u001b[38;5;28;01masync\u001b[39;00m \u001b[38;5;28;01mwith\u001b[39;00m NonMlflowWarningsBehaviorForCurrentThread(\u001b[38;5;28;01mFalse\u001b[39;00m, \u001b[38;5;28;01mFalse\u001b[39;00m):\n\u001b[32m--> \u001b[39m\u001b[32m619\u001b[39m     original_result = \u001b[38;5;28;01mawait\u001b[39;00m original(*_og_args, **_og_kwargs)\n\u001b[32m    620\u001b[39m     \u001b[38;5;28;01mreturn\u001b[39;00m original_result\n",
      "\u001b[36mFile \u001b[39m\u001b[32m~/projects/applied-GenAI-lab/.venv/lib/python3.11/site-packages/agents/run.py:474\u001b[39m, in \u001b[36mAgentRunner.run\u001b[39m\u001b[34m(self, starting_agent, input, **kwargs)\u001b[39m\n\u001b[32m    466\u001b[39m \u001b[38;5;28;01mif\u001b[39;00m current_turn > max_turns:\n\u001b[32m    467\u001b[39m     _error_tracing.attach_error_to_span(\n\u001b[32m    468\u001b[39m         current_span,\n\u001b[32m    469\u001b[39m         SpanError(\n\u001b[32m   (...)\u001b[39m\u001b[32m    472\u001b[39m         ),\n\u001b[32m    473\u001b[39m     )\n\u001b[32m--> \u001b[39m\u001b[32m474\u001b[39m     \u001b[38;5;28;01mraise\u001b[39;00m MaxTurnsExceeded(\u001b[33mf\u001b[39m\u001b[33m\"\u001b[39m\u001b[33mMax turns (\u001b[39m\u001b[38;5;132;01m{\u001b[39;00mmax_turns\u001b[38;5;132;01m}\u001b[39;00m\u001b[33m) exceeded\u001b[39m\u001b[33m\"\u001b[39m)\n\u001b[32m    476\u001b[39m logger.debug(\n\u001b[32m    477\u001b[39m     \u001b[33mf\u001b[39m\u001b[33m\"\u001b[39m\u001b[33mRunning agent \u001b[39m\u001b[38;5;132;01m{\u001b[39;00mcurrent_agent.name\u001b[38;5;132;01m}\u001b[39;00m\u001b[33m (turn \u001b[39m\u001b[38;5;132;01m{\u001b[39;00mcurrent_turn\u001b[38;5;132;01m}\u001b[39;00m\u001b[33m)\u001b[39m\u001b[33m\"\u001b[39m,\n\u001b[32m    478\u001b[39m )\n\u001b[32m    480\u001b[39m \u001b[38;5;28;01mif\u001b[39;00m current_turn == \u001b[32m1\u001b[39m:\n",
      "\u001b[31mMaxTurnsExceeded\u001b[39m: Max turns (10) exceeded"
     ]
    },
    {
     "data": {
      "text/html": [
       "\n",
       "<div>\n",
       "  <style scoped>\n",
       "  button {\n",
       "    border: none;\n",
       "    border-radius: 4px;\n",
       "    background-color: rgb(34, 114, 180);\n",
       "    font-family: -apple-system, \"system-ui\", \"Segoe UI\", Roboto, \"Helvetica Neue\", Arial;\n",
       "    font-size: 13px;\n",
       "    color: white;\n",
       "    margin-top: 8px;\n",
       "    margin-bottom: 8px;\n",
       "    padding: 8px 16px;\n",
       "    cursor: pointer;\n",
       "  }\n",
       "  button:hover {\n",
       "    background-color: rgb(66, 153, 224);\n",
       "  }\n",
       "  </style>\n",
       "  <button\n",
       "    onclick=\"\n",
       "        const display = this.nextElementSibling.style.display;\n",
       "        const isCollapsed = display === 'none';\n",
       "        this.nextElementSibling.style.display = isCollapsed ? null : 'none';\n",
       "\n",
       "        const verb = isCollapsed ? 'Collapse' : 'Expand';\n",
       "        this.innerText = `${verb} MLflow Trace`;\n",
       "    \"\n",
       "  >Collapse MLflow Trace</button>\n",
       "  <iframe\n",
       "    id=\"trace-renderer\"\n",
       "    style=\"width: 100%; height: 500px; border: none; resize: vertical;\"\n",
       "    src=\"http://localhost:5000/static-files/lib/notebook-trace-renderer/index.html?trace_id=tr-a22ed61c9be9c3c5192fcec7a7ccda1e&amp;experiment_id=615119549503924654&amp;version=3.3.2\"\n",
       "  />\n",
       "</div>\n"
      ],
      "text/plain": [
       "Trace(trace_id=tr-a22ed61c9be9c3c5192fcec7a7ccda1e)"
      ]
     },
     "metadata": {},
     "output_type": "display_data"
    }
   ],
   "source": [
    "from pydantic import BaseModel\n",
    "from agents import (\n",
    "    Agent,\n",
    "    GuardrailFunctionOutput,\n",
    "    InputGuardrailTripwireTriggered,\n",
    "    RunContextWrapper,\n",
    "    Runner,\n",
    "    TResponseInputItem,\n",
    "    input_guardrail,\n",
    ")\n",
    "\n",
    "# Enable auto tracing for OpenAI Agents SDK\n",
    "mlflow.openai.autolog()\n",
    "\n",
    "\n",
    "class MathHomeworkOutput(BaseModel):\n",
    "    is_math_homework: bool\n",
    "    reasoning: str\n",
    "\n",
    "\n",
    "guardrail_agent = Agent(\n",
    "    name=\"Guardrail check\",\n",
    "    instructions=\"Check if the user is asking you to do their math homework.\",\n",
    "    output_type=MathHomeworkOutput,\n",
    "    model = model\n",
    ")\n",
    "\n",
    "\n",
    "@input_guardrail\n",
    "async def math_guardrail(\n",
    "    ctx: RunContextWrapper[None], agent: Agent, input\n",
    ") -> GuardrailFunctionOutput:\n",
    "    result = await Runner.run(guardrail_agent, input, context=ctx.context)\n",
    "\n",
    "    return GuardrailFunctionOutput(\n",
    "        output_info=result.final_output,\n",
    "        tripwire_triggered=result.final_output.is_math_homework,\n",
    "    )\n",
    "\n",
    "\n",
    "agent = Agent(\n",
    "    name=\"Customer support agent\",\n",
    "    instructions=\"You are a customer support agent. You help customers with their questions.\",\n",
    "    input_guardrails=[math_guardrail],\n",
    "    model= model\n",
    ")\n",
    "\n",
    "\n",
    "\n",
    "try:\n",
    "    await Runner.run(agent, \"Hello, can you help me solve for x: 2x + 3 = 11?\")\n",
    "    print(\"Guardrail didn't trip - this is unexpected\")\n",
    "\n",
    "except InputGuardrailTripwireTriggered:\n",
    "    print(\"Math homework guardrail tripped\")"
   ]
  },
  {
   "cell_type": "code",
   "execution_count": null,
   "id": "e5a8a432-5449-4139-aa7f-ff01a3f8d57e",
   "metadata": {},
   "outputs": [],
   "source": []
  }
 ],
 "metadata": {
  "kernelspec": {
   "display_name": "Python 3 (ipykernel)",
   "language": "python",
   "name": "python3"
  },
  "language_info": {
   "codemirror_mode": {
    "name": "ipython",
    "version": 3
   },
   "file_extension": ".py",
   "mimetype": "text/x-python",
   "name": "python",
   "nbconvert_exporter": "python",
   "pygments_lexer": "ipython3",
   "version": "3.11.11"
  }
 },
 "nbformat": 4,
 "nbformat_minor": 5
}

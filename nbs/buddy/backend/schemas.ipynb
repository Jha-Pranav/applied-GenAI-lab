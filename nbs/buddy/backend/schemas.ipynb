{
 "cells": [
  {
   "cell_type": "code",
   "execution_count": 12,
   "id": "38deca83-b267-4daf-8c13-69865925557b",
   "metadata": {},
   "outputs": [],
   "source": [
    "from pydantic import BaseModel, validator\n",
    "from typing import List, Dict,Any, Optional, Literal\n",
    "from enum import Enum"
   ]
  },
  {
   "cell_type": "code",
   "execution_count": 13,
   "id": "2e529449-0271-43e3-a1f0-b957bd8ad592",
   "metadata": {},
   "outputs": [],
   "source": [
    "# fs_read\n",
    "class ToolCallMode(str, Enum):\n",
    "    LINE = \"Line\"\n",
    "    DIRECTORY = \"Directory\"\n",
    "    SEARCH = \"Search\"\n",
    "\n",
    "class FsReadOperation(BaseModel):\n",
    "    mode: ToolCallMode\n",
    "    path: str\n",
    "    pattern: Optional[str] = None\n",
    "    start_line: Optional[int] = 1\n",
    "    end_line: Optional[int] = -1\n",
    "\n",
    "class FsReadParams(BaseModel):\n",
    "    operations: List[FsReadOperation]"
   ]
  },
  {
   "cell_type": "code",
   "execution_count": 14,
   "id": "4566893a-c429-462a-a9d0-1735e1faa450",
   "metadata": {},
   "outputs": [],
   "source": [
    "class WriteCommand(str, Enum):\n",
    "    CREATE = \"create\"\n",
    "    STR_REPLACE = \"str_replace\"\n",
    "    INSERT = \"insert\"\n",
    "    APPEND = \"append\"\n",
    "    \n",
    "class FsWriteParams(BaseModel):\n",
    "    command: WriteCommand\n",
    "    path: str\n",
    "    file_text: Optional[str] = None\n",
    "    old_str: Optional[str] = None\n",
    "    new_str: Optional[str] = None\n",
    "    insert_line: Optional[int] = None\n",
    "    summary: Optional[str] = None\n"
   ]
  },
  {
   "cell_type": "code",
   "execution_count": 15,
   "id": "ddd0df1a-a189-42b5-82e4-ef771be7f925",
   "metadata": {},
   "outputs": [],
   "source": [
    "class ExecuteBashParams(BaseModel):\n",
    "    command: str\n",
    "    summary: Optional[str] = None\n"
   ]
  },
  {
   "cell_type": "code",
   "execution_count": 16,
   "id": "da332fd3-eeb7-450d-a102-7a28810c2702",
   "metadata": {},
   "outputs": [],
   "source": [
    "class IntrospectParams(BaseModel):\n",
    "    query: str"
   ]
  },
  {
   "cell_type": "code",
   "execution_count": 17,
   "id": "42ab0a59-efc4-4247-8c4c-c23a43c6d555",
   "metadata": {},
   "outputs": [],
   "source": [
    "class TodoAction(str, Enum):\n",
    "    PLAN = \"plan\"\n",
    "    EXECUTE = \"execute\"\n",
    "    STATUS = \"status\"\n",
    "\n",
    "class TodoParams(BaseModel):\n",
    "    task: str\n",
    "    action: TodoAction\n",
    "    step_id: Optional[int] = None"
   ]
  },
  {
   "cell_type": "code",
   "execution_count": 18,
   "id": "c269124c-9509-4c1f-bb69-5d112d019fb0",
   "metadata": {},
   "outputs": [
    {
     "name": "stderr",
     "output_type": "stream",
     "text": [
      "/tmp/ipykernel_12016/2661810690.py:5: PydanticDeprecatedSince20: Pydantic V1 style `@validator` validators are deprecated. You should migrate to Pydantic V2 style `@field_validator` validators, see the migration guide for more details. Deprecated in Pydantic V2.0 to be removed in V3.0. See Pydantic V2 Migration Guide at https://errors.pydantic.dev/2.11/migration/\n",
      "  @validator('parameters')\n"
     ]
    }
   ],
   "source": [
    "class ToolCall(BaseModel):\n",
    "    name: str\n",
    "    parameters: Dict[str, Any]\n",
    "\n",
    "    @validator('parameters')\n",
    "    def validate_parameters(cls, args, values):\n",
    "        tool_name = values.get('name')\n",
    "        \n",
    "        if tool_name == 'fs_read':\n",
    "            FsReadParams(**args)\n",
    "        elif tool_name == 'fs_write':\n",
    "            FsWriteParams(**args)\n",
    "        elif tool_name == 'execute_bash':\n",
    "            ExecuteBashParams(**args)\n",
    "        elif tool_name == 'introspect':\n",
    "            IntrospectParams(**args)\n",
    "        elif tool_name == 'todo':\n",
    "            TodoParams(**args)\n",
    "        \n",
    "        return args"
   ]
  },
  {
   "cell_type": "code",
   "execution_count": null,
   "id": "e55ea42b-386c-4907-8323-bf8def758e58",
   "metadata": {},
   "outputs": [],
   "source": []
  },
  {
   "cell_type": "code",
   "execution_count": null,
   "id": "e6657ae0-5d06-4a33-a960-d48c45b5dd42",
   "metadata": {},
   "outputs": [],
   "source": []
  }
 ],
 "metadata": {
  "kernelspec": {
   "display_name": "Python 3 (ipykernel)",
   "language": "python",
   "name": "python3"
  },
  "language_info": {
   "codemirror_mode": {
    "name": "ipython",
    "version": 3
   },
   "file_extension": ".py",
   "mimetype": "text/x-python",
   "name": "python",
   "nbconvert_exporter": "python",
   "pygments_lexer": "ipython3",
   "version": "3.11.11"
  }
 },
 "nbformat": 4,
 "nbformat_minor": 5
}

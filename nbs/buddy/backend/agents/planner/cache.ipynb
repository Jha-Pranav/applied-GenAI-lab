{
 "cells": [
  {
   "cell_type": "code",
   "execution_count": 1,
   "id": "ce74076b",
   "metadata": {},
   "outputs": [],
   "source": [
    "# | default_exp agent.planner.cache"
   ]
  },
  {
   "cell_type": "code",
   "execution_count": null,
   "id": "c6cd96c7-a4bf-40e9-8ecf-c8eef4352af5",
   "metadata": {},
   "outputs": [
    {
     "ename": "ImportError",
     "evalue": "attempted relative import with no known parent package",
     "output_type": "error",
     "traceback": [
      "\u001b[31m---------------------------------------------------------------------------\u001b[39m",
      "\u001b[31mImportError\u001b[39m                               Traceback (most recent call last)",
      "\u001b[36mCell\u001b[39m\u001b[36m \u001b[39m\u001b[32mIn[1]\u001b[39m\u001b[32m, line 6\u001b[39m\n\u001b[32m      3\u001b[39m \u001b[38;5;28;01mfrom\u001b[39;00m\u001b[38;5;250m \u001b[39m\u001b[34;01mtyping\u001b[39;00m\u001b[38;5;250m \u001b[39m\u001b[38;5;28;01mimport\u001b[39;00m Optional\n\u001b[32m      4\u001b[39m \u001b[38;5;28;01mfrom\u001b[39;00m\u001b[38;5;250m \u001b[39m\u001b[34;01mrich\u001b[39;00m\u001b[34;01m.\u001b[39;00m\u001b[34;01mconsole\u001b[39;00m\u001b[38;5;250m \u001b[39m\u001b[38;5;28;01mimport\u001b[39;00m Console\n\u001b[32m----> \u001b[39m\u001b[32m6\u001b[39m \u001b[38;5;28;01mfrom\u001b[39;00m\u001b[38;5;250m \u001b[39m\u001b[34;01m.\u001b[39;00m\u001b[34;01mmodels\u001b[39;00m\u001b[38;5;250m \u001b[39m\u001b[38;5;28;01mimport\u001b[39;00m ProjectContext, ProjectBreakdown\n",
      "\u001b[31mImportError\u001b[39m: attempted relative import with no known parent package"
     ]
    }
   ],
   "source": [
    "# | export\n",
    "import json\n",
    "from pathlib import Path\n",
    "from typing import Optional\n",
    "from rich.console import Console\n",
    "\n",
    "from agentic.agent.planner.models import ProjectContext, ProjectBreakdown"
   ]
  },
  {
   "cell_type": "code",
   "execution_count": null,
   "id": "05c1e85e-723f-49f0-b75e-f9ab2c280eef",
   "metadata": {},
   "outputs": [
    {
     "ename": "NameError",
     "evalue": "name 'ProjectContext' is not defined",
     "output_type": "error",
     "traceback": [
      "\u001b[31m---------------------------------------------------------------------------\u001b[39m",
      "\u001b[31mNameError\u001b[39m                                 Traceback (most recent call last)",
      "\u001b[36mCell\u001b[39m\u001b[36m \u001b[39m\u001b[32mIn[2]\u001b[39m\u001b[32m, line 1\u001b[39m\n\u001b[32m----> \u001b[39m\u001b[32m1\u001b[39m \u001b[38;5;28;43;01mclass\u001b[39;49;00m\u001b[38;5;250;43m \u001b[39;49m\u001b[34;43;01mCacheManager\u001b[39;49;00m\u001b[43m:\u001b[49m\n\u001b[32m      2\u001b[39m \u001b[38;5;250;43m    \u001b[39;49m\u001b[33;43;03m\"\"\"Handles execution state caching and restoration\"\"\"\u001b[39;49;00m\n\u001b[32m      4\u001b[39m \u001b[43m    \u001b[49m\u001b[38;5;28;43;01mdef\u001b[39;49;00m\u001b[38;5;250;43m \u001b[39;49m\u001b[34;43m__init__\u001b[39;49m\u001b[43m(\u001b[49m\u001b[38;5;28;43mself\u001b[39;49m\u001b[43m,\u001b[49m\u001b[43m \u001b[49m\u001b[43mconsole\u001b[49m\u001b[43m:\u001b[49m\u001b[43m \u001b[49m\u001b[43mConsole\u001b[49m\u001b[43m,\u001b[49m\u001b[43m \u001b[49m\u001b[43mcache_dir\u001b[49m\u001b[43m:\u001b[49m\u001b[43m \u001b[49m\u001b[38;5;28;43mstr\u001b[39;49m\u001b[43m \u001b[49m\u001b[43m=\u001b[49m\u001b[43m \u001b[49m\u001b[33;43m\"\u001b[39;49m\u001b[33;43mexecution_cache\u001b[39;49m\u001b[33;43m\"\u001b[39;49m\u001b[43m)\u001b[49m\u001b[43m:\u001b[49m\n",
      "\u001b[36mCell\u001b[39m\u001b[36m \u001b[39m\u001b[32mIn[2]\u001b[39m\u001b[32m, line 11\u001b[39m, in \u001b[36mCacheManager\u001b[39m\u001b[34m()\u001b[39m\n\u001b[32m      8\u001b[39m     \u001b[38;5;28mself\u001b[39m.context_cache = \u001b[38;5;28mself\u001b[39m.cache_dir / \u001b[33m\"\u001b[39m\u001b[33mproject_context.json\u001b[39m\u001b[33m\"\u001b[39m\n\u001b[32m      9\u001b[39m     \u001b[38;5;28mself\u001b[39m.breakdown_cache = \u001b[38;5;28mself\u001b[39m.cache_dir / \u001b[33m\"\u001b[39m\u001b[33mproject_breakdown.json\u001b[39m\u001b[33m\"\u001b[39m\n\u001b[32m---> \u001b[39m\u001b[32m11\u001b[39m \u001b[38;5;28;01mdef\u001b[39;00m\u001b[38;5;250m \u001b[39m\u001b[34msave_to_cache\u001b[39m(\u001b[38;5;28mself\u001b[39m, context: Optional[\u001b[43mProjectContext\u001b[49m], breakdown: Optional[ProjectBreakdown]):\n\u001b[32m     12\u001b[39m \u001b[38;5;250m    \u001b[39m\u001b[33;03m\"\"\"Save current execution state to cache\"\"\"\u001b[39;00m\n\u001b[32m     13\u001b[39m     \u001b[38;5;28;01mtry\u001b[39;00m:\n",
      "\u001b[31mNameError\u001b[39m: name 'ProjectContext' is not defined"
     ]
    }
   ],
   "source": [
    "# | export\n",
    "\n",
    "class CacheManager:\n",
    "    \"\"\"Handles execution state caching and restoration\"\"\"\n",
    "    \n",
    "    def __init__(self, console: Console, cache_dir: str = \"execution_cache\"):\n",
    "        self.console = console\n",
    "        self.cache_dir = Path(cache_dir)\n",
    "        self.cache_dir.mkdir(exist_ok=True)\n",
    "        self.context_cache = self.cache_dir / \"project_context.json\"\n",
    "        self.breakdown_cache = self.cache_dir / \"project_breakdown.json\"\n",
    "    \n",
    "    def save_to_cache(self, context: Optional[ProjectContext], breakdown: Optional[ProjectBreakdown]):\n",
    "        \"\"\"Save current execution state to cache\"\"\"\n",
    "        try:\n",
    "            if context:\n",
    "                with open(self.context_cache, 'w') as f:\n",
    "                    json.dump(context.model_dump(), f, indent=2, default=str)\n",
    "            \n",
    "            if breakdown:\n",
    "                with open(self.breakdown_cache, 'w') as f:\n",
    "                    json.dump(breakdown.model_dump(), f, indent=2)\n",
    "                    \n",
    "        except Exception as e:\n",
    "            self.console.print(f\"⚠️ Cache save failed: {e}\")\n",
    "    \n",
    "    def restore_from_cache(self, user_request: str) -> tuple[Optional[ProjectContext], Optional[ProjectBreakdown]]:\n",
    "        \"\"\"Restore execution state from cache\"\"\"\n",
    "        try:\n",
    "            if not (self.context_cache.exists() and self.breakdown_cache.exists()):\n",
    "                return None, None\n",
    "            \n",
    "            # Load context\n",
    "            with open(self.context_cache, 'r') as f:\n",
    "                context_data = json.load(f)\n",
    "                \n",
    "            # Check if it's the same request\n",
    "            if context_data.get('original_request') != user_request:\n",
    "                return None, None\n",
    "                \n",
    "            context = ProjectContext(**context_data)\n",
    "            \n",
    "            # Ensure current_artifacts is always a list (safety check)\n",
    "            if not isinstance(context.current_artifacts, list):\n",
    "                context.current_artifacts = []\n",
    "            \n",
    "            # Load breakdown\n",
    "            with open(self.breakdown_cache, 'r') as f:\n",
    "                breakdown_data = json.load(f)\n",
    "            breakdown = ProjectBreakdown(**breakdown_data)\n",
    "            \n",
    "            return context, breakdown\n",
    "            \n",
    "        except Exception as e:\n",
    "            self.console.print(f\"⚠️ Cache restore failed: {e}\")\n",
    "            return None, None\n",
    "    \n",
    "    def clear_cache(self):\n",
    "        \"\"\"Clear cache files\"\"\"\n",
    "        try:\n",
    "            if self.context_cache.exists():\n",
    "                self.context_cache.unlink()\n",
    "            if self.breakdown_cache.exists():\n",
    "                self.breakdown_cache.unlink()\n",
    "        except Exception as e:\n",
    "            self.console.print(f\"⚠️ Cache clear failed: {e}\")\n"
   ]
  },
  {
   "cell_type": "code",
   "execution_count": null,
   "id": "f59e1362-2463-4448-a4ed-46d80ac45f77",
   "metadata": {},
   "outputs": [],
   "source": []
  }
 ],
 "metadata": {
  "kernelspec": {
   "display_name": "Python 3 (ipykernel)",
   "language": "python",
   "name": "python3"
  },
  "language_info": {
   "codemirror_mode": {
    "name": "ipython",
    "version": 3
   },
   "file_extension": ".py",
   "mimetype": "text/x-python",
   "name": "python",
   "nbconvert_exporter": "python",
   "pygments_lexer": "ipython3",
   "version": "3.12.9"
  }
 },
 "nbformat": 4,
 "nbformat_minor": 5
}

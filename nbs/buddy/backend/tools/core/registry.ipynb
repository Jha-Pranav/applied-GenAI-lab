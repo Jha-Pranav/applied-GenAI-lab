{
 "cells": [
  {
   "cell_type": "code",
   "execution_count": 10,
   "id": "7515040e-0a2b-4b41-8967-e0a98098e245",
   "metadata": {},
   "outputs": [],
   "source": [
    "# | default_exp tools.registry"
   ]
  },
  {
   "cell_type": "code",
   "execution_count": 8,
   "id": "c6622cc9-09e0-4df9-aa01-f9a1c253be59",
   "metadata": {},
   "outputs": [],
   "source": [
    "# | export\n",
    "from typing import Dict, List, Any, Optional\n",
    "from agentic.tools.base import BaseTool, ToolCategory\n"
   ]
  },
  {
   "cell_type": "code",
   "execution_count": 9,
   "id": "cecbf61d-931d-4a95-a4d5-d1b33da6c5c6",
   "metadata": {},
   "outputs": [],
   "source": [
    "#| export\n",
    "class ToolRegistry:\n",
    "    \"\"\"Registry for managing tools\"\"\"\n",
    "    \n",
    "    def __init__(self):\n",
    "        self.tools: Dict[str, BaseTool] = {}\n",
    "        self.categories: Dict[ToolCategory, List[str]] = {\n",
    "            category: [] for category in ToolCategory\n",
    "        }\n",
    "    \n",
    "    def register_tool(self, tool: BaseTool):\n",
    "        \"\"\"Register a tool\"\"\"\n",
    "        if tool.name in self.tools:\n",
    "            raise ValueError(f\"BaseTool '{tool.name}' is already registered\")\n",
    "        \n",
    "        self.tools[tool.name] = tool\n",
    "        self.categories[tool.category].append(tool.name)\n",
    "    \n",
    "    def unregister_tool(self, tool_name: str):\n",
    "        \"\"\"Unregister a tool\"\"\"\n",
    "        if tool_name not in self.tools:\n",
    "            raise ValueError(f\"BaseTool '{tool_name}' is not registered\")\n",
    "        \n",
    "        tool = self.tools[tool_name]\n",
    "        self.categories[tool.category].remove(tool_name)\n",
    "        del self.tools[tool_name]\n",
    "    \n",
    "    def get_tool(self, tool_name: str) -> Optional[BaseTool]:\n",
    "        \"\"\"Get a tool by name\"\"\"\n",
    "        return self.tools.get(tool_name)\n",
    "    \n",
    "    def list_tools(self, category: Optional[ToolCategory] = None) -> List[str]:\n",
    "        \"\"\"List all tools or tools in a specific category\"\"\"\n",
    "        if category:\n",
    "            return self.categories.get(category, [])\n",
    "        return list(self.tools.keys())\n",
    "    \n",
    "    def get_tools_by_category(self) -> Dict[str, List[str]]:\n",
    "        \"\"\"Get tools organized by category\"\"\"\n",
    "        return {\n",
    "            category.value: tool_names \n",
    "            for category, tool_names in self.categories.items()\n",
    "            if tool_names\n",
    "        }\n",
    "    \n",
    "    def execute_tool(self, tool_name: str, parameters: Dict[str, Any]) -> Dict[str, Any]:\n",
    "        \"\"\"Execute a tool\"\"\"\n",
    "        tool = self.get_tool(tool_name)\n",
    "        if not tool:\n",
    "            return {\"error\": f\"BaseTool '{tool_name}' not found\"}\n",
    "        \n",
    "        try:\n",
    "            # Validate parameters\n",
    "            if not tool.validate_parameters(parameters):\n",
    "                return {\"error\": f\"Invalid parameters for tool '{tool_name}'\"}\n",
    "            \n",
    "            # Execute tool\n",
    "            result = tool.execute(**parameters)\n",
    "            \n",
    "            # Ensure result is a dictionary\n",
    "            if not isinstance(result, dict):\n",
    "                result = {\"result\": result}\n",
    "            \n",
    "            return result\n",
    "            \n",
    "        except Exception as e:\n",
    "            return {\"error\": f\"BaseTool execution failed: {str(e)}\"}\n",
    "    \n",
    "    def get_openai_schemas(self, tool_names: Optional[List[str]] = None) -> List[Dict[str, Any]]:\n",
    "        \"\"\"Get OpenAI-compatible schemas for tools\"\"\"\n",
    "        if tool_names is None:\n",
    "            tool_names = list(self.tools.keys())\n",
    "        \n",
    "        schemas = []\n",
    "        for tool_name in tool_names:\n",
    "            tool = self.get_tool(tool_name)\n",
    "            if tool:\n",
    "                schemas.append(tool.get_openai_schema())\n",
    "        \n",
    "        return schemas\n",
    "    \n",
    "    def get_tool_info(self, tool_name: str) -> Optional[Dict[str, Any]]:\n",
    "        \"\"\"Get detailed information about a tool\"\"\"\n",
    "        tool = self.get_tool(tool_name)\n",
    "        return tool.get_info() if tool else None\n",
    "    \n",
    "    def search_tools(self, query: str) -> List[str]:\n",
    "        \"\"\"Search tools by name or description\"\"\"\n",
    "        query_lower = query.lower()\n",
    "        matching_tools = []\n",
    "        \n",
    "        for tool_name, tool in self.tools.items():\n",
    "            if (query_lower in tool_name.lower() or \n",
    "                query_lower in tool.description.lower()):\n",
    "                matching_tools.append(tool_name)\n",
    "        \n",
    "        return matching_tools\n"
   ]
  },
  {
   "cell_type": "code",
   "execution_count": 12,
   "id": "1419dce1-0493-4abc-9631-74a59a5def8a",
   "metadata": {},
   "outputs": [
    {
     "ename": "AttributeError",
     "evalue": "'FsReadTool' object has no attribute 'name'",
     "output_type": "error",
     "traceback": [
      "\u001b[31m---------------------------------------------------------------------------\u001b[39m",
      "\u001b[31mAttributeError\u001b[39m                            Traceback (most recent call last)",
      "\u001b[36mCell\u001b[39m\u001b[36m \u001b[39m\u001b[32mIn[12]\u001b[39m\u001b[32m, line 5\u001b[39m\n\u001b[32m      3\u001b[39m \u001b[38;5;28;01mfrom\u001b[39;00m\u001b[38;5;250m \u001b[39m\u001b[34;01magentic\u001b[39;00m\u001b[34;01m.\u001b[39;00m\u001b[34;01mtools\u001b[39;00m\u001b[34;01m.\u001b[39;00m\u001b[34;01mfs_read\u001b[39;00m\u001b[38;5;250m \u001b[39m\u001b[38;5;28;01mimport\u001b[39;00m FsReadTool\n\u001b[32m      4\u001b[39m \u001b[38;5;28;01mfrom\u001b[39;00m\u001b[38;5;250m \u001b[39m\u001b[34;01magentic\u001b[39;00m\u001b[34;01m.\u001b[39;00m\u001b[34;01mtools\u001b[39;00m\u001b[34;01m.\u001b[39;00m\u001b[34;01mfs_write\u001b[39;00m\u001b[38;5;250m \u001b[39m\u001b[38;5;28;01mimport\u001b[39;00m FsWriteTool\n\u001b[32m----> \u001b[39m\u001b[32m5\u001b[39m \u001b[43mtr\u001b[49m\u001b[43m.\u001b[49m\u001b[43mregister_tool\u001b[49m\u001b[43m(\u001b[49m\u001b[43mFsReadTool\u001b[49m\u001b[43m(\u001b[49m\u001b[43m)\u001b[49m\u001b[43m)\u001b[49m\n",
      "\u001b[36mCell\u001b[39m\u001b[36m \u001b[39m\u001b[32mIn[9]\u001b[39m\u001b[32m, line 13\u001b[39m, in \u001b[36mToolRegistry.register_tool\u001b[39m\u001b[34m(self, tool)\u001b[39m\n\u001b[32m     11\u001b[39m \u001b[38;5;28;01mdef\u001b[39;00m\u001b[38;5;250m \u001b[39m\u001b[34mregister_tool\u001b[39m(\u001b[38;5;28mself\u001b[39m, tool: BaseTool):\n\u001b[32m     12\u001b[39m \u001b[38;5;250m    \u001b[39m\u001b[33;03m\"\"\"Register a tool\"\"\"\u001b[39;00m\n\u001b[32m---> \u001b[39m\u001b[32m13\u001b[39m     \u001b[38;5;28;01mif\u001b[39;00m \u001b[43mtool\u001b[49m\u001b[43m.\u001b[49m\u001b[43mname\u001b[49m \u001b[38;5;129;01min\u001b[39;00m \u001b[38;5;28mself\u001b[39m.tools:\n\u001b[32m     14\u001b[39m         \u001b[38;5;28;01mraise\u001b[39;00m \u001b[38;5;167;01mValueError\u001b[39;00m(\u001b[33mf\u001b[39m\u001b[33m\"\u001b[39m\u001b[33mBaseTool \u001b[39m\u001b[33m'\u001b[39m\u001b[38;5;132;01m{\u001b[39;00mtool.name\u001b[38;5;132;01m}\u001b[39;00m\u001b[33m'\u001b[39m\u001b[33m is already registered\u001b[39m\u001b[33m\"\u001b[39m)\n\u001b[32m     16\u001b[39m     \u001b[38;5;28mself\u001b[39m.tools[tool.name] = tool\n",
      "\u001b[31mAttributeError\u001b[39m: 'FsReadTool' object has no attribute 'name'"
     ]
    }
   ],
   "source": [
    "# Example usage \n",
    "tr = ToolRegistry()\n",
    "from agentic.tools.fs_read import FsReadTool\n",
    "from agentic.tools.fs_write import FsWriteTool\n",
    "tr.register_tool(FsReadTool())"
   ]
  },
  {
   "cell_type": "code",
   "execution_count": 14,
   "id": "d8646535-f046-42e2-9bcb-1296a8ea9c32",
   "metadata": {},
   "outputs": [
    {
     "data": {
      "text/plain": [
       "'fs_write'"
      ]
     },
     "execution_count": 14,
     "metadata": {},
     "output_type": "execute_result"
    }
   ],
   "source": [
    "FsWriteTool().name"
   ]
  },
  {
   "cell_type": "code",
   "execution_count": 15,
   "id": "955bc2f5-58e8-4bc8-b077-955f516b0d0e",
   "metadata": {},
   "outputs": [
    {
     "ename": "AttributeError",
     "evalue": "'FsReadTool' object has no attribute 'name'",
     "output_type": "error",
     "traceback": [
      "\u001b[31m---------------------------------------------------------------------------\u001b[39m",
      "\u001b[31mAttributeError\u001b[39m                            Traceback (most recent call last)",
      "\u001b[36mCell\u001b[39m\u001b[36m \u001b[39m\u001b[32mIn[15]\u001b[39m\u001b[32m, line 1\u001b[39m\n\u001b[32m----> \u001b[39m\u001b[32m1\u001b[39m \u001b[43mFsReadTool\u001b[49m\u001b[43m(\u001b[49m\u001b[43m)\u001b[49m\u001b[43m.\u001b[49m\u001b[43mname\u001b[49m\n",
      "\u001b[31mAttributeError\u001b[39m: 'FsReadTool' object has no attribute 'name'"
     ]
    }
   ],
   "source": [
    "FsReadTool().name"
   ]
  },
  {
   "cell_type": "code",
   "execution_count": null,
   "id": "379f3ce2-c994-4a27-80dc-3c1e2aa90e67",
   "metadata": {},
   "outputs": [],
   "source": []
  }
 ],
 "metadata": {
  "kernelspec": {
   "display_name": "Python 3 (ipykernel)",
   "language": "python",
   "name": "python3"
  },
  "language_info": {
   "codemirror_mode": {
    "name": "ipython",
    "version": 3
   },
   "file_extension": ".py",
   "mimetype": "text/x-python",
   "name": "python",
   "nbconvert_exporter": "python",
   "pygments_lexer": "ipython3",
   "version": "3.12.9"
  }
 },
 "nbformat": 4,
 "nbformat_minor": 5
}

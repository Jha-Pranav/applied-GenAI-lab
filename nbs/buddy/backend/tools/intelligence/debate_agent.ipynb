{
 "cells": [
  {
   "cell_type": "code",
   "execution_count": 2,
   "id": "a3550c04-76b4-4ffb-b3cd-45ff14182340",
   "metadata": {},
   "outputs": [],
   "source": [
    "# | default_exp tools.debate_agent"
   ]
  },
  {
   "cell_type": "code",
   "execution_count": null,
   "id": "8798e9fd-4d0c-44ae-8c30-dddc6c0647c7",
   "metadata": {},
   "outputs": [
    {
     "ename": "ImportError",
     "evalue": "attempted relative import with no known parent package",
     "output_type": "error",
     "traceback": [
      "\u001b[31m---------------------------------------------------------------------------\u001b[39m",
      "\u001b[31mImportError\u001b[39m                               Traceback (most recent call last)",
      "\u001b[36mCell\u001b[39m\u001b[36m \u001b[39m\u001b[32mIn[3]\u001b[39m\u001b[32m, line 4\u001b[39m\n\u001b[32m      2\u001b[39m \u001b[38;5;28;01mfrom\u001b[39;00m\u001b[38;5;250m \u001b[39m\u001b[34;01mtyping\u001b[39;00m\u001b[38;5;250m \u001b[39m\u001b[38;5;28;01mimport\u001b[39;00m Dict, Any\n\u001b[32m      3\u001b[39m \u001b[38;5;28;01mimport\u001b[39;00m\u001b[38;5;250m \u001b[39m\u001b[34;01masyncio\u001b[39;00m\n\u001b[32m----> \u001b[39m\u001b[32m4\u001b[39m \u001b[38;5;28;01mfrom\u001b[39;00m\u001b[38;5;250m \u001b[39m\u001b[34;01m.\u001b[39;00m\u001b[34;01mbase\u001b[39;00m\u001b[38;5;250m \u001b[39m\u001b[38;5;28;01mimport\u001b[39;00m BaseTool, ToolMetadata, ToolCategory\n\u001b[32m      6\u001b[39m \u001b[38;5;28;01mclass\u001b[39;00m\u001b[38;5;250m \u001b[39m\u001b[34;01mDebateAgentTool\u001b[39;00m(BaseTool):\n\u001b[32m      7\u001b[39m \u001b[38;5;250m    \u001b[39m\u001b[33;03m\"\"\"Multi-perspective analysis and structured debate tool\"\"\"\u001b[39;00m\n",
      "\u001b[31mImportError\u001b[39m: attempted relative import with no known parent package"
     ]
    }
   ],
   "source": [
    "# | export\n",
    "from typing import Dict, Any\n",
    "import asyncio\n",
    "from agentic.tools.base import BaseTool, ToolMetadata, ToolCategory\n",
    "\n",
    "class DebateAgentTool(BaseTool):\n",
    "    \"\"\"Multi-perspective analysis and structured debate tool\"\"\"\n",
    "    \n",
    "    def __init__(self):\n",
    "        super().__init__(\n",
    "            metadata=ToolMetadata(\n",
    "                name=\"debate_agent\",\n",
    "                description=\"Multi-perspective analysis and structured debate for complex decisions\",\n",
    "                category=ToolCategory.INTELLIGENCE\n",
    "            )\n",
    "        )\n",
    "    \n",
    "    def get_parameters_schema(self) -> Dict[str, Any]:\n",
    "        return {\n",
    "            \"type\": \"object\",\n",
    "            \"properties\": {\n",
    "                \"topic\": {\n",
    "                    \"type\": \"string\",\n",
    "                    \"description\": \"Decision or topic to debate\"\n",
    "                },\n",
    "                \"context\": {\n",
    "                    \"type\": \"string\", \n",
    "                    \"description\": \"Background context for the debate\"\n",
    "                },\n",
    "                \"perspectives\": {\n",
    "                    \"type\": \"array\",\n",
    "                    \"items\": {\"type\": \"string\"},\n",
    "                    \"description\": \"Specific perspectives to consider (optional)\"\n",
    "                }\n",
    "            },\n",
    "            \"required\": [\"topic\", \"context\"]\n",
    "        }\n",
    "    \n",
    "    def execute(self, **kwargs) -> Dict[str, Any]:\n",
    "        \"\"\"Execute debate analysis\"\"\"\n",
    "        try:\n",
    "            topic = kwargs.get(\"topic\", \"\")\n",
    "            context = kwargs.get(\"context\", \"\")\n",
    "            \n",
    "            if not topic or not context:\n",
    "                return {\"error\": \"Topic and context are required\"}\n",
    "            \n",
    "            # Import and run debate\n",
    "            from agentic.agent.debater import create_debate\n",
    "            result = asyncio.run(create_debate(topic=topic, context=context))\n",
    "            \n",
    "            return {\"success\": True, \"result\": result}\n",
    "            \n",
    "        except Exception as e:\n",
    "            return {\"error\": f\"Debate execution failed: {str(e)}\"}\n"
   ]
  },
  {
   "cell_type": "code",
   "execution_count": null,
   "id": "9d394c9a-3543-4e1f-aff2-0497e59c38a6",
   "metadata": {},
   "outputs": [],
   "source": []
  }
 ],
 "metadata": {
  "kernelspec": {
   "display_name": "Python 3 (ipykernel)",
   "language": "python",
   "name": "python3"
  },
  "language_info": {
   "codemirror_mode": {
    "name": "ipython",
    "version": 3
   },
   "file_extension": ".py",
   "mimetype": "text/x-python",
   "name": "python",
   "nbconvert_exporter": "python",
   "pygments_lexer": "ipython3",
   "version": "3.12.9"
  }
 },
 "nbformat": 4,
 "nbformat_minor": 5
}

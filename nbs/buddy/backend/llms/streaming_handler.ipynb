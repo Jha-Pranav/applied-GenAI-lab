{
 "cells": [
  {
   "cell_type": "code",
   "execution_count": 37,
   "id": "d46cd61e-9f2e-40db-88ce-13bc346388ff",
   "metadata": {},
   "outputs": [],
   "source": [
    "# | default_exp llms.streaming_handler"
   ]
  },
  {
   "cell_type": "code",
   "execution_count": 38,
   "id": "33f96bdb-6488-4247-9f03-2ff18f288f08",
   "metadata": {},
   "outputs": [],
   "source": [
    "# | export\n",
    "import re\n",
    "import json\n",
    "from typing import Dict, Any, Optional, Iterator\n",
    "from rich.console import Console\n",
    "from rich.markdown import Markdown\n",
    "from agentic.configs.loader import get_reasoning_config"
   ]
  },
  {
   "cell_type": "code",
   "execution_count": 39,
   "id": "e943a0fe-194c-4a6b-bdc7-505726b2126c",
   "metadata": {},
   "outputs": [],
   "source": [
    "# | export\n",
    "RESET = \"\\033[0m\"\n",
    "# Get reasoning config\n",
    "reasoning_config = get_reasoning_config()\n",
    "show_thinking = reasoning_config.get('show_thinking', True)\n",
    "thinking_color = reasoning_config.get('thinking_color', 'pink')\n",
    "\n",
    "# Set color based on config with enhanced colors\n",
    "color_codes = {\n",
    "            'pink': \"\\033[38;2;200;100;120m\",     # Darker pink\n",
    "            'blue': \"\\033[38;2;70;130;180m\",      # Steel blue\n",
    "            'green': \"\\033[38;2;60;179;113m\",     # Medium sea green\n",
    "            'yellow': \"\\033[38;2;204;204;0m\",     # Olive-like dark yellow\n",
    "            'purple': \"\\033[38;2;147;112;219m\",   # Medium purple\n",
    "            'cyan': \"\\033[38;2;0;139;139m\"        # Dark cyan\n",
    "        }\n",
    "\n",
    "\n",
    "color_code = color_codes.get(thinking_color.lower(), color_codes['green'])   \n",
    "def show_thinking_header():\n",
    "    \"\"\"Display beautiful thinking header\"\"\"\n",
    "    if show_thinking:\n",
    "        print(f\"\\n{color_code}╭─────────────────────── 🤔 Thinking ───────────────────────╮{RESET}\")\n",
    "\n",
    "def show_thinking_footer():\n",
    "    \"\"\"Display beautiful thinking footer\"\"\"\n",
    "    if show_thinking:\n",
    "        print(f\"{color_code}╰────────────────────────────────────────────────────────────╯{RESET}\")"
   ]
  },
  {
   "cell_type": "code",
   "execution_count": 40,
   "id": "b1e59223-7bc9-4452-a00b-ab6ed013f4b9",
   "metadata": {},
   "outputs": [],
   "source": [
    "# | export\n",
    "class StreamingHandler:\n",
    "    \"\"\"Handles streaming responses\"\"\"\n",
    "    \n",
    "    def __init__(self):\n",
    "        self.console = Console()\n",
    "    \n",
    "    def handle_streaming_response(self, response: Iterator, console: Optional[Console] = None) -> Dict[str, Any]:\n",
    "        \"\"\"Handle streaming response\"\"\"\n",
    "        if console is None:\n",
    "            console = self.console\n",
    "        \n",
    "        \n",
    "        full_content = \"\"\n",
    "        tool_calls = []\n",
    "        first_token = True\n",
    "        in_think_tag = False\n",
    "        think_buffer = \"\"\n",
    "        markdown_buffer = \"\"\n",
    "        markdown_line_buffer = \"\"\n",
    "        think_started = False\n",
    "        \n",
    "        def show_thinking_content(content):\n",
    "            nonlocal think_started\n",
    "            if show_thinking:\n",
    "                if not think_started:\n",
    "                    show_thinking_header()\n",
    "                    print(f\"{color_code}│ \", end=\"\", flush=True)\n",
    "                    think_started = True\n",
    "                \n",
    "                # enhanced_content = render_math_in_thinking(content)\n",
    "                print(f\"{color_code}{content}{RESET}\", end=\"\", flush=True)\n",
    "            return think_started\n",
    "    \n",
    "        def flush_markdown_line():\n",
    "            \"\"\"Flush buffered markdown line if it ends with a newline.\"\"\"\n",
    "            nonlocal markdown_line_buffer\n",
    "            if markdown_line_buffer.endswith('\\n'):\n",
    "                try:\n",
    "                    console.print(Markdown(markdown_line_buffer.strip()))\n",
    "                except:\n",
    "                    print(markdown_line_buffer.strip())\n",
    "                markdown_line_buffer = \"\"\n",
    "        try:\n",
    "            for chunk in response:\n",
    "                if chunk.choices and chunk.choices[0].delta:\n",
    "                    delta = chunk.choices[0].delta\n",
    "        \n",
    "                    # Reasoning content (not added to final message)\n",
    "                    if hasattr(delta, 'reasoning') and delta.reasoning:\n",
    "                        think_started = show_thinking_content(delta.reasoning)\n",
    "        \n",
    "                    if hasattr(delta, 'content') and delta.content:\n",
    "                        content = delta.content\n",
    "        \n",
    "                        if '<think>' in content:\n",
    "                            in_think_tag = True\n",
    "                            parts = content.split('<think>')\n",
    "                            if parts[0]:\n",
    "                                markdown_line_buffer += parts[0]\n",
    "                                full_content += parts[0]\n",
    "                            flush_markdown_line()\n",
    "                            think_buffer = parts[1] if len(parts) > 1 else \"\"\n",
    "                            if think_buffer:\n",
    "                                think_started = show_thinking_content(think_buffer)\n",
    "                            continue\n",
    "        \n",
    "                        if '</think>' in content:\n",
    "                            in_think_tag = False\n",
    "                            parts = content.split('</think>')\n",
    "                            if parts[0]:\n",
    "                                think_buffer += parts[0]\n",
    "                                think_started = show_thinking_content(parts[0])\n",
    "                            if think_started:\n",
    "                                print(f\"{color_code} │{RESET}\")\n",
    "                                show_thinking_footer()\n",
    "                                think_started = False\n",
    "                            think_buffer = \"\"\n",
    "                            if len(parts) > 1:\n",
    "                                markdown_line_buffer += parts[1]\n",
    "                                full_content += parts[1]\n",
    "                                flush_markdown_line()\n",
    "                            continue\n",
    "        \n",
    "                        if in_think_tag:\n",
    "                            think_buffer += content\n",
    "                            think_started = show_thinking_content(content)\n",
    "                        else:\n",
    "                            markdown_line_buffer += content\n",
    "                            full_content += content\n",
    "                            flush_markdown_line()\n",
    "        \n",
    "                        if first_token:\n",
    "                            first_token = False\n",
    "        \n",
    "                    # Tool calls\n",
    "                    if hasattr(delta, 'tool_calls') and delta.tool_calls:\n",
    "                        for tool_call_delta in delta.tool_calls:\n",
    "                            if tool_call_delta.index is not None:\n",
    "                                while len(tool_calls) <= tool_call_delta.index:\n",
    "                                    tool_calls.append({\n",
    "                                        \"id\": \"\",\n",
    "                                        \"type\": \"function\",\n",
    "                                        \"function\": {\"name\": \"\", \"arguments\": \"\"}\n",
    "                                    })\n",
    "        \n",
    "                                current_tool_call = tool_calls[tool_call_delta.index]\n",
    "                                if tool_call_delta.id:\n",
    "                                    current_tool_call[\"id\"] = tool_call_delta.id\n",
    "                                if tool_call_delta.function:\n",
    "                                    if tool_call_delta.function.name:\n",
    "                                        current_tool_call[\"function\"][\"name\"] = tool_call_delta.function.name\n",
    "                                    if tool_call_delta.function.arguments:\n",
    "                                        current_tool_call[\"function\"][\"arguments\"] += tool_call_delta.function.arguments\n",
    "        \n",
    "            # Flush any remaining markdown\n",
    "            if markdown_line_buffer.strip():\n",
    "                try:\n",
    "                    console.print(Markdown(markdown_line_buffer.strip()))\n",
    "                except:\n",
    "                    print(markdown_line_buffer.strip())\n",
    "        \n",
    "            return {\"content\": full_content,\n",
    "                    \"tool_calls\": tool_calls, \n",
    "                    \"finish_reason\":chunk.choices[0].finish_reason,\n",
    "                    \"usage\": getattr(response, 'usage', None),\n",
    "                    \"model\": getattr(response, 'model', None)}\n",
    "        except Exception as e:\n",
    "            console.print(f\"[red]Error processing response: {e}[/red]\")\n",
    "            return {\"content\": \"\", \"tool_calls\": [], \"error\": str(e)}\n",
    "    "
   ]
  },
  {
   "cell_type": "code",
   "execution_count": 41,
   "id": "edd1f18a-e2f3-4707-86d3-5d67887fbcaa",
   "metadata": {},
   "outputs": [
    {
     "name": "stdout",
     "output_type": "stream",
     "text": [
      "\n",
      "\u001b[38;2;200;100;120m╭─────────────────────── 🤔 Thinking ───────────────────────╮\u001b[0m\n",
      "\u001b[38;2;200;100;120m│ \u001b[38;2;200;100;120m\n",
      "\u001b[0m\u001b[38;2;200;100;120mOkay\u001b[0m\u001b[38;2;200;100;120m,\u001b[0m\u001b[38;2;200;100;120m so\u001b[0m\u001b[38;2;200;100;120m I\u001b[0m\u001b[38;2;200;100;120m need\u001b[0m\u001b[38;2;200;100;120m to\u001b[0m\u001b[38;2;200;100;120m figure\u001b[0m\u001b[38;2;200;100;120m out\u001b[0m\u001b[38;2;200;100;120m why\u001b[0m\u001b[38;2;200;100;120m the\u001b[0m\u001b[38;2;200;100;120m sky\u001b[0m\u001b[38;2;200;100;120m is\u001b[0m\u001b[38;2;200;100;120m blue\u001b[0m\u001b[38;2;200;100;120m.\u001b[0m\u001b[38;2;200;100;120m Hmm\u001b[0m\u001b[38;2;200;100;120m,\u001b[0m\u001b[38;2;200;100;120m I\u001b[0m\u001b[38;2;200;100;120m remember\u001b[0m\u001b[38;2;200;100;120m from\u001b[0m\u001b[38;2;200;100;120m school\u001b[0m\u001b[38;2;200;100;120m that\u001b[0m\u001b[38;2;200;100;120m it\u001b[0m\u001b[38;2;200;100;120m has\u001b[0m\u001b[38;2;200;100;120m something\u001b[0m\u001b[38;2;200;100;120m to\u001b[0m\u001b[38;2;200;100;120m do\u001b[0m\u001b[38;2;200;100;120m with\u001b[0m\u001b[38;2;200;100;120m light\u001b[0m\u001b[38;2;200;100;120m and\u001b[0m\u001b[38;2;200;100;120m the\u001b[0m\u001b[38;2;200;100;120m atmosphere\u001b[0m\u001b[38;2;200;100;120m.\u001b[0m\u001b[38;2;200;100;120m Let\u001b[0m\u001b[38;2;200;100;120m me\u001b[0m\u001b[38;2;200;100;120m think\u001b[0m\u001b[38;2;200;100;120m...\u001b[0m\u001b[38;2;200;100;120m I\u001b[0m\u001b[38;2;200;100;120m think\u001b[0m\u001b[38;2;200;100;120m it\u001b[0m\u001b[38;2;200;100;120m's\u001b[0m\u001b[38;2;200;100;120m about\u001b[0m\u001b[38;2;200;100;120m the\u001b[0m\u001b[38;2;200;100;120m way\u001b[0m\u001b[38;2;200;100;120m sunlight\u001b[0m\u001b[38;2;200;100;120m interacts\u001b[0m\u001b[38;2;200;100;120m with\u001b[0m\u001b[38;2;200;100;120m the\u001b[0m\u001b[38;2;200;100;120m air\u001b[0m\u001b[38;2;200;100;120m.\u001b[0m\u001b[38;2;200;100;120m But\u001b[0m\u001b[38;2;200;100;120m wait\u001b[0m\u001b[38;2;200;100;120m,\u001b[0m\u001b[38;2;200;100;120m what\u001b[0m\u001b[38;2;200;100;120m's\u001b[0m\u001b[38;2;200;100;120m the\u001b[0m\u001b[38;2;200;100;120m exact\u001b[0m\u001b[38;2;200;100;120m process\u001b[0m\u001b[38;2;200;100;120m?\n",
      "\n",
      "\u001b[0m\u001b[38;2;200;100;120mAlright\u001b[0m\u001b[38;2;200;100;120m,\u001b[0m\u001b[38;2;200;100;120m sunlight\u001b[0m\u001b[38;2;200;100;120m is\u001b[0m\u001b[38;2;200;100;120m white\u001b[0m\u001b[38;2;200;100;120m,\u001b[0m\u001b[38;2;200;100;120m but\u001b[0m\u001b[38;2;200;100;120m it\u001b[0m\u001b[38;2;200;100;120m's\u001b[0m\u001b[38;2;200;100;120m made\u001b[0m\u001b[38;2;200;100;120m up\u001b[0m\u001b[38;2;200;100;120m of\u001b[0m\u001b[38;2;200;100;120m different\u001b[0m\u001b[38;2;200;100;120m colors\u001b[0m\u001b[38;2;200;100;120m,\u001b[0m\u001b[38;2;200;100;120m right\u001b[0m\u001b[38;2;200;100;120m?\u001b[0m\u001b[38;2;200;100;120m Each\u001b[0m\u001b[38;2;200;100;120m color\u001b[0m\u001b[38;2;200;100;120m has\u001b[0m\u001b[38;2;200;100;120m a\u001b[0m\u001b[38;2;200;100;120m different\u001b[0m\u001b[38;2;200;100;120m wavelength\u001b[0m\u001b[38;2;200;100;120m.\u001b[0m\u001b[38;2;200;100;120m Maybe\u001b[0m\u001b[38;2;200;100;120m blue\u001b[0m\u001b[38;2;200;100;120m has\u001b[0m\u001b[38;2;200;100;120m a\u001b[0m\u001b[38;2;200;100;120m shorter\u001b[0m\u001b[38;2;200;100;120m wavelength\u001b[0m\u001b[38;2;200;100;120m?\u001b[0m\u001b[38;2;200;100;120m I\u001b[0m\u001b[38;2;200;100;120m think\u001b[0m\u001b[38;2;200;100;120m when\u001b[0m\u001b[38;2;200;100;120m sunlight\u001b[0m\u001b[38;2;200;100;120m enters\u001b[0m\u001b[38;2;200;100;120m the\u001b[0m\u001b[38;2;200;100;120m Earth\u001b[0m\u001b[38;2;200;100;120m's\u001b[0m\u001b[38;2;200;100;120m atmosphere\u001b[0m\u001b[38;2;200;100;120m,\u001b[0m\u001b[38;2;200;100;120m it\u001b[0m\u001b[38;2;200;100;120m coll\u001b[0m\u001b[38;2;200;100;120mides\u001b[0m\u001b[38;2;200;100;120m with\u001b[0m\u001b[38;2;200;100;120m molecules\u001b[0m\u001b[38;2;200;100;120m and\u001b[0m\u001b[38;2;200;100;120m particles\u001b[0m\u001b[38;2;200;100;120m in\u001b[0m\u001b[38;2;200;100;120m the\u001b[0m\u001b[38;2;200;100;120m air\u001b[0m\u001b[38;2;200;100;120m.\u001b[0m\u001b[38;2;200;100;120m These\u001b[0m\u001b[38;2;200;100;120m collisions\u001b[0m\u001b[38;2;200;100;120m might\u001b[0m\u001b[38;2;200;100;120m cause\u001b[0m\u001b[38;2;200;100;120m the\u001b[0m\u001b[38;2;200;100;120m light\u001b[0m\u001b[38;2;200;100;120m to\u001b[0m\u001b[38;2;200;100;120m scatter\u001b[0m\u001b[38;2;200;100;120m in\u001b[0m\u001b[38;2;200;100;120m different\u001b[0m\u001b[38;2;200;100;120m directions\u001b[0m\u001b[38;2;200;100;120m.\u001b[0m\u001b[38;2;200;100;120m But\u001b[0m\u001b[38;2;200;100;120m why\u001b[0m\u001b[38;2;200;100;120m blue\u001b[0m\u001b[38;2;200;100;120m specifically\u001b[0m\u001b[38;2;200;100;120m?\n",
      "\n",
      "\u001b[0m\u001b[38;2;200;100;120mOh\u001b[0m\u001b[38;2;200;100;120m,\u001b[0m\u001b[38;2;200;100;120m right\u001b[0m\u001b[38;2;200;100;120m!\u001b[0m\u001b[38;2;200;100;120m There\u001b[0m\u001b[38;2;200;100;120m's\u001b[0m\u001b[38;2;200;100;120m something\u001b[0m\u001b[38;2;200;100;120m called\u001b[0m\u001b[38;2;200;100;120m Ray\u001b[0m\u001b[38;2;200;100;120mleigh\u001b[0m\u001b[38;2;200;100;120m scattering\u001b[0m\u001b[38;2;200;100;120m.\u001b[0m\u001b[38;2;200;100;120m I\u001b[0m\u001b[38;2;200;100;120m think\u001b[0m\u001b[38;2;200;100;120m Ray\u001b[0m\u001b[38;2;200;100;120mleigh\u001b[0m\u001b[38;2;200;100;120m scattering\u001b[0m\u001b[38;2;200;100;120m is\u001b[0m\u001b[38;2;200;100;120m when\u001b[0m\u001b[38;2;200;100;120m light\u001b[0m\u001b[38;2;200;100;120m sc\u001b[0m\u001b[38;2;200;100;120matters\u001b[0m\u001b[38;2;200;100;120m more\u001b[0m\u001b[38;2;200;100;120m if\u001b[0m\u001b[38;2;200;100;120m its\u001b[0m\u001b[38;2;200;100;120m wavelength\u001b[0m\u001b[38;2;200;100;120m is\u001b[0m\u001b[38;2;200;100;120m shorter\u001b[0m\u001b[38;2;200;100;120m.\u001b[0m\u001b[38;2;200;100;120m Since\u001b[0m\u001b[38;2;200;100;120m blue\u001b[0m\u001b[38;2;200;100;120m light\u001b[0m\u001b[38;2;200;100;120m has\u001b[0m\u001b[38;2;200;100;120m a\u001b[0m\u001b[38;2;200;100;120m shorter\u001b[0m\u001b[38;2;200;100;120m wavelength\u001b[0m\u001b[38;2;200;100;120m compared\u001b[0m\u001b[38;2;200;100;120m to\u001b[0m\u001b[38;2;200;100;120m,\u001b[0m\u001b[38;2;200;100;120m say\u001b[0m\u001b[38;2;200;100;120m,\u001b[0m\u001b[38;2;200;100;120m red\u001b[0m\u001b[38;2;200;100;120m or\u001b[0m\u001b[38;2;200;100;120m yellow\u001b[0m\u001b[38;2;200;100;120m,\u001b[0m\u001b[38;2;200;100;120m it\u001b[0m\u001b[38;2;200;100;120m sc\u001b[0m\u001b[38;2;200;100;120matters\u001b[0m\u001b[38;2;200;100;120m more\u001b[0m\u001b[38;2;200;100;120m.\u001b[0m\u001b[38;2;200;100;120m That\u001b[0m\u001b[38;2;200;100;120m means\u001b[0m\u001b[38;2;200;100;120m blue\u001b[0m\u001b[38;2;200;100;120m light\u001b[0m\u001b[38;2;200;100;120m is\u001b[0m\u001b[38;2;200;100;120m spread\u001b[0m\u001b[38;2;200;100;120m out\u001b[0m\u001b[38;2;200;100;120m in\u001b[0m\u001b[38;2;200;100;120m all\u001b[0m\u001b[38;2;200;100;120m directions\u001b[0m\u001b[38;2;200;100;120m,\u001b[0m\u001b[38;2;200;100;120m which\u001b[0m\u001b[38;2;200;100;120m is\u001b[0m\u001b[38;2;200;100;120m why\u001b[0m\u001b[38;2;200;100;120m we\u001b[0m\u001b[38;2;200;100;120m see\u001b[0m\u001b[38;2;200;100;120m the\u001b[0m\u001b[38;2;200;100;120m sky\u001b[0m\u001b[38;2;200;100;120m as\u001b[0m\u001b[38;2;200;100;120m blue\u001b[0m\u001b[38;2;200;100;120m.\u001b[0m\u001b[38;2;200;100;120m But\u001b[0m\u001b[38;2;200;100;120m wait\u001b[0m\u001b[38;2;200;100;120m,\u001b[0m\u001b[38;2;200;100;120m why\u001b[0m\u001b[38;2;200;100;120m doesn\u001b[0m\u001b[38;2;200;100;120m't\u001b[0m\u001b[38;2;200;100;120m the\u001b[0m\u001b[38;2;200;100;120m sky\u001b[0m\u001b[38;2;200;100;120m appear\u001b[0m\u001b[38;2;200;100;120m violet\u001b[0m\u001b[38;2;200;100;120m then\u001b[0m\u001b[38;2;200;100;120m?\u001b[0m\u001b[38;2;200;100;120m Violet\u001b[0m\u001b[38;2;200;100;120m has\u001b[0m\u001b[38;2;200;100;120m an\u001b[0m\u001b[38;2;200;100;120m even\u001b[0m\u001b[38;2;200;100;120m shorter\u001b[0m\u001b[38;2;200;100;120m wavelength\u001b[0m\u001b[38;2;200;100;120m than\u001b[0m\u001b[38;2;200;100;120m blue\u001b[0m\u001b[38;2;200;100;120m.\u001b[0m\u001b[38;2;200;100;120m Maybe\u001b[0m\u001b[38;2;200;100;120m our\u001b[0m\u001b[38;2;200;100;120m eyes\u001b[0m\u001b[38;2;200;100;120m are\u001b[0m\u001b[38;2;200;100;120m more\u001b[0m\u001b[38;2;200;100;120m sensitive\u001b[0m\u001b[38;2;200;100;120m to\u001b[0m\u001b[38;2;200;100;120m blue\u001b[0m\u001b[38;2;200;100;120m,\u001b[0m\u001b[38;2;200;100;120m or\u001b[0m\u001b[38;2;200;100;120m there\u001b[0m\u001b[38;2;200;100;120m's\u001b[0m\u001b[38;2;200;100;120m some\u001b[0m\u001b[38;2;200;100;120m other\u001b[0m\u001b[38;2;200;100;120m factor\u001b[0m\u001b[38;2;200;100;120m?\n",
      "\n",
      "\u001b[0m\u001b[38;2;200;100;120mAlso\u001b[0m\u001b[38;2;200;100;120m,\u001b[0m\u001b[38;2;200;100;120m during\u001b[0m\u001b[38;2;200;100;120m sunrise\u001b[0m\u001b[38;2;200;100;120m or\u001b[0m\u001b[38;2;200;100;120m sunset\u001b[0m\u001b[38;2;200;100;120m,\u001b[0m\u001b[38;2;200;100;120m the\u001b[0m\u001b[38;2;200;100;120m sky\u001b[0m\u001b[38;2;200;100;120m turns\u001b[0m\u001b[38;2;200;100;120m red\u001b[0m\u001b[38;2;200;100;120m or\u001b[0m\u001b[38;2;200;100;120m orange\u001b[0m\u001b[38;2;200;100;120m.\u001b[0m\u001b[38;2;200;100;120m I\u001b[0m\u001b[38;2;200;100;120m guess\u001b[0m\u001b[38;2;200;100;120m that\u001b[0m\u001b[38;2;200;100;120m's\u001b[0m\u001b[38;2;200;100;120m because\u001b[0m\u001b[38;2;200;100;120m the\u001b[0m\u001b[38;2;200;100;120m sunlight\u001b[0m\u001b[38;2;200;100;120m has\u001b[0m\u001b[38;2;200;100;120m to\u001b[0m\u001b[38;2;200;100;120m pass\u001b[0m\u001b[38;2;200;100;120m through\u001b[0m\u001b[38;2;200;100;120m more\u001b[0m\u001b[38;2;200;100;120m of\u001b[0m\u001b[38;2;200;100;120m the\u001b[0m\u001b[38;2;200;100;120m atmosphere\u001b[0m\u001b[38;2;200;100;120m when\u001b[0m\u001b[38;2;200;100;120m the\u001b[0m\u001b[38;2;200;100;120m sun\u001b[0m\u001b[38;2;200;100;120m is\u001b[0m\u001b[38;2;200;100;120m low\u001b[0m\u001b[38;2;200;100;120m on\u001b[0m\u001b[38;2;200;100;120m the\u001b[0m\u001b[38;2;200;100;120m horizon\u001b[0m\u001b[38;2;200;100;120m.\u001b[0m\u001b[38;2;200;100;120m So\u001b[0m\u001b[38;2;200;100;120m the\u001b[0m\u001b[38;2;200;100;120m blue\u001b[0m\u001b[38;2;200;100;120m light\u001b[0m\u001b[38;2;200;100;120m is\u001b[0m\u001b[38;2;200;100;120m scattered\u001b[0m\u001b[38;2;200;100;120m away\u001b[0m\u001b[38;2;200;100;120m,\u001b[0m\u001b[38;2;200;100;120m and\u001b[0m\u001b[38;2;200;100;120m the\u001b[0m\u001b[38;2;200;100;120m longer\u001b[0m\u001b[38;2;200;100;120m wavelengths\u001b[0m\u001b[38;2;200;100;120m like\u001b[0m\u001b[38;2;200;100;120m red\u001b[0m\u001b[38;2;200;100;120m and\u001b[0m\u001b[38;2;200;100;120m orange\u001b[0m\u001b[38;2;200;100;120m dominate\u001b[0m\u001b[38;2;200;100;120m.\u001b[0m\u001b[38;2;200;100;120m That\u001b[0m\u001b[38;2;200;100;120m makes\u001b[0m\u001b[38;2;200;100;120m sense\u001b[0m\u001b[38;2;200;100;120m.\u001b[0m\u001b[38;2;200;100;120m \n",
      "\n",
      "\u001b[0m\u001b[38;2;200;100;120mWait\u001b[0m\u001b[38;2;200;100;120m,\u001b[0m\u001b[38;2;200;100;120m but\u001b[0m\u001b[38;2;200;100;120m what\u001b[0m\u001b[38;2;200;100;120m about\u001b[0m\u001b[38;2;200;100;120m the\u001b[0m\u001b[38;2;200;100;120m particles\u001b[0m\u001b[38;2;200;100;120m in\u001b[0m\u001b[38;2;200;100;120m the\u001b[0m\u001b[38;2;200;100;120m atmosphere\u001b[0m\u001b[38;2;200;100;120m?\u001b[0m\u001b[38;2;200;100;120m Are\u001b[0m\u001b[38;2;200;100;120m there\u001b[0m\u001b[38;2;200;100;120m other\u001b[0m\u001b[38;2;200;100;120m factors\u001b[0m\u001b[38;2;200;100;120m?\u001b[0m\u001b[38;2;200;100;120m Maybe\u001b[0m\u001b[38;2;200;100;120m pollution\u001b[0m\u001b[38;2;200;100;120m or\u001b[0m\u001b[38;2;200;100;120m dust\u001b[0m\u001b[38;2;200;100;120m can\u001b[0m\u001b[38;2;200;100;120m affect\u001b[0m\u001b[38;2;200;100;120m the\u001b[0m\u001b[38;2;200;100;120m color\u001b[0m\u001b[38;2;200;100;120m.\u001b[0m\u001b[38;2;200;100;120m But\u001b[0m\u001b[38;2;200;100;120m under\u001b[0m\u001b[38;2;200;100;120m normal\u001b[0m\u001b[38;2;200;100;120m conditions\u001b[0m\u001b[38;2;200;100;120m,\u001b[0m\u001b[38;2;200;100;120m it\u001b[0m\u001b[38;2;200;100;120m's\u001b[0m\u001b[38;2;200;100;120m the\u001b[0m\u001b[38;2;200;100;120m Ray\u001b[0m\u001b[38;2;200;100;120mleigh\u001b[0m\u001b[38;2;200;100;120m scattering\u001b[0m\u001b[38;2;200;100;120m from\u001b[0m\u001b[38;2;200;100;120m the\u001b[0m\u001b[38;2;200;100;120m nitrogen\u001b[0m\u001b[38;2;200;100;120m and\u001b[0m\u001b[38;2;200;100;120m oxygen\u001b[0m\u001b[38;2;200;100;120m molecules\u001b[0m\u001b[38;2;200;100;120m.\u001b[0m\u001b[38;2;200;100;120m I\u001b[0m\u001b[38;2;200;100;120m should\u001b[0m\u001b[38;2;200;100;120m check\u001b[0m\u001b[38;2;200;100;120m if\u001b[0m\u001b[38;2;200;100;120m there\u001b[0m\u001b[38;2;200;100;120m are\u001b[0m\u001b[38;2;200;100;120m any\u001b[0m\u001b[38;2;200;100;120m other\u001b[0m\u001b[38;2;200;100;120m contributors\u001b[0m\u001b[38;2;200;100;120m,\u001b[0m\u001b[38;2;200;100;120m but\u001b[0m\u001b[38;2;200;100;120m I\u001b[0m\u001b[38;2;200;100;120m think\u001b[0m\u001b[38;2;200;100;120m the\u001b[0m\u001b[38;2;200;100;120m main\u001b[0m\u001b[38;2;200;100;120m reason\u001b[0m\u001b[38;2;200;100;120m is\u001b[0m\u001b[38;2;200;100;120m the\u001b[0m\u001b[38;2;200;100;120m scattering\u001b[0m\u001b[38;2;200;100;120m effect\u001b[0m\u001b[38;2;200;100;120m.\n",
      "\n",
      "\u001b[0m\u001b[38;2;200;100;120mAnother\u001b[0m\u001b[38;2;200;100;120m thing\u001b[0m\u001b[38;2;200;100;120m,\u001b[0m\u001b[38;2;200;100;120m when\u001b[0m\u001b[38;2;200;100;120m there\u001b[0m\u001b[38;2;200;100;120m's\u001b[0m\u001b[38;2;200;100;120m a\u001b[0m\u001b[38;2;200;100;120m lot\u001b[0m\u001b[38;2;200;100;120m of\u001b[0m\u001b[38;2;200;100;120m water\u001b[0m\u001b[38;2;200;100;120m dro\u001b[0m\u001b[38;2;200;100;120mplets\u001b[0m\u001b[38;2;200;100;120m,\u001b[0m\u001b[38;2;200;100;120m like\u001b[0m\u001b[38;2;200;100;120m in\u001b[0m\u001b[38;2;200;100;120m the\u001b[0m\u001b[38;2;200;100;120m case\u001b[0m\u001b[38;2;200;100;120m of\u001b[0m\u001b[38;2;200;100;120m clouds\u001b[0m\u001b[38;2;200;100;120m,\u001b[0m\u001b[38;2;200;100;120m the\u001b[0m\u001b[38;2;200;100;120m scattering\u001b[0m\u001b[38;2;200;100;120m is\u001b[0m\u001b[38;2;200;100;120m different\u001b[0m\u001b[38;2;200;100;120m.\u001b[0m\u001b[38;2;200;100;120m M\u001b[0m\u001b[38;2;200;100;120mie\u001b[0m\u001b[38;2;200;100;120m scattering\u001b[0m\u001b[38;2;200;100;120m,\u001b[0m\u001b[38;2;200;100;120m maybe\u001b[0m\u001b[38;2;200;100;120m?\u001b[0m\u001b[38;2;200;100;120m That\u001b[0m\u001b[38;2;200;100;120m's\u001b[0m\u001b[38;2;200;100;120m for\u001b[0m\u001b[38;2;200;100;120m larger\u001b[0m\u001b[38;2;200;100;120m particles\u001b[0m\u001b[38;2;200;100;120m and\u001b[0m\u001b[38;2;200;100;120m results\u001b[0m\u001b[38;2;200;100;120m in\u001b[0m\u001b[38;2;200;100;120m white\u001b[0m\u001b[38;2;200;100;120m clouds\u001b[0m\u001b[38;2;200;100;120m because\u001b[0m\u001b[38;2;200;100;120m all\u001b[0m\u001b[38;2;200;100;120m wavelengths\u001b[0m\u001b[38;2;200;100;120m are\u001b[0m\u001b[38;2;200;100;120m scattered\u001b[0m\u001b[38;2;200;100;120m equally\u001b[0m\u001b[38;2;200;100;120m.\u001b[0m\u001b[38;2;200;100;120m But\u001b[0m\u001b[38;2;200;100;120m for\u001b[0m\u001b[38;2;200;100;120m the\u001b[0m\u001b[38;2;200;100;120m sky\u001b[0m\u001b[38;2;200;100;120m,\u001b[0m\u001b[38;2;200;100;120m it\u001b[0m\u001b[38;2;200;100;120m's\u001b[0m\u001b[38;2;200;100;120m the\u001b[0m\u001b[38;2;200;100;120m smaller\u001b[0m\u001b[38;2;200;100;120m molecules\u001b[0m\u001b[38;2;200;100;120m that\u001b[0m\u001b[38;2;200;100;120m cause\u001b[0m\u001b[38;2;200;100;120m the\u001b[0m\u001b[38;2;200;100;120m Ray\u001b[0m\u001b[38;2;200;100;120mleigh\u001b[0m\u001b[38;2;200;100;120m scattering\u001b[0m\u001b[38;2;200;100;120m.\n",
      "\n",
      "\u001b[0m\u001b[38;2;200;100;120mSo\u001b[0m\u001b[38;2;200;100;120m putting\u001b[0m\u001b[38;2;200;100;120m it\u001b[0m\u001b[38;2;200;100;120m all\u001b[0m\u001b[38;2;200;100;120m together\u001b[0m\u001b[38;2;200;100;120m:\u001b[0m\u001b[38;2;200;100;120m sunlight\u001b[0m\u001b[38;2;200;100;120m is\u001b[0m\u001b[38;2;200;100;120m scattered\u001b[0m\u001b[38;2;200;100;120m by\u001b[0m\u001b[38;2;200;100;120m the\u001b[0m\u001b[38;2;200;100;120m atmosphere\u001b[0m\u001b[38;2;200;100;120m,\u001b[0m\u001b[38;2;200;100;120m and\u001b[0m\u001b[38;2;200;100;120m shorter\u001b[0m\u001b[38;2;200;100;120m wavelengths\u001b[0m\u001b[38;2;200;100;120m (\u001b[0m\u001b[38;2;200;100;120mblue\u001b[0m\u001b[38;2;200;100;120m)\u001b[0m\u001b[38;2;200;100;120m are\u001b[0m\u001b[38;2;200;100;120m scattered\u001b[0m\u001b[38;2;200;100;120m more\u001b[0m\u001b[38;2;200;100;120m,\u001b[0m\u001b[38;2;200;100;120m making\u001b[0m\u001b[38;2;200;100;120m the\u001b[0m\u001b[38;2;200;100;120m sky\u001b[0m\u001b[38;2;200;100;120m appear\u001b[0m\u001b[38;2;200;100;120m blue\u001b[0m\u001b[38;2;200;100;120m.\u001b[0m\u001b[38;2;200;100;120m Our\u001b[0m\u001b[38;2;200;100;120m eyes\u001b[0m\u001b[38;2;200;100;120m are\u001b[0m\u001b[38;2;200;100;120m more\u001b[0m\u001b[38;2;200;100;120m sensitive\u001b[0m\u001b[38;2;200;100;120m to\u001b[0m\u001b[38;2;200;100;120m blue\u001b[0m\u001b[38;2;200;100;120m,\u001b[0m\u001b[38;2;200;100;120m and\u001b[0m\u001b[38;2;200;100;120m the\u001b[0m\u001b[38;2;200;100;120m violet\u001b[0m\u001b[38;2;200;100;120m is\u001b[0m\u001b[38;2;200;100;120m less\u001b[0m\u001b[38;2;200;100;120m intense\u001b[0m\u001b[38;2;200;100;120m because\u001b[0m\u001b[38;2;200;100;120m of\u001b[0m\u001b[38;2;200;100;120m the\u001b[0m\u001b[38;2;200;100;120m way\u001b[0m\u001b[38;2;200;100;120m the\u001b[0m\u001b[38;2;200;100;120m atmosphere\u001b[0m\u001b[38;2;200;100;120m absorbs\u001b[0m\u001b[38;2;200;100;120m or\u001b[0m\u001b[38;2;200;100;120m sc\u001b[0m\u001b[38;2;200;100;120matters\u001b[0m\u001b[38;2;200;100;120m it\u001b[0m\u001b[38;2;200;100;120m,\u001b[0m\u001b[38;2;200;100;120m and\u001b[0m\u001b[38;2;200;100;120m maybe\u001b[0m\u001b[38;2;200;100;120m the\u001b[0m\u001b[38;2;200;100;120m sun\u001b[0m\u001b[38;2;200;100;120m emits\u001b[0m\u001b[38;2;200;100;120m more\u001b[0m\u001b[38;2;200;100;120m blue\u001b[0m\u001b[38;2;200;100;120m light\u001b[0m\u001b[38;2;200;100;120m than\u001b[0m\u001b[38;2;200;100;120m violet\u001b[0m\u001b[38;2;200;100;120m.\n",
      "\n",
      "\u001b[0m\u001b[38;2;200;100;120mWait\u001b[0m\u001b[38;2;200;100;120m,\u001b[0m\u001b[38;2;200;100;120m but\u001b[0m\u001b[38;2;200;100;120m do\u001b[0m\u001b[38;2;200;100;120m I\u001b[0m\u001b[38;2;200;100;120m have\u001b[0m\u001b[38;2;200;100;120m that\u001b[0m\u001b[38;2;200;100;120m right\u001b[0m\u001b[38;2;200;100;120m?\u001b[0m\u001b[38;2;200;100;120m I\u001b[0m\u001b[38;2;200;100;120m think\u001b[0m\u001b[38;2;200;100;120m the\u001b[0m\u001b[38;2;200;100;120m sun\u001b[0m\u001b[38;2;200;100;120m emits\u001b[0m\u001b[38;2;200;100;120m more\u001b[0m\u001b[38;2;200;100;120m blue\u001b[0m\u001b[38;2;200;100;120m light\u001b[0m\u001b[38;2;200;100;120m than\u001b[0m\u001b[38;2;200;100;120m violet\u001b[0m\u001b[38;2;200;100;120m,\u001b[0m\u001b[38;2;200;100;120m which\u001b[0m\u001b[38;2;200;100;120m might\u001b[0m\u001b[38;2;200;100;120m be\u001b[0m\u001b[38;2;200;100;120m why\u001b[0m\u001b[38;2;200;100;120m we\u001b[0m\u001b[38;2;200;100;120m see\u001b[0m\u001b[38;2;200;100;120m blue\u001b[0m\u001b[38;2;200;100;120m more\u001b[0m\u001b[38;2;200;100;120m.\u001b[0m\u001b[38;2;200;100;120m But\u001b[0m\u001b[38;2;200;100;120m why\u001b[0m\u001b[38;2;200;100;120m is\u001b[0m\u001b[38;2;200;100;120m the\u001b[0m\u001b[38;2;200;100;120m sky\u001b[0m\u001b[38;2;200;100;120m not\u001b[0m\u001b[38;2;200;100;120m violet\u001b[0m\u001b[38;2;200;100;120m?\u001b[0m\u001b[38;2;200;100;120m Maybe\u001b[0m\u001b[38;2;200;100;120m the\u001b[0m\u001b[38;2;200;100;120m atmosphere\u001b[0m\u001b[38;2;200;100;120m also\u001b[0m\u001b[38;2;200;100;120m absorbs\u001b[0m\u001b[38;2;200;100;120m some\u001b[0m\u001b[38;2;200;100;120m violet\u001b[0m\u001b[38;2;200;100;120m.\u001b[0m\u001b[38;2;200;100;120m Or\u001b[0m\u001b[38;2;200;100;120m because\u001b[0m\u001b[38;2;200;100;120m our\u001b[0m\u001b[38;2;200;100;120m eyes\u001b[0m\u001b[38;2;200;100;120m are\u001b[0m\u001b[38;2;200;100;120m less\u001b[0m\u001b[38;2;200;100;120m sensitive\u001b[0m\u001b[38;2;200;100;120m to\u001b[0m\u001b[38;2;200;100;120m violet\u001b[0m\u001b[38;2;200;100;120m.\u001b[0m\u001b[38;2;200;100;120m I\u001b[0m\u001b[38;2;200;100;120m remember\u001b[0m\u001b[38;2;200;100;120m that\u001b[0m\u001b[38;2;200;100;120m the\u001b[0m\u001b[38;2;200;100;120m human\u001b[0m\u001b[38;2;200;100;120m eye\u001b[0m\u001b[38;2;200;100;120m is\u001b[0m\u001b[38;2;200;100;120m more\u001b[0m\u001b[38;2;200;100;120m sensitive\u001b[0m\u001b[38;2;200;100;120m to\u001b[0m\u001b[38;2;200;100;120m green\u001b[0m\u001b[38;2;200;100;120m and\u001b[0m\u001b[38;2;200;100;120m blue\u001b[0m\u001b[38;2;200;100;120m,\u001b[0m\u001b[38;2;200;100;120m but\u001b[0m\u001b[38;2;200;100;120m not\u001b[0m\u001b[38;2;200;100;120m as\u001b[0m\u001b[38;2;200;100;120m much\u001b[0m\u001b[38;2;200;100;120m to\u001b[0m\u001b[38;2;200;100;120m violet\u001b[0m\u001b[38;2;200;100;120m.\u001b[0m\u001b[38;2;200;100;120m Also\u001b[0m\u001b[38;2;200;100;120m,\u001b[0m\u001b[38;2;200;100;120m the\u001b[0m\u001b[38;2;200;100;120m combination\u001b[0m\u001b[38;2;200;100;120m of\u001b[0m\u001b[38;2;200;100;120m scattered\u001b[0m\u001b[38;2;200;100;120m blue\u001b[0m\u001b[38;2;200;100;120m and\u001b[0m\u001b[38;2;200;100;120m some\u001b[0m\u001b[38;2;200;100;120m absorption\u001b[0m\u001b[38;2;200;100;120m by\u001b[0m\u001b[38;2;200;100;120m the\u001b[0m\u001b[38;2;200;100;120m atmosphere\u001b[0m\u001b[38;2;200;100;120m might\u001b[0m\u001b[38;2;200;100;120m reduce\u001b[0m\u001b[38;2;200;100;120m the\u001b[0m\u001b[38;2;200;100;120m violet\u001b[0m\u001b[38;2;200;100;120m.\n",
      "\n",
      "\u001b[0m\u001b[38;2;200;100;120mI\u001b[0m\u001b[38;2;200;100;120m think\u001b[0m\u001b[38;2;200;100;120m that\u001b[0m\u001b[38;2;200;100;120m's\u001b[0m\u001b[38;2;200;100;120m the\u001b[0m\u001b[38;2;200;100;120m main\u001b[0m\u001b[38;2;200;100;120m idea\u001b[0m\u001b[38;2;200;100;120m.\u001b[0m\u001b[38;2;200;100;120m The\u001b[0m\u001b[38;2;200;100;120m blue\u001b[0m\u001b[38;2;200;100;120m light\u001b[0m\u001b[38;2;200;100;120m is\u001b[0m\u001b[38;2;200;100;120m scattered\u001b[0m\u001b[38;2;200;100;120m more\u001b[0m\u001b[38;2;200;100;120m by\u001b[0m\u001b[38;2;200;100;120m the\u001b[0m\u001b[38;2;200;100;120m atmosphere\u001b[0m\u001b[38;2;200;100;120m,\u001b[0m\u001b[38;2;200;100;120m leading\u001b[0m\u001b[38;2;200;100;120m us\u001b[0m\u001b[38;2;200;100;120m to\u001b[0m\u001b[38;2;200;100;120m see\u001b[0m\u001b[38;2;200;100;120m the\u001b[0m\u001b[38;2;200;100;120m sky\u001b[0m\u001b[38;2;200;100;120m as\u001b[0m\u001b[38;2;200;100;120m blue\u001b[0m\u001b[38;2;200;100;120m.\u001b[0m\u001b[38;2;200;100;120m During\u001b[0m\u001b[38;2;200;100;120m sunrise\u001b[0m\u001b[38;2;200;100;120m/s\u001b[0m\u001b[38;2;200;100;120munset\u001b[0m\u001b[38;2;200;100;120m,\u001b[0m\u001b[38;2;200;100;120m the\u001b[0m\u001b[38;2;200;100;120m path\u001b[0m\u001b[38;2;200;100;120m is\u001b[0m\u001b[38;2;200;100;120m longer\u001b[0m\u001b[38;2;200;100;120m,\u001b[0m\u001b[38;2;200;100;120m so\u001b[0m\u001b[38;2;200;100;120m more\u001b[0m\u001b[38;2;200;100;120m blue\u001b[0m\u001b[38;2;200;100;120m is\u001b[0m\u001b[38;2;200;100;120m scattered\u001b[0m\u001b[38;2;200;100;120m out\u001b[0m\u001b[38;2;200;100;120m,\u001b[0m\u001b[38;2;200;100;120m leaving\u001b[0m\u001b[38;2;200;100;120m the\u001b[0m\u001b[38;2;200;100;120m red\u001b[0m\u001b[38;2;200;100;120ms\u001b[0m\u001b[38;2;200;100;120m and\u001b[0m\u001b[38;2;200;100;120m oranges\u001b[0m\u001b[38;2;200;100;120m.\u001b[0m\u001b[38;2;200;100;120m And\u001b[0m\u001b[38;2;200;100;120m clouds\u001b[0m\u001b[38;2;200;100;120m are\u001b[0m\u001b[38;2;200;100;120m white\u001b[0m\u001b[38;2;200;100;120m because\u001b[0m\u001b[38;2;200;100;120m they\u001b[0m\u001b[38;2;200;100;120m scatter\u001b[0m\u001b[38;2;200;100;120m all\u001b[0m\u001b[38;2;200;100;120m wavelengths\u001b[0m\u001b[38;2;200;100;120m equally\u001b[0m\u001b[38;2;200;100;120m.\n",
      "\n",
      "\u001b[0m\u001b[38;2;200;100;120mI\u001b[0m\u001b[38;2;200;100;120m should\u001b[0m\u001b[38;2;200;100;120m also\u001b[0m\u001b[38;2;200;100;120m mention\u001b[0m\u001b[38;2;200;100;120m that\u001b[0m\u001b[38;2;200;100;120m this\u001b[0m\u001b[38;2;200;100;120m is\u001b[0m\u001b[38;2;200;100;120m why\u001b[0m\u001b[38;2;200;100;120m the\u001b[0m\u001b[38;2;200;100;120m sky\u001b[0m\u001b[38;2;200;100;120m on\u001b[0m\u001b[38;2;200;100;120m the\u001b[0m\u001b[38;2;200;100;120m moon\u001b[0m\u001b[38;2;200;100;120m is\u001b[0m\u001b[38;2;200;100;120m black\u001b[0m\u001b[38;2;200;100;120m,\u001b[0m\u001b[38;2;200;100;120m since\u001b[0m\u001b[38;2;200;100;120m there\u001b[0m\u001b[38;2;200;100;120m's\u001b[0m\u001b[38;2;200;100;120m no\u001b[0m\u001b[38;2;200;100;120m atmosphere\u001b[0m\u001b[38;2;200;100;120m to\u001b[0m\u001b[38;2;200;100;120m scatter\u001b[0m\u001b[38;2;200;100;120m the\u001b[0m\u001b[38;2;200;100;120m light\u001b[0m\u001b[38;2;200;100;120m.\n",
      "\u001b[0m\u001b[38;2;200;100;120m │\u001b[0m\n",
      "\u001b[38;2;200;100;120m╰────────────────────────────────────────────────────────────╯\u001b[0m\n"
     ]
    },
    {
     "data": {
      "text/html": [
       "<pre style=\"white-space:pre;overflow-x:auto;line-height:normal;font-family:Menlo,'DejaVu Sans Mono',consolas,'Courier New',monospace\"></pre>\n"
      ],
      "text/plain": []
     },
     "metadata": {},
     "output_type": "display_data"
    },
    {
     "data": {
      "text/html": [
       "<pre style=\"white-space:pre;overflow-x:auto;line-height:normal;font-family:Menlo,'DejaVu Sans Mono',consolas,'Courier New',monospace\">The sky appears blue due to a phenomenon called <span style=\"font-weight: bold\">Rayleigh scattering</span>, which involves the interaction of sunlight    \n",
       "with the Earth's atmosphere. Here's a detailed breakdown:                                                          \n",
       "</pre>\n"
      ],
      "text/plain": [
       "The sky appears blue due to a phenomenon called \u001b[1mRayleigh scattering\u001b[0m, which involves the interaction of sunlight    \n",
       "with the Earth's atmosphere. Here's a detailed breakdown:                                                          \n"
      ]
     },
     "metadata": {},
     "output_type": "display_data"
    },
    {
     "data": {
      "text/html": [
       "<pre style=\"white-space:pre;overflow-x:auto;line-height:normal;font-family:Menlo,'DejaVu Sans Mono',consolas,'Courier New',monospace\">                                            <span style=\"font-weight: bold\">1. Composition of Sunlight</span>                                             \n",
       "</pre>\n"
      ],
      "text/plain": [
       "                                            \u001b[1m1. \u001b[0m\u001b[1mComposition of Sunlight\u001b[0m                                             \n"
      ]
     },
     "metadata": {},
     "output_type": "display_data"
    },
    {
     "data": {
      "text/html": [
       "<pre style=\"white-space:pre;overflow-x:auto;line-height:normal;font-family:Menlo,'DejaVu Sans Mono',consolas,'Courier New',monospace\">Sunlight is a mixture of all visible wavelengths of light, each corresponding to a different color (from violet to \n",
       "red). However, the distribution of these wavelengths is not uniform—blue and green wavelengths are more prevalent  \n",
       "than violet or red.                                                                                                \n",
       "</pre>\n"
      ],
      "text/plain": [
       "Sunlight is a mixture of all visible wavelengths of light, each corresponding to a different color (from violet to \n",
       "red). However, the distribution of these wavelengths is not uniform—blue and green wavelengths are more prevalent  \n",
       "than violet or red.                                                                                                \n"
      ]
     },
     "metadata": {},
     "output_type": "display_data"
    },
    {
     "data": {
      "text/html": [
       "<pre style=\"white-space:pre;overflow-x:auto;line-height:normal;font-family:Menlo,'DejaVu Sans Mono',consolas,'Courier New',monospace\">                                              <span style=\"font-weight: bold\">2. Rayleigh Scattering</span>                                               \n",
       "</pre>\n"
      ],
      "text/plain": [
       "                                              \u001b[1m2. \u001b[0m\u001b[1mRayleigh Scattering\u001b[0m                                               \n"
      ]
     },
     "metadata": {},
     "output_type": "display_data"
    },
    {
     "data": {
      "text/html": [
       "<pre style=\"white-space:pre;overflow-x:auto;line-height:normal;font-family:Menlo,'DejaVu Sans Mono',consolas,'Courier New',monospace\">When sunlight enters Earth's atmosphere, it interacts with molecules and small particles in the air (primarily     \n",
       "nitrogen and oxygen). <span style=\"font-weight: bold\">Rayleigh scattering</span> occurs when light scatters off particles much smaller than its           \n",
       "wavelength. This scatter is inversely proportional to the <span style=\"font-weight: bold\">fourth power of the wavelength</span> (i.e., shorter wavelengths\n",
       "scatter more intensely).                                                                                           \n",
       "</pre>\n"
      ],
      "text/plain": [
       "When sunlight enters Earth's atmosphere, it interacts with molecules and small particles in the air (primarily     \n",
       "nitrogen and oxygen). \u001b[1mRayleigh scattering\u001b[0m occurs when light scatters off particles much smaller than its           \n",
       "wavelength. This scatter is inversely proportional to the \u001b[1mfourth power of the wavelength\u001b[0m (i.e., shorter wavelengths\n",
       "scatter more intensely).                                                                                           \n"
      ]
     },
     "metadata": {},
     "output_type": "display_data"
    },
    {
     "data": {
      "text/html": [
       "<pre style=\"white-space:pre;overflow-x:auto;line-height:normal;font-family:Menlo,'DejaVu Sans Mono',consolas,'Courier New',monospace\">\n",
       "<span style=\"color: #808000; text-decoration-color: #808000; font-weight: bold\"> • </span><span style=\"font-weight: bold\">Blue light</span> has a shorter wavelength (≈400–450 nm) compared to red (≈620–750 nm), so it scatters <span style=\"font-weight: bold\">much more</span> than  \n",
       "<span style=\"color: #808000; text-decoration-color: #808000; font-weight: bold\">   </span>red or orange light.                                                                                            \n",
       "</pre>\n"
      ],
      "text/plain": [
       "\n",
       "\u001b[1;33m • \u001b[0m\u001b[1mBlue light\u001b[0m has a shorter wavelength (≈400–450 nm) compared to red (≈620–750 nm), so it scatters \u001b[1mmuch more\u001b[0m than  \n",
       "\u001b[1;33m   \u001b[0mred or orange light.                                                                                            \n"
      ]
     },
     "metadata": {},
     "output_type": "display_data"
    },
    {
     "data": {
      "text/html": [
       "<pre style=\"white-space:pre;overflow-x:auto;line-height:normal;font-family:Menlo,'DejaVu Sans Mono',consolas,'Courier New',monospace\">\n",
       "<span style=\"color: #808000; text-decoration-color: #808000; font-weight: bold\"> • </span>This scattering directs blue light in all directions, making the sky appear blue to observers on the ground.    \n",
       "</pre>\n"
      ],
      "text/plain": [
       "\n",
       "\u001b[1;33m • \u001b[0mThis scattering directs blue light in all directions, making the sky appear blue to observers on the ground.    \n"
      ]
     },
     "metadata": {},
     "output_type": "display_data"
    },
    {
     "data": {
      "text/html": [
       "<pre style=\"white-space:pre;overflow-x:auto;line-height:normal;font-family:Menlo,'DejaVu Sans Mono',consolas,'Courier New',monospace\">                                                <span style=\"font-weight: bold\">3. Why Not Violet?</span>                                                 \n",
       "</pre>\n"
      ],
      "text/plain": [
       "                                                \u001b[1m3. \u001b[0m\u001b[1mWhy Not Violet?\u001b[0m                                                 \n"
      ]
     },
     "metadata": {},
     "output_type": "display_data"
    },
    {
     "data": {
      "text/html": [
       "<pre style=\"white-space:pre;overflow-x:auto;line-height:normal;font-family:Menlo,'DejaVu Sans Mono',consolas,'Courier New',monospace\">Though violet light (shorter wavelength than blue) scatters even more, the <span style=\"font-weight: bold\">sky isn’t violet</span> for two main reasons:  \n",
       "</pre>\n"
      ],
      "text/plain": [
       "Though violet light (shorter wavelength than blue) scatters even more, the \u001b[1msky isn’t violet\u001b[0m for two main reasons:  \n"
      ]
     },
     "metadata": {},
     "output_type": "display_data"
    },
    {
     "data": {
      "text/html": [
       "<pre style=\"white-space:pre;overflow-x:auto;line-height:normal;font-family:Menlo,'DejaVu Sans Mono',consolas,'Courier New',monospace\">\n",
       "<span style=\"color: #808000; text-decoration-color: #808000; font-weight: bold\"> • </span>The <span style=\"font-weight: bold\">sun emits less violet light</span> compared to blue.                                                               \n",
       "</pre>\n"
      ],
      "text/plain": [
       "\n",
       "\u001b[1;33m • \u001b[0mThe \u001b[1msun emits less violet light\u001b[0m compared to blue.                                                               \n"
      ]
     },
     "metadata": {},
     "output_type": "display_data"
    },
    {
     "data": {
      "text/html": [
       "<pre style=\"white-space:pre;overflow-x:auto;line-height:normal;font-family:Menlo,'DejaVu Sans Mono',consolas,'Courier New',monospace\">\n",
       "<span style=\"color: #808000; text-decoration-color: #808000; font-weight: bold\"> • </span><span style=\"font-weight: bold\">Human eyes are less sensitive to violet</span> light, and atmospheric absorption of violet light (due to ozone) further\n",
       "<span style=\"color: #808000; text-decoration-color: #808000; font-weight: bold\">   </span>reduces its intensity.                                                                                          \n",
       "</pre>\n"
      ],
      "text/plain": [
       "\n",
       "\u001b[1;33m • \u001b[0m\u001b[1mHuman eyes are less sensitive to violet\u001b[0m light, and atmospheric absorption of violet light (due to ozone) further\n",
       "\u001b[1;33m   \u001b[0mreduces its intensity.                                                                                          \n"
      ]
     },
     "metadata": {},
     "output_type": "display_data"
    },
    {
     "data": {
      "text/html": [
       "<pre style=\"white-space:pre;overflow-x:auto;line-height:normal;font-family:Menlo,'DejaVu Sans Mono',consolas,'Courier New',monospace\">                                          <span style=\"font-weight: bold\">4. Color During Sunrise/Sunset</span>                                           \n",
       "</pre>\n"
      ],
      "text/plain": [
       "                                          \u001b[1m4. \u001b[0m\u001b[1mColor During Sunrise/Sunset\u001b[0m                                           \n"
      ]
     },
     "metadata": {},
     "output_type": "display_data"
    },
    {
     "data": {
      "text/html": [
       "<pre style=\"white-space:pre;overflow-x:auto;line-height:normal;font-family:Menlo,'DejaVu Sans Mono',consolas,'Courier New',monospace\">During sunrise or sunset, sunlight travels through a <span style=\"font-weight: bold\">thicker layer of the atmosphere</span> (at a low angle), increasing  \n",
       "the scattering of blue light. This allows <span style=\"font-weight: bold\">red and orange wavelengths</span> (less scattered) to dominate, creating the    \n",
       "characteristic warm hues.                                                                                          \n",
       "</pre>\n"
      ],
      "text/plain": [
       "During sunrise or sunset, sunlight travels through a \u001b[1mthicker layer of the atmosphere\u001b[0m (at a low angle), increasing  \n",
       "the scattering of blue light. This allows \u001b[1mred and orange wavelengths\u001b[0m (less scattered) to dominate, creating the    \n",
       "characteristic warm hues.                                                                                          \n"
      ]
     },
     "metadata": {},
     "output_type": "display_data"
    },
    {
     "data": {
      "text/html": [
       "<pre style=\"white-space:pre;overflow-x:auto;line-height:normal;font-family:Menlo,'DejaVu Sans Mono',consolas,'Courier New',monospace\">                                           <span style=\"font-weight: bold\">5. Clouds and Other Particles</span>                                           \n",
       "</pre>\n"
      ],
      "text/plain": [
       "                                           \u001b[1m5. \u001b[0m\u001b[1mClouds and Other Particles\u001b[0m                                           \n"
      ]
     },
     "metadata": {},
     "output_type": "display_data"
    },
    {
     "data": {
      "text/html": [
       "<pre style=\"white-space:pre;overflow-x:auto;line-height:normal;font-family:Menlo,'DejaVu Sans Mono',consolas,'Courier New',monospace\">\n",
       "<span style=\"color: #808000; text-decoration-color: #808000; font-weight: bold\"> • </span><span style=\"font-weight: bold\">Clouds</span> appear white because <span style=\"font-weight: bold\">Mie scattering</span> (caused by larger water droplets) scatters all wavelengths equally.  \n",
       "</pre>\n"
      ],
      "text/plain": [
       "\n",
       "\u001b[1;33m • \u001b[0m\u001b[1mClouds\u001b[0m appear white because \u001b[1mMie scattering\u001b[0m (caused by larger water droplets) scatters all wavelengths equally.  \n"
      ]
     },
     "metadata": {},
     "output_type": "display_data"
    },
    {
     "data": {
      "text/html": [
       "<pre style=\"white-space:pre;overflow-x:auto;line-height:normal;font-family:Menlo,'DejaVu Sans Mono',consolas,'Courier New',monospace\">\n",
       "<span style=\"color: #808000; text-decoration-color: #808000; font-weight: bold\"> • </span><span style=\"font-weight: bold\">Pollution or dust</span> can alter sky color (e.g., red/orange haze) by introducing larger particles that change       \n",
       "<span style=\"color: #808000; text-decoration-color: #808000; font-weight: bold\">   </span>scattering patterns.                                                                                            \n",
       "</pre>\n"
      ],
      "text/plain": [
       "\n",
       "\u001b[1;33m • \u001b[0m\u001b[1mPollution or dust\u001b[0m can alter sky color (e.g., red/orange haze) by introducing larger particles that change       \n",
       "\u001b[1;33m   \u001b[0mscattering patterns.                                                                                            \n"
      ]
     },
     "metadata": {},
     "output_type": "display_data"
    },
    {
     "data": {
      "text/html": [
       "<pre style=\"white-space:pre;overflow-x:auto;line-height:normal;font-family:Menlo,'DejaVu Sans Mono',consolas,'Courier New',monospace\">                                             <span style=\"font-weight: bold\">6. Absence of Atmosphere</span>                                              \n",
       "</pre>\n"
      ],
      "text/plain": [
       "                                             \u001b[1m6. \u001b[0m\u001b[1mAbsence of Atmosphere\u001b[0m                                              \n"
      ]
     },
     "metadata": {},
     "output_type": "display_data"
    },
    {
     "data": {
      "text/html": [
       "<pre style=\"white-space:pre;overflow-x:auto;line-height:normal;font-family:Menlo,'DejaVu Sans Mono',consolas,'Courier New',monospace\">On the <span style=\"font-weight: bold\">Moon</span>, the sky appears black because there is <span style=\"font-weight: bold\">no atmosphere</span> to scatter sunlight, leaving only the blackness  \n",
       "of space visible.                                                                                                  \n",
       "</pre>\n"
      ],
      "text/plain": [
       "On the \u001b[1mMoon\u001b[0m, the sky appears black because there is \u001b[1mno atmosphere\u001b[0m to scatter sunlight, leaving only the blackness  \n",
       "of space visible.                                                                                                  \n"
      ]
     },
     "metadata": {},
     "output_type": "display_data"
    },
    {
     "data": {
      "text/html": [
       "<pre style=\"white-space:pre;overflow-x:auto;line-height:normal;font-family:Menlo,'DejaVu Sans Mono',consolas,'Courier New',monospace\">                                                      <span style=\"font-weight: bold\">Summary</span>                                                      \n",
       "</pre>\n"
      ],
      "text/plain": [
       "                                                      \u001b[1mSummary\u001b[0m                                                      \n"
      ]
     },
     "metadata": {},
     "output_type": "display_data"
    },
    {
     "data": {
      "text/html": [
       "<pre style=\"white-space:pre;overflow-x:auto;line-height:normal;font-family:Menlo,'DejaVu Sans Mono',consolas,'Courier New',monospace\">The sky is blue because <span style=\"font-weight: bold\">blue light (shorter wavelength) scatters more efficiently than other colors</span> in Earth's     \n",
       "atmosphere due to Rayleigh scattering. This effect, combined with human visual sensitivity and atmospheric         \n",
       "absorption, results in the blue-dominated sky we observe.                                                          \n",
       "</pre>\n"
      ],
      "text/plain": [
       "The sky is blue because \u001b[1mblue light (shorter wavelength) scatters more efficiently than other colors\u001b[0m in Earth's     \n",
       "atmosphere due to Rayleigh scattering. This effect, combined with human visual sensitivity and atmospheric         \n",
       "absorption, results in the blue-dominated sky we observe.                                                          \n"
      ]
     },
     "metadata": {},
     "output_type": "display_data"
    }
   ],
   "source": [
    "# Example usage \n",
    "from agentic.llms.client import LLMClient\n",
    "llm_client = LLMClient(model=\"qwen3:14b\",base_url=\"http://192.168.29.147:11500/v1\",api_key=\"ollama\")\n",
    "response = llm_client.create_completion(\n",
    "            messages=[{\"role\":\"user\",\"content\":\"Why is sky blue?\"}]\n",
    "        )\n",
    "result = llm_client.handle_streaming_response(response)"
   ]
  },
  {
   "cell_type": "code",
   "execution_count": 34,
   "id": "46b90d6d-ce2a-4499-9411-508f70bb5d5d",
   "metadata": {},
   "outputs": [
    {
     "data": {
      "text/plain": [
       "dict_keys(['content', 'tool_calls', 'usage', 'model'])"
      ]
     },
     "execution_count": 34,
     "metadata": {},
     "output_type": "execute_result"
    }
   ],
   "source": [
    "result.keys()"
   ]
  },
  {
   "cell_type": "code",
   "execution_count": null,
   "id": "66fd1f9d-9446-4b0f-92a2-41cb7b271699",
   "metadata": {},
   "outputs": [],
   "source": []
  }
 ],
 "metadata": {
  "kernelspec": {
   "display_name": "Python 3 (ipykernel)",
   "language": "python",
   "name": "python3"
  },
  "language_info": {
   "codemirror_mode": {
    "name": "ipython",
    "version": 3
   },
   "file_extension": ".py",
   "mimetype": "text/x-python",
   "name": "python",
   "nbconvert_exporter": "python",
   "pygments_lexer": "ipython3",
   "version": "3.12.9"
  }
 },
 "nbformat": 4,
 "nbformat_minor": 5
}
